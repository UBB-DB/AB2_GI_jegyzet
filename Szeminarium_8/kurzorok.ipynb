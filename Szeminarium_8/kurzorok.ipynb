{
    "metadata": {
        "kernelspec": {
            "name": "SQL",
            "display_name": "SQL",
            "language": "sql"
        },
        "language_info": {
            "name": "sql",
            "version": ""
        }
    },
    "nbformat_minor": 2,
    "nbformat": 4,
    "cells": [
        {
            "cell_type": "markdown",
            "source": [
                ""
            ],
            "metadata": {
                "azdata_cell_guid": "ad262657-4c40-4c65-885b-cf50854b5634"
            },
            "attachments": {}
        },
        {
            "cell_type": "markdown",
            "source": [
                "## Kurzorok\n",
                "\n",
                "A kurzorok felhasználhatoak arra, hogy egy eredményhalmazt bejárjunk soronként(Iterálni), valamint esetlegesen a soron keresztül UPDATE-eljünk értékeket(UPDATE cursor)."
            ],
            "metadata": {
                "azdata_cell_guid": "6c3f1a1c-2333-4e84-abad-e96e721569f6"
            },
            "attachments": {}
        },
        {
            "cell_type": "code",
            "source": [
                "DECLARE cursor_name  [ SCROLL ] CURSOR   \r\n",
                "     FOR select_statement   \r\n",
                "     [ FOR { READ ONLY | UPDATE [ OF column_name [ ,...n ] ] } ]  "
            ],
            "metadata": {
                "azdata_cell_guid": "d5bf0c65-ad4f-4c4f-9279-efba0dd10f40",
                "tags": [],
                "language": "sql"
            },
            "outputs": [],
            "execution_count": null
        },
        {
            "cell_type": "code",
            "source": [
                ""
            ],
            "metadata": {
                "azdata_cell_guid": "76e417ed-6618-4be3-958c-7f2773a24b0e",
                "language": "sql"
            },
            "outputs": [],
            "execution_count": null
        },
        {
            "cell_type": "markdown",
            "source": [
                "Alapértelmezetten az eredményhalmaz csak előre járható be a FETCH NEXT parancs segitégével.\n",
                "\n",
                "Abban az esetben ha szeretnénk navigálni úgynevezett SCROLL kurzot használunk. Ez elérhetővé teszi a következő opciókat FETCH esetén:  `FIRST`<span style=\"color: rgb(23, 23, 23); font-family: &quot;Segoe UI&quot;, SegoeUI, &quot;Helvetica Neue&quot;, Helvetica, Arial, sans-serif; font-size: 16px; background-color: rgb(255, 255, 255);\">,&nbsp;</span> `LAST`<span style=\"color: rgb(23, 23, 23); font-family: &quot;Segoe UI&quot;, SegoeUI, &quot;Helvetica Neue&quot;, Helvetica, Arial, sans-serif; font-size: 16px; background-color: rgb(255, 255, 255);\">,&nbsp;</span> `PRIOR`<span style=\"color: rgb(23, 23, 23); font-family: &quot;Segoe UI&quot;, SegoeUI, &quot;Helvetica Neue&quot;, Helvetica, Arial, sans-serif; font-size: 16px; background-color: rgb(255, 255, 255);\">,&nbsp;</span> `NEXT`<span style=\"color: rgb(23, 23, 23); font-family: &quot;Segoe UI&quot;, SegoeUI, &quot;Helvetica Neue&quot;, Helvetica, Arial, sans-serif; font-size: 16px; background-color: rgb(255, 255, 255);\">,&nbsp;</span> `RELATIVE`<span style=\"color: rgb(23, 23, 23); font-family: &quot;Segoe UI&quot;, SegoeUI, &quot;Helvetica Neue&quot;, Helvetica, Arial, sans-serif; font-size: 16px; background-color: rgb(255, 255, 255);\">,&nbsp;</span> `ABSOLUTE`"
            ],
            "metadata": {
                "azdata_cell_guid": "07ede46c-1e2b-463e-8f2f-aaedbf8cbf14"
            },
            "attachments": {}
        },
        {
            "cell_type": "markdown",
            "source": [
                "A kurzor használatának általános folyamata:  \n",
                "1\\. Deklarálás(Declare) <span class=\"hljs-keyword\" style=\"color:rgb(1, 1, 253);font-family:SFMono-Regular, Consolas, &quot;Liberation Mono&quot;, Menlo, Courier, monospace;white-space:pre;background-color:rgb(242, 242, 242);\">DECLARE</span> <span style=\"color:rgb(23, 23, 23);font-family:SFMono-Regular, Consolas, &quot;Liberation Mono&quot;, Menlo, Courier, monospace;white-space:pre;background-color:rgb(242, 242, 242);\">cursor </span> <span class=\"hljs-keyword\" style=\"color:rgb(1, 1, 253);font-family:SFMono-Regular, Consolas, &quot;Liberation Mono&quot;, Menlo, Courier, monospace;white-space:pre;background-color:rgb(242, 242, 242);\">CURSOR</span> <span class=\"hljs-keyword\" style=\"color:rgb(1, 1, 253);font-family:SFMono-Regular, Consolas, &quot;Liberation Mono&quot;, Menlo, Courier, monospace;white-space:pre;background-color:rgb(242, 242, 242);\">FOR</span> <span class=\"hljs-keyword\" style=\"color:rgb(1, 1, 253);font-family:SFMono-Regular, Consolas, &quot;Liberation Mono&quot;, Menlo, Courier, monospace;white-space:pre;background-color:rgb(242, 242, 242);\">SELECT ....</span>\n",
                "\n",
                "2\\. Megnyitás(Open) <span class=\"hljs-keyword\" style=\"color:rgb(1, 1, 253);font-family:SFMono-Regular, Consolas, &quot;Liberation Mono&quot;, Menlo, Courier, monospace;white-space:pre;background-color:rgb(242, 242, 242);\">OPEN</span> <span style=\"color:rgb(23, 23, 23);font-family:SFMono-Regular, Consolas, &quot;Liberation Mono&quot;, Menlo, Courier, monospace;white-space:pre;background-color:rgb(242, 242, 242);\">cursor</span>\n",
                "\n",
                "3\\. Elhozás/Kinyerés(Fetch): <span class=\"hljs-keyword\" style=\"color:rgb(1, 1, 253);font-family:SFMono-Regular, Consolas, &quot;Liberation Mono&quot;, Menlo, Courier, monospace;white-space:pre;background-color:rgb(242, 242, 242);\">FETCH</span> <span class=\"hljs-keyword\" style=\"color:rgb(1, 1, 253);font-family:SFMono-Regular, Consolas, &quot;Liberation Mono&quot;, Menlo, Courier, monospace;white-space:pre;background-color:rgb(242, 242, 242);\">NEXT</span> <span class=\"hljs-keyword\" style=\"color:rgb(1, 1, 253);font-family:SFMono-Regular, Consolas, &quot;Liberation Mono&quot;, Menlo, Courier, monospace;white-space:pre;background-color:rgb(242, 242, 242);\">FROM</span> <span style=\"color:rgb(23, 23, 23);font-family:SFMono-Regular, Consolas, &quot;Liberation Mono&quot;, Menlo, Courier, monospace;white-space:pre;background-color:rgb(242, 242, 242);\">cursor </span> <span class=\"hljs-keyword\" style=\"color:rgb(1, 1, 253);font-family:SFMono-Regular, Consolas, &quot;Liberation Mono&quot;, Menlo, Courier, monospace;white-space:pre;background-color:rgb(242, 242, 242);\">INTO</span> <span style=\"color:rgb(23, 23, 23);font-family:SFMono-Regular, Consolas, &quot;Liberation Mono&quot;, Menlo, Courier, monospace;white-space:pre;background-color:rgb(242, 242, 242);\">@variable</span>\n",
                "\n",
                "4\\. Ismétleld amig: While  <span style=\"color:rgb(23, 23, 23);font-family:SFMono-Regular, Consolas, &quot;Liberation Mono&quot;, Menlo, Courier, monospace;white-space:pre;background-color:rgb(242, 242, 242);\">@@FETCH_STATUS = </span> <span class=\"hljs-number\" style=\"color:rgb(23, 23, 23);font-family:SFMono-Regular, Consolas, &quot;Liberation Mono&quot;, Menlo, Courier, monospace;white-space:pre;background-color:rgb(242, 242, 242);\">0</span>\n",
                "\n",
                "5\\. <span class=\"hljs-keyword\" style=\"color:rgb(1, 1, 253);font-family:SFMono-Regular, Consolas, &quot;Liberation Mono&quot;, Menlo, Courier, monospace;white-space:pre;background-color:rgb(242, 242, 242);\">FETCH</span> <span class=\"hljs-keyword\" style=\"color:rgb(1, 1, 253);font-family:SFMono-Regular, Consolas, &quot;Liberation Mono&quot;, Menlo, Courier, monospace;white-space:pre;background-color:rgb(242, 242, 242);\">NEXT</span>\n",
                "\n",
                "6\\. Bezárás: <span class=\"hljs-keyword\" style=\"color:rgb(1, 1, 253);font-family:SFMono-Regular, Consolas, &quot;Liberation Mono&quot;, Menlo, Courier, monospace;white-space:pre;background-color:rgb(242, 242, 242);\">CLOSE</span> <span style=\"color:rgb(23, 23, 23);font-family:SFMono-Regular, Consolas, &quot;Liberation Mono&quot;, Menlo, Courier, monospace;white-space:pre;background-color:rgb(242, 242, 242);\">cursor;</span>\n",
                "\n",
                "7\\. Felszabaditás <span class=\"hljs-keyword\" style=\"color:rgb(1, 1, 253);font-family:SFMono-Regular, Consolas, &quot;Liberation Mono&quot;, Menlo, Courier, monospace;white-space:pre;background-color:rgb(242, 242, 242);\">DEALLOCATE</span> <span style=\"color:rgb(23, 23, 23);font-family:SFMono-Regular, Consolas, &quot;Liberation Mono&quot;, Menlo, Courier, monospace;white-space:pre;background-color:rgb(242, 242, 242);\">cursor</span>\n",
                " \n",
                " \n",
                "[Példák](https://learn.microsoft.com/en-us/sql/t-sql/language-elements/declare-cursor-transact-sql?view=sql-server-ver16#b-using-nested-cursors-to-produce-report-output)"
            ],
            "metadata": {
                "azdata_cell_guid": "c72112d2-5566-4fb2-8e2e-4b21e5cd80bd"
            },
            "attachments": {}
        },
        {
            "cell_type": "markdown",
            "source": [
                "### Feladatok\r\n",
                "\r\n",
                "Modositsuk az elozo szeminariumban keszitett programot ugy, hogy kezeljen tobb sor beszurasara es torlesere is. Hasznaljunk kurzort a megoldashoz.\r\n",
                "\r\n",
                "Feladatok:\r\n",
                "- Irjunk INSERT triggert a Purchasing.PurchaseOrderDetail tablara mely frissiti a Beszerzes tábla Ossszeg mezőjét Ossszeg = Ossszeg + SalesOrderDetail.OrderQty *  SalesOrderDetail.UnitPrice. Abban az esetben ha a SalesOrderID  nem jelenik meg a Beszerzések táblában szurjuk be azt\r\n",
                "- Bővítsük ki DELETE-re is és frissitsük a Ossszeget a törölt elemek alapján.\r\n",
                "\r\n",
                "Opc:\r\n",
                "- Írjunk triggert amely SalesOrderHeader táblára DELETE  műveletére   aktiválódik és  kitörli a megfelelő hivatkozásokat  a   SalesOrderDetail táblából\r\n",
                ""
            ],
            "metadata": {
                "azdata_cell_guid": "1c825d0f-1367-4896-bd58-df0b5aeb6948"
            },
            "attachments": {}
        },
        {
            "cell_type": "code",
            "source": [
                "CREATE OR ALTER  TRIGGER SalesLT.Eladas ON SalesLT.SalesOrderDetail \r\n",
                "FOR\r\n",
                "INSERT, DELETE\r\n",
                "AS \r\n",
                "BEGIN\r\n",
                "    DECLARE @id int\r\n",
                "    DECLARE @orderQty int\r\n",
                "    DECLARE @unitPrice money\r\n",
                "    DECLARE CURSORinsert CURSOR FOR\r\n",
                "    SELECT SalesOrderID, OrderQty, UnitPrice FROM inserted\r\n",
                "    OPEN CURSORinsert\r\n",
                "    FETCH NEXT FROM CURSORinsert INTO @id, @orderQty, @unitPrice\r\n",
                "    WHILE @@FETCH_STATUS = 0\r\n",
                "    BEGIN\r\n",
                "        UPDATE Beszerzes SET Osszeg = \r\n",
                "        Osszeg + @orderQty * @unitPrice\r\n",
                "        FROM Beszerzes \r\n",
                "        WHERE Beszerzes.BeszerzesID = @id\r\n",
                "        FETCH NEXT FROM CURSORinsert INTO @id, @orderQty, @unitPrice\r\n",
                "    END\r\n",
                "    CLOSE CURSORinsert\r\n",
                "    DEALLOCATE CURSORinsert\r\n",
                "    DECLARE CURSORdelete CURSOR FOR\r\n",
                "    SELECT SalesOrderID, OrderQty, UnitPrice FROM deleted\r\n",
                "    OPEN CURSORdelete\r\n",
                "    FETCH NEXT FROM CURSORdelete INTO @id, @orderQty, @unitPrice\r\n",
                "    WHILE @@FETCH_STATUS = 0\r\n",
                "    BEGIN\r\n",
                "        UPDATE Beszerzes SET Osszeg = \r\n",
                "        Osszeg - @orderQty * @unitPrice\r\n",
                "        FROM Beszerzes \r\n",
                "        WHERE Beszerzes.BeszerzesID = @id\r\n",
                "        FETCH NEXT FROM CURSORdelete INTO @id, @orderQty, @unitPrice\r\n",
                "    END\r\n",
                "    CLOSE CURSORdelete\r\n",
                "    DEALLOCATE CURSORdelete\r\n",
                "END"
            ],
            "metadata": {
                "azdata_cell_guid": "5a0dc5f2-a5a3-43fe-ace4-b40dff361399",
                "language": "sql",
                "tags": []
            },
            "outputs": [
                {
                    "output_type": "display_data",
                    "data": {
                        "text/html": "Commands completed successfully."
                    },
                    "metadata": {}
                },
                {
                    "output_type": "display_data",
                    "data": {
                        "text/html": "Total execution time: 00:00:00.004"
                    },
                    "metadata": {}
                }
            ],
            "execution_count": 12
        },
        {
            "cell_type": "code",
            "source": [
                "INSERT INTO SalesLT.SalesOrderDetail\r\n",
                "(SalesOrderID,OrderQty,ProductID,UnitPrice,UnitPriceDiscount)\r\n",
                "VALUES \r\n",
                "(71776,3,907,122,0.00),\r\n",
                "(71776,8,907,120,0.00)"
            ],
            "metadata": {
                "azdata_cell_guid": "16b14c06-2313-4746-9aee-cd097297e602",
                "language": "sql",
                "tags": []
            },
            "outputs": [
                {
                    "output_type": "display_data",
                    "data": {
                        "text/html": "(1 row affected)"
                    },
                    "metadata": {}
                },
                {
                    "output_type": "display_data",
                    "data": {
                        "text/html": "(1 row affected)"
                    },
                    "metadata": {}
                },
                {
                    "output_type": "display_data",
                    "data": {
                        "text/html": "(2 rows affected)"
                    },
                    "metadata": {}
                },
                {
                    "output_type": "display_data",
                    "data": {
                        "text/html": "Total execution time: 00:00:00.027"
                    },
                    "metadata": {}
                }
            ],
            "execution_count": 46
        },
        {
            "cell_type": "code",
            "source": [
                "UPDATE AdventureWorksLT2019.SalesLT.Beszerzes\r\n",
                "SET Osszeg = 0"
            ],
            "metadata": {
                "azdata_cell_guid": "cd5bbeec-bc3c-439d-86d2-749cf1946959",
                "language": "sql"
            },
            "outputs": [
                {
                    "output_type": "display_data",
                    "data": {
                        "text/html": "(1 row affected)"
                    },
                    "metadata": {}
                },
                {
                    "output_type": "display_data",
                    "data": {
                        "text/html": "Total execution time: 00:00:00.002"
                    },
                    "metadata": {}
                }
            ],
            "execution_count": 37
        },
        {
            "cell_type": "code",
            "source": [
                "SELECT SalesOrderID, OrderQty * -1, UnitPrice, SalesOrderDetailID FROM AdventureWorksLT2019.SalesLT.SalesOrderDetail\r\n",
                "WHERE SalesOrderID = 71776\r\n",
                ""
            ],
            "metadata": {
                "azdata_cell_guid": "e0bbb4b0-47d7-4640-983b-af8ea8380d0e",
                "language": "sql"
            },
            "outputs": [
                {
                    "output_type": "display_data",
                    "data": {
                        "text/html": "(2 rows affected)"
                    },
                    "metadata": {}
                },
                {
                    "output_type": "display_data",
                    "data": {
                        "text/html": "Total execution time: 00:00:00.010"
                    },
                    "metadata": {}
                },
                {
                    "output_type": "execute_result",
                    "metadata": {},
                    "execution_count": 47,
                    "data": {
                        "application/vnd.dataresource+json": {
                            "schema": {
                                "fields": [
                                    {
                                        "name": "SalesOrderID"
                                    },
                                    {
                                        "name": "(No column name)"
                                    },
                                    {
                                        "name": "UnitPrice"
                                    },
                                    {
                                        "name": "SalesOrderDetailID"
                                    }
                                ]
                            },
                            "data": [
                                {
                                    "SalesOrderID": "71776",
                                    "(No column name)": "-3",
                                    "UnitPrice": "122.00",
                                    "SalesOrderDetailID": "113425"
                                },
                                {
                                    "SalesOrderID": "71776",
                                    "(No column name)": "-8",
                                    "UnitPrice": "120.00",
                                    "SalesOrderDetailID": "113426"
                                }
                            ]
                        },
                        "text/html": [
                            "<table>",
                            "<tr><th>SalesOrderID</th><th>(No column name)</th><th>UnitPrice</th><th>SalesOrderDetailID</th></tr>",
                            "<tr><td>71776</td><td>-3</td><td>122.00</td><td>113425</td></tr>",
                            "<tr><td>71776</td><td>-8</td><td>120.00</td><td>113426</td></tr>",
                            "</table>"
                        ]
                    }
                }
            ],
            "execution_count": 47
        },
        {
            "cell_type": "code",
            "source": [
                "DELETE FROM SalesLT.SalesOrderDetail\r\n",
                "WHERE SalesOrderID=71776"
            ],
            "metadata": {
                "azdata_cell_guid": "f9250a37-bd05-4beb-8437-b3c50050dea2",
                "language": "sql",
                "tags": []
            },
            "outputs": [
                {
                    "output_type": "display_data",
                    "data": {
                        "text/html": "(1 row affected)"
                    },
                    "metadata": {}
                },
                {
                    "output_type": "display_data",
                    "data": {
                        "text/html": "(1 row affected)"
                    },
                    "metadata": {}
                },
                {
                    "output_type": "display_data",
                    "data": {
                        "text/html": "(1 row affected)"
                    },
                    "metadata": {}
                },
                {
                    "output_type": "display_data",
                    "data": {
                        "text/html": "(1 row affected)"
                    },
                    "metadata": {}
                },
                {
                    "output_type": "display_data",
                    "data": {
                        "text/html": "(4 rows affected)"
                    },
                    "metadata": {}
                },
                {
                    "output_type": "display_data",
                    "data": {
                        "text/html": "Total execution time: 00:00:00.003"
                    },
                    "metadata": {}
                }
            ],
            "execution_count": 42
        },
        {
            "cell_type": "code",
            "source": [
                "SELECT * FROM AdventureWorksLT2019.SalesLT.Beszerzes"
            ],
            "metadata": {
                "azdata_cell_guid": "7ca4b7cc-19f6-486a-8295-a4578dd4937f",
                "language": "sql",
                "tags": []
            },
            "outputs": [
                {
                    "output_type": "display_data",
                    "data": {
                        "text/html": "(1 row affected)"
                    },
                    "metadata": {}
                },
                {
                    "output_type": "display_data",
                    "data": {
                        "text/html": "Total execution time: 00:00:00.008"
                    },
                    "metadata": {}
                },
                {
                    "output_type": "execute_result",
                    "metadata": {},
                    "execution_count": 49,
                    "data": {
                        "application/vnd.dataresource+json": {
                            "schema": {
                                "fields": [
                                    {
                                        "name": "BeszerzesID"
                                    },
                                    {
                                        "name": "Osszeg"
                                    }
                                ]
                            },
                            "data": [
                                {
                                    "BeszerzesID": "71776",
                                    "Osszeg": "1204.00"
                                }
                            ]
                        },
                        "text/html": [
                            "<table>",
                            "<tr><th>BeszerzesID</th><th>Osszeg</th></tr>",
                            "<tr><td>71776</td><td>1204.00</td></tr>",
                            "</table>"
                        ]
                    }
                }
            ],
            "execution_count": 49
        },
        {
            "cell_type": "code",
            "source": [
                "CREATE OR ALTER  TRIGGER SalesLT.Eladas ON SalesLT.SalesOrderDetail \r\n",
                "FOR\r\n",
                "INSERT, DELETE\r\n",
                "AS \r\n",
                "BEGIN\r\n",
                "    DECLARE @id int\r\n",
                "    DECLARE @orderQty int\r\n",
                "    DECLARE @unitPrice money\r\n",
                "    DECLARE CURSORinsert CURSOR FOR\r\n",
                "    SELECT SalesOrderID, OrderQty, UnitPrice FROM inserted\r\n",
                "    UNION ALL\r\n",
                "    SELECT SalesOrderID, OrderQty * -1, UnitPrice FROM deleted\r\n",
                "    OPEN CURSORinsert\r\n",
                "    FETCH NEXT FROM CURSORinsert INTO @id, @orderQty, @unitPrice\r\n",
                "    WHILE @@FETCH_STATUS = 0\r\n",
                "    BEGIN\r\n",
                "        UPDATE Beszerzes SET Osszeg = \r\n",
                "        Osszeg + @orderQty * @unitPrice\r\n",
                "        FROM Beszerzes \r\n",
                "        WHERE Beszerzes.BeszerzesID = @id\r\n",
                "        FETCH NEXT FROM CURSORinsert INTO @id, @orderQty, @unitPrice\r\n",
                "    END\r\n",
                "    CLOSE CURSORinsert\r\n",
                "    DEALLOCATE CURSORinsert\r\n",
                "END"
            ],
            "metadata": {
                "azdata_cell_guid": "4f56cc84-6464-4fb7-b149-3cee4b61d1c8",
                "language": "sql"
            },
            "outputs": [
                {
                    "output_type": "display_data",
                    "data": {
                        "text/html": "Commands completed successfully."
                    },
                    "metadata": {}
                },
                {
                    "output_type": "display_data",
                    "data": {
                        "text/html": "Total execution time: 00:00:00.003"
                    },
                    "metadata": {}
                }
            ],
            "execution_count": 31
        },
        {
            "cell_type": "code",
            "source": [
                "CREATE OR ALTER  TRIGGER SalesLT.Eladas ON SalesLT.SalesOrderDetail \r\n",
                "FOR\r\n",
                "INSERT, DELETE, UPDATE\r\n",
                "AS \r\n",
                "BEGIN\r\n",
                "    DECLARE @id int\r\n",
                "    DECLARE @orderQty int\r\n",
                "    DECLARE @unitPrice money\r\n",
                "    DECLARE CURSORinsert CURSOR FOR\r\n",
                "    SELECT SalesOrderID, OrderQty, UnitPrice FROM inserted\r\n",
                "    UNION ALL\r\n",
                "    SELECT SalesOrderID, OrderQty * -1, UnitPrice FROM deleted\r\n",
                "    OPEN CURSORinsert\r\n",
                "    FETCH NEXT FROM CURSORinsert INTO @id, @orderQty, @unitPrice\r\n",
                "    WHILE @@FETCH_STATUS = 0\r\n",
                "    BEGIN\r\n",
                "        UPDATE Beszerzes SET Osszeg = \r\n",
                "        Osszeg + @orderQty * @unitPrice\r\n",
                "        FROM Beszerzes \r\n",
                "        WHERE Beszerzes.BeszerzesID = @id\r\n",
                "        FETCH NEXT FROM CURSORinsert INTO @id, @orderQty, @unitPrice\r\n",
                "    END\r\n",
                "    CLOSE CURSORinsert\r\n",
                "    DEALLOCATE CURSORinsert\r\n",
                "END"
            ],
            "metadata": {
                "azdata_cell_guid": "001b3b48-b738-4b05-a013-cce7fd80c34f",
                "language": "sql"
            },
            "outputs": [
                {
                    "output_type": "display_data",
                    "data": {
                        "text/html": "Commands completed successfully."
                    },
                    "metadata": {}
                },
                {
                    "output_type": "display_data",
                    "data": {
                        "text/html": "Total execution time: 00:00:00.004"
                    },
                    "metadata": {}
                }
            ],
            "execution_count": 44
        },
        {
            "cell_type": "code",
            "source": [
                "UPDATE SalesLT.SalesOrderDetail\r\n",
                "SET OrderQty = 2\r\n",
                "WHERE SalesOrderID=71776 AND SalesOrderDetailID=113425;"
            ],
            "metadata": {
                "azdata_cell_guid": "d5cd0fba-f737-4015-98a3-17863841321b",
                "language": "sql"
            },
            "outputs": [
                {
                    "output_type": "display_data",
                    "data": {
                        "text/html": "(1 row affected)"
                    },
                    "metadata": {}
                },
                {
                    "output_type": "display_data",
                    "data": {
                        "text/html": "(1 row affected)"
                    },
                    "metadata": {}
                },
                {
                    "output_type": "display_data",
                    "data": {
                        "text/html": "(1 row affected)"
                    },
                    "metadata": {}
                },
                {
                    "output_type": "display_data",
                    "data": {
                        "text/html": "Total execution time: 00:00:00.014"
                    },
                    "metadata": {}
                }
            ],
            "execution_count": 48
        },
        {
            "cell_type": "code",
            "source": [
                "--Írjunk triggert amely SalesOrderHeader táblára DELETE műveletére aktiválódik és kitörli a megfelelő hivatkozásokat a SalesOrderDetail táblából\r\n",
                "CREATE OR ALTER TRIGGER [SalesLT].[trg_SalesOrderHeader_Delete]\r\n",
                "ON SalesLT.SalesOrderHeader\r\n",
                "INSTEAD OF DELETE\r\n",
                "AS\r\n",
                "BEGIN\r\n",
                "    DELETE FROM SalesOrderDetail WHERE SalesOrderID IN (SELECT SalesOrderID FROM deleted)\r\n",
                "    DELETE FROM SalesOrderHeader WHERE SalesOrderID IN (SELECT SalesOrderID FROM deleted)\r\n",
                "END"
            ],
            "metadata": {
                "azdata_cell_guid": "7a388707-494f-4c69-8039-2bc324a135dc",
                "language": "sql"
            },
            "outputs": [
                {
                    "output_type": "display_data",
                    "data": {
                        "text/html": "Commands completed successfully."
                    },
                    "metadata": {}
                },
                {
                    "output_type": "display_data",
                    "data": {
                        "text/html": "Total execution time: 00:00:00.003"
                    },
                    "metadata": {}
                }
            ],
            "execution_count": 53
        },
        {
            "cell_type": "code",
            "source": [
                "DELETE FROM AdventureWorksLT2019.SalesLT.SalesOrderHeader\r\n",
                "WHERE SalesOrderID = 71782"
            ],
            "metadata": {
                "azdata_cell_guid": "c7c61b0a-912a-4853-b508-adf06144779c",
                "language": "sql"
            },
            "outputs": [
                {
                    "output_type": "display_data",
                    "data": {
                        "text/html": "(0 rows affected)"
                    },
                    "metadata": {}
                },
                {
                    "output_type": "display_data",
                    "data": {
                        "text/html": "(0 rows affected)"
                    },
                    "metadata": {}
                },
                {
                    "output_type": "display_data",
                    "data": {
                        "text/html": "(0 rows affected)"
                    },
                    "metadata": {}
                },
                {
                    "output_type": "display_data",
                    "data": {
                        "text/html": "(0 rows affected)"
                    },
                    "metadata": {}
                },
                {
                    "output_type": "display_data",
                    "data": {
                        "text/html": "(0 rows affected)"
                    },
                    "metadata": {}
                },
                {
                    "output_type": "display_data",
                    "data": {
                        "text/html": "(0 rows affected)"
                    },
                    "metadata": {}
                },
                {
                    "output_type": "display_data",
                    "data": {
                        "text/html": "(0 rows affected)"
                    },
                    "metadata": {}
                },
                {
                    "output_type": "display_data",
                    "data": {
                        "text/html": "(0 rows affected)"
                    },
                    "metadata": {}
                },
                {
                    "output_type": "display_data",
                    "data": {
                        "text/html": "(0 rows affected)"
                    },
                    "metadata": {}
                },
                {
                    "output_type": "display_data",
                    "data": {
                        "text/html": "(0 rows affected)"
                    },
                    "metadata": {}
                },
                {
                    "output_type": "display_data",
                    "data": {
                        "text/html": "(0 rows affected)"
                    },
                    "metadata": {}
                },
                {
                    "output_type": "display_data",
                    "data": {
                        "text/html": "(0 rows affected)"
                    },
                    "metadata": {}
                },
                {
                    "output_type": "display_data",
                    "data": {
                        "text/html": "(0 rows affected)"
                    },
                    "metadata": {}
                },
                {
                    "output_type": "display_data",
                    "data": {
                        "text/html": "(0 rows affected)"
                    },
                    "metadata": {}
                },
                {
                    "output_type": "display_data",
                    "data": {
                        "text/html": "(0 rows affected)"
                    },
                    "metadata": {}
                },
                {
                    "output_type": "display_data",
                    "data": {
                        "text/html": "(0 rows affected)"
                    },
                    "metadata": {}
                },
                {
                    "output_type": "display_data",
                    "data": {
                        "text/html": "(0 rows affected)"
                    },
                    "metadata": {}
                },
                {
                    "output_type": "display_data",
                    "data": {
                        "text/html": "(0 rows affected)"
                    },
                    "metadata": {}
                },
                {
                    "output_type": "display_data",
                    "data": {
                        "text/html": "(0 rows affected)"
                    },
                    "metadata": {}
                },
                {
                    "output_type": "display_data",
                    "data": {
                        "text/html": "(0 rows affected)"
                    },
                    "metadata": {}
                },
                {
                    "output_type": "display_data",
                    "data": {
                        "text/html": "(0 rows affected)"
                    },
                    "metadata": {}
                },
                {
                    "output_type": "display_data",
                    "data": {
                        "text/html": "(0 rows affected)"
                    },
                    "metadata": {}
                },
                {
                    "output_type": "display_data",
                    "data": {
                        "text/html": "(0 rows affected)"
                    },
                    "metadata": {}
                },
                {
                    "output_type": "display_data",
                    "data": {
                        "text/html": "(0 rows affected)"
                    },
                    "metadata": {}
                },
                {
                    "output_type": "display_data",
                    "data": {
                        "text/html": "(0 rows affected)"
                    },
                    "metadata": {}
                },
                {
                    "output_type": "display_data",
                    "data": {
                        "text/html": "(0 rows affected)"
                    },
                    "metadata": {}
                },
                {
                    "output_type": "display_data",
                    "data": {
                        "text/html": "(0 rows affected)"
                    },
                    "metadata": {}
                },
                {
                    "output_type": "display_data",
                    "data": {
                        "text/html": "(0 rows affected)"
                    },
                    "metadata": {}
                },
                {
                    "output_type": "display_data",
                    "data": {
                        "text/html": "(0 rows affected)"
                    },
                    "metadata": {}
                },
                {
                    "output_type": "display_data",
                    "data": {
                        "text/html": "(0 rows affected)"
                    },
                    "metadata": {}
                },
                {
                    "output_type": "display_data",
                    "data": {
                        "text/html": "(0 rows affected)"
                    },
                    "metadata": {}
                },
                {
                    "output_type": "display_data",
                    "data": {
                        "text/html": "(0 rows affected)"
                    },
                    "metadata": {}
                },
                {
                    "output_type": "display_data",
                    "data": {
                        "text/html": "(0 rows affected)"
                    },
                    "metadata": {}
                },
                {
                    "output_type": "display_data",
                    "data": {
                        "text/html": "(0 rows affected)"
                    },
                    "metadata": {}
                },
                {
                    "output_type": "display_data",
                    "data": {
                        "text/html": "(0 rows affected)"
                    },
                    "metadata": {}
                },
                {
                    "output_type": "display_data",
                    "data": {
                        "text/html": "(0 rows affected)"
                    },
                    "metadata": {}
                },
                {
                    "output_type": "display_data",
                    "data": {
                        "text/html": "(0 rows affected)"
                    },
                    "metadata": {}
                },
                {
                    "output_type": "display_data",
                    "data": {
                        "text/html": "(0 rows affected)"
                    },
                    "metadata": {}
                },
                {
                    "output_type": "display_data",
                    "data": {
                        "text/html": "(0 rows affected)"
                    },
                    "metadata": {}
                },
                {
                    "output_type": "display_data",
                    "data": {
                        "text/html": "(0 rows affected)"
                    },
                    "metadata": {}
                },
                {
                    "output_type": "display_data",
                    "data": {
                        "text/html": "(0 rows affected)"
                    },
                    "metadata": {}
                },
                {
                    "output_type": "display_data",
                    "data": {
                        "text/html": "(0 rows affected)"
                    },
                    "metadata": {}
                },
                {
                    "output_type": "display_data",
                    "data": {
                        "text/html": "(0 rows affected)"
                    },
                    "metadata": {}
                },
                {
                    "output_type": "display_data",
                    "data": {
                        "text/html": "(43 rows affected)"
                    },
                    "metadata": {}
                },
                {
                    "output_type": "display_data",
                    "data": {
                        "text/html": "(1 row affected)"
                    },
                    "metadata": {}
                },
                {
                    "output_type": "display_data",
                    "data": {
                        "text/html": "(1 row affected)"
                    },
                    "metadata": {}
                },
                {
                    "output_type": "display_data",
                    "data": {
                        "text/html": "Total execution time: 00:00:00.028"
                    },
                    "metadata": {}
                }
            ],
            "execution_count": 54
        },
        {
            "cell_type": "code",
            "source": [
                "SELECT * FROM AdventureWorksLT2019.SalesLT.SalesOrderDetail\r\n",
                "WHERE SalesOrderID = 71782"
            ],
            "metadata": {
                "azdata_cell_guid": "add6a72a-b2d4-4e6a-8281-e3fc2ab9ec20",
                "language": "sql",
                "tags": []
            },
            "outputs": [
                {
                    "output_type": "display_data",
                    "data": {
                        "text/html": "(0 rows affected)"
                    },
                    "metadata": {}
                },
                {
                    "output_type": "display_data",
                    "data": {
                        "text/html": "Total execution time: 00:00:00.004"
                    },
                    "metadata": {}
                },
                {
                    "output_type": "execute_result",
                    "metadata": {},
                    "execution_count": 56,
                    "data": {
                        "application/vnd.dataresource+json": {
                            "schema": {
                                "fields": [
                                    {
                                        "name": "SalesOrderID"
                                    },
                                    {
                                        "name": "SalesOrderDetailID"
                                    },
                                    {
                                        "name": "OrderQty"
                                    },
                                    {
                                        "name": "ProductID"
                                    },
                                    {
                                        "name": "UnitPrice"
                                    },
                                    {
                                        "name": "UnitPriceDiscount"
                                    },
                                    {
                                        "name": "LineTotal"
                                    },
                                    {
                                        "name": "rowguid"
                                    },
                                    {
                                        "name": "ModifiedDate"
                                    }
                                ]
                            },
                            "data": []
                        },
                        "text/html": [
                            "<table>",
                            "<tr><th>SalesOrderID</th><th>SalesOrderDetailID</th><th>OrderQty</th><th>ProductID</th><th>UnitPrice</th><th>UnitPriceDiscount</th><th>LineTotal</th><th>rowguid</th><th>ModifiedDate</th></tr>",
                            "</table>"
                        ]
                    }
                }
            ],
            "execution_count": 56
        }
    ]
}