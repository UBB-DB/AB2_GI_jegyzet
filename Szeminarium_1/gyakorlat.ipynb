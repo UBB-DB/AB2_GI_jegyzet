{
    "metadata": {
        "kernelspec": {
            "name": "SQL",
            "display_name": "SQL",
            "language": "sql"
        },
        "language_info": {
            "name": "sql",
            "version": ""
        }
    },
    "nbformat_minor": 2,
    "nbformat": 4,
    "cells": [
        {
            "cell_type": "markdown",
            "source": [
                "# Szeminárium 1\r\n",
                "Ismétléshez használjuk a Microsoft \"tanösvényét\" (learning path)\r\n",
                "https://learn.microsoft.com/en-us/training/paths/get-started-querying-with-transact-sql/\r\n",
                "\r\n",
                ""
            ],
            "metadata": {
                "azdata_cell_guid": "a193885d-7345-4d83-8c95-8fbfc3376a41"
            },
            "attachments": {}
        }
    ]
}