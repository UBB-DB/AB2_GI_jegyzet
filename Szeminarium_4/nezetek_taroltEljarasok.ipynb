{
    "metadata": {
        "kernelspec": {
            "name": "SQL",
            "display_name": "SQL",
            "language": "sql"
        },
        "language_info": {
            "name": "sql",
            "version": ""
        },
        "extensions": {
            "azuredatastudio": {
                "version": 1,
                "views": []
            }
        }
    },
    "nbformat_minor": 2,
    "nbformat": 4,
    "cells": [
        {
            "cell_type": "markdown",
            "source": [
                "## [Delete utasitás](https://docs.microsoft.com/en-us/sql/t-sql/statements/delete-transact-sql?view=sql-server-ver15)\n",
                "\n",
                "### 1\\. Delete WHERE feltétellel\n",
                "\n",
                "- Töröljuk az összes 2000 ás 1995 között gyártott autót!\n",
                "\n",
                "<span class=\"hljs-keyword\" style=\"color:rgb(1, 1, 253);font-family:SFMono-Regular, Consolas, &quot;Liberation Mono&quot;, Menlo, Courier, monospace;white-space:pre;background-color:rgb(242, 242, 242);\">DELETE</span> <span class=\"hljs-keyword\" style=\"color:rgb(1, 1, 253);font-family:SFMono-Regular, Consolas, &quot;Liberation Mono&quot;, Menlo, Courier, monospace;white-space:pre;background-color:rgb(242, 242, 242);\">FROM</span> <span style=\"color:rgb(23, 23, 23);font-family:SFMono-Regular, Consolas, &quot;Liberation Mono&quot;, Menlo, Courier, monospace;white-space:pre;background-color:rgb(242, 242, 242);\">Production.ProductCostHistory </span> <span class=\"hljs-keyword\" style=\"color:rgb(1, 1, 253);font-family:SFMono-Regular, Consolas, &quot;Liberation Mono&quot;, Menlo, Courier, monospace;white-space:pre;background-color:rgb(242, 242, 242);\">WHERE</span> <span style=\"color:rgb(23, 23, 23);font-family:SFMono-Regular, Consolas, &quot;Liberation Mono&quot;, Menlo, Courier, monospace;white-space:pre;background-color:rgb(242, 242, 242);\">StandardCost IN (SELECT...)</span><span style=\"color:rgb(23, 23, 23);font-family:SFMono-Regular, Consolas, &quot;Liberation Mono&quot;, Menlo, Courier, monospace;white-space:pre;background-color:rgb(242, 242, 242);\">;</span>\n",
                "\n",
                "### 2\\. Delete JOIN-al\n",
                "\n",
                "<span class=\"hljs-keyword\" style=\"color:rgb(1, 1, 253);font-family:SFMono-Regular, Consolas, &quot;Liberation Mono&quot;, Menlo, Courier, monospace;white-space:pre;background-color:rgb(242, 242, 242);\">DELETE</span> <span class=\"hljs-keyword\" style=\"color:rgb(1, 1, 253);font-family:SFMono-Regular, Consolas, &quot;Liberation Mono&quot;, Menlo, Courier, monospace;white-space:pre;background-color:rgb(242, 242, 242);\">FROM</span> <span style=\"color:rgb(23, 23, 23);font-family:SFMono-Regular, Consolas, &quot;Liberation Mono&quot;, Menlo, Courier, monospace;white-space:pre;background-color:rgb(242, 242, 242);\">Sales.SalesPersonQuotaHistory </span> <span class=\"hljs-keyword\" style=\"color:rgb(1, 1, 253);font-family:SFMono-Regular, Consolas, &quot;Liberation Mono&quot;, Menlo, Courier, monospace;white-space:pre;background-color:rgb(242, 242, 242);\">FROM</span> <span style=\"color:rgb(23, 23, 23);font-family:SFMono-Regular, Consolas, &quot;Liberation Mono&quot;, Menlo, Courier, monospace;white-space:pre;background-color:rgb(242, 242, 242);\">Sales.SalesPersonQuotaHistory </span> <span class=\"hljs-keyword\" style=\"color:rgb(1, 1, 253);font-family:SFMono-Regular, Consolas, &quot;Liberation Mono&quot;, Menlo, Courier, monospace;white-space:pre;background-color:rgb(242, 242, 242);\">AS</span> <span style=\"color:rgb(23, 23, 23);font-family:SFMono-Regular, Consolas, &quot;Liberation Mono&quot;, Menlo, Courier, monospace;white-space:pre;background-color:rgb(242, 242, 242);\">spqh </span> <span class=\"hljs-keyword\" style=\"color:rgb(1, 1, 253);font-family:SFMono-Regular, Consolas, &quot;Liberation Mono&quot;, Menlo, Courier, monospace;white-space:pre;background-color:rgb(242, 242, 242);\">INNER</span> <span class=\"hljs-keyword\" style=\"color:rgb(1, 1, 253);font-family:SFMono-Regular, Consolas, &quot;Liberation Mono&quot;, Menlo, Courier, monospace;white-space:pre;background-color:rgb(242, 242, 242);\">JOIN</span> <span style=\"color:rgb(23, 23, 23);font-family:SFMono-Regular, Consolas, &quot;Liberation Mono&quot;, Menlo, Courier, monospace;white-space:pre;background-color:rgb(242, 242, 242);\">Sales.SalesPerson </span> <span class=\"hljs-keyword\" style=\"color:rgb(1, 1, 253);font-family:SFMono-Regular, Consolas, &quot;Liberation Mono&quot;, Menlo, Courier, monospace;white-space:pre;background-color:rgb(242, 242, 242);\">AS</span> <span style=\"color:rgb(23, 23, 23);font-family:SFMono-Regular, Consolas, &quot;Liberation Mono&quot;, Menlo, Courier, monospace;white-space:pre;background-color:rgb(242, 242, 242);\">sp </span> <span class=\"hljs-keyword\" style=\"color:rgb(1, 1, 253);font-family:SFMono-Regular, Consolas, &quot;Liberation Mono&quot;, Menlo, Courier, monospace;white-space:pre;background-color:rgb(242, 242, 242);\">ON</span> <span style=\"color:rgb(23, 23, 23);font-family:SFMono-Regular, Consolas, &quot;Liberation Mono&quot;, Menlo, Courier, monospace;white-space:pre;background-color:rgb(242, 242, 242);\">spqh.BusinessEntityID = sp.BusinessEntityID </span> <span class=\"hljs-keyword\" style=\"color:rgb(1, 1, 253);font-family:SFMono-Regular, Consolas, &quot;Liberation Mono&quot;, Menlo, Courier, monospace;white-space:pre;background-color:rgb(242, 242, 242);\">WHERE</span> <span style=\"color:rgb(23, 23, 23);font-family:SFMono-Regular, Consolas, &quot;Liberation Mono&quot;, Menlo, Courier, monospace;white-space:pre;background-color:rgb(242, 242, 242);\">sp.SalesYTD &gt; </span> <span class=\"hljs-number\" style=\"color:rgb(23, 23, 23);font-family:SFMono-Regular, Consolas, &quot;Liberation Mono&quot;, Menlo, Courier, monospace;white-space:pre;background-color:rgb(242, 242, 242);\">2500000.00</span><span style=\"color:rgb(23, 23, 23);font-family:SFMono-Regular, Consolas, &quot;Liberation Mono&quot;, Menlo, Courier, monospace;white-space:pre;background-color:rgb(242, 242, 242);\">;</span>\n",
                "\n",
                "- Töröljuk az összes GPS-el rendelkező autót!\n",
                "\n",
                "### 3\\. Delete Output megtekintése\n",
                "\n",
                "<span class=\"hljs-keyword\" style=\"color:rgb(1, 1, 253);font-family:SFMono-Regular, Consolas, &quot;Liberation Mono&quot;, Menlo, Courier, monospace;white-space:pre;background-color:rgb(242, 242, 242);\">DELETE</span> <span style=\"color:rgb(23, 23, 23);font-family:SFMono-Regular, Consolas, &quot;Liberation Mono&quot;, Menlo, Courier, monospace;white-space:pre;background-color:rgb(242, 242, 242);\">Sales.ShoppingCartItem </span>  <span class=\"hljs-keyword\" style=\"color:rgb(1, 1, 253);font-family:SFMono-Regular, Consolas, &quot;Liberation Mono&quot;, Menlo, Courier, monospace;white-space:pre;background-color:rgb(242, 242, 242);\">OUTPUT</span> <span style=\"color:rgb(23, 23, 23);font-family:SFMono-Regular, Consolas, &quot;Liberation Mono&quot;, Menlo, Courier, monospace;white-space:pre;background-color:rgb(242, 242, 242);\">DELETED.* </span> <span class=\"hljs-keyword\" style=\"color:rgb(1, 1, 253);font-family:SFMono-Regular, Consolas, &quot;Liberation Mono&quot;, Menlo, Courier, monospace;white-space:pre;background-color:rgb(242, 242, 242);\">WHERE</span> <span style=\"color:rgb(23, 23, 23);font-family:SFMono-Regular, Consolas, &quot;Liberation Mono&quot;, Menlo, Courier, monospace;white-space:pre;background-color:rgb(242, 242, 242);\">ShoppingCartID = </span> <span class=\"hljs-number\" style=\"color:rgb(23, 23, 23);font-family:SFMono-Regular, Consolas, &quot;Liberation Mono&quot;, Menlo, Courier, monospace;white-space:pre;background-color:rgb(242, 242, 242);\">20621</span><span style=\"color:rgb(23, 23, 23);font-family:SFMono-Regular, Consolas, &quot;Liberation Mono&quot;, Menlo, Courier, monospace;white-space:pre;background-color:rgb(242, 242, 242);\">;</span>\n",
                "\n",
                "<span style=\"white-space:pre;background-color:rgb(242, 242, 242);\">Ha join-al szeretnétek használni figyeljetek arra, hogy az elso FROM kifejezés után keruljon</span>\n",
                "\n",
                "- Töröljuk az összes Volkswagen-t!\n",
                "- Piros autokat!\n",
                "\n",
                "Több info a slide-okon is találtok!"
            ],
            "metadata": {
                "azdata_cell_guid": "8950b7e8-08bb-408d-bd2d-a98d361d2695"
            },
            "attachments": {}
        },
        {
            "cell_type": "code",
            "source": [
                "DELETE FROM ae OUTPUT deleted.*\n",
                "FROM\n",
                "AutoExtraja ae INNER JOIN Autok a ON a.AutoKod=ae.AutoKod WHERE A.GyartasiEv > 2010"
            ],
            "metadata": {
                "azdata_cell_guid": "38b4b85f-52ae-44d5-bbd8-3b3aed776972",
                "tags": [
                    "hide_input"
                ],
                "language": "sql"
            },
            "outputs": [
                {
                    "output_type": "display_data",
                    "data": {
                        "text/html": "(1 row affected)"
                    },
                    "metadata": {}
                },
                {
                    "output_type": "display_data",
                    "data": {
                        "text/html": "Total execution time: 00:00:00.100"
                    },
                    "metadata": {}
                },
                {
                    "output_type": "execute_result",
                    "execution_count": 1,
                    "data": {
                        "application/vnd.dataresource+json": {
                            "schema": {
                                "fields": [
                                    {
                                        "name": "AutoKod"
                                    },
                                    {
                                        "name": "ExtraID"
                                    }
                                ]
                            },
                            "data": [
                                {
                                    "AutoKod": "3",
                                    "ExtraID": "5"
                                }
                            ]
                        },
                        "text/html": "<table><tr><th>AutoKod</th><th>ExtraID</th></tr><tr><td>3</td><td>5</td></tr></table>"
                    },
                    "metadata": {}
                }
            ],
            "execution_count": 1
        },
        {
            "cell_type": "code",
            "source": [
                "DECLARE @val VARCHAR(MAX);\n",
                "SET @val = '12345';\n",
                "PRINT @val"
            ],
            "metadata": {
                "azdata_cell_guid": "3c525d07-03e3-4817-aa00-f6755aa27e8c",
                "language": "sql"
            },
            "outputs": [
                {
                    "output_type": "display_data",
                    "data": {
                        "text/html": "12345"
                    },
                    "metadata": {}
                },
                {
                    "output_type": "display_data",
                    "data": {
                        "text/html": "Total execution time: 00:00:00.002"
                    },
                    "metadata": {}
                }
            ],
            "execution_count": 34
        },
        {
            "cell_type": "markdown",
            "source": [
                "Vátozók\n",
                "\n",
                "<span class=\"hljs-keyword\" style=\"box-sizing: inherit; outline-color: inherit; color: rgb(1, 1, 253); font-family: SFMono-Regular, Consolas, &quot;Liberation Mono&quot;, Menlo, Courier, monospace; white-space: pre; background-color: rgb(242, 242, 242);\">DECLARE</span> <span style=\"color: rgb(23, 23, 23); font-family: SFMono-Regular, Consolas, &quot;Liberation Mono&quot;, Menlo, Courier, monospace; white-space: pre; background-color: rgb(242, 242, 242);\">@var1 </span> <span class=\"hljs-keyword\" style=\"box-sizing: inherit; outline-color: inherit; color: rgb(1, 1, 253); font-family: SFMono-Regular, Consolas, &quot;Liberation Mono&quot;, Menlo, Courier, monospace; white-space: pre; background-color: rgb(242, 242, 242);\">AS</span> <span class=\"hljs-built_in\" style=\"box-sizing: inherit; outline-color: inherit; color: rgb(1, 1, 253); font-family: SFMono-Regular, Consolas, &quot;Liberation Mono&quot;, Menlo, Courier, monospace; white-space: pre; background-color: rgb(242, 242, 242);\">INT</span> <span style=\"color: rgb(23, 23, 23); font-family: SFMono-Regular, Consolas, &quot;Liberation Mono&quot;, Menlo, Courier, monospace; white-space: pre; background-color: rgb(242, 242, 242);\">= </span> <span class=\"hljs-number\" style=\"box-sizing: inherit; outline-color: inherit; color: rgb(23, 23, 23); font-family: SFMono-Regular, Consolas, &quot;Liberation Mono&quot;, Menlo, Courier, monospace; white-space: pre; background-color: rgb(242, 242, 242);\">99</span><span style=\"color: rgb(23, 23, 23); font-family: SFMono-Regular, Consolas, &quot;Liberation Mono&quot;, Menlo, Courier, monospace; white-space: pre; background-color: rgb(242, 242, 242);\">;</span> \n",
                "\n",
                "<span class=\"hljs-keyword\" style=\"box-sizing: inherit; outline-color: inherit; color: rgb(1, 1, 253); font-family: SFMono-Regular, Consolas, &quot;Liberation Mono&quot;, Menlo, Courier, monospace; white-space: pre; background-color: rgb(242, 242, 242);\">DECLARE</span> <span style=\"color: rgb(23, 23, 23); font-family: SFMono-Regular, Consolas, &quot;Liberation Mono&quot;, Menlo, Courier, monospace; white-space: pre; background-color: rgb(242, 242, 242);\">@var2 </span> <span class=\"hljs-keyword\" style=\"box-sizing: inherit; outline-color: inherit; color: rgb(1, 1, 253); font-family: SFMono-Regular, Consolas, &quot;Liberation Mono&quot;, Menlo, Courier, monospace; white-space: pre; background-color: rgb(242, 242, 242);\">AS</span> <span class=\"hljs-keyword\" style=\"box-sizing: inherit; outline-color: inherit; color: rgb(1, 1, 253); font-family: SFMono-Regular, Consolas, &quot;Liberation Mono&quot;, Menlo, Courier, monospace; white-space: pre; background-color: rgb(242, 242, 242);\">NVARCHAR</span><span style=\"color: rgb(23, 23, 23); font-family: SFMono-Regular, Consolas, &quot;Liberation Mono&quot;, Menlo, Courier, monospace; white-space: pre; background-color: rgb(242, 242, 242);\">(</span><span class=\"hljs-number\" style=\"box-sizing: inherit; outline-color: inherit; color: rgb(23, 23, 23); font-family: SFMono-Regular, Consolas, &quot;Liberation Mono&quot;, Menlo, Courier, monospace; white-space: pre; background-color: rgb(242, 242, 242);\">255</span><span style=\"color: rgb(23, 23, 23); font-family: SFMono-Regular, Consolas, &quot;Liberation Mono&quot;, Menlo, Courier, monospace; white-space: pre; background-color: rgb(242, 242, 242);\">);</span>\n",
                "\n",
                "<span class=\"hljs-keyword\" style=\"color: rgb(1, 1, 253); box-sizing: inherit; outline-color: inherit; font-family: SFMono-Regular, Consolas, &quot;Liberation Mono&quot;, Menlo, Courier, monospace; white-space: pre; background-color: rgb(242, 242, 242);\">SET</span> <span style=\"color: rgb(23, 23, 23); font-family: SFMono-Regular, Consolas, &quot;Liberation Mono&quot;, Menlo, Courier, monospace; white-space: pre; background-color: rgb(242, 242, 242);\">@var2 = N</span><span class=\"hljs-string\" style=\"box-sizing: inherit; outline-color: inherit; font-family: SFMono-Regular, Consolas, &quot;Liberation Mono&quot;, Menlo, Courier, monospace; white-space: pre; background-color: rgb(242, 242, 242);\">'string'</span><span style=\"color: rgb(23, 23, 23); font-family: SFMono-Regular, Consolas, &quot;Liberation Mono&quot;, Menlo, Courier, monospace; white-space: pre; background-color: rgb(242, 242, 242);\">;</span>\n",
                "\n",
                "<span class=\"hljs-keyword\" style=\"color: rgb(1, 1, 253); box-sizing: inherit; outline-color: inherit; font-family: SFMono-Regular, Consolas, &quot;Liberation Mono&quot;, Menlo, Courier, monospace; white-space: pre; background-color: rgb(242, 242, 242);\">SET</span> <span style=\"color: rgb(23, 23, 23); font-family: SFMono-Regular, Consolas, &quot;Liberation Mono&quot;, Menlo, Courier, monospace; white-space: pre; background-color: rgb(242, 242, 242);\">@var2 = (SELECT ...)</span>\n",
                "\n",
                "<span style=\"color: rgb(23, 23, 23); font-family: SFMono-Regular, Consolas, &quot;Liberation Mono&quot;, Menlo, Courier, monospace; white-space: pre; background-color: rgb(242, 242, 242);\"><br></span>\n",
                "\n",
                "# Tárolt eljárások\n",
                "\n",
                "<span class=\"hljs-keyword\" style=\"box-sizing: inherit; outline-color: inherit; color: rgb(1, 1, 253); font-family: SFMono-Regular, Consolas, &quot;Liberation Mono&quot;, Menlo, Courier, monospace; white-space: pre; background-color: rgb(242, 242, 242);\">CREATE</span> <span class=\"hljs-keyword\" style=\"box-sizing: inherit; outline-color: inherit; color: rgb(1, 1, 253); font-family: SFMono-Regular, Consolas, &quot;Liberation Mono&quot;, Menlo, Courier, monospace; white-space: pre; background-color: rgb(242, 242, 242);\">PROCEDURE </span> <span style=\"color: rgb(23, 23, 23); font-family: SFMono-Regular, Consolas, &quot;Liberation Mono&quot;, Menlo, Courier, monospace; white-space: pre; background-color: rgb(242, 242, 242);\">&lt;schema_name&gt;.&lt;procedure_name&gt;</span> <span style=\"background-color: rgb(242, 242, 242); color: rgb(23, 23, 23); font-family: SFMono-Regular, Consolas, &quot;Liberation Mono&quot;, Menlo, Courier, monospace; white-space: pre;\">@&lt;parameter_name&gt; = 'VALUE' &lt;OUTPUT&gt; </span> <span style=\"background-color: rgb(242, 242, 242); color: rgb(1, 1, 253); font-family: SFMono-Regular, Consolas, &quot;Liberation Mono&quot;, Menlo, Courier, monospace; white-space: pre;\">AS ...</span> <span class=\"hljs-keyword\" style=\"box-sizing: inherit; outline-color: inherit; color: rgb(1, 1, 253); font-family: SFMono-Regular, Consolas, &quot;Liberation Mono&quot;, Menlo, Courier, monospace; white-space: pre; background-color: rgb(242, 242, 242);\"><span class=\"hljs-keyword\" style=\"color: rgb(1, 1, 253); box-sizing: inherit; outline-color: inherit;\">ALTER PROCEDURE </span><span style=\"color: rgb(23, 23, 23);\">&lt;schema_name&gt;.&lt;procedure_name&gt;</span><span style=\"color: rgb(23, 23, 23);\"> </span><span class=\"hljs-keyword\" style=\"color: rgb(1, 1, 253); box-sizing: inherit; outline-color: inherit;\">AS ...</span><br></span><span class=\"hljs-keyword\" style=\"box-sizing: inherit; outline-color: inherit; color: rgb(1, 1, 253); font-family: SFMono-Regular, Consolas, &quot;Liberation Mono&quot;, Menlo, Courier, monospace; white-space: pre; background-color: rgb(242, 242, 242);\"><span class=\"hljs-keyword\" style=\"color: rgb(1, 1, 253); box-sizing: inherit; outline-color: inherit;\"><span style=\"color: rgb(23, 23, 23);\">EXEC &lt;schema_name&gt;.&lt;procedure_name&gt; @&lt;parameter_name&gt; = 'VALUE'</span><br></span></span>\n",
                "\n",
                "- <mark>**Visszatérési értékkel<span style=\"background-color: rgb(255, 255, 254);\"><br></span>**</mark><span class=\"hljs-keyword\" style=\"box-sizing: inherit; outline-color: inherit; color: rgb(1, 1, 253); font-family: SFMono-Regular, Consolas, &quot;Liberation Mono&quot;, Menlo, Courier, monospace; white-space: pre; background-color: rgb(242, 242, 242);\">CREATE</span> <span class=\"hljs-keyword\" style=\"box-sizing: inherit; outline-color: inherit; color: rgb(1, 1, 253); font-family: SFMono-Regular, Consolas, &quot;Liberation Mono&quot;, Menlo, Courier, monospace; white-space: pre; background-color: rgb(242, 242, 242);\">PROCEDURE</span> <span style=\"color: rgb(23, 23, 23); font-family: SFMono-Regular, Consolas, &quot;Liberation Mono&quot;, Menlo, Courier, monospace; white-space: pre; background-color: rgb(242, 242, 242);\">HumanResources.uspGetEmployeesTest2 </span> <span style=\"color: rgb(23, 23, 23); font-family: SFMono-Regular, Consolas, &quot;Liberation Mono&quot;, Menlo, Courier, monospace; white-space: pre; background-color: rgb(242, 242, 242);\">@LastName </span> <span class=\"hljs-keyword\" style=\"box-sizing: inherit; outline-color: inherit; color: rgb(1, 1, 253); font-family: SFMono-Regular, Consolas, &quot;Liberation Mono&quot;, Menlo, Courier, monospace; white-space: pre; background-color: rgb(242, 242, 242);\">nvarchar</span><span style=\"color: rgb(23, 23, 23); font-family: SFMono-Regular, Consolas, &quot;Liberation Mono&quot;, Menlo, Courier, monospace; white-space: pre; background-color: rgb(242, 242, 242);\">(</span><span class=\"hljs-number\" style=\"box-sizing: inherit; outline-color: inherit; color: rgb(23, 23, 23); font-family: SFMono-Regular, Consolas, &quot;Liberation Mono&quot;, Menlo, Courier, monospace; white-space: pre; background-color: rgb(242, 242, 242);\">50</span><span style=\"color: rgb(23, 23, 23); font-family: SFMono-Regular, Consolas, &quot;Liberation Mono&quot;, Menlo, Courier, monospace; white-space: pre; background-color: rgb(242, 242, 242);\">), </span> <span style=\"color: rgb(23, 23, 23); font-family: SFMono-Regular, Consolas, &quot;Liberation Mono&quot;, Menlo, Courier, monospace; white-space: pre; background-color: rgb(242, 242, 242);\">@FirstName </span> <span class=\"hljs-keyword\" style=\"box-sizing: inherit; outline-color: inherit; color: rgb(1, 1, 253); font-family: SFMono-Regular, Consolas, &quot;Liberation Mono&quot;, Menlo, Courier, monospace; white-space: pre; background-color: rgb(242, 242, 242);\">nvarchar</span><span style=\"color: rgb(23, 23, 23); font-family: SFMono-Regular, Consolas, &quot;Liberation Mono&quot;, Menlo, Courier, monospace; white-space: pre; background-color: rgb(242, 242, 242);\">(</span><span class=\"hljs-number\" style=\"box-sizing: inherit; outline-color: inherit; color: rgb(23, 23, 23); font-family: SFMono-Regular, Consolas, &quot;Liberation Mono&quot;, Menlo, Courier, monospace; white-space: pre; background-color: rgb(242, 242, 242);\">50</span><span style=\"color: rgb(23, 23, 23); font-family: SFMono-Regular, Consolas, &quot;Liberation Mono&quot;, Menlo, Courier, monospace; white-space: pre; background-color: rgb(242, 242, 242);\">)</span> <span class=\"hljs-keyword\" style=\"box-sizing: inherit; outline-color: inherit; color: rgb(1, 1, 253); font-family: SFMono-Regular, Consolas, &quot;Liberation Mono&quot;, Menlo, Courier, monospace; white-space: pre; background-color: rgb(242, 242, 242);\">AS</span> <span style=\"color: rgb(23, 23, 23); font-family: SFMono-Regular, Consolas, &quot;Liberation Mono&quot;, Menlo, Courier, monospace; white-space: pre; background-color: rgb(242, 242, 242);\">...</span> <span class=\"hljs-keyword\" style=\"box-sizing: inherit; outline-color: inherit; color: rgb(1, 1, 253); font-family: SFMono-Regular, Consolas, &quot;Liberation Mono&quot;, Menlo, Courier, monospace; white-space: pre; background-color: rgb(242, 242, 242);\">RETURN(kod</span><span style=\"color: rgb(23, 23, 23); font-family: SFMono-Regular, Consolas, &quot;Liberation Mono&quot;, Menlo, Courier, monospace; white-space: pre; background-color: rgb(242, 242, 242);\">) </span> <span style=\"white-space: pre; background-color: rgb(242, 242, 242);\">Hivás:</span> <span class=\"hljs-keyword\" style=\"box-sizing: inherit; outline-color: inherit; color: rgb(1, 1, 253); font-family: SFMono-Regular, Consolas, &quot;Liberation Mono&quot;, Menlo, Courier, monospace; white-space: pre; background-color: rgb(242, 242, 242);\">DECLARE</span> <span style=\"color: rgb(23, 23, 23); font-family: SFMono-Regular, Consolas, &quot;Liberation Mono&quot;, Menlo, Courier, monospace; white-space: pre; background-color: rgb(242, 242, 242);\">@</span><span class=\"hljs-keyword\" style=\"box-sizing: inherit; outline-color: inherit; color: rgb(1, 1, 253); font-family: SFMono-Regular, Consolas, &quot;Liberation Mono&quot;, Menlo, Courier, monospace; white-space: pre; background-color: rgb(242, 242, 242);\">result</span> <span class=\"hljs-built_in\" style=\"box-sizing: inherit; outline-color: inherit; color: rgb(1, 1, 253); font-family: SFMono-Regular, Consolas, &quot;Liberation Mono&quot;, Menlo, Courier, monospace; white-space: pre; background-color: rgb(242, 242, 242);\">int, @out_param int</span><span style=\"color: rgb(23, 23, 23); font-family: SFMono-Regular, Consolas, &quot;Liberation Mono&quot;, Menlo, Courier, monospace; white-space: pre; background-color: rgb(242, 242, 242);\">;</span> <span class=\"hljs-keyword\" style=\"box-sizing: inherit; outline-color: inherit; color: rgb(1, 1, 253); font-family: SFMono-Regular, Consolas, &quot;Liberation Mono&quot;, Menlo, Courier, monospace; white-space: pre; background-color: rgb(242, 242, 242);\">EXECUTE</span> <span style=\"color: rgb(23, 23, 23); font-family: SFMono-Regular, Consolas, &quot;Liberation Mono&quot;, Menlo, Courier, monospace; white-space: pre; background-color: rgb(242, 242, 242);\">@</span><span class=\"hljs-keyword\" style=\"box-sizing: inherit; outline-color: inherit; color: rgb(1, 1, 253); font-family: SFMono-Regular, Consolas, &quot;Liberation Mono&quot;, Menlo, Courier, monospace; white-space: pre; background-color: rgb(242, 242, 242);\">result</span> <span style=\"color: rgb(23, 23, 23); font-family: SFMono-Regular, Consolas, &quot;Liberation Mono&quot;, Menlo, Courier, monospace; white-space: pre; background-color: rgb(242, 242, 242);\">= my_proc @out_param ;</span>\n",
                "- <mark>**Ki- és bemeneti paraméterekkel valamint alapértelmezett értékekkel és visszatérési értékkel**</mark> <span class=\"hljs-keyword\" style=\"box-sizing: inherit; outline-color: inherit; color: rgb(1, 1, 253); font-family: SFMono-Regular, Consolas, &quot;Liberation Mono&quot;, Menlo, Courier, monospace; white-space: pre; background-color: rgb(242, 242, 242);\">CREATE</span> <span class=\"hljs-keyword\" style=\"box-sizing: inherit; outline-color: inherit; color: rgb(1, 1, 253); font-family: SFMono-Regular, Consolas, &quot;Liberation Mono&quot;, Menlo, Courier, monospace; white-space: pre; background-color: rgb(242, 242, 242);\">PROCEDURE</span> <span style=\"color: rgb(23, 23, 23); font-family: SFMono-Regular, Consolas, &quot;Liberation Mono&quot;, Menlo, Courier, monospace; white-space: pre; background-color: rgb(242, 242, 242);\">Sales.usp_GetSalesYTD @SalesPerson </span> <span class=\"hljs-keyword\" style=\"box-sizing: inherit; outline-color: inherit; color: rgb(1, 1, 253); font-family: SFMono-Regular, Consolas, &quot;Liberation Mono&quot;, Menlo, Courier, monospace; white-space: pre; background-color: rgb(242, 242, 242);\">nvarchar</span><span style=\"color: rgb(23, 23, 23); font-family: SFMono-Regular, Consolas, &quot;Liberation Mono&quot;, Menlo, Courier, monospace; white-space: pre; background-color: rgb(242, 242, 242);\">(</span><span class=\"hljs-number\" style=\"box-sizing: inherit; outline-color: inherit; color: rgb(23, 23, 23); font-family: SFMono-Regular, Consolas, &quot;Liberation Mono&quot;, Menlo, Courier, monospace; white-space: pre; background-color: rgb(242, 242, 242);\">50</span><span style=\"color: rgb(23, 23, 23); font-family: SFMono-Regular, Consolas, &quot;Liberation Mono&quot;, Menlo, Courier, monospace; white-space: pre; background-color: rgb(242, 242, 242);\">)</span> <mark><span style=\"color: rgb(23, 23, 23); font-family: SFMono-Regular, Consolas, &quot;Liberation Mono&quot;, Menlo, Courier, monospace; white-space: pre;\">= </span> <span class=\"hljs-literal\" style=\"box-sizing: inherit; outline-color: inherit; color: rgb(7, 112, 74); font-family: SFMono-Regular, Consolas, &quot;Liberation Mono&quot;, Menlo, Courier, monospace; white-space: pre;\">NULL</span></mark><span style=\"color: rgb(23, 23, 23); font-family: SFMono-Regular, Consolas, &quot;Liberation Mono&quot;, Menlo, Courier, monospace; white-space: pre; background-color: rgb(242, 242, 242);\">,</span> <span style=\"color: rgb(23, 23, 23); font-family: SFMono-Regular, Consolas, &quot;Liberation Mono&quot;, Menlo, Courier, monospace; white-space: pre; background-color: rgb(242, 242, 242);\">@SalesYTD money = </span> <span class=\"hljs-literal\" style=\"box-sizing: inherit; outline-color: inherit; color: rgb(7, 112, 74); font-family: SFMono-Regular, Consolas, &quot;Liberation Mono&quot;, Menlo, Courier, monospace; white-space: pre; background-color: rgb(242, 242, 242);\">NULL</span> <span class=\"hljs-keyword\" style=\"box-sizing: inherit; outline-color: inherit; color: rgb(1, 1, 253); font-family: SFMono-Regular, Consolas, &quot;Liberation Mono&quot;, Menlo, Courier, monospace; white-space: pre; background-color: yellow;\">OUTPUT</span> Hivás:   <span class=\"hljs-keyword\" style=\"box-sizing: inherit; outline-color: inherit; color: rgb(1, 1, 253); font-family: SFMono-Regular, Consolas, &quot;Liberation Mono&quot;, Menlo, Courier, monospace; white-space: pre; background-color: rgb(242, 242, 242);\">DECLARE</span> <span style=\"color: rgb(23, 23, 23); font-family: SFMono-Regular, Consolas, &quot;Liberation Mono&quot;, Menlo, Courier, monospace; white-space: pre; background-color: rgb(242, 242, 242);\">@SalesYTDForSalesPerson money, @</span><span style=\"color: rgb(23, 23, 23); font-family: SFMono-Regular, Consolas, &quot;Liberation Mono&quot;, Menlo, Courier, monospace; white-space: pre; background-color: rgb(242, 242, 242);\">ret_code int</span> <span class=\"hljs-keyword\" style=\"box-sizing: inherit; outline-color: inherit; color: rgb(1, 1, 253); font-family: SFMono-Regular, Consolas, &quot;Liberation Mono&quot;, Menlo, Courier, monospace; white-space: pre; background-color: rgb(242, 242, 242);\"><br></span><span class=\"hljs-keyword\" style=\"box-sizing: inherit; outline-color: inherit; color: rgb(1, 1, 253); font-family: SFMono-Regular, Consolas, &quot;Liberation Mono&quot;, Menlo, Courier, monospace; white-space: pre; background-color: rgb(242, 242, 242);\">EXECUTE</span> <span style=\"color: rgb(23, 23, 23); font-family: SFMono-Regular, Consolas, &quot;Liberation Mono&quot;, Menlo, Courier, monospace; white-space: pre; background-color: rgb(242, 242, 242);\">@</span><span style=\"background-color: rgb(242, 242, 242); color: rgb(23, 23, 23); font-family: SFMono-Regular, Consolas, &quot;Liberation Mono&quot;, Menlo, Courier, monospace; white-space: pre;\">ret_code </span> <span style=\"background-color: rgb(242, 242, 242); color: rgb(23, 23, 23); font-family: SFMono-Regular, Consolas, &quot;Liberation Mono&quot;, Menlo, Courier, monospace; white-space: pre;\">= Sales.usp_GetSalesYTD </span> <span class=\"hljs-string\" style=\"box-sizing: inherit; outline-color: inherit; font-family: SFMono-Regular, Consolas, &quot;Liberation Mono&quot;, Menlo, Courier, monospace; white-space: pre; background-color: rgb(242, 242, 242);\">'Blythe'</span><span style=\"color: rgb(23, 23, 23); font-family: SFMono-Regular, Consolas, &quot;Liberation Mono&quot;, Menlo, Courier, monospace; white-space: pre; background-color: rgb(242, 242, 242);\">, @SalesYTD = @SalesYTDForSalesPerson </span> <span class=\"hljs-keyword\" style=\"box-sizing: inherit; outline-color: inherit; color: rgb(1, 1, 253); font-family: SFMono-Regular, Consolas, &quot;Liberation Mono&quot;, Menlo, Courier, monospace; white-space: pre; background-color: rgb(242, 242, 242);\">OUTPUT</span><span style=\"color: rgb(23, 23, 23); font-family: SFMono-Regular, Consolas, &quot;Liberation Mono&quot;, Menlo, Courier, monospace; white-space: pre; background-color: rgb(242, 242, 242);\">;</span>\n",
                "\n",
                "### **Feladatok:**\n",
                "\n",
                "**\\- Irjunk tárolt eljárást mely 1-et térit vissza ha van egy termék volt rendelve különben 0-t, bemenetként pedig megkapja a termék nevét.** \n",
                "\n",
                "**\\- Bővitsük az előzőt azzal, hogy visszatériti kimeneti paraméterként az illeto termék rendelési mennyiségét.**"
            ],
            "metadata": {
                "azdata_cell_guid": "6e5703f3-a86c-432a-b5d1-a981fe5df82d"
            },
            "attachments": {}
        },
        {
            "cell_type": "code",
            "source": [
                "CREATE OR ALTER PROCEDURE spRaktarMennyiseg \r\n",
                "    @termekNev nvarchar(50),\r\n",
                "    @mennyiseg int OUTPUT\r\n",
                "AS\r\n",
                "BEGIN\r\n",
                "    SET NOCOUNT ON;\r\n",
                "    --DECLARE @rendelesSzam int =\r\n",
                "    SET @mennyiseg = (SELECT COUNT(SalesOrderId) FROM SalesLT.SalesOrderDetail\r\n",
                "        WHERE ProductId IN (SELECT ProductId FROM SalesLT.Product WHERE Name LIKE @termekNev)) \r\n",
                "    IF @mennyiseg = 0\r\n",
                "        RETURN 0\r\n",
                "    ELSE\r\n",
                "        RETURN 1\r\n",
                "END"
            ],
            "metadata": {
                "azdata_cell_guid": "78a4b411-777e-4c81-9648-d9fc0b91e4a6",
                "language": "sql"
            },
            "outputs": [],
            "execution_count": 33
        },
        {
            "cell_type": "code",
            "source": [
                "DECLARE @termekNeve nvarchar(50) = '%Bike%'\r\n",
                "DECLARE @returnCode int, @raktarMennyiseg int\r\n",
                "EXECUTE @returnCode= spRaktarMennyiseg @termekNeve , @mennyiseg=@raktarMennyiseg OUTPUT\r\n",
                "SELECT @returnCode, @raktarMennyiseg\r\n",
                "\r\n",
                ""
            ],
            "metadata": {
                "language": "sql",
                "azdata_cell_guid": "f5a2c8f3-ffa8-4101-92b3-4d1304bd01e9",
                "tags": []
            },
            "outputs": [
                {
                    "output_type": "display_data",
                    "data": {
                        "text/html": "(1 row affected)"
                    },
                    "metadata": {}
                },
                {
                    "output_type": "display_data",
                    "data": {
                        "text/html": "Total execution time: 00:00:00.016"
                    },
                    "metadata": {}
                },
                {
                    "output_type": "execute_result",
                    "execution_count": 34,
                    "data": {
                        "application/vnd.dataresource+json": {
                            "schema": {
                                "fields": [
                                    {
                                        "name": "(No column name)"
                                    },
                                    {
                                        "name": "(No column name)"
                                    }
                                ]
                            },
                            "data": [
                                {
                                    "(No column name)": "15"
                                }
                            ]
                        },
                        "text/html": "<table><tr><th>(No column name)</th><th>(No column name)</th></tr><tr><td>1</td><td>15</td></tr></table>"
                    },
                    "metadata": {}
                }
            ],
            "execution_count": 34
        },
        {
            "cell_type": "code",
            "source": [
                "-- Create a new stored procedure called 'raktar' in schema 'Production'\r\n",
                "-- Drop the stored procedure if it already exists\r\n",
                "IF EXISTS (\r\n",
                "SELECT *\r\n",
                "    FROM INFORMATION_SCHEMA.ROUTINES\r\n",
                "WHERE SPECIFIC_SCHEMA = N'SalesLT'\r\n",
                "    AND SPECIFIC_NAME = N'raktar'\r\n",
                "    AND ROUTINE_TYPE = N'PROCEDURE'\r\n",
                ")\r\n",
                "DROP PROCEDURE Production.raktar\r\n",
                "GO\r\n",
                "-- Create the stored procedure in the specified schema\r\n",
                "CREATE OR ALTER PROCEDURE SalesLT.raktar\r\n",
                "    @param1 /*parameter name*/ int /*datatype_for_param1*/ = 0, /*default_value_for_param1*/\r\n",
                "    @param2 /*parameter name*/ int /*datatype_for_param1*/ = 0 /*default_value_for_param2*/\r\n",
                "-- add more stored procedure parameters here\r\n",
                "AS\r\n",
                "BEGIN\r\n",
                "    -- body of the stored procedure\r\n",
                "    SELECT @param1, @param2\r\n",
                "END\r\n",
                "GO\r\n",
                "-- example to execute the stored procedure we just created\r\n",
                "EXECUTE SalesLT.raktar 1 /*value_for_param1*/, 2 /*value_for_param2*/\r\n",
                "GO"
            ],
            "metadata": {
                "azdata_cell_guid": "11888a85-bdd1-4bcc-9b15-8bc4f6fb310e",
                "language": "sql"
            },
            "outputs": [
                {
                    "output_type": "display_data",
                    "data": {
                        "text/html": "Commands completed successfully."
                    },
                    "metadata": {}
                },
                {
                    "output_type": "display_data",
                    "data": {
                        "text/html": "Commands completed successfully."
                    },
                    "metadata": {}
                },
                {
                    "output_type": "display_data",
                    "data": {
                        "text/html": "(1 row affected)"
                    },
                    "metadata": {}
                },
                {
                    "output_type": "display_data",
                    "data": {
                        "text/html": "Total execution time: 00:00:00.025"
                    },
                    "metadata": {}
                },
                {
                    "output_type": "execute_result",
                    "execution_count": 17,
                    "data": {
                        "application/vnd.dataresource+json": {
                            "schema": {
                                "fields": [
                                    {
                                        "name": "(No column name)"
                                    },
                                    {
                                        "name": "(No column name)"
                                    }
                                ]
                            },
                            "data": [
                                {
                                    "(No column name)": "2"
                                }
                            ]
                        },
                        "text/html": "<table><tr><th>(No column name)</th><th>(No column name)</th></tr><tr><td>1</td><td>2</td></tr></table>"
                    },
                    "metadata": {}
                }
            ],
            "execution_count": 17
        },
        {
            "cell_type": "markdown",
            "source": [
                "# Nézetek\n",
                "\n",
                "<span class=\"hljs-keyword\" style=\"box-sizing: inherit; outline-color: inherit; color: rgb(1, 1, 253); font-family: SFMono-Regular, Consolas, &quot;Liberation Mono&quot;, Menlo, Courier, monospace; white-space: pre; background-color: rgb(242, 242, 242);\">CREATE</span> <span class=\"hljs-keyword\" style=\"box-sizing: inherit; outline-color: inherit; color: rgb(1, 1, 253); font-family: SFMono-Regular, Consolas, &quot;Liberation Mono&quot;, Menlo, Courier, monospace; white-space: pre; background-color: rgb(242, 242, 242);\">VIEW</span> <span style=\"color: rgb(23, 23, 23); font-family: SFMono-Regular, Consolas, &quot;Liberation Mono&quot;, Menlo, Courier, monospace; white-space: pre; background-color: rgb(242, 242, 242);\">&lt;schema_name.view_name&gt; [&lt;column_alias_list&gt;]</span> <span class=\"hljs-keyword\" style=\"box-sizing: inherit; outline-color: inherit; color: rgb(1, 1, 253); font-family: SFMono-Regular, Consolas, &quot;Liberation Mono&quot;, Menlo, Courier, monospace; white-space: pre; background-color: rgb(242, 242, 242);\">AS</span> <span style=\"color: rgb(23, 23, 23); font-family: SFMono-Regular, Consolas, &quot;Liberation Mono&quot;, Menlo, Courier, monospace; white-space: pre; background-color: rgb(242, 242, 242);\">select_statement;</span>\n",
                "\n",
                "  \n",
                "\n",
                "# Temporális táblák\n",
                "\n",
                "# <span style=\"font-size: 14px;\">Létrehozás és adatok hozáadása</span>\n",
                "\n",
                "<span class=\"hljs-keyword\" style=\"box-sizing: inherit; outline-color: inherit; color: rgb(1, 1, 253); font-family: SFMono-Regular, Consolas, &quot;Liberation Mono&quot;, Menlo, Courier, monospace; white-space: pre; background-color: rgb(242, 242, 242);\">CREATE</span> <span class=\"hljs-keyword\" style=\"box-sizing: inherit; outline-color: inherit; color: rgb(1, 1, 253); font-family: SFMono-Regular, Consolas, &quot;Liberation Mono&quot;, Menlo, Courier, monospace; white-space: pre; background-color: rgb(242, 242, 242);\">TABLE</span> <span style=\"color: rgb(23, 23, 23); font-family: SFMono-Regular, Consolas, &quot;Liberation Mono&quot;, Menlo, Courier, monospace; white-space: pre; background-color: rgb(242, 242, 242);\">#Products ( ProductID </span> <span class=\"hljs-built_in\" style=\"box-sizing: inherit; outline-color: inherit; color: rgb(1, 1, 253); font-family: SFMono-Regular, Consolas, &quot;Liberation Mono&quot;, Menlo, Courier, monospace; white-space: pre; background-color: rgb(242, 242, 242);\">INT</span> <span style=\"color: rgb(23, 23, 23); font-family: SFMono-Regular, Consolas, &quot;Liberation Mono&quot;, Menlo, Courier, monospace; white-space: pre; background-color: rgb(242, 242, 242);\">PRIMARY </span> <span class=\"hljs-keyword\" style=\"box-sizing: inherit; outline-color: inherit; color: rgb(1, 1, 253); font-family: SFMono-Regular, Consolas, &quot;Liberation Mono&quot;, Menlo, Courier, monospace; white-space: pre; background-color: rgb(242, 242, 242);\">KEY</span><span style=\"color: rgb(23, 23, 23); font-family: SFMono-Regular, Consolas, &quot;Liberation Mono&quot;, Menlo, Courier, monospace; white-space: pre; background-color: rgb(242, 242, 242);\">, ProductName </span> <span class=\"hljs-built_in\" style=\"box-sizing: inherit; outline-color: inherit; color: rgb(1, 1, 253); font-family: SFMono-Regular, Consolas, &quot;Liberation Mono&quot;, Menlo, Courier, monospace; white-space: pre; background-color: rgb(242, 242, 242);\">varchar</span><span style=\"color: rgb(23, 23, 23); font-family: SFMono-Regular, Consolas, &quot;Liberation Mono&quot;, Menlo, Courier, monospace; white-space: pre; background-color: rgb(242, 242, 242);\">, ... );</span>\n",
                "\n",
                "<span class=\"hljs-keyword\" style=\"box-sizing: inherit; outline-color: inherit; color: rgb(1, 1, 253); font-family: SFMono-Regular, Consolas, &quot;Liberation Mono&quot;, Menlo, Courier, monospace; white-space: pre; background-color: rgb(242, 242, 242);\">INSERT</span> <span style=\"color: rgb(23, 23, 23); font-family: SFMono-Regular, Consolas, &quot;Liberation Mono&quot;, Menlo, Courier, monospace; white-space: pre; background-color: rgb(242, 242, 242);\">#Products (ProductID, ProductName, ProductDescription) </span> <span class=\"hljs-keyword\" style=\"box-sizing: inherit; outline-color: inherit; color: rgb(1, 1, 253); font-family: SFMono-Regular, Consolas, &quot;Liberation Mono&quot;, Menlo, Courier, monospace; white-space: pre; background-color: rgb(242, 242, 242);\">VALUES</span> <span style=\"color: rgb(23, 23, 23); font-family: SFMono-Regular, Consolas, &quot;Liberation Mono&quot;, Menlo, Courier, monospace; white-space: pre; background-color: rgb(242, 242, 242);\">(</span><span class=\"hljs-number\" style=\"box-sizing: inherit; outline-color: inherit; color: rgb(23, 23, 23); font-family: SFMono-Regular, Consolas, &quot;Liberation Mono&quot;, Menlo, Courier, monospace; white-space: pre; background-color: rgb(242, 242, 242);\">1</span><span style=\"color: rgb(23, 23, 23); font-family: SFMono-Regular, Consolas, &quot;Liberation Mono&quot;, Menlo, Courier, monospace; white-space: pre; background-color: rgb(242, 242, 242);\">, </span> <span class=\"hljs-string\" style=\"box-sizing: inherit; outline-color: inherit; font-family: SFMono-Regular, Consolas, &quot;Liberation Mono&quot;, Menlo, Courier, monospace; white-space: pre; background-color: rgb(242, 242, 242);\">'The temporary time leap'</span><span style=\"color: rgb(23, 23, 23); font-family: SFMono-Regular, Consolas, &quot;Liberation Mono&quot;, Menlo, Courier, monospace; white-space: pre; background-color: rgb(242, 242, 242);\">, </span> <span class=\"hljs-string\" style=\"box-sizing: inherit; outline-color: inherit; font-family: SFMono-Regular, Consolas, &quot;Liberation Mono&quot;, Menlo, Courier, monospace; white-space: pre; background-color: rgb(242, 242, 242);\">'A novel about temporary time leaping.'</span><span style=\"color: rgb(23, 23, 23); font-family: SFMono-Regular, Consolas, &quot;Liberation Mono&quot;, Menlo, Courier, monospace; white-space: pre; background-color: rgb(242, 242, 242);\">);</span>\n",
                "\n",
                "<span class=\"crayon-k\" style=\"margin: 0px; padding: 0px; border: 0px; font-size: 12px; vertical-align: baseline; font-family: &quot;Courier New&quot;, monospace; height: inherit; white-space: pre-wrap; background-color: rgb(255, 255, 255); line-height: inherit !important; color: rgb(0, 0, 255) !important;\">SELECT</span> <span class=\"crayon-o\" style=\"margin: 0px; padding: 0px; border: 0px; font-size: 12px; vertical-align: baseline; font-family: &quot;Courier New&quot;, monospace; height: inherit; white-space: pre-wrap; background-color: rgb(255, 255, 255); line-height: inherit !important; color: rgb(128, 128, 128) !important;\">*</span> <span class=\"crayon-k\" style=\"margin: 0px; padding: 0px; border: 0px; font-size: 12px; vertical-align: baseline; font-family: &quot;Courier New&quot;, monospace; height: inherit; white-space: pre-wrap; background-color: rgb(255, 255, 255); line-height: inherit !important; color: rgb(0, 0, 255) !important;\">INTO</span> <span style=\"color: rgb(0, 0, 0); font-family: &quot;Courier New&quot;, monospace; font-size: 12px; white-space: pre-wrap; background-color: rgb(255, 255, 255);\">#</span><span class=\"crayon-i\" style=\"margin: 0px; padding: 0px; border: 0px; font-size: 12px; vertical-align: baseline; font-family: &quot;Courier New&quot;, monospace; height: inherit; white-space: pre-wrap; background-color: rgb(255, 255, 255); line-height: inherit !important; color: rgb(0, 128, 128) !important;\">TempLocation</span> <span class=\"crayon-k\" style=\"margin: 0px; padding: 0px; border: 0px; font-size: 12px; vertical-align: baseline; font-family: &quot;Courier New&quot;, monospace; height: inherit; white-space: pre-wrap; background-color: rgb(255, 255, 255); line-height: inherit !important; color: rgb(0, 0, 255) !important;\">FROM</span> <span class=\"crayon-i\" style=\"margin: 0px; padding: 0px; border: 0px; font-size: 12px; vertical-align: baseline; font-family: &quot;Courier New&quot;, monospace; height: inherit; white-space: pre-wrap; background-color: rgb(255, 255, 255); line-height: inherit !important; color: rgb(0, 128, 128) !important;\">Production</span><span class=\"crayon-sy\" style=\"margin: 0px; padding: 0px; border: 0px; font-size: 12px; vertical-align: baseline; font-family: &quot;Courier New&quot;, monospace; height: inherit; white-space: pre-wrap; background-color: rgb(255, 255, 255); line-height: inherit !important; color: rgb(51, 51, 51) !important;\">.</span><span class=\"crayon-i\" style=\"margin: 0px; padding: 0px; border: 0px; font-size: 12px; vertical-align: baseline; font-family: &quot;Courier New&quot;, monospace; height: inherit; white-space: pre-wrap; background-color: rgb(255, 255, 255); line-height: inherit !important; color: rgb(0, 128, 128) !important;\">Location</span>\n",
                "\n",
                "Megj: Globális temporális táblák\n",
                "\n",
                "<span style=\"color: rgb(58, 58, 58); font-family: &quot;Courier New&quot;, Courier, monospace; font-size: 15px; white-space: pre-wrap; background-color: rgba(204, 204, 204, 0.2);\">SELECT name, age, gender INTO ##FemaleStudents FROM student WHERE gender = 'Female'</span>\n",
                "\n",
                "Feladatok:\n",
                "\n",
                "\\- Hozzunk létre egy nézetet mely megadja az osszes biciklit a tipusával és az árával együtt\n",
                "\n",
                "\\- Készitsünk ezzel egy temporális táblát csak a Mountain Bike-okkal"
            ],
            "metadata": {
                "azdata_cell_guid": "715510e9-06be-4e90-a79c-a2a33f40a73a"
            },
            "attachments": {}
        },
        {
            "cell_type": "code",
            "source": [
                "SELECT * FROM SalesLT.ProductCategory\r\n",
                "WHERE Name LIKE '%Bikes'\r\n",
                "\r\n",
                ""
            ],
            "metadata": {
                "azdata_cell_guid": "8eb55e75-8304-4fce-8200-f0edc00a99cf",
                "language": "sql"
            },
            "outputs": [
                {
                    "output_type": "display_data",
                    "data": {
                        "text/html": "(4 rows affected)"
                    },
                    "metadata": {}
                },
                {
                    "output_type": "display_data",
                    "data": {
                        "text/html": "Total execution time: 00:00:00.009"
                    },
                    "metadata": {}
                },
                {
                    "output_type": "execute_result",
                    "execution_count": 3,
                    "data": {
                        "application/vnd.dataresource+json": {
                            "schema": {
                                "fields": [
                                    {
                                        "name": "ProductCategoryID"
                                    },
                                    {
                                        "name": "ParentProductCategoryID"
                                    },
                                    {
                                        "name": "Name"
                                    },
                                    {
                                        "name": "rowguid"
                                    },
                                    {
                                        "name": "ModifiedDate"
                                    }
                                ]
                            },
                            "data": [
                                {
                                    "ProductCategoryID": "1",
                                    "ParentProductCategoryID": "NULL",
                                    "Name": "Bikes",
                                    "rowguid": "cfbda25c-df71-47a7-b81b-64ee161aa37c",
                                    "ModifiedDate": "2002-06-01 00:00:00.000"
                                },
                                {
                                    "ProductCategoryID": "5",
                                    "ParentProductCategoryID": "1",
                                    "Name": "Mountain Bikes",
                                    "rowguid": "2d364ade-264a-433c-b092-4fcbf3804e01",
                                    "ModifiedDate": "2002-06-01 00:00:00.000"
                                },
                                {
                                    "ProductCategoryID": "6",
                                    "ParentProductCategoryID": "1",
                                    "Name": "Road Bikes",
                                    "rowguid": "000310c0-bcc8-42c4-b0c3-45ae611af06b",
                                    "ModifiedDate": "2002-06-01 00:00:00.000"
                                },
                                {
                                    "ProductCategoryID": "7",
                                    "ParentProductCategoryID": "1",
                                    "Name": "Touring Bikes",
                                    "rowguid": "02c5061d-ecdc-4274-b5f1-e91d76bc3f37",
                                    "ModifiedDate": "2002-06-01 00:00:00.000"
                                }
                            ]
                        },
                        "text/html": "<table><tr><th>ProductCategoryID</th><th>ParentProductCategoryID</th><th>Name</th><th>rowguid</th><th>ModifiedDate</th></tr><tr><td>1</td><td>NULL</td><td>Bikes</td><td>cfbda25c-df71-47a7-b81b-64ee161aa37c</td><td>2002-06-01 00:00:00.000</td></tr><tr><td>5</td><td>1</td><td>Mountain Bikes</td><td>2d364ade-264a-433c-b092-4fcbf3804e01</td><td>2002-06-01 00:00:00.000</td></tr><tr><td>6</td><td>1</td><td>Road Bikes</td><td>000310c0-bcc8-42c4-b0c3-45ae611af06b</td><td>2002-06-01 00:00:00.000</td></tr><tr><td>7</td><td>1</td><td>Touring Bikes</td><td>02c5061d-ecdc-4274-b5f1-e91d76bc3f37</td><td>2002-06-01 00:00:00.000</td></tr></table>"
                    },
                    "metadata": {}
                }
            ],
            "execution_count": 3
        },
        {
            "cell_type": "code",
            "source": [
                "SELECT Name,ListPrice,ProductID FROM SalesLT.Product\r\n",
                "WHERE ProductCategoryID IN (SELECT ProductCategoryID FROM SalesLT.ProductCategory WHERE Name LIKE '%Bikes')"
            ],
            "metadata": {
                "language": "sql",
                "azdata_cell_guid": "7ea1d357-acb0-4220-804c-dd00204475bd"
            },
            "outputs": [
                {
                    "output_type": "display_data",
                    "data": {
                        "text/html": "(97 rows affected)"
                    },
                    "metadata": {}
                },
                {
                    "output_type": "display_data",
                    "data": {
                        "text/html": "Total execution time: 00:00:00.012"
                    },
                    "metadata": {}
                },
                {
                    "output_type": "execute_result",
                    "execution_count": 7,
                    "data": {
                        "application/vnd.dataresource+json": {
                            "schema": {
                                "fields": [
                                    {
                                        "name": "Name"
                                    },
                                    {
                                        "name": "ListPrice"
                                    },
                                    {
                                        "name": "ProductID"
                                    }
                                ]
                            },
                            "data": [
                                {
                                    "Name": "Road-150 Red, 62",
                                    "ListPrice": "3578.27",
                                    "ProductID": "749"
                                },
                                {
                                    "Name": "Road-150 Red, 44",
                                    "ListPrice": "3578.27",
                                    "ProductID": "750"
                                },
                                {
                                    "Name": "Road-150 Red, 48",
                                    "ListPrice": "3578.27",
                                    "ProductID": "751"
                                },
                                {
                                    "Name": "Road-150 Red, 52",
                                    "ListPrice": "3578.27",
                                    "ProductID": "752"
                                },
                                {
                                    "Name": "Road-150 Red, 56",
                                    "ListPrice": "3578.27",
                                    "ProductID": "753"
                                },
                                {
                                    "Name": "Road-450 Red, 58",
                                    "ListPrice": "1457.99",
                                    "ProductID": "754"
                                },
                                {
                                    "Name": "Road-450 Red, 60",
                                    "ListPrice": "1457.99",
                                    "ProductID": "755"
                                },
                                {
                                    "Name": "Road-450 Red, 44",
                                    "ListPrice": "1457.99",
                                    "ProductID": "756"
                                },
                                {
                                    "Name": "Road-450 Red, 48",
                                    "ListPrice": "1457.99",
                                    "ProductID": "757"
                                },
                                {
                                    "Name": "Road-450 Red, 52",
                                    "ListPrice": "1457.99",
                                    "ProductID": "758"
                                },
                                {
                                    "Name": "Road-650 Red, 58",
                                    "ListPrice": "782.99",
                                    "ProductID": "759"
                                },
                                {
                                    "Name": "Road-650 Red, 60",
                                    "ListPrice": "782.99",
                                    "ProductID": "760"
                                },
                                {
                                    "Name": "Road-650 Red, 62",
                                    "ListPrice": "782.99",
                                    "ProductID": "761"
                                },
                                {
                                    "Name": "Road-650 Red, 44",
                                    "ListPrice": "782.99",
                                    "ProductID": "762"
                                },
                                {
                                    "Name": "Road-650 Red, 48",
                                    "ListPrice": "782.99",
                                    "ProductID": "763"
                                },
                                {
                                    "Name": "Road-650 Red, 52",
                                    "ListPrice": "782.99",
                                    "ProductID": "764"
                                },
                                {
                                    "Name": "Road-650 Black, 58",
                                    "ListPrice": "782.99",
                                    "ProductID": "765"
                                },
                                {
                                    "Name": "Road-650 Black, 60",
                                    "ListPrice": "782.99",
                                    "ProductID": "766"
                                },
                                {
                                    "Name": "Road-650 Black, 62",
                                    "ListPrice": "782.99",
                                    "ProductID": "767"
                                },
                                {
                                    "Name": "Road-650 Black, 44",
                                    "ListPrice": "782.99",
                                    "ProductID": "768"
                                },
                                {
                                    "Name": "Road-650 Black, 48",
                                    "ListPrice": "782.99",
                                    "ProductID": "769"
                                },
                                {
                                    "Name": "Road-650 Black, 52",
                                    "ListPrice": "782.99",
                                    "ProductID": "770"
                                },
                                {
                                    "Name": "Mountain-100 Silver, 38",
                                    "ListPrice": "3399.99",
                                    "ProductID": "771"
                                },
                                {
                                    "Name": "Mountain-100 Silver, 42",
                                    "ListPrice": "3399.99",
                                    "ProductID": "772"
                                },
                                {
                                    "Name": "Mountain-100 Silver, 44",
                                    "ListPrice": "3399.99",
                                    "ProductID": "773"
                                },
                                {
                                    "Name": "Mountain-100 Silver, 48",
                                    "ListPrice": "3399.99",
                                    "ProductID": "774"
                                },
                                {
                                    "Name": "Mountain-100 Black, 38",
                                    "ListPrice": "3374.99",
                                    "ProductID": "775"
                                },
                                {
                                    "Name": "Mountain-100 Black, 42",
                                    "ListPrice": "3374.99",
                                    "ProductID": "776"
                                },
                                {
                                    "Name": "Mountain-100 Black, 44",
                                    "ListPrice": "3374.99",
                                    "ProductID": "777"
                                },
                                {
                                    "Name": "Mountain-100 Black, 48",
                                    "ListPrice": "3374.99",
                                    "ProductID": "778"
                                },
                                {
                                    "Name": "Mountain-200 Silver, 38",
                                    "ListPrice": "2319.99",
                                    "ProductID": "779"
                                },
                                {
                                    "Name": "Mountain-200 Silver, 42",
                                    "ListPrice": "2319.99",
                                    "ProductID": "780"
                                },
                                {
                                    "Name": "Mountain-200 Silver, 46",
                                    "ListPrice": "2319.99",
                                    "ProductID": "781"
                                },
                                {
                                    "Name": "Mountain-200 Black, 38",
                                    "ListPrice": "2294.99",
                                    "ProductID": "782"
                                },
                                {
                                    "Name": "Mountain-200 Black, 42",
                                    "ListPrice": "2294.99",
                                    "ProductID": "783"
                                },
                                {
                                    "Name": "Mountain-200 Black, 46",
                                    "ListPrice": "2294.99",
                                    "ProductID": "784"
                                },
                                {
                                    "Name": "Mountain-300 Black, 38",
                                    "ListPrice": "1079.99",
                                    "ProductID": "785"
                                },
                                {
                                    "Name": "Mountain-300 Black, 40",
                                    "ListPrice": "1079.99",
                                    "ProductID": "786"
                                },
                                {
                                    "Name": "Mountain-300 Black, 44",
                                    "ListPrice": "1079.99",
                                    "ProductID": "787"
                                },
                                {
                                    "Name": "Mountain-300 Black, 48",
                                    "ListPrice": "1079.99",
                                    "ProductID": "788"
                                },
                                {
                                    "Name": "Road-250 Red, 44",
                                    "ListPrice": "2443.35",
                                    "ProductID": "789"
                                },
                                {
                                    "Name": "Road-250 Red, 48",
                                    "ListPrice": "2443.35",
                                    "ProductID": "790"
                                },
                                {
                                    "Name": "Road-250 Red, 52",
                                    "ListPrice": "2443.35",
                                    "ProductID": "791"
                                },
                                {
                                    "Name": "Road-250 Red, 58",
                                    "ListPrice": "2443.35",
                                    "ProductID": "792"
                                },
                                {
                                    "Name": "Road-250 Black, 44",
                                    "ListPrice": "2443.35",
                                    "ProductID": "793"
                                },
                                {
                                    "Name": "Road-250 Black, 48",
                                    "ListPrice": "2443.35",
                                    "ProductID": "794"
                                },
                                {
                                    "Name": "Road-250 Black, 52",
                                    "ListPrice": "2443.35",
                                    "ProductID": "795"
                                },
                                {
                                    "Name": "Road-250 Black, 58",
                                    "ListPrice": "2443.35",
                                    "ProductID": "796"
                                },
                                {
                                    "Name": "Road-550-W Yellow, 38",
                                    "ListPrice": "1120.49",
                                    "ProductID": "797"
                                },
                                {
                                    "Name": "Road-550-W Yellow, 40",
                                    "ListPrice": "1120.49",
                                    "ProductID": "798"
                                },
                                {
                                    "Name": "Road-550-W Yellow, 42",
                                    "ListPrice": "1120.49",
                                    "ProductID": "799"
                                },
                                {
                                    "Name": "Road-550-W Yellow, 44",
                                    "ListPrice": "1120.49",
                                    "ProductID": "800"
                                },
                                {
                                    "Name": "Road-550-W Yellow, 48",
                                    "ListPrice": "1120.49",
                                    "ProductID": "801"
                                },
                                {
                                    "Name": "Touring-2000 Blue, 60",
                                    "ListPrice": "1214.85",
                                    "ProductID": "953"
                                },
                                {
                                    "Name": "Touring-1000 Yellow, 46",
                                    "ListPrice": "2384.07",
                                    "ProductID": "954"
                                },
                                {
                                    "Name": "Touring-1000 Yellow, 50",
                                    "ListPrice": "2384.07",
                                    "ProductID": "955"
                                },
                                {
                                    "Name": "Touring-1000 Yellow, 54",
                                    "ListPrice": "2384.07",
                                    "ProductID": "956"
                                },
                                {
                                    "Name": "Touring-1000 Yellow, 60",
                                    "ListPrice": "2384.07",
                                    "ProductID": "957"
                                },
                                {
                                    "Name": "Touring-3000 Blue, 54",
                                    "ListPrice": "742.35",
                                    "ProductID": "958"
                                },
                                {
                                    "Name": "Touring-3000 Blue, 58",
                                    "ListPrice": "742.35",
                                    "ProductID": "959"
                                },
                                {
                                    "Name": "Touring-3000 Blue, 62",
                                    "ListPrice": "742.35",
                                    "ProductID": "960"
                                },
                                {
                                    "Name": "Touring-3000 Yellow, 44",
                                    "ListPrice": "742.35",
                                    "ProductID": "961"
                                },
                                {
                                    "Name": "Touring-3000 Yellow, 50",
                                    "ListPrice": "742.35",
                                    "ProductID": "962"
                                },
                                {
                                    "Name": "Touring-3000 Yellow, 54",
                                    "ListPrice": "742.35",
                                    "ProductID": "963"
                                },
                                {
                                    "Name": "Touring-3000 Yellow, 58",
                                    "ListPrice": "742.35",
                                    "ProductID": "964"
                                },
                                {
                                    "Name": "Touring-3000 Yellow, 62",
                                    "ListPrice": "742.35",
                                    "ProductID": "965"
                                },
                                {
                                    "Name": "Touring-1000 Blue, 46",
                                    "ListPrice": "2384.07",
                                    "ProductID": "966"
                                },
                                {
                                    "Name": "Touring-1000 Blue, 50",
                                    "ListPrice": "2384.07",
                                    "ProductID": "967"
                                },
                                {
                                    "Name": "Touring-1000 Blue, 54",
                                    "ListPrice": "2384.07",
                                    "ProductID": "968"
                                },
                                {
                                    "Name": "Touring-1000 Blue, 60",
                                    "ListPrice": "2384.07",
                                    "ProductID": "969"
                                },
                                {
                                    "Name": "Touring-2000 Blue, 46",
                                    "ListPrice": "1214.85",
                                    "ProductID": "970"
                                },
                                {
                                    "Name": "Touring-2000 Blue, 50",
                                    "ListPrice": "1214.85",
                                    "ProductID": "971"
                                },
                                {
                                    "Name": "Touring-2000 Blue, 54",
                                    "ListPrice": "1214.85",
                                    "ProductID": "972"
                                },
                                {
                                    "Name": "Road-350-W Yellow, 40",
                                    "ListPrice": "1700.99",
                                    "ProductID": "973"
                                },
                                {
                                    "Name": "Road-350-W Yellow, 42",
                                    "ListPrice": "1700.99",
                                    "ProductID": "974"
                                },
                                {
                                    "Name": "Road-350-W Yellow, 44",
                                    "ListPrice": "1700.99",
                                    "ProductID": "975"
                                },
                                {
                                    "Name": "Road-350-W Yellow, 48",
                                    "ListPrice": "1700.99",
                                    "ProductID": "976"
                                },
                                {
                                    "Name": "Road-750 Black, 58",
                                    "ListPrice": "539.99",
                                    "ProductID": "977"
                                },
                                {
                                    "Name": "Touring-3000 Blue, 44",
                                    "ListPrice": "742.35",
                                    "ProductID": "978"
                                },
                                {
                                    "Name": "Touring-3000 Blue, 50",
                                    "ListPrice": "742.35",
                                    "ProductID": "979"
                                },
                                {
                                    "Name": "Mountain-400-W Silver, 38",
                                    "ListPrice": "769.49",
                                    "ProductID": "980"
                                },
                                {
                                    "Name": "Mountain-400-W Silver, 40",
                                    "ListPrice": "769.49",
                                    "ProductID": "981"
                                },
                                {
                                    "Name": "Mountain-400-W Silver, 42",
                                    "ListPrice": "769.49",
                                    "ProductID": "982"
                                },
                                {
                                    "Name": "Mountain-400-W Silver, 46",
                                    "ListPrice": "769.49",
                                    "ProductID": "983"
                                },
                                {
                                    "Name": "Mountain-500 Silver, 40",
                                    "ListPrice": "564.99",
                                    "ProductID": "984"
                                },
                                {
                                    "Name": "Mountain-500 Silver, 42",
                                    "ListPrice": "564.99",
                                    "ProductID": "985"
                                },
                                {
                                    "Name": "Mountain-500 Silver, 44",
                                    "ListPrice": "564.99",
                                    "ProductID": "986"
                                },
                                {
                                    "Name": "Mountain-500 Silver, 48",
                                    "ListPrice": "564.99",
                                    "ProductID": "987"
                                },
                                {
                                    "Name": "Mountain-500 Silver, 52",
                                    "ListPrice": "564.99",
                                    "ProductID": "988"
                                },
                                {
                                    "Name": "Mountain-500 Black, 40",
                                    "ListPrice": "539.99",
                                    "ProductID": "989"
                                },
                                {
                                    "Name": "Mountain-500 Black, 42",
                                    "ListPrice": "539.99",
                                    "ProductID": "990"
                                },
                                {
                                    "Name": "Mountain-500 Black, 44",
                                    "ListPrice": "539.99",
                                    "ProductID": "991"
                                },
                                {
                                    "Name": "Mountain-500 Black, 48",
                                    "ListPrice": "539.99",
                                    "ProductID": "992"
                                },
                                {
                                    "Name": "Mountain-500 Black, 52",
                                    "ListPrice": "539.99",
                                    "ProductID": "993"
                                },
                                {
                                    "Name": "Road-750 Black, 44",
                                    "ListPrice": "539.99",
                                    "ProductID": "997"
                                },
                                {
                                    "Name": "Road-750 Black, 48",
                                    "ListPrice": "539.99",
                                    "ProductID": "998"
                                },
                                {
                                    "Name": "Road-750 Black, 52",
                                    "ListPrice": "539.99",
                                    "ProductID": "999"
                                }
                            ]
                        },
                        "text/html": "<table><tr><th>Name</th><th>ListPrice</th><th>ProductID</th></tr><tr><td>Road-150 Red, 62</td><td>3578.27</td><td>749</td></tr><tr><td>Road-150 Red, 44</td><td>3578.27</td><td>750</td></tr><tr><td>Road-150 Red, 48</td><td>3578.27</td><td>751</td></tr><tr><td>Road-150 Red, 52</td><td>3578.27</td><td>752</td></tr><tr><td>Road-150 Red, 56</td><td>3578.27</td><td>753</td></tr><tr><td>Road-450 Red, 58</td><td>1457.99</td><td>754</td></tr><tr><td>Road-450 Red, 60</td><td>1457.99</td><td>755</td></tr><tr><td>Road-450 Red, 44</td><td>1457.99</td><td>756</td></tr><tr><td>Road-450 Red, 48</td><td>1457.99</td><td>757</td></tr><tr><td>Road-450 Red, 52</td><td>1457.99</td><td>758</td></tr><tr><td>Road-650 Red, 58</td><td>782.99</td><td>759</td></tr><tr><td>Road-650 Red, 60</td><td>782.99</td><td>760</td></tr><tr><td>Road-650 Red, 62</td><td>782.99</td><td>761</td></tr><tr><td>Road-650 Red, 44</td><td>782.99</td><td>762</td></tr><tr><td>Road-650 Red, 48</td><td>782.99</td><td>763</td></tr><tr><td>Road-650 Red, 52</td><td>782.99</td><td>764</td></tr><tr><td>Road-650 Black, 58</td><td>782.99</td><td>765</td></tr><tr><td>Road-650 Black, 60</td><td>782.99</td><td>766</td></tr><tr><td>Road-650 Black, 62</td><td>782.99</td><td>767</td></tr><tr><td>Road-650 Black, 44</td><td>782.99</td><td>768</td></tr><tr><td>Road-650 Black, 48</td><td>782.99</td><td>769</td></tr><tr><td>Road-650 Black, 52</td><td>782.99</td><td>770</td></tr><tr><td>Mountain-100 Silver, 38</td><td>3399.99</td><td>771</td></tr><tr><td>Mountain-100 Silver, 42</td><td>3399.99</td><td>772</td></tr><tr><td>Mountain-100 Silver, 44</td><td>3399.99</td><td>773</td></tr><tr><td>Mountain-100 Silver, 48</td><td>3399.99</td><td>774</td></tr><tr><td>Mountain-100 Black, 38</td><td>3374.99</td><td>775</td></tr><tr><td>Mountain-100 Black, 42</td><td>3374.99</td><td>776</td></tr><tr><td>Mountain-100 Black, 44</td><td>3374.99</td><td>777</td></tr><tr><td>Mountain-100 Black, 48</td><td>3374.99</td><td>778</td></tr><tr><td>Mountain-200 Silver, 38</td><td>2319.99</td><td>779</td></tr><tr><td>Mountain-200 Silver, 42</td><td>2319.99</td><td>780</td></tr><tr><td>Mountain-200 Silver, 46</td><td>2319.99</td><td>781</td></tr><tr><td>Mountain-200 Black, 38</td><td>2294.99</td><td>782</td></tr><tr><td>Mountain-200 Black, 42</td><td>2294.99</td><td>783</td></tr><tr><td>Mountain-200 Black, 46</td><td>2294.99</td><td>784</td></tr><tr><td>Mountain-300 Black, 38</td><td>1079.99</td><td>785</td></tr><tr><td>Mountain-300 Black, 40</td><td>1079.99</td><td>786</td></tr><tr><td>Mountain-300 Black, 44</td><td>1079.99</td><td>787</td></tr><tr><td>Mountain-300 Black, 48</td><td>1079.99</td><td>788</td></tr><tr><td>Road-250 Red, 44</td><td>2443.35</td><td>789</td></tr><tr><td>Road-250 Red, 48</td><td>2443.35</td><td>790</td></tr><tr><td>Road-250 Red, 52</td><td>2443.35</td><td>791</td></tr><tr><td>Road-250 Red, 58</td><td>2443.35</td><td>792</td></tr><tr><td>Road-250 Black, 44</td><td>2443.35</td><td>793</td></tr><tr><td>Road-250 Black, 48</td><td>2443.35</td><td>794</td></tr><tr><td>Road-250 Black, 52</td><td>2443.35</td><td>795</td></tr><tr><td>Road-250 Black, 58</td><td>2443.35</td><td>796</td></tr><tr><td>Road-550-W Yellow, 38</td><td>1120.49</td><td>797</td></tr><tr><td>Road-550-W Yellow, 40</td><td>1120.49</td><td>798</td></tr><tr><td>Road-550-W Yellow, 42</td><td>1120.49</td><td>799</td></tr><tr><td>Road-550-W Yellow, 44</td><td>1120.49</td><td>800</td></tr><tr><td>Road-550-W Yellow, 48</td><td>1120.49</td><td>801</td></tr><tr><td>Touring-2000 Blue, 60</td><td>1214.85</td><td>953</td></tr><tr><td>Touring-1000 Yellow, 46</td><td>2384.07</td><td>954</td></tr><tr><td>Touring-1000 Yellow, 50</td><td>2384.07</td><td>955</td></tr><tr><td>Touring-1000 Yellow, 54</td><td>2384.07</td><td>956</td></tr><tr><td>Touring-1000 Yellow, 60</td><td>2384.07</td><td>957</td></tr><tr><td>Touring-3000 Blue, 54</td><td>742.35</td><td>958</td></tr><tr><td>Touring-3000 Blue, 58</td><td>742.35</td><td>959</td></tr><tr><td>Touring-3000 Blue, 62</td><td>742.35</td><td>960</td></tr><tr><td>Touring-3000 Yellow, 44</td><td>742.35</td><td>961</td></tr><tr><td>Touring-3000 Yellow, 50</td><td>742.35</td><td>962</td></tr><tr><td>Touring-3000 Yellow, 54</td><td>742.35</td><td>963</td></tr><tr><td>Touring-3000 Yellow, 58</td><td>742.35</td><td>964</td></tr><tr><td>Touring-3000 Yellow, 62</td><td>742.35</td><td>965</td></tr><tr><td>Touring-1000 Blue, 46</td><td>2384.07</td><td>966</td></tr><tr><td>Touring-1000 Blue, 50</td><td>2384.07</td><td>967</td></tr><tr><td>Touring-1000 Blue, 54</td><td>2384.07</td><td>968</td></tr><tr><td>Touring-1000 Blue, 60</td><td>2384.07</td><td>969</td></tr><tr><td>Touring-2000 Blue, 46</td><td>1214.85</td><td>970</td></tr><tr><td>Touring-2000 Blue, 50</td><td>1214.85</td><td>971</td></tr><tr><td>Touring-2000 Blue, 54</td><td>1214.85</td><td>972</td></tr><tr><td>Road-350-W Yellow, 40</td><td>1700.99</td><td>973</td></tr><tr><td>Road-350-W Yellow, 42</td><td>1700.99</td><td>974</td></tr><tr><td>Road-350-W Yellow, 44</td><td>1700.99</td><td>975</td></tr><tr><td>Road-350-W Yellow, 48</td><td>1700.99</td><td>976</td></tr><tr><td>Road-750 Black, 58</td><td>539.99</td><td>977</td></tr><tr><td>Touring-3000 Blue, 44</td><td>742.35</td><td>978</td></tr><tr><td>Touring-3000 Blue, 50</td><td>742.35</td><td>979</td></tr><tr><td>Mountain-400-W Silver, 38</td><td>769.49</td><td>980</td></tr><tr><td>Mountain-400-W Silver, 40</td><td>769.49</td><td>981</td></tr><tr><td>Mountain-400-W Silver, 42</td><td>769.49</td><td>982</td></tr><tr><td>Mountain-400-W Silver, 46</td><td>769.49</td><td>983</td></tr><tr><td>Mountain-500 Silver, 40</td><td>564.99</td><td>984</td></tr><tr><td>Mountain-500 Silver, 42</td><td>564.99</td><td>985</td></tr><tr><td>Mountain-500 Silver, 44</td><td>564.99</td><td>986</td></tr><tr><td>Mountain-500 Silver, 48</td><td>564.99</td><td>987</td></tr><tr><td>Mountain-500 Silver, 52</td><td>564.99</td><td>988</td></tr><tr><td>Mountain-500 Black, 40</td><td>539.99</td><td>989</td></tr><tr><td>Mountain-500 Black, 42</td><td>539.99</td><td>990</td></tr><tr><td>Mountain-500 Black, 44</td><td>539.99</td><td>991</td></tr><tr><td>Mountain-500 Black, 48</td><td>539.99</td><td>992</td></tr><tr><td>Mountain-500 Black, 52</td><td>539.99</td><td>993</td></tr><tr><td>Road-750 Black, 44</td><td>539.99</td><td>997</td></tr><tr><td>Road-750 Black, 48</td><td>539.99</td><td>998</td></tr><tr><td>Road-750 Black, 52</td><td>539.99</td><td>999</td></tr></table>"
                    },
                    "metadata": {}
                }
            ],
            "execution_count": 7
        },
        {
            "cell_type": "code",
            "source": [
                "CREATE VIEW Biciklik AS SELECT Name,ListPrice,ProductID FROM SalesLT.Product\r\n",
                "WHERE ProductCategoryID IN (SELECT ProductCategoryID FROM SalesLT.ProductCategory WHERE Name LIKE '%Bikes')"
            ],
            "metadata": {
                "language": "sql",
                "azdata_cell_guid": "995e69ba-def7-4121-b6e7-acf2321f0be6"
            },
            "outputs": [
                {
                    "output_type": "display_data",
                    "data": {
                        "text/html": "Commands completed successfully."
                    },
                    "metadata": {}
                },
                {
                    "output_type": "display_data",
                    "data": {
                        "text/html": "Total execution time: 00:00:00.005"
                    },
                    "metadata": {}
                }
            ],
            "execution_count": 8
        },
        {
            "cell_type": "code",
            "source": [
                "CREATE TABLE #Bicikli ( Nev  VARCHAR(50), Ar  MONEY, ID INT)\r\n",
                "\r\n",
                ""
            ],
            "metadata": {
                "language": "sql",
                "azdata_cell_guid": "4e95b4db-3326-4e9e-90c0-84e637e67796"
            },
            "outputs": [
                {
                    "output_type": "display_data",
                    "data": {
                        "text/html": "Commands completed successfully."
                    },
                    "metadata": {}
                },
                {
                    "output_type": "display_data",
                    "data": {
                        "text/html": "Total execution time: 00:00:00.002"
                    },
                    "metadata": {}
                }
            ],
            "execution_count": 10
        },
        {
            "cell_type": "code",
            "source": [
                "INSERT INTO #Bicikli\r\n",
                "SELECT * FROM Biciklik"
            ],
            "metadata": {
                "language": "sql",
                "azdata_cell_guid": "a7cc60f9-be3d-4f3f-8fac-8e9047379175"
            },
            "outputs": [
                {
                    "output_type": "display_data",
                    "data": {
                        "text/html": "(97 rows affected)"
                    },
                    "metadata": {}
                },
                {
                    "output_type": "display_data",
                    "data": {
                        "text/html": "Total execution time: 00:00:00.006"
                    },
                    "metadata": {}
                }
            ],
            "execution_count": 13
        },
        {
            "cell_type": "code",
            "source": [
                "SELECT * FROM #Bicikli"
            ],
            "metadata": {
                "language": "sql",
                "azdata_cell_guid": "a22e666e-8b77-4099-b94e-fa45cb61f3d6"
            },
            "outputs": [
                {
                    "output_type": "display_data",
                    "data": {
                        "text/html": "(98 rows affected)"
                    },
                    "metadata": {}
                },
                {
                    "output_type": "display_data",
                    "data": {
                        "text/html": "Total execution time: 00:00:00.010"
                    },
                    "metadata": {}
                },
                {
                    "output_type": "execute_result",
                    "execution_count": 14,
                    "data": {
                        "application/vnd.dataresource+json": {
                            "schema": {
                                "fields": [
                                    {
                                        "name": "Nev"
                                    },
                                    {
                                        "name": "Ar"
                                    },
                                    {
                                        "name": "ID"
                                    }
                                ]
                            },
                            "data": [
                                {
                                    "Nev": "BMX",
                                    "Ar": "234.00",
                                    "ID": "1000"
                                },
                                {
                                    "Nev": "Road-150 Red, 62",
                                    "Ar": "3578.27",
                                    "ID": "749"
                                },
                                {
                                    "Nev": "Road-150 Red, 44",
                                    "Ar": "3578.27",
                                    "ID": "750"
                                },
                                {
                                    "Nev": "Road-150 Red, 48",
                                    "Ar": "3578.27",
                                    "ID": "751"
                                },
                                {
                                    "Nev": "Road-150 Red, 52",
                                    "Ar": "3578.27",
                                    "ID": "752"
                                },
                                {
                                    "Nev": "Road-150 Red, 56",
                                    "Ar": "3578.27",
                                    "ID": "753"
                                },
                                {
                                    "Nev": "Road-450 Red, 58",
                                    "Ar": "1457.99",
                                    "ID": "754"
                                },
                                {
                                    "Nev": "Road-450 Red, 60",
                                    "Ar": "1457.99",
                                    "ID": "755"
                                },
                                {
                                    "Nev": "Road-450 Red, 44",
                                    "Ar": "1457.99",
                                    "ID": "756"
                                },
                                {
                                    "Nev": "Road-450 Red, 48",
                                    "Ar": "1457.99",
                                    "ID": "757"
                                },
                                {
                                    "Nev": "Road-450 Red, 52",
                                    "Ar": "1457.99",
                                    "ID": "758"
                                },
                                {
                                    "Nev": "Road-650 Red, 58",
                                    "Ar": "782.99",
                                    "ID": "759"
                                },
                                {
                                    "Nev": "Road-650 Red, 60",
                                    "Ar": "782.99",
                                    "ID": "760"
                                },
                                {
                                    "Nev": "Road-650 Red, 62",
                                    "Ar": "782.99",
                                    "ID": "761"
                                },
                                {
                                    "Nev": "Road-650 Red, 44",
                                    "Ar": "782.99",
                                    "ID": "762"
                                },
                                {
                                    "Nev": "Road-650 Red, 48",
                                    "Ar": "782.99",
                                    "ID": "763"
                                },
                                {
                                    "Nev": "Road-650 Red, 52",
                                    "Ar": "782.99",
                                    "ID": "764"
                                },
                                {
                                    "Nev": "Road-650 Black, 58",
                                    "Ar": "782.99",
                                    "ID": "765"
                                },
                                {
                                    "Nev": "Road-650 Black, 60",
                                    "Ar": "782.99",
                                    "ID": "766"
                                },
                                {
                                    "Nev": "Road-650 Black, 62",
                                    "Ar": "782.99",
                                    "ID": "767"
                                },
                                {
                                    "Nev": "Road-650 Black, 44",
                                    "Ar": "782.99",
                                    "ID": "768"
                                },
                                {
                                    "Nev": "Road-650 Black, 48",
                                    "Ar": "782.99",
                                    "ID": "769"
                                },
                                {
                                    "Nev": "Road-650 Black, 52",
                                    "Ar": "782.99",
                                    "ID": "770"
                                },
                                {
                                    "Nev": "Mountain-100 Silver, 38",
                                    "Ar": "3399.99",
                                    "ID": "771"
                                },
                                {
                                    "Nev": "Mountain-100 Silver, 42",
                                    "Ar": "3399.99",
                                    "ID": "772"
                                },
                                {
                                    "Nev": "Mountain-100 Silver, 44",
                                    "Ar": "3399.99",
                                    "ID": "773"
                                },
                                {
                                    "Nev": "Mountain-100 Silver, 48",
                                    "Ar": "3399.99",
                                    "ID": "774"
                                },
                                {
                                    "Nev": "Mountain-100 Black, 38",
                                    "Ar": "3374.99",
                                    "ID": "775"
                                },
                                {
                                    "Nev": "Mountain-100 Black, 42",
                                    "Ar": "3374.99",
                                    "ID": "776"
                                },
                                {
                                    "Nev": "Mountain-100 Black, 44",
                                    "Ar": "3374.99",
                                    "ID": "777"
                                },
                                {
                                    "Nev": "Mountain-100 Black, 48",
                                    "Ar": "3374.99",
                                    "ID": "778"
                                },
                                {
                                    "Nev": "Mountain-200 Silver, 38",
                                    "Ar": "2319.99",
                                    "ID": "779"
                                },
                                {
                                    "Nev": "Mountain-200 Silver, 42",
                                    "Ar": "2319.99",
                                    "ID": "780"
                                },
                                {
                                    "Nev": "Mountain-200 Silver, 46",
                                    "Ar": "2319.99",
                                    "ID": "781"
                                },
                                {
                                    "Nev": "Mountain-200 Black, 38",
                                    "Ar": "2294.99",
                                    "ID": "782"
                                },
                                {
                                    "Nev": "Mountain-200 Black, 42",
                                    "Ar": "2294.99",
                                    "ID": "783"
                                },
                                {
                                    "Nev": "Mountain-200 Black, 46",
                                    "Ar": "2294.99",
                                    "ID": "784"
                                },
                                {
                                    "Nev": "Mountain-300 Black, 38",
                                    "Ar": "1079.99",
                                    "ID": "785"
                                },
                                {
                                    "Nev": "Mountain-300 Black, 40",
                                    "Ar": "1079.99",
                                    "ID": "786"
                                },
                                {
                                    "Nev": "Mountain-300 Black, 44",
                                    "Ar": "1079.99",
                                    "ID": "787"
                                },
                                {
                                    "Nev": "Mountain-300 Black, 48",
                                    "Ar": "1079.99",
                                    "ID": "788"
                                },
                                {
                                    "Nev": "Road-250 Red, 44",
                                    "Ar": "2443.35",
                                    "ID": "789"
                                },
                                {
                                    "Nev": "Road-250 Red, 48",
                                    "Ar": "2443.35",
                                    "ID": "790"
                                },
                                {
                                    "Nev": "Road-250 Red, 52",
                                    "Ar": "2443.35",
                                    "ID": "791"
                                },
                                {
                                    "Nev": "Road-250 Red, 58",
                                    "Ar": "2443.35",
                                    "ID": "792"
                                },
                                {
                                    "Nev": "Road-250 Black, 44",
                                    "Ar": "2443.35",
                                    "ID": "793"
                                },
                                {
                                    "Nev": "Road-250 Black, 48",
                                    "Ar": "2443.35",
                                    "ID": "794"
                                },
                                {
                                    "Nev": "Road-250 Black, 52",
                                    "Ar": "2443.35",
                                    "ID": "795"
                                },
                                {
                                    "Nev": "Road-250 Black, 58",
                                    "Ar": "2443.35",
                                    "ID": "796"
                                },
                                {
                                    "Nev": "Road-550-W Yellow, 38",
                                    "Ar": "1120.49",
                                    "ID": "797"
                                },
                                {
                                    "Nev": "Road-550-W Yellow, 40",
                                    "Ar": "1120.49",
                                    "ID": "798"
                                },
                                {
                                    "Nev": "Road-550-W Yellow, 42",
                                    "Ar": "1120.49",
                                    "ID": "799"
                                },
                                {
                                    "Nev": "Road-550-W Yellow, 44",
                                    "Ar": "1120.49",
                                    "ID": "800"
                                },
                                {
                                    "Nev": "Road-550-W Yellow, 48",
                                    "Ar": "1120.49",
                                    "ID": "801"
                                },
                                {
                                    "Nev": "Touring-2000 Blue, 60",
                                    "Ar": "1214.85",
                                    "ID": "953"
                                },
                                {
                                    "Nev": "Touring-1000 Yellow, 46",
                                    "Ar": "2384.07",
                                    "ID": "954"
                                },
                                {
                                    "Nev": "Touring-1000 Yellow, 50",
                                    "Ar": "2384.07",
                                    "ID": "955"
                                },
                                {
                                    "Nev": "Touring-1000 Yellow, 54",
                                    "Ar": "2384.07",
                                    "ID": "956"
                                },
                                {
                                    "Nev": "Touring-1000 Yellow, 60",
                                    "Ar": "2384.07",
                                    "ID": "957"
                                },
                                {
                                    "Nev": "Touring-3000 Blue, 54",
                                    "Ar": "742.35",
                                    "ID": "958"
                                },
                                {
                                    "Nev": "Touring-3000 Blue, 58",
                                    "Ar": "742.35",
                                    "ID": "959"
                                },
                                {
                                    "Nev": "Touring-3000 Blue, 62",
                                    "Ar": "742.35",
                                    "ID": "960"
                                },
                                {
                                    "Nev": "Touring-3000 Yellow, 44",
                                    "Ar": "742.35",
                                    "ID": "961"
                                },
                                {
                                    "Nev": "Touring-3000 Yellow, 50",
                                    "Ar": "742.35",
                                    "ID": "962"
                                },
                                {
                                    "Nev": "Touring-3000 Yellow, 54",
                                    "Ar": "742.35",
                                    "ID": "963"
                                },
                                {
                                    "Nev": "Touring-3000 Yellow, 58",
                                    "Ar": "742.35",
                                    "ID": "964"
                                },
                                {
                                    "Nev": "Touring-3000 Yellow, 62",
                                    "Ar": "742.35",
                                    "ID": "965"
                                },
                                {
                                    "Nev": "Touring-1000 Blue, 46",
                                    "Ar": "2384.07",
                                    "ID": "966"
                                },
                                {
                                    "Nev": "Touring-1000 Blue, 50",
                                    "Ar": "2384.07",
                                    "ID": "967"
                                },
                                {
                                    "Nev": "Touring-1000 Blue, 54",
                                    "Ar": "2384.07",
                                    "ID": "968"
                                },
                                {
                                    "Nev": "Touring-1000 Blue, 60",
                                    "Ar": "2384.07",
                                    "ID": "969"
                                },
                                {
                                    "Nev": "Touring-2000 Blue, 46",
                                    "Ar": "1214.85",
                                    "ID": "970"
                                },
                                {
                                    "Nev": "Touring-2000 Blue, 50",
                                    "Ar": "1214.85",
                                    "ID": "971"
                                },
                                {
                                    "Nev": "Touring-2000 Blue, 54",
                                    "Ar": "1214.85",
                                    "ID": "972"
                                },
                                {
                                    "Nev": "Road-350-W Yellow, 40",
                                    "Ar": "1700.99",
                                    "ID": "973"
                                },
                                {
                                    "Nev": "Road-350-W Yellow, 42",
                                    "Ar": "1700.99",
                                    "ID": "974"
                                },
                                {
                                    "Nev": "Road-350-W Yellow, 44",
                                    "Ar": "1700.99",
                                    "ID": "975"
                                },
                                {
                                    "Nev": "Road-350-W Yellow, 48",
                                    "Ar": "1700.99",
                                    "ID": "976"
                                },
                                {
                                    "Nev": "Road-750 Black, 58",
                                    "Ar": "539.99",
                                    "ID": "977"
                                },
                                {
                                    "Nev": "Touring-3000 Blue, 44",
                                    "Ar": "742.35",
                                    "ID": "978"
                                },
                                {
                                    "Nev": "Touring-3000 Blue, 50",
                                    "Ar": "742.35",
                                    "ID": "979"
                                },
                                {
                                    "Nev": "Mountain-400-W Silver, 38",
                                    "Ar": "769.49",
                                    "ID": "980"
                                },
                                {
                                    "Nev": "Mountain-400-W Silver, 40",
                                    "Ar": "769.49",
                                    "ID": "981"
                                },
                                {
                                    "Nev": "Mountain-400-W Silver, 42",
                                    "Ar": "769.49",
                                    "ID": "982"
                                },
                                {
                                    "Nev": "Mountain-400-W Silver, 46",
                                    "Ar": "769.49",
                                    "ID": "983"
                                },
                                {
                                    "Nev": "Mountain-500 Silver, 40",
                                    "Ar": "564.99",
                                    "ID": "984"
                                },
                                {
                                    "Nev": "Mountain-500 Silver, 42",
                                    "Ar": "564.99",
                                    "ID": "985"
                                },
                                {
                                    "Nev": "Mountain-500 Silver, 44",
                                    "Ar": "564.99",
                                    "ID": "986"
                                },
                                {
                                    "Nev": "Mountain-500 Silver, 48",
                                    "Ar": "564.99",
                                    "ID": "987"
                                },
                                {
                                    "Nev": "Mountain-500 Silver, 52",
                                    "Ar": "564.99",
                                    "ID": "988"
                                },
                                {
                                    "Nev": "Mountain-500 Black, 40",
                                    "Ar": "539.99",
                                    "ID": "989"
                                },
                                {
                                    "Nev": "Mountain-500 Black, 42",
                                    "Ar": "539.99",
                                    "ID": "990"
                                },
                                {
                                    "Nev": "Mountain-500 Black, 44",
                                    "Ar": "539.99",
                                    "ID": "991"
                                },
                                {
                                    "Nev": "Mountain-500 Black, 48",
                                    "Ar": "539.99",
                                    "ID": "992"
                                },
                                {
                                    "Nev": "Mountain-500 Black, 52",
                                    "Ar": "539.99",
                                    "ID": "993"
                                },
                                {
                                    "Nev": "Road-750 Black, 44",
                                    "Ar": "539.99",
                                    "ID": "997"
                                },
                                {
                                    "Nev": "Road-750 Black, 48",
                                    "Ar": "539.99",
                                    "ID": "998"
                                },
                                {
                                    "Nev": "Road-750 Black, 52",
                                    "Ar": "539.99",
                                    "ID": "999"
                                }
                            ]
                        },
                        "text/html": "<table><tr><th>Nev</th><th>Ar</th><th>ID</th></tr><tr><td>BMX</td><td>234.00</td><td>1000</td></tr><tr><td>Road-150 Red, 62</td><td>3578.27</td><td>749</td></tr><tr><td>Road-150 Red, 44</td><td>3578.27</td><td>750</td></tr><tr><td>Road-150 Red, 48</td><td>3578.27</td><td>751</td></tr><tr><td>Road-150 Red, 52</td><td>3578.27</td><td>752</td></tr><tr><td>Road-150 Red, 56</td><td>3578.27</td><td>753</td></tr><tr><td>Road-450 Red, 58</td><td>1457.99</td><td>754</td></tr><tr><td>Road-450 Red, 60</td><td>1457.99</td><td>755</td></tr><tr><td>Road-450 Red, 44</td><td>1457.99</td><td>756</td></tr><tr><td>Road-450 Red, 48</td><td>1457.99</td><td>757</td></tr><tr><td>Road-450 Red, 52</td><td>1457.99</td><td>758</td></tr><tr><td>Road-650 Red, 58</td><td>782.99</td><td>759</td></tr><tr><td>Road-650 Red, 60</td><td>782.99</td><td>760</td></tr><tr><td>Road-650 Red, 62</td><td>782.99</td><td>761</td></tr><tr><td>Road-650 Red, 44</td><td>782.99</td><td>762</td></tr><tr><td>Road-650 Red, 48</td><td>782.99</td><td>763</td></tr><tr><td>Road-650 Red, 52</td><td>782.99</td><td>764</td></tr><tr><td>Road-650 Black, 58</td><td>782.99</td><td>765</td></tr><tr><td>Road-650 Black, 60</td><td>782.99</td><td>766</td></tr><tr><td>Road-650 Black, 62</td><td>782.99</td><td>767</td></tr><tr><td>Road-650 Black, 44</td><td>782.99</td><td>768</td></tr><tr><td>Road-650 Black, 48</td><td>782.99</td><td>769</td></tr><tr><td>Road-650 Black, 52</td><td>782.99</td><td>770</td></tr><tr><td>Mountain-100 Silver, 38</td><td>3399.99</td><td>771</td></tr><tr><td>Mountain-100 Silver, 42</td><td>3399.99</td><td>772</td></tr><tr><td>Mountain-100 Silver, 44</td><td>3399.99</td><td>773</td></tr><tr><td>Mountain-100 Silver, 48</td><td>3399.99</td><td>774</td></tr><tr><td>Mountain-100 Black, 38</td><td>3374.99</td><td>775</td></tr><tr><td>Mountain-100 Black, 42</td><td>3374.99</td><td>776</td></tr><tr><td>Mountain-100 Black, 44</td><td>3374.99</td><td>777</td></tr><tr><td>Mountain-100 Black, 48</td><td>3374.99</td><td>778</td></tr><tr><td>Mountain-200 Silver, 38</td><td>2319.99</td><td>779</td></tr><tr><td>Mountain-200 Silver, 42</td><td>2319.99</td><td>780</td></tr><tr><td>Mountain-200 Silver, 46</td><td>2319.99</td><td>781</td></tr><tr><td>Mountain-200 Black, 38</td><td>2294.99</td><td>782</td></tr><tr><td>Mountain-200 Black, 42</td><td>2294.99</td><td>783</td></tr><tr><td>Mountain-200 Black, 46</td><td>2294.99</td><td>784</td></tr><tr><td>Mountain-300 Black, 38</td><td>1079.99</td><td>785</td></tr><tr><td>Mountain-300 Black, 40</td><td>1079.99</td><td>786</td></tr><tr><td>Mountain-300 Black, 44</td><td>1079.99</td><td>787</td></tr><tr><td>Mountain-300 Black, 48</td><td>1079.99</td><td>788</td></tr><tr><td>Road-250 Red, 44</td><td>2443.35</td><td>789</td></tr><tr><td>Road-250 Red, 48</td><td>2443.35</td><td>790</td></tr><tr><td>Road-250 Red, 52</td><td>2443.35</td><td>791</td></tr><tr><td>Road-250 Red, 58</td><td>2443.35</td><td>792</td></tr><tr><td>Road-250 Black, 44</td><td>2443.35</td><td>793</td></tr><tr><td>Road-250 Black, 48</td><td>2443.35</td><td>794</td></tr><tr><td>Road-250 Black, 52</td><td>2443.35</td><td>795</td></tr><tr><td>Road-250 Black, 58</td><td>2443.35</td><td>796</td></tr><tr><td>Road-550-W Yellow, 38</td><td>1120.49</td><td>797</td></tr><tr><td>Road-550-W Yellow, 40</td><td>1120.49</td><td>798</td></tr><tr><td>Road-550-W Yellow, 42</td><td>1120.49</td><td>799</td></tr><tr><td>Road-550-W Yellow, 44</td><td>1120.49</td><td>800</td></tr><tr><td>Road-550-W Yellow, 48</td><td>1120.49</td><td>801</td></tr><tr><td>Touring-2000 Blue, 60</td><td>1214.85</td><td>953</td></tr><tr><td>Touring-1000 Yellow, 46</td><td>2384.07</td><td>954</td></tr><tr><td>Touring-1000 Yellow, 50</td><td>2384.07</td><td>955</td></tr><tr><td>Touring-1000 Yellow, 54</td><td>2384.07</td><td>956</td></tr><tr><td>Touring-1000 Yellow, 60</td><td>2384.07</td><td>957</td></tr><tr><td>Touring-3000 Blue, 54</td><td>742.35</td><td>958</td></tr><tr><td>Touring-3000 Blue, 58</td><td>742.35</td><td>959</td></tr><tr><td>Touring-3000 Blue, 62</td><td>742.35</td><td>960</td></tr><tr><td>Touring-3000 Yellow, 44</td><td>742.35</td><td>961</td></tr><tr><td>Touring-3000 Yellow, 50</td><td>742.35</td><td>962</td></tr><tr><td>Touring-3000 Yellow, 54</td><td>742.35</td><td>963</td></tr><tr><td>Touring-3000 Yellow, 58</td><td>742.35</td><td>964</td></tr><tr><td>Touring-3000 Yellow, 62</td><td>742.35</td><td>965</td></tr><tr><td>Touring-1000 Blue, 46</td><td>2384.07</td><td>966</td></tr><tr><td>Touring-1000 Blue, 50</td><td>2384.07</td><td>967</td></tr><tr><td>Touring-1000 Blue, 54</td><td>2384.07</td><td>968</td></tr><tr><td>Touring-1000 Blue, 60</td><td>2384.07</td><td>969</td></tr><tr><td>Touring-2000 Blue, 46</td><td>1214.85</td><td>970</td></tr><tr><td>Touring-2000 Blue, 50</td><td>1214.85</td><td>971</td></tr><tr><td>Touring-2000 Blue, 54</td><td>1214.85</td><td>972</td></tr><tr><td>Road-350-W Yellow, 40</td><td>1700.99</td><td>973</td></tr><tr><td>Road-350-W Yellow, 42</td><td>1700.99</td><td>974</td></tr><tr><td>Road-350-W Yellow, 44</td><td>1700.99</td><td>975</td></tr><tr><td>Road-350-W Yellow, 48</td><td>1700.99</td><td>976</td></tr><tr><td>Road-750 Black, 58</td><td>539.99</td><td>977</td></tr><tr><td>Touring-3000 Blue, 44</td><td>742.35</td><td>978</td></tr><tr><td>Touring-3000 Blue, 50</td><td>742.35</td><td>979</td></tr><tr><td>Mountain-400-W Silver, 38</td><td>769.49</td><td>980</td></tr><tr><td>Mountain-400-W Silver, 40</td><td>769.49</td><td>981</td></tr><tr><td>Mountain-400-W Silver, 42</td><td>769.49</td><td>982</td></tr><tr><td>Mountain-400-W Silver, 46</td><td>769.49</td><td>983</td></tr><tr><td>Mountain-500 Silver, 40</td><td>564.99</td><td>984</td></tr><tr><td>Mountain-500 Silver, 42</td><td>564.99</td><td>985</td></tr><tr><td>Mountain-500 Silver, 44</td><td>564.99</td><td>986</td></tr><tr><td>Mountain-500 Silver, 48</td><td>564.99</td><td>987</td></tr><tr><td>Mountain-500 Silver, 52</td><td>564.99</td><td>988</td></tr><tr><td>Mountain-500 Black, 40</td><td>539.99</td><td>989</td></tr><tr><td>Mountain-500 Black, 42</td><td>539.99</td><td>990</td></tr><tr><td>Mountain-500 Black, 44</td><td>539.99</td><td>991</td></tr><tr><td>Mountain-500 Black, 48</td><td>539.99</td><td>992</td></tr><tr><td>Mountain-500 Black, 52</td><td>539.99</td><td>993</td></tr><tr><td>Road-750 Black, 44</td><td>539.99</td><td>997</td></tr><tr><td>Road-750 Black, 48</td><td>539.99</td><td>998</td></tr><tr><td>Road-750 Black, 52</td><td>539.99</td><td>999</td></tr></table>"
                    },
                    "metadata": {}
                }
            ],
            "execution_count": 14
        },
        {
            "cell_type": "code",
            "source": [
                "SELECT Name,ListPrice,ProductID INTO #Bicikli2 FROM SalesLT.Product\r\n",
                "WHERE ProductCategoryID IN (SELECT ProductCategoryID FROM SalesLT.ProductCategory WHERE Name LIKE '%Bikes')\r\n",
                "\r\n",
                "SELECT * FROM #Bicikli2\r\n",
                ""
            ],
            "metadata": {
                "language": "sql",
                "azdata_cell_guid": "70e4a4cb-0c0c-4a7d-bafe-72de5e17e488"
            },
            "outputs": [
                {
                    "output_type": "display_data",
                    "data": {
                        "text/html": "(97 rows affected)"
                    },
                    "metadata": {}
                },
                {
                    "output_type": "display_data",
                    "data": {
                        "text/html": "(97 rows affected)"
                    },
                    "metadata": {}
                },
                {
                    "output_type": "display_data",
                    "data": {
                        "text/html": "Total execution time: 00:00:00.021"
                    },
                    "metadata": {}
                },
                {
                    "output_type": "execute_result",
                    "execution_count": 15,
                    "data": {
                        "application/vnd.dataresource+json": {
                            "schema": {
                                "fields": [
                                    {
                                        "name": "Name"
                                    },
                                    {
                                        "name": "ListPrice"
                                    },
                                    {
                                        "name": "ProductID"
                                    }
                                ]
                            },
                            "data": [
                                {
                                    "Name": "Road-150 Red, 62",
                                    "ListPrice": "3578.27",
                                    "ProductID": "749"
                                },
                                {
                                    "Name": "Road-150 Red, 44",
                                    "ListPrice": "3578.27",
                                    "ProductID": "750"
                                },
                                {
                                    "Name": "Road-150 Red, 48",
                                    "ListPrice": "3578.27",
                                    "ProductID": "751"
                                },
                                {
                                    "Name": "Road-150 Red, 52",
                                    "ListPrice": "3578.27",
                                    "ProductID": "752"
                                },
                                {
                                    "Name": "Road-150 Red, 56",
                                    "ListPrice": "3578.27",
                                    "ProductID": "753"
                                },
                                {
                                    "Name": "Road-450 Red, 58",
                                    "ListPrice": "1457.99",
                                    "ProductID": "754"
                                },
                                {
                                    "Name": "Road-450 Red, 60",
                                    "ListPrice": "1457.99",
                                    "ProductID": "755"
                                },
                                {
                                    "Name": "Road-450 Red, 44",
                                    "ListPrice": "1457.99",
                                    "ProductID": "756"
                                },
                                {
                                    "Name": "Road-450 Red, 48",
                                    "ListPrice": "1457.99",
                                    "ProductID": "757"
                                },
                                {
                                    "Name": "Road-450 Red, 52",
                                    "ListPrice": "1457.99",
                                    "ProductID": "758"
                                },
                                {
                                    "Name": "Road-650 Red, 58",
                                    "ListPrice": "782.99",
                                    "ProductID": "759"
                                },
                                {
                                    "Name": "Road-650 Red, 60",
                                    "ListPrice": "782.99",
                                    "ProductID": "760"
                                },
                                {
                                    "Name": "Road-650 Red, 62",
                                    "ListPrice": "782.99",
                                    "ProductID": "761"
                                },
                                {
                                    "Name": "Road-650 Red, 44",
                                    "ListPrice": "782.99",
                                    "ProductID": "762"
                                },
                                {
                                    "Name": "Road-650 Red, 48",
                                    "ListPrice": "782.99",
                                    "ProductID": "763"
                                },
                                {
                                    "Name": "Road-650 Red, 52",
                                    "ListPrice": "782.99",
                                    "ProductID": "764"
                                },
                                {
                                    "Name": "Road-650 Black, 58",
                                    "ListPrice": "782.99",
                                    "ProductID": "765"
                                },
                                {
                                    "Name": "Road-650 Black, 60",
                                    "ListPrice": "782.99",
                                    "ProductID": "766"
                                },
                                {
                                    "Name": "Road-650 Black, 62",
                                    "ListPrice": "782.99",
                                    "ProductID": "767"
                                },
                                {
                                    "Name": "Road-650 Black, 44",
                                    "ListPrice": "782.99",
                                    "ProductID": "768"
                                },
                                {
                                    "Name": "Road-650 Black, 48",
                                    "ListPrice": "782.99",
                                    "ProductID": "769"
                                },
                                {
                                    "Name": "Road-650 Black, 52",
                                    "ListPrice": "782.99",
                                    "ProductID": "770"
                                },
                                {
                                    "Name": "Mountain-100 Silver, 38",
                                    "ListPrice": "3399.99",
                                    "ProductID": "771"
                                },
                                {
                                    "Name": "Mountain-100 Silver, 42",
                                    "ListPrice": "3399.99",
                                    "ProductID": "772"
                                },
                                {
                                    "Name": "Mountain-100 Silver, 44",
                                    "ListPrice": "3399.99",
                                    "ProductID": "773"
                                },
                                {
                                    "Name": "Mountain-100 Silver, 48",
                                    "ListPrice": "3399.99",
                                    "ProductID": "774"
                                },
                                {
                                    "Name": "Mountain-100 Black, 38",
                                    "ListPrice": "3374.99",
                                    "ProductID": "775"
                                },
                                {
                                    "Name": "Mountain-100 Black, 42",
                                    "ListPrice": "3374.99",
                                    "ProductID": "776"
                                },
                                {
                                    "Name": "Mountain-100 Black, 44",
                                    "ListPrice": "3374.99",
                                    "ProductID": "777"
                                },
                                {
                                    "Name": "Mountain-100 Black, 48",
                                    "ListPrice": "3374.99",
                                    "ProductID": "778"
                                },
                                {
                                    "Name": "Mountain-200 Silver, 38",
                                    "ListPrice": "2319.99",
                                    "ProductID": "779"
                                },
                                {
                                    "Name": "Mountain-200 Silver, 42",
                                    "ListPrice": "2319.99",
                                    "ProductID": "780"
                                },
                                {
                                    "Name": "Mountain-200 Silver, 46",
                                    "ListPrice": "2319.99",
                                    "ProductID": "781"
                                },
                                {
                                    "Name": "Mountain-200 Black, 38",
                                    "ListPrice": "2294.99",
                                    "ProductID": "782"
                                },
                                {
                                    "Name": "Mountain-200 Black, 42",
                                    "ListPrice": "2294.99",
                                    "ProductID": "783"
                                },
                                {
                                    "Name": "Mountain-200 Black, 46",
                                    "ListPrice": "2294.99",
                                    "ProductID": "784"
                                },
                                {
                                    "Name": "Mountain-300 Black, 38",
                                    "ListPrice": "1079.99",
                                    "ProductID": "785"
                                },
                                {
                                    "Name": "Mountain-300 Black, 40",
                                    "ListPrice": "1079.99",
                                    "ProductID": "786"
                                },
                                {
                                    "Name": "Mountain-300 Black, 44",
                                    "ListPrice": "1079.99",
                                    "ProductID": "787"
                                },
                                {
                                    "Name": "Mountain-300 Black, 48",
                                    "ListPrice": "1079.99",
                                    "ProductID": "788"
                                },
                                {
                                    "Name": "Road-250 Red, 44",
                                    "ListPrice": "2443.35",
                                    "ProductID": "789"
                                },
                                {
                                    "Name": "Road-250 Red, 48",
                                    "ListPrice": "2443.35",
                                    "ProductID": "790"
                                },
                                {
                                    "Name": "Road-250 Red, 52",
                                    "ListPrice": "2443.35",
                                    "ProductID": "791"
                                },
                                {
                                    "Name": "Road-250 Red, 58",
                                    "ListPrice": "2443.35",
                                    "ProductID": "792"
                                },
                                {
                                    "Name": "Road-250 Black, 44",
                                    "ListPrice": "2443.35",
                                    "ProductID": "793"
                                },
                                {
                                    "Name": "Road-250 Black, 48",
                                    "ListPrice": "2443.35",
                                    "ProductID": "794"
                                },
                                {
                                    "Name": "Road-250 Black, 52",
                                    "ListPrice": "2443.35",
                                    "ProductID": "795"
                                },
                                {
                                    "Name": "Road-250 Black, 58",
                                    "ListPrice": "2443.35",
                                    "ProductID": "796"
                                },
                                {
                                    "Name": "Road-550-W Yellow, 38",
                                    "ListPrice": "1120.49",
                                    "ProductID": "797"
                                },
                                {
                                    "Name": "Road-550-W Yellow, 40",
                                    "ListPrice": "1120.49",
                                    "ProductID": "798"
                                },
                                {
                                    "Name": "Road-550-W Yellow, 42",
                                    "ListPrice": "1120.49",
                                    "ProductID": "799"
                                },
                                {
                                    "Name": "Road-550-W Yellow, 44",
                                    "ListPrice": "1120.49",
                                    "ProductID": "800"
                                },
                                {
                                    "Name": "Road-550-W Yellow, 48",
                                    "ListPrice": "1120.49",
                                    "ProductID": "801"
                                },
                                {
                                    "Name": "Touring-2000 Blue, 60",
                                    "ListPrice": "1214.85",
                                    "ProductID": "953"
                                },
                                {
                                    "Name": "Touring-1000 Yellow, 46",
                                    "ListPrice": "2384.07",
                                    "ProductID": "954"
                                },
                                {
                                    "Name": "Touring-1000 Yellow, 50",
                                    "ListPrice": "2384.07",
                                    "ProductID": "955"
                                },
                                {
                                    "Name": "Touring-1000 Yellow, 54",
                                    "ListPrice": "2384.07",
                                    "ProductID": "956"
                                },
                                {
                                    "Name": "Touring-1000 Yellow, 60",
                                    "ListPrice": "2384.07",
                                    "ProductID": "957"
                                },
                                {
                                    "Name": "Touring-3000 Blue, 54",
                                    "ListPrice": "742.35",
                                    "ProductID": "958"
                                },
                                {
                                    "Name": "Touring-3000 Blue, 58",
                                    "ListPrice": "742.35",
                                    "ProductID": "959"
                                },
                                {
                                    "Name": "Touring-3000 Blue, 62",
                                    "ListPrice": "742.35",
                                    "ProductID": "960"
                                },
                                {
                                    "Name": "Touring-3000 Yellow, 44",
                                    "ListPrice": "742.35",
                                    "ProductID": "961"
                                },
                                {
                                    "Name": "Touring-3000 Yellow, 50",
                                    "ListPrice": "742.35",
                                    "ProductID": "962"
                                },
                                {
                                    "Name": "Touring-3000 Yellow, 54",
                                    "ListPrice": "742.35",
                                    "ProductID": "963"
                                },
                                {
                                    "Name": "Touring-3000 Yellow, 58",
                                    "ListPrice": "742.35",
                                    "ProductID": "964"
                                },
                                {
                                    "Name": "Touring-3000 Yellow, 62",
                                    "ListPrice": "742.35",
                                    "ProductID": "965"
                                },
                                {
                                    "Name": "Touring-1000 Blue, 46",
                                    "ListPrice": "2384.07",
                                    "ProductID": "966"
                                },
                                {
                                    "Name": "Touring-1000 Blue, 50",
                                    "ListPrice": "2384.07",
                                    "ProductID": "967"
                                },
                                {
                                    "Name": "Touring-1000 Blue, 54",
                                    "ListPrice": "2384.07",
                                    "ProductID": "968"
                                },
                                {
                                    "Name": "Touring-1000 Blue, 60",
                                    "ListPrice": "2384.07",
                                    "ProductID": "969"
                                },
                                {
                                    "Name": "Touring-2000 Blue, 46",
                                    "ListPrice": "1214.85",
                                    "ProductID": "970"
                                },
                                {
                                    "Name": "Touring-2000 Blue, 50",
                                    "ListPrice": "1214.85",
                                    "ProductID": "971"
                                },
                                {
                                    "Name": "Touring-2000 Blue, 54",
                                    "ListPrice": "1214.85",
                                    "ProductID": "972"
                                },
                                {
                                    "Name": "Road-350-W Yellow, 40",
                                    "ListPrice": "1700.99",
                                    "ProductID": "973"
                                },
                                {
                                    "Name": "Road-350-W Yellow, 42",
                                    "ListPrice": "1700.99",
                                    "ProductID": "974"
                                },
                                {
                                    "Name": "Road-350-W Yellow, 44",
                                    "ListPrice": "1700.99",
                                    "ProductID": "975"
                                },
                                {
                                    "Name": "Road-350-W Yellow, 48",
                                    "ListPrice": "1700.99",
                                    "ProductID": "976"
                                },
                                {
                                    "Name": "Road-750 Black, 58",
                                    "ListPrice": "539.99",
                                    "ProductID": "977"
                                },
                                {
                                    "Name": "Touring-3000 Blue, 44",
                                    "ListPrice": "742.35",
                                    "ProductID": "978"
                                },
                                {
                                    "Name": "Touring-3000 Blue, 50",
                                    "ListPrice": "742.35",
                                    "ProductID": "979"
                                },
                                {
                                    "Name": "Mountain-400-W Silver, 38",
                                    "ListPrice": "769.49",
                                    "ProductID": "980"
                                },
                                {
                                    "Name": "Mountain-400-W Silver, 40",
                                    "ListPrice": "769.49",
                                    "ProductID": "981"
                                },
                                {
                                    "Name": "Mountain-400-W Silver, 42",
                                    "ListPrice": "769.49",
                                    "ProductID": "982"
                                },
                                {
                                    "Name": "Mountain-400-W Silver, 46",
                                    "ListPrice": "769.49",
                                    "ProductID": "983"
                                },
                                {
                                    "Name": "Mountain-500 Silver, 40",
                                    "ListPrice": "564.99",
                                    "ProductID": "984"
                                },
                                {
                                    "Name": "Mountain-500 Silver, 42",
                                    "ListPrice": "564.99",
                                    "ProductID": "985"
                                },
                                {
                                    "Name": "Mountain-500 Silver, 44",
                                    "ListPrice": "564.99",
                                    "ProductID": "986"
                                },
                                {
                                    "Name": "Mountain-500 Silver, 48",
                                    "ListPrice": "564.99",
                                    "ProductID": "987"
                                },
                                {
                                    "Name": "Mountain-500 Silver, 52",
                                    "ListPrice": "564.99",
                                    "ProductID": "988"
                                },
                                {
                                    "Name": "Mountain-500 Black, 40",
                                    "ListPrice": "539.99",
                                    "ProductID": "989"
                                },
                                {
                                    "Name": "Mountain-500 Black, 42",
                                    "ListPrice": "539.99",
                                    "ProductID": "990"
                                },
                                {
                                    "Name": "Mountain-500 Black, 44",
                                    "ListPrice": "539.99",
                                    "ProductID": "991"
                                },
                                {
                                    "Name": "Mountain-500 Black, 48",
                                    "ListPrice": "539.99",
                                    "ProductID": "992"
                                },
                                {
                                    "Name": "Mountain-500 Black, 52",
                                    "ListPrice": "539.99",
                                    "ProductID": "993"
                                },
                                {
                                    "Name": "Road-750 Black, 44",
                                    "ListPrice": "539.99",
                                    "ProductID": "997"
                                },
                                {
                                    "Name": "Road-750 Black, 48",
                                    "ListPrice": "539.99",
                                    "ProductID": "998"
                                },
                                {
                                    "Name": "Road-750 Black, 52",
                                    "ListPrice": "539.99",
                                    "ProductID": "999"
                                }
                            ]
                        },
                        "text/html": "<table><tr><th>Name</th><th>ListPrice</th><th>ProductID</th></tr><tr><td>Road-150 Red, 62</td><td>3578.27</td><td>749</td></tr><tr><td>Road-150 Red, 44</td><td>3578.27</td><td>750</td></tr><tr><td>Road-150 Red, 48</td><td>3578.27</td><td>751</td></tr><tr><td>Road-150 Red, 52</td><td>3578.27</td><td>752</td></tr><tr><td>Road-150 Red, 56</td><td>3578.27</td><td>753</td></tr><tr><td>Road-450 Red, 58</td><td>1457.99</td><td>754</td></tr><tr><td>Road-450 Red, 60</td><td>1457.99</td><td>755</td></tr><tr><td>Road-450 Red, 44</td><td>1457.99</td><td>756</td></tr><tr><td>Road-450 Red, 48</td><td>1457.99</td><td>757</td></tr><tr><td>Road-450 Red, 52</td><td>1457.99</td><td>758</td></tr><tr><td>Road-650 Red, 58</td><td>782.99</td><td>759</td></tr><tr><td>Road-650 Red, 60</td><td>782.99</td><td>760</td></tr><tr><td>Road-650 Red, 62</td><td>782.99</td><td>761</td></tr><tr><td>Road-650 Red, 44</td><td>782.99</td><td>762</td></tr><tr><td>Road-650 Red, 48</td><td>782.99</td><td>763</td></tr><tr><td>Road-650 Red, 52</td><td>782.99</td><td>764</td></tr><tr><td>Road-650 Black, 58</td><td>782.99</td><td>765</td></tr><tr><td>Road-650 Black, 60</td><td>782.99</td><td>766</td></tr><tr><td>Road-650 Black, 62</td><td>782.99</td><td>767</td></tr><tr><td>Road-650 Black, 44</td><td>782.99</td><td>768</td></tr><tr><td>Road-650 Black, 48</td><td>782.99</td><td>769</td></tr><tr><td>Road-650 Black, 52</td><td>782.99</td><td>770</td></tr><tr><td>Mountain-100 Silver, 38</td><td>3399.99</td><td>771</td></tr><tr><td>Mountain-100 Silver, 42</td><td>3399.99</td><td>772</td></tr><tr><td>Mountain-100 Silver, 44</td><td>3399.99</td><td>773</td></tr><tr><td>Mountain-100 Silver, 48</td><td>3399.99</td><td>774</td></tr><tr><td>Mountain-100 Black, 38</td><td>3374.99</td><td>775</td></tr><tr><td>Mountain-100 Black, 42</td><td>3374.99</td><td>776</td></tr><tr><td>Mountain-100 Black, 44</td><td>3374.99</td><td>777</td></tr><tr><td>Mountain-100 Black, 48</td><td>3374.99</td><td>778</td></tr><tr><td>Mountain-200 Silver, 38</td><td>2319.99</td><td>779</td></tr><tr><td>Mountain-200 Silver, 42</td><td>2319.99</td><td>780</td></tr><tr><td>Mountain-200 Silver, 46</td><td>2319.99</td><td>781</td></tr><tr><td>Mountain-200 Black, 38</td><td>2294.99</td><td>782</td></tr><tr><td>Mountain-200 Black, 42</td><td>2294.99</td><td>783</td></tr><tr><td>Mountain-200 Black, 46</td><td>2294.99</td><td>784</td></tr><tr><td>Mountain-300 Black, 38</td><td>1079.99</td><td>785</td></tr><tr><td>Mountain-300 Black, 40</td><td>1079.99</td><td>786</td></tr><tr><td>Mountain-300 Black, 44</td><td>1079.99</td><td>787</td></tr><tr><td>Mountain-300 Black, 48</td><td>1079.99</td><td>788</td></tr><tr><td>Road-250 Red, 44</td><td>2443.35</td><td>789</td></tr><tr><td>Road-250 Red, 48</td><td>2443.35</td><td>790</td></tr><tr><td>Road-250 Red, 52</td><td>2443.35</td><td>791</td></tr><tr><td>Road-250 Red, 58</td><td>2443.35</td><td>792</td></tr><tr><td>Road-250 Black, 44</td><td>2443.35</td><td>793</td></tr><tr><td>Road-250 Black, 48</td><td>2443.35</td><td>794</td></tr><tr><td>Road-250 Black, 52</td><td>2443.35</td><td>795</td></tr><tr><td>Road-250 Black, 58</td><td>2443.35</td><td>796</td></tr><tr><td>Road-550-W Yellow, 38</td><td>1120.49</td><td>797</td></tr><tr><td>Road-550-W Yellow, 40</td><td>1120.49</td><td>798</td></tr><tr><td>Road-550-W Yellow, 42</td><td>1120.49</td><td>799</td></tr><tr><td>Road-550-W Yellow, 44</td><td>1120.49</td><td>800</td></tr><tr><td>Road-550-W Yellow, 48</td><td>1120.49</td><td>801</td></tr><tr><td>Touring-2000 Blue, 60</td><td>1214.85</td><td>953</td></tr><tr><td>Touring-1000 Yellow, 46</td><td>2384.07</td><td>954</td></tr><tr><td>Touring-1000 Yellow, 50</td><td>2384.07</td><td>955</td></tr><tr><td>Touring-1000 Yellow, 54</td><td>2384.07</td><td>956</td></tr><tr><td>Touring-1000 Yellow, 60</td><td>2384.07</td><td>957</td></tr><tr><td>Touring-3000 Blue, 54</td><td>742.35</td><td>958</td></tr><tr><td>Touring-3000 Blue, 58</td><td>742.35</td><td>959</td></tr><tr><td>Touring-3000 Blue, 62</td><td>742.35</td><td>960</td></tr><tr><td>Touring-3000 Yellow, 44</td><td>742.35</td><td>961</td></tr><tr><td>Touring-3000 Yellow, 50</td><td>742.35</td><td>962</td></tr><tr><td>Touring-3000 Yellow, 54</td><td>742.35</td><td>963</td></tr><tr><td>Touring-3000 Yellow, 58</td><td>742.35</td><td>964</td></tr><tr><td>Touring-3000 Yellow, 62</td><td>742.35</td><td>965</td></tr><tr><td>Touring-1000 Blue, 46</td><td>2384.07</td><td>966</td></tr><tr><td>Touring-1000 Blue, 50</td><td>2384.07</td><td>967</td></tr><tr><td>Touring-1000 Blue, 54</td><td>2384.07</td><td>968</td></tr><tr><td>Touring-1000 Blue, 60</td><td>2384.07</td><td>969</td></tr><tr><td>Touring-2000 Blue, 46</td><td>1214.85</td><td>970</td></tr><tr><td>Touring-2000 Blue, 50</td><td>1214.85</td><td>971</td></tr><tr><td>Touring-2000 Blue, 54</td><td>1214.85</td><td>972</td></tr><tr><td>Road-350-W Yellow, 40</td><td>1700.99</td><td>973</td></tr><tr><td>Road-350-W Yellow, 42</td><td>1700.99</td><td>974</td></tr><tr><td>Road-350-W Yellow, 44</td><td>1700.99</td><td>975</td></tr><tr><td>Road-350-W Yellow, 48</td><td>1700.99</td><td>976</td></tr><tr><td>Road-750 Black, 58</td><td>539.99</td><td>977</td></tr><tr><td>Touring-3000 Blue, 44</td><td>742.35</td><td>978</td></tr><tr><td>Touring-3000 Blue, 50</td><td>742.35</td><td>979</td></tr><tr><td>Mountain-400-W Silver, 38</td><td>769.49</td><td>980</td></tr><tr><td>Mountain-400-W Silver, 40</td><td>769.49</td><td>981</td></tr><tr><td>Mountain-400-W Silver, 42</td><td>769.49</td><td>982</td></tr><tr><td>Mountain-400-W Silver, 46</td><td>769.49</td><td>983</td></tr><tr><td>Mountain-500 Silver, 40</td><td>564.99</td><td>984</td></tr><tr><td>Mountain-500 Silver, 42</td><td>564.99</td><td>985</td></tr><tr><td>Mountain-500 Silver, 44</td><td>564.99</td><td>986</td></tr><tr><td>Mountain-500 Silver, 48</td><td>564.99</td><td>987</td></tr><tr><td>Mountain-500 Silver, 52</td><td>564.99</td><td>988</td></tr><tr><td>Mountain-500 Black, 40</td><td>539.99</td><td>989</td></tr><tr><td>Mountain-500 Black, 42</td><td>539.99</td><td>990</td></tr><tr><td>Mountain-500 Black, 44</td><td>539.99</td><td>991</td></tr><tr><td>Mountain-500 Black, 48</td><td>539.99</td><td>992</td></tr><tr><td>Mountain-500 Black, 52</td><td>539.99</td><td>993</td></tr><tr><td>Road-750 Black, 44</td><td>539.99</td><td>997</td></tr><tr><td>Road-750 Black, 48</td><td>539.99</td><td>998</td></tr><tr><td>Road-750 Black, 52</td><td>539.99</td><td>999</td></tr></table>"
                    },
                    "metadata": {}
                }
            ],
            "execution_count": 15
        }
    ]
}