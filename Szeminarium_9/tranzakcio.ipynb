{
    "metadata": {
        "kernelspec": {
            "name": "SQL",
            "display_name": "SQL",
            "language": "sql"
        },
        "language_info": {
            "name": "sql",
            "version": ""
        }
    },
    "nbformat_minor": 2,
    "nbformat": 4,
    "cells": [
        {
            "cell_type": "markdown",
            "source": [
                "\n",
                "\n",
                "## Tranzakciók\n",
                "A tranzakció egy munkaegység, melyet egyszerre kell végrehajtani. \n",
                "\n",
                " OLTP - Online Transaction Processing - olyan rendszerek melyek tranzakciók kezelésére lettek kialakítva.\n",
                "\n",
                " A tranzakciók egy vagy több műveletet tartalmaznak, melyeket egyszerre kell végrehajtani.\n",
                "\n",
                "\n",
                "Tranzakciók használata esetén a rendszer garantálja, hogy a tranzakcióban lévő műveletek vagy mind végrehajtódnak, vagy egyik sem. \n",
                "\n",
                "A tranzakciók használata elengedhetetlen az adatbázis konzisztenciájának megtartása érdekében!\n",
                "\n",
                "![Diagram showing the difference between using transactions and not using transactions.](https://docs.microsoft.com/en-gb/learn/wwl-data-ai/implement-transactions-transact-sql/media/transactions.png)\n",
                "\n",
                "Minden esetben amikor a rendszer valamilyen műveletet végez azt tranzakció formájában teszi. Minden egyedi művelet maga egy tranzakció.\n",
                "\n",
                "Abban az esetben ha több műveletet szeretnénk egyben végrehajtani használhatunk explicit vagy implicit tranzakciókat.\n",
                "\n",
                "**Explicit tranzakció**<span class=\"hljs-keyword\" style=\"color:rgb(1, 1, 253);font-family:SFMono-Regular, Consolas, &quot;Liberation Mono&quot;, Menlo, Courier, monospace;white-space:pre;background-color:rgb(242, 242, 242);\"><br></span>\n",
                "\n",
                "<span class=\"hljs-keyword\" style=\"color:rgb(1, 1, 253);font-family:SFMono-Regular, Consolas, &quot;Liberation Mono&quot;, Menlo, Courier, monospace;white-space:pre;background-color:rgb(242, 242, 242);\">BEGIN</span> <span style=\"color:rgb(23, 23, 23);font-family:SFMono-Regular, Consolas, &quot;Liberation Mono&quot;, Menlo, Courier, monospace;white-space:pre;background-color:rgb(242, 242, 242);\">{ </span> <span class=\"hljs-keyword\" style=\"color:rgb(1, 1, 253);font-family:SFMono-Regular, Consolas, &quot;Liberation Mono&quot;, Menlo, Courier, monospace;white-space:pre;background-color:rgb(242, 242, 242);\">TRAN</span> <span style=\"color:rgb(23, 23, 23);font-family:SFMono-Regular, Consolas, &quot;Liberation Mono&quot;, Menlo, Courier, monospace;white-space:pre;background-color:rgb(242, 242, 242);\">| </span> <span class=\"hljs-keyword\" style=\"color:rgb(1, 1, 253);font-family:SFMono-Regular, Consolas, &quot;Liberation Mono&quot;, Menlo, Courier, monospace;white-space:pre;background-color:rgb(242, 242, 242);\">TRANSACTION</span> <span style=\"color:rgb(23, 23, 23);font-family:SFMono-Regular, Consolas, &quot;Liberation Mono&quot;, Menlo, Courier, monospace;white-space:pre;background-color:rgb(242, 242, 242);\">} </span> <span style=\"color:rgb(23, 23, 23);font-family:SFMono-Regular, Consolas, &quot;Liberation Mono&quot;, Menlo, Courier, monospace;white-space:pre;background-color:rgb(242, 242, 242);\">[</span><span class=\"hljs-variable\" style=\"color:rgb(23, 23, 23);font-family:SFMono-Regular, Consolas, &quot;Liberation Mono&quot;, Menlo, Courier, monospace;white-space:pre;background-color:rgb(242, 242, 242);\">transaction_name</span><span style=\"background-color:rgb(242, 242, 242);color:rgb(23, 23, 23);font-family:SFMono-Regular, Consolas, &quot;Liberation Mono&quot;, Menlo, Courier, monospace;white-space:pre;\">]</span>\n",
                "\n",
                "<span class=\"hljs-keyword\" style=\"color:rgb(1, 1, 253);font-family:SFMono-Regular, Consolas, &quot;Liberation Mono&quot;, Menlo, Courier, monospace;white-space:pre;background-color:rgb(242, 242, 242);\">COMMIT</span> <span style=\"color:rgb(23, 23, 23);font-family:SFMono-Regular, Consolas, &quot;Liberation Mono&quot;, Menlo, Courier, monospace;white-space:pre;background-color:rgb(242, 242, 242);\">[ { </span> <span class=\"hljs-keyword\" style=\"color:rgb(1, 1, 253);font-family:SFMono-Regular, Consolas, &quot;Liberation Mono&quot;, Menlo, Courier, monospace;white-space:pre;background-color:rgb(242, 242, 242);\">TRAN</span> <span style=\"color:rgb(23, 23, 23);font-family:SFMono-Regular, Consolas, &quot;Liberation Mono&quot;, Menlo, Courier, monospace;white-space:pre;background-color:rgb(242, 242, 242);\">| </span> <span class=\"hljs-keyword\" style=\"color:rgb(1, 1, 253);font-family:SFMono-Regular, Consolas, &quot;Liberation Mono&quot;, Menlo, Courier, monospace;white-space:pre;background-color:rgb(242, 242, 242);\">TRANSACTION</span> <span style=\"color:rgb(23, 23, 23);font-family:SFMono-Regular, Consolas, &quot;Liberation Mono&quot;, Menlo, Courier, monospace;white-space:pre;background-color:rgb(242, 242, 242);\">} </span> <span style=\"color:rgb(23, 23, 23);font-family:SFMono-Regular, Consolas, &quot;Liberation Mono&quot;, Menlo, Courier, monospace;white-space:pre;background-color:rgb(242, 242, 242);\">[</span><span class=\"hljs-variable\" style=\"color:rgb(23, 23, 23);font-family:SFMono-Regular, Consolas, &quot;Liberation Mono&quot;, Menlo, Courier, monospace;white-space:pre;background-color:rgb(242, 242, 242);\">transaction_name</span><span style=\"background-color:rgb(242, 242, 242);color:rgb(23, 23, 23);font-family:SFMono-Regular, Consolas, &quot;Liberation Mono&quot;, Menlo, Courier, monospace;white-space:pre;\">]</span><span style=\"color:rgb(23, 23, 23);font-family:SFMono-Regular, Consolas, &quot;Liberation Mono&quot;, Menlo, Courier, monospace;white-space:pre;background-color:rgb(242, 242, 242);\"><br></span>\n",
                "\n",
                "<span class=\"hljs-keyword\" style=\"color:rgb(1, 1, 253);font-family:SFMono-Regular, Consolas, &quot;Liberation Mono&quot;, Menlo, Courier, monospace;white-space:pre;background-color:rgb(242, 242, 242);\">ROLLBACK</span> <span style=\"color:rgb(23, 23, 23);font-family:SFMono-Regular, Consolas, &quot;Liberation Mono&quot;, Menlo, Courier, monospace;white-space:pre;background-color:rgb(242, 242, 242);\">{ </span> <span class=\"hljs-keyword\" style=\"color:rgb(1, 1, 253);font-family:SFMono-Regular, Consolas, &quot;Liberation Mono&quot;, Menlo, Courier, monospace;white-space:pre;background-color:rgb(242, 242, 242);\">TRAN</span> <span style=\"color:rgb(23, 23, 23);font-family:SFMono-Regular, Consolas, &quot;Liberation Mono&quot;, Menlo, Courier, monospace;white-space:pre;background-color:rgb(242, 242, 242);\">| </span> <span class=\"hljs-keyword\" style=\"color:rgb(1, 1, 253);font-family:SFMono-Regular, Consolas, &quot;Liberation Mono&quot;, Menlo, Courier, monospace;white-space:pre;background-color:rgb(242, 242, 242);\">TRANSACTION</span> <span style=\"color:rgb(23, 23, 23);font-family:SFMono-Regular, Consolas, &quot;Liberation Mono&quot;, Menlo, Courier, monospace;white-space:pre;background-color:rgb(242, 242, 242);\">} </span> <span style=\"color:rgb(23, 23, 23);font-family:SFMono-Regular, Consolas, &quot;Liberation Mono&quot;, Menlo, Courier, monospace;white-space:pre;background-color:rgb(242, 242, 242);\">[</span><span class=\"hljs-variable\" style=\"color:rgb(23, 23, 23);font-family:SFMono-Regular, Consolas, &quot;Liberation Mono&quot;, Menlo, Courier, monospace;white-space:pre;background-color:rgb(242, 242, 242);\">transaction_name</span><span style=\"background-color:rgb(242, 242, 242);color:rgb(23, 23, 23);font-family:SFMono-Regular, Consolas, &quot;Liberation Mono&quot;, Menlo, Courier, monospace;white-space:pre;\">]</span>\n",
                "\n",
                "<span style=\"background-color:rgb(242, 242, 242);color:rgb(23, 23, 23);font-family:SFMono-Regular, Consolas, &quot;Liberation Mono&quot;, Menlo, Courier, monospace;white-space:pre;\">Pl.</span>\n",
                "\n",
                "<span style=\"color: #0000ff;\">SET</span> <span style=\"color: #0000ff;\">TRANSACTION</span> <span style=\"color: #0000ff;\">ISOLATION</span> <span style=\"color: #0000ff;\">LEVEL</span> <span style=\"color: #0000ff;\">SERIALIZABLE</span>;\n",
                "\n",
                "<span style=\"color: #0000ff;\">BEGIN</span> <span style=\"color: #0000ff;\">TRY</span>\n",
                "\n",
                "    <span style=\"color: #0000ff;\">PRINT</span> <span style=\"color: #a31515;\">'1. BEGIN TRY'</span>;\n",
                "\n",
                "    <span style=\"color: #0000ff;\">BEGIN</span> <span style=\"color: #0000ff;\">TRANSACTION</span>;\n",
                "\n",
                "    <span style=\"color: #0000ff;\">PRINT</span> <span style=\"color: #a31515;\">'2. BEGIN TRANSACTION'</span>;\n",
                "\n",
                "    <span style=\"color: #0000ff;\">INSERT INTO</span> dbo.Orders  (custid, empid, orderdate, shipvia) <span style=\"color: #0000ff;\">VALUES</span>   (<span style=\"color: #09885a;\">68</span>, <span style=\"color: #09885a;\">9</span>, <span style=\"color: #a31515;\">'2006-07-12'</span>, <span style=\"color: #09885a;\">1</span>);\n",
                "\n",
                "    <span style=\"color: #0000ff;\">IF</span> @@ERROR <span style=\"color: #000000;\">&lt;&gt;</span> <span style=\"color: #09885a;\">0</span>\n",
                "\n",
                "    <span style=\"color: #0000ff;\">BEGIN</span>\n",
                "\n",
                "        <span style=\"color: #0000ff;\">RAISERROR</span>(<span style=\"color: #a31515;\">'Error inserting into Orders'</span>, <span style=\"color: #09885a;\">16</span>, <span style=\"color: #09885a;\">1</span>);\n",
                "\n",
                "    <span style=\"color: #0000ff;\">END</span>\n",
                "\n",
                "    <span style=\"color: #0000ff;\">IF</span> @@TRANCOUNT <span style=\"color: #000000;\">&gt;</span> <span style=\"color: #09885a;\">0</span>\n",
                "\n",
                "    <span style=\"color: #0000ff;\">BEGIN</span>\n",
                "\n",
                "        <span style=\"color: #0000ff;\">PRINT</span> <span style=\"color: #a31515;\">'3. COMMIT TRANSACTION'</span>;\n",
                "\n",
                "        <span style=\"color: #0000ff;\">COMMIT</span> <span style=\"color: #0000ff;\">TRANSACTION</span>;\n",
                "\n",
                "    <span style=\"color: #0000ff;\">END</span>\n",
                "\n",
                "<span style=\"color: #0000ff;\">END</span> <span style=\"color: #0000ff;\">TRY</span>\n",
                "\n",
                "<span style=\"color: #0000ff;\">BEGIN</span> <span style=\"color: #0000ff;\">CATCH</span>\n",
                "\n",
                "    <span style=\"color: #0000ff;\">SELECT</span>\n",
                "\n",
                "        <span style=\"color: #795e26;\">ERROR_NUMBER</span>()  <span style=\"color: #0000ff;\">AS</span> ErrNum,\n",
                "\n",
                "        <span style=\"color: #795e26;\">ERROR_MESSAGE</span>()  <span style=\"color: #0000ff;\">AS</span> ErrMsg;\n",
                "\n",
                "    <span style=\"color: #0000ff;\">IF</span> @@TRANCOUNT <span style=\"color: #000000;\">&gt;</span> <span style=\"color: #09885a;\">0</span>\n",
                "\n",
                "    <span style=\"color: #0000ff;\">BEGIN</span>\n",
                "\n",
                "        <span style=\"color: #0000ff;\">PRINT</span> <span style=\"color: #a31515;\">'4. ROLLBACK TRANSACTION'</span>;\n",
                "\n",
                "        <span style=\"color: #0000ff;\">ROLLBACK</span> <span style=\"color: #0000ff;\">TRANSACTION</span>;\n",
                "\n",
                "    <span style=\"color: #0000ff;\">END</span>\n",
                "\n",
                "<span style=\"color: #0000ff;\">END</span> <span style=\"color: #0000ff;\">CATCH</span>;\n",
                "\n",
                "[Pelda file](.\\example.sql)\n",
                "\n",
                "**Implicit tranzakció**<span style=\"background-color:rgb(242, 242, 242);color:rgb(23, 23, 23);font-family:SFMono-Regular, Consolas, &quot;Liberation Mono&quot;, Menlo, Courier, monospace;white-space:pre;\"><br></span>\n",
                "\n",
                "Abban az esetben ha Implicit trantzakciókat szeretnénk használni, <span style=\"background-color:rgb(255, 255, 255);color:rgb(51, 51, 51);font-family:&quot;Segoe UI&quot;, SegoeUI, &quot;Helvetica Neue&quot;, Helvetica, Arial, sans-serif;\">SET IMPLICIT_TRANSACTIONS ON parancsal segitségével tehetjük meg. Ebben az esetben nem BEGIN TRANSACTION-el kezdődik egy tranzakció, hanem amint egy tranzakció befejeződik, egy uj tranzakció kezdődik. Egy implicit tranzakció ugyanúgy commit vagy rollback paranccsal véglegesithető.</span>\n",
                "\n",
                "### <span style=\"background-color:rgb(255, 255, 255);color:rgb(51, 51, 51);font-family:&quot;Segoe UI&quot;, SegoeUI, &quot;Helvetica Neue&quot;, Helvetica, Arial, sans-serif;\">Feladat:</span>\n",
                "\n",
                "<span style=\"background-color:rgb(255, 255, 255);\">- Irjunk tárolt eljárást mely beszúr a SalesLT.SalesOrderDetail táblába és frissiti a Sales.SalesOrderHeader SubTotal mezőjét egy tranzakción belül.</span>"
            ],
            "metadata": {
                "azdata_cell_guid": "81ebbc86-4697-4410-a5e4-271ba1af397e"
            },
            "attachments": {}
        },
        {
            "cell_type": "code",
            "source": [
                ""
            ],
            "metadata": {
                "azdata_cell_guid": "ec5af988-993e-4651-9885-c11c622df6d4",
                "language": "sql"
            },
            "outputs": [
                {
                    "output_type": "error",
                    "ename": "",
                    "evalue": "Msg 208, Level 16, State 1, Line 4\r\nInvalid object name 'dbo.Orders'.",
                    "traceback": []
                },
                {
                    "output_type": "display_data",
                    "data": {
                        "text/html": "Total execution time: 00:00:00.012"
                    },
                    "metadata": {}
                }
            ],
            "execution_count": 1
        }
    ]
}