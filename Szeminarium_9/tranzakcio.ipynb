{
    "metadata": {
        "kernelspec": {
            "name": "SQL",
            "display_name": "SQL",
            "language": "sql"
        },
        "language_info": {
            "name": "sql",
            "version": ""
        }
    },
    "nbformat_minor": 2,
    "nbformat": 4,
    "cells": [
        {
            "cell_type": "markdown",
            "source": [
                "\n",
                "\n",
                "## Tranzakciók\n",
                "A tranzakció egy munkaegység, melyet egyszerre kell végrehajtani. \n",
                "\n",
                " OLTP - Online Transaction Processing - olyan rendszerek melyek tranzakciók kezelésére lettek kialakítva.\n",
                "\n",
                " A tranzakciók egy vagy több műveletet tartalmaznak, melyeket egyszerre kell végrehajtani.\n",
                "\n",
                "\n",
                "Tranzakciók használata esetén a rendszer garantálja, hogy a tranzakcióban lévő műveletek vagy mind végrehajtódnak, vagy egyik sem. \n",
                "\n",
                "A tranzakciók használata elengedhetetlen az adatbázis konzisztenciájának megtartása érdekében!\n",
                "\n",
                "![Diagram showing the difference between using transactions and not using transactions.](https://docs.microsoft.com/en-gb/learn/wwl-data-ai/implement-transactions-transact-sql/media/transactions.png)\n",
                "\n",
                "Minden esetben amikor a rendszer valamilyen műveletet végez azt tranzakció formájában teszi. Minden egyedi művelet maga egy tranzakció.\n",
                "\n",
                "Abban az esetben ha több műveletet szeretnénk egyben végrehajtani használhatunk explicit vagy implicit tranzakciókat.\n",
                "\n",
                "**Explicit tranzakció**<span class=\"hljs-keyword\" style=\"color:rgb(1, 1, 253);font-family:SFMono-Regular, Consolas, &quot;Liberation Mono&quot;, Menlo, Courier, monospace;white-space:pre;background-color:rgb(242, 242, 242);\"><br></span>\n",
                "\n",
                "<span class=\"hljs-keyword\" style=\"color:rgb(1, 1, 253);font-family:SFMono-Regular, Consolas, &quot;Liberation Mono&quot;, Menlo, Courier, monospace;white-space:pre;background-color:rgb(242, 242, 242);\">BEGIN</span> <span style=\"color:rgb(23, 23, 23);font-family:SFMono-Regular, Consolas, &quot;Liberation Mono&quot;, Menlo, Courier, monospace;white-space:pre;background-color:rgb(242, 242, 242);\">{ </span> <span class=\"hljs-keyword\" style=\"color:rgb(1, 1, 253);font-family:SFMono-Regular, Consolas, &quot;Liberation Mono&quot;, Menlo, Courier, monospace;white-space:pre;background-color:rgb(242, 242, 242);\">TRAN</span> <span style=\"color:rgb(23, 23, 23);font-family:SFMono-Regular, Consolas, &quot;Liberation Mono&quot;, Menlo, Courier, monospace;white-space:pre;background-color:rgb(242, 242, 242);\">| </span> <span class=\"hljs-keyword\" style=\"color:rgb(1, 1, 253);font-family:SFMono-Regular, Consolas, &quot;Liberation Mono&quot;, Menlo, Courier, monospace;white-space:pre;background-color:rgb(242, 242, 242);\">TRANSACTION</span> <span style=\"color:rgb(23, 23, 23);font-family:SFMono-Regular, Consolas, &quot;Liberation Mono&quot;, Menlo, Courier, monospace;white-space:pre;background-color:rgb(242, 242, 242);\">} </span> <span style=\"color:rgb(23, 23, 23);font-family:SFMono-Regular, Consolas, &quot;Liberation Mono&quot;, Menlo, Courier, monospace;white-space:pre;background-color:rgb(242, 242, 242);\">[</span><span class=\"hljs-variable\" style=\"color:rgb(23, 23, 23);font-family:SFMono-Regular, Consolas, &quot;Liberation Mono&quot;, Menlo, Courier, monospace;white-space:pre;background-color:rgb(242, 242, 242);\">transaction_name</span><span style=\"background-color:rgb(242, 242, 242);color:rgb(23, 23, 23);font-family:SFMono-Regular, Consolas, &quot;Liberation Mono&quot;, Menlo, Courier, monospace;white-space:pre;\">]</span>\n",
                "\n",
                "<span class=\"hljs-keyword\" style=\"color:rgb(1, 1, 253);font-family:SFMono-Regular, Consolas, &quot;Liberation Mono&quot;, Menlo, Courier, monospace;white-space:pre;background-color:rgb(242, 242, 242);\">COMMIT</span> <span style=\"color:rgb(23, 23, 23);font-family:SFMono-Regular, Consolas, &quot;Liberation Mono&quot;, Menlo, Courier, monospace;white-space:pre;background-color:rgb(242, 242, 242);\">[ { </span> <span class=\"hljs-keyword\" style=\"color:rgb(1, 1, 253);font-family:SFMono-Regular, Consolas, &quot;Liberation Mono&quot;, Menlo, Courier, monospace;white-space:pre;background-color:rgb(242, 242, 242);\">TRAN</span> <span style=\"color:rgb(23, 23, 23);font-family:SFMono-Regular, Consolas, &quot;Liberation Mono&quot;, Menlo, Courier, monospace;white-space:pre;background-color:rgb(242, 242, 242);\">| </span> <span class=\"hljs-keyword\" style=\"color:rgb(1, 1, 253);font-family:SFMono-Regular, Consolas, &quot;Liberation Mono&quot;, Menlo, Courier, monospace;white-space:pre;background-color:rgb(242, 242, 242);\">TRANSACTION</span> <span style=\"color:rgb(23, 23, 23);font-family:SFMono-Regular, Consolas, &quot;Liberation Mono&quot;, Menlo, Courier, monospace;white-space:pre;background-color:rgb(242, 242, 242);\">} </span> <span style=\"color:rgb(23, 23, 23);font-family:SFMono-Regular, Consolas, &quot;Liberation Mono&quot;, Menlo, Courier, monospace;white-space:pre;background-color:rgb(242, 242, 242);\">[</span><span class=\"hljs-variable\" style=\"color:rgb(23, 23, 23);font-family:SFMono-Regular, Consolas, &quot;Liberation Mono&quot;, Menlo, Courier, monospace;white-space:pre;background-color:rgb(242, 242, 242);\">transaction_name</span><span style=\"background-color:rgb(242, 242, 242);color:rgb(23, 23, 23);font-family:SFMono-Regular, Consolas, &quot;Liberation Mono&quot;, Menlo, Courier, monospace;white-space:pre;\">]</span><span style=\"color:rgb(23, 23, 23);font-family:SFMono-Regular, Consolas, &quot;Liberation Mono&quot;, Menlo, Courier, monospace;white-space:pre;background-color:rgb(242, 242, 242);\"><br></span>\n",
                "\n",
                "<span class=\"hljs-keyword\" style=\"color:rgb(1, 1, 253);font-family:SFMono-Regular, Consolas, &quot;Liberation Mono&quot;, Menlo, Courier, monospace;white-space:pre;background-color:rgb(242, 242, 242);\">ROLLBACK</span> <span style=\"color:rgb(23, 23, 23);font-family:SFMono-Regular, Consolas, &quot;Liberation Mono&quot;, Menlo, Courier, monospace;white-space:pre;background-color:rgb(242, 242, 242);\">{ </span> <span class=\"hljs-keyword\" style=\"color:rgb(1, 1, 253);font-family:SFMono-Regular, Consolas, &quot;Liberation Mono&quot;, Menlo, Courier, monospace;white-space:pre;background-color:rgb(242, 242, 242);\">TRAN</span> <span style=\"color:rgb(23, 23, 23);font-family:SFMono-Regular, Consolas, &quot;Liberation Mono&quot;, Menlo, Courier, monospace;white-space:pre;background-color:rgb(242, 242, 242);\">| </span> <span class=\"hljs-keyword\" style=\"color:rgb(1, 1, 253);font-family:SFMono-Regular, Consolas, &quot;Liberation Mono&quot;, Menlo, Courier, monospace;white-space:pre;background-color:rgb(242, 242, 242);\">TRANSACTION</span> <span style=\"color:rgb(23, 23, 23);font-family:SFMono-Regular, Consolas, &quot;Liberation Mono&quot;, Menlo, Courier, monospace;white-space:pre;background-color:rgb(242, 242, 242);\">} </span> <span style=\"color:rgb(23, 23, 23);font-family:SFMono-Regular, Consolas, &quot;Liberation Mono&quot;, Menlo, Courier, monospace;white-space:pre;background-color:rgb(242, 242, 242);\">[</span><span class=\"hljs-variable\" style=\"color:rgb(23, 23, 23);font-family:SFMono-Regular, Consolas, &quot;Liberation Mono&quot;, Menlo, Courier, monospace;white-space:pre;background-color:rgb(242, 242, 242);\">transaction_name</span><span style=\"background-color:rgb(242, 242, 242);color:rgb(23, 23, 23);font-family:SFMono-Regular, Consolas, &quot;Liberation Mono&quot;, Menlo, Courier, monospace;white-space:pre;\">]</span>\n",
                "\n",
                "<span style=\"background-color:rgb(242, 242, 242);color:rgb(23, 23, 23);font-family:SFMono-Regular, Consolas, &quot;Liberation Mono&quot;, Menlo, Courier, monospace;white-space:pre;\">Pl.</span>\n",
                "\n",
                "<span style=\"color: #0000ff;\">SET</span> <span style=\"color: #0000ff;\">TRANSACTION</span> <span style=\"color: #0000ff;\">ISOLATION</span> <span style=\"color: #0000ff;\">LEVEL</span> <span style=\"color: #0000ff;\">SERIALIZABLE</span>;\n",
                "\n",
                "<span style=\"color: #0000ff;\">BEGIN</span> <span style=\"color: #0000ff;\">TRY</span>\n",
                "\n",
                "    <span style=\"color: #0000ff;\">PRINT</span> <span style=\"color: #a31515;\">'1. BEGIN TRY'</span>;\n",
                "\n",
                "    <span style=\"color: #0000ff;\">BEGIN</span> <span style=\"color: #0000ff;\">TRANSACTION</span>;\n",
                "\n",
                "    <span style=\"color: #0000ff;\">PRINT</span> <span style=\"color: #a31515;\">'2. BEGIN TRANSACTION'</span>;\n",
                "\n",
                "    <span style=\"color: #0000ff;\">INSERT INTO</span> dbo.Orders  (custid, empid, orderdate, shipvia) <span style=\"color: #0000ff;\">VALUES</span>   (<span style=\"color: #09885a;\">68</span>, <span style=\"color: #09885a;\">9</span>, <span style=\"color: #a31515;\">'2006-07-12'</span>, <span style=\"color: #09885a;\">1</span>);\n",
                "\n",
                "    <span style=\"color: #0000ff;\">IF</span> @@ERROR <span style=\"color: #000000;\">&lt;&gt;</span> <span style=\"color: #09885a;\">0</span>\n",
                "\n",
                "    <span style=\"color: #0000ff;\">BEGIN</span>\n",
                "\n",
                "        <span style=\"color: #0000ff;\">RAISERROR</span>(<span style=\"color: #a31515;\">'Error inserting into Orders'</span>, <span style=\"color: #09885a;\">16</span>, <span style=\"color: #09885a;\">1</span>);\n",
                "\n",
                "    <span style=\"color: #0000ff;\">END</span>\n",
                "\n",
                "    <span style=\"color: #0000ff;\">IF</span> @@TRANCOUNT <span style=\"color: #000000;\">&gt;</span> <span style=\"color: #09885a;\">0</span>\n",
                "\n",
                "    <span style=\"color: #0000ff;\">BEGIN</span>\n",
                "\n",
                "        <span style=\"color: #0000ff;\">PRINT</span> <span style=\"color: #a31515;\">'3. COMMIT TRANSACTION'</span>;\n",
                "\n",
                "        <span style=\"color: #0000ff;\">COMMIT</span> <span style=\"color: #0000ff;\">TRANSACTION</span>;\n",
                "\n",
                "    <span style=\"color: #0000ff;\">END</span>\n",
                "\n",
                "<span style=\"color: #0000ff;\">END</span> <span style=\"color: #0000ff;\">TRY</span>\n",
                "\n",
                "<span style=\"color: #0000ff;\">BEGIN</span> <span style=\"color: #0000ff;\">CATCH</span>\n",
                "\n",
                "    <span style=\"color: #0000ff;\">SELECT</span>\n",
                "\n",
                "        <span style=\"color: #795e26;\">ERROR_NUMBER</span>()  <span style=\"color: #0000ff;\">AS</span> ErrNum,\n",
                "\n",
                "        <span style=\"color: #795e26;\">ERROR_MESSAGE</span>()  <span style=\"color: #0000ff;\">AS</span> ErrMsg;\n",
                "\n",
                "    <span style=\"color: #0000ff;\">IF</span> @@TRANCOUNT <span style=\"color: #000000;\">&gt;</span> <span style=\"color: #09885a;\">0</span>\n",
                "\n",
                "    <span style=\"color: #0000ff;\">BEGIN</span>\n",
                "\n",
                "        <span style=\"color: #0000ff;\">PRINT</span> <span style=\"color: #a31515;\">'4. ROLLBACK TRANSACTION'</span>;\n",
                "\n",
                "        <span style=\"color: #0000ff;\">ROLLBACK</span> <span style=\"color: #0000ff;\">TRANSACTION</span>;\n",
                "\n",
                "    <span style=\"color: #0000ff;\">END</span>\n",
                "\n",
                "<span style=\"color: #0000ff;\">END</span> <span style=\"color: #0000ff;\">CATCH</span>;\n",
                "\n",
                "[Pelda file](.\\example.sql)\n",
                "\n",
                "\n",
                "**Implicit tranzakció**<span style=\"background-color:rgb(242, 242, 242);color:rgb(23, 23, 23);font-family:SFMono-Regular, Consolas, &quot;Liberation Mono&quot;, Menlo, Courier, monospace;white-space:pre;\"><br></span>\n",
                "\n",
                "Abban az esetben ha Implicit trantzakciókat szeretnénk használni, <span style=\"background-color:rgb(255, 255, 255);color:rgb(51, 51, 51);font-family:&quot;Segoe UI&quot;, SegoeUI, &quot;Helvetica Neue&quot;, Helvetica, Arial, sans-serif;\">SET IMPLICIT_TRANSACTIONS ON parancsal segitségével tehetjük meg. Ebben az esetben nem BEGIN TRANSACTION-el kezdődik egy tranzakció, hanem amint egy tranzakció befejeződik, egy uj tranzakció kezdődik. Egy implicit tranzakció ugyanúgy commit vagy rollback paranccsal véglegesithető.</span>\n",
                "\n",
                "### <span style=\"background-color:rgb(255, 255, 255);color:rgb(51, 51, 51);font-family:&quot;Segoe UI&quot;, SegoeUI, &quot;Helvetica Neue&quot;, Helvetica, Arial, sans-serif;\">Feladat:</span>\n",
                "\n",
                "<span style=\"background-color:rgb(255, 255, 255);\">- Irjunk tárolt eljárást mely beszúr a SalesLT.SalesOrderDetail táblába és frissiti a Beszerzes tabla Osszeg mezőjét egy tranzakción belül.</span>"
            ],
            "metadata": {
                "azdata_cell_guid": "81ebbc86-4697-4410-a5e4-271ba1af397e"
            },
            "attachments": {}
        },
        {
            "cell_type": "code",
            "source": [
                "CREATE OR ALTER PROCEDURE [SalesLT].spBeszurUjTermekEsFrissit\r\n",
                "    @rendelesID int,\r\n",
                "    @termekID int,\r\n",
                "    @mennyiseg int\r\n",
                "    \r\n",
                "AS\r\n",
                "BEGIN\r\n",
                "    SET NOCOUNT ON;\r\n",
                "    IF NOT EXISTS (SELECT * FROM [SalesLT].[SalesOrderHeader] \r\n",
                "    WHERE SalesOrderID = @rendelesID)\r\n",
                "    BEGIN\r\n",
                "        RAISERROR('Nincs ilyen rendeles!', 16, 1)\r\n",
                "        RETURN\r\n",
                "    END\r\n",
                "    IF NOT EXISTS (SELECT * FROM [SalesLT].[Product] \r\n",
                "    WHERE ProductID = @termekID)\r\n",
                "    BEGIN\r\n",
                "        RAISERROR('Nincs ilyen termek!', 16, 1)\r\n",
                "        RETURN\r\n",
                "    END\r\n",
                "    IF @mennyiseg <= 0\r\n",
                "    BEGIN\r\n",
                "        RAISERROR('A mennyiseg nem lehet negativ!', 16, 1)\r\n",
                "        RETURN\r\n",
                "    END\r\n",
                "    SET TRANSACTION ISOLATION LEVEL SERIALIZABLE;\r\n",
                "    BEGIN TRY\r\n",
                "        BEGIN TRANSACTION;\r\n",
                "\r\n",
                "        IF NOT EXISTS (SELECT * FROM [SalesLT].[Beszerzes] \r\n",
                "        WHERE BeszerzesID = @rendelesID)\r\n",
                "        BEGIN\r\n",
                "           INSERT INTO SalesLT.Beszerzes (BeszerzesID, Osszeg) \r\n",
                "           VALUES (@rendelesID, 0);\r\n",
                "           IF @@ERROR <> 0\r\n",
                "              BEGIN \r\n",
                "                RAISERROR ('Hiba tortent a beszerzes beszurasa soran!', 16, 1);\r\n",
                "              END\r\n",
                "        END       \r\n",
                "\r\n",
                "        DECLARE @egysAr money = (SELECT ListPrice FROM [SalesLT].[Product] \r\n",
                "        WHERE ProductID = @termekID);\r\n",
                "        INSERT INTO SalesLT.SalesOrderDetail \r\n",
                "            (SalesOrderID,OrderQty, ProductID, UnitPrice, UnitPriceDiscount, ModifiedDate)\r\n",
                "        VALUES (@rendelesID, @mennyiseg, @termekID, @egysAr, 0, GETDATE());\r\n",
                "        if @@ERROR <> 0\r\n",
                "        BEGIN \r\n",
                "            RAISERROR ('Hiba tortent a rendeles sor beszurasa soran!', 16, 1);\r\n",
                "        END\r\n",
                "        DECLARE @beszerzesID int = @@IDENTITY;\r\n",
                "        UPDATE SalesLT.Beszerzes \r\n",
                "        SET Osszeg = Osszeg + \r\n",
                "            (SELECT LineTotal FROM SalesLT.SalesOrderDetail \r\n",
                "            WHERE SalesOrderDetailID = @beszerzesID) \r\n",
                "        WHERE BeszerzesID = @rendelesID\r\n",
                "        if @@ERROR <> 0\r\n",
                "        BEGIN \r\n",
                "            RAISERROR ('Hiba tortent az osszeg frissitese soran!', 16, 1);\r\n",
                "        END\r\n",
                "        COMMIT TRANSACTION;\r\n",
                "    END TRY\r\n",
                "    BEGIN CATCH\r\n",
                "        SELECT\r\n",
                "            ERROR_NUMBER()  AS ErrNum,\r\n",
                "            ERROR_MESSAGE()  AS ErrMsg,\r\n",
                "            ERROR_STATE() AS ErrState,\r\n",
                "            ERROR_SEVERITY() AS ErrSeverity,\r\n",
                "            ERROR_LINE() AS ErrLine,\r\n",
                "            ERROR_PROCEDURE() AS ErrProcedure;\r\n",
                "        ROLLBACK TRANSACTION;\r\n",
                "    END CATCH;\r\n",
                "    \r\n",
                "END"
            ],
            "metadata": {
                "azdata_cell_guid": "ec5af988-993e-4651-9885-c11c622df6d4",
                "language": "sql"
            },
            "outputs": [
                {
                    "output_type": "display_data",
                    "data": {
                        "text/html": "Commands completed successfully."
                    },
                    "metadata": {}
                },
                {
                    "output_type": "display_data",
                    "data": {
                        "text/html": "Total execution time: 00:00:00.005"
                    },
                    "metadata": {}
                }
            ],
            "execution_count": 7
        },
        {
            "cell_type": "code",
            "source": [
                "DECLARE \r\n",
                "    @rendelesID int = (SELECT MAX(SalesOrderID) FROM SalesLT.SalesOrderHeader),\r\n",
                "    @termekID int = (SELECT ProductID FROM SalesLT.Product WHERE Name = 'HL Headset'),\r\n",
                "    @mennyiseg int = 5\r\n",
                "    select @rendelesID, @termekID\r\n",
                "EXECUTE SalesLT.spBeszurUjTermekEsFrissit @rendelesID, @termekID, @mennyiseg\r\n",
                ""
            ],
            "metadata": {
                "azdata_cell_guid": "4b588ff0-eeea-4ed9-80df-787d45349490",
                "language": "sql"
            },
            "outputs": [
                {
                    "output_type": "display_data",
                    "data": {
                        "text/html": "(1 row affected)"
                    },
                    "metadata": {}
                },
                {
                    "output_type": "display_data",
                    "data": {
                        "text/html": "Total execution time: 00:00:00.018"
                    },
                    "metadata": {}
                },
                {
                    "output_type": "execute_result",
                    "metadata": {},
                    "execution_count": 8,
                    "data": {
                        "application/vnd.dataresource+json": {
                            "schema": {
                                "fields": [
                                    {
                                        "name": "(No column name)"
                                    },
                                    {
                                        "name": "(No column name)"
                                    }
                                ]
                            },
                            "data": [
                                {
                                    "(No column name)": "807"
                                }
                            ]
                        },
                        "text/html": [
                            "<table>",
                            "<tr><th>(No column name)</th><th>(No column name)</th></tr>",
                            "<tr><td>71946</td><td>807</td></tr>",
                            "</table>"
                        ]
                    }
                }
            ],
            "execution_count": 8
        },
        {
            "cell_type": "code",
            "source": [
                "SELECT * FROM SalesLT.SalesOrderDetail WHERE SalesOrderID = 71946;\r\n",
                "SELECT * FROM SalesLT.Beszerzes WHERE BeszerzesID = 71946;"
            ],
            "metadata": {
                "azdata_cell_guid": "451d4875-4774-4ceb-b905-5d025af90408",
                "language": "sql"
            },
            "outputs": [
                {
                    "output_type": "display_data",
                    "data": {
                        "text/html": "(4 rows affected)"
                    },
                    "metadata": {}
                },
                {
                    "output_type": "display_data",
                    "data": {
                        "text/html": "(1 row affected)"
                    },
                    "metadata": {}
                },
                {
                    "output_type": "display_data",
                    "data": {
                        "text/html": "Total execution time: 00:00:00.014"
                    },
                    "metadata": {}
                },
                {
                    "output_type": "execute_result",
                    "metadata": {},
                    "execution_count": 9,
                    "data": {
                        "application/vnd.dataresource+json": {
                            "schema": {
                                "fields": [
                                    {
                                        "name": "SalesOrderID"
                                    },
                                    {
                                        "name": "SalesOrderDetailID"
                                    },
                                    {
                                        "name": "OrderQty"
                                    },
                                    {
                                        "name": "ProductID"
                                    },
                                    {
                                        "name": "UnitPrice"
                                    },
                                    {
                                        "name": "UnitPriceDiscount"
                                    },
                                    {
                                        "name": "LineTotal"
                                    },
                                    {
                                        "name": "rowguid"
                                    },
                                    {
                                        "name": "ModifiedDate"
                                    }
                                ]
                            },
                            "data": [
                                {
                                    "SalesOrderID": "71946",
                                    "SalesOrderDetailID": "113406",
                                    "OrderQty": "1",
                                    "ProductID": "916",
                                    "UnitPrice": "31.584",
                                    "UnitPriceDiscount": "0.00",
                                    "LineTotal": "31.584000",
                                    "rowguid": "b571cee0-a90a-4e76-9796-379b55352a28",
                                    "ModifiedDate": "2008-06-01 00:00:00.000"
                                },
                                {
                                    "SalesOrderID": "71946",
                                    "SalesOrderDetailID": "114425",
                                    "OrderQty": "5",
                                    "ProductID": "807",
                                    "UnitPrice": "124.73",
                                    "UnitPriceDiscount": "0.00",
                                    "LineTotal": "623.650000",
                                    "rowguid": "1fc6b2ce-8cc4-433e-9f89-2de403d7e4e4",
                                    "ModifiedDate": "2023-12-15 17:02:31.197"
                                },
                                {
                                    "SalesOrderID": "71946",
                                    "SalesOrderDetailID": "114426",
                                    "OrderQty": "5",
                                    "ProductID": "807",
                                    "UnitPrice": "124.73",
                                    "UnitPriceDiscount": "0.00",
                                    "LineTotal": "623.650000",
                                    "rowguid": "7732a87c-a7b5-4386-8406-b6cd8b55fb25",
                                    "ModifiedDate": "2023-12-15 17:04:01.300"
                                },
                                {
                                    "SalesOrderID": "71946",
                                    "SalesOrderDetailID": "114427",
                                    "OrderQty": "5",
                                    "ProductID": "807",
                                    "UnitPrice": "124.73",
                                    "UnitPriceDiscount": "0.00",
                                    "LineTotal": "623.650000",
                                    "rowguid": "ce34e1cf-6ebb-4c02-90be-da4afa9fdf79",
                                    "ModifiedDate": "2023-12-15 17:09:58.367"
                                }
                            ]
                        },
                        "text/html": [
                            "<table>",
                            "<tr><th>SalesOrderID</th><th>SalesOrderDetailID</th><th>OrderQty</th><th>ProductID</th><th>UnitPrice</th><th>UnitPriceDiscount</th><th>LineTotal</th><th>rowguid</th><th>ModifiedDate</th></tr>",
                            "<tr><td>71946</td><td>113406</td><td>1</td><td>916</td><td>31.584</td><td>0.00</td><td>31.584000</td><td>b571cee0-a90a-4e76-9796-379b55352a28</td><td>2008-06-01 00:00:00.000</td></tr>",
                            "<tr><td>71946</td><td>114425</td><td>5</td><td>807</td><td>124.73</td><td>0.00</td><td>623.650000</td><td>1fc6b2ce-8cc4-433e-9f89-2de403d7e4e4</td><td>2023-12-15 17:02:31.197</td></tr>",
                            "<tr><td>71946</td><td>114426</td><td>5</td><td>807</td><td>124.73</td><td>0.00</td><td>623.650000</td><td>7732a87c-a7b5-4386-8406-b6cd8b55fb25</td><td>2023-12-15 17:04:01.300</td></tr>",
                            "<tr><td>71946</td><td>114427</td><td>5</td><td>807</td><td>124.73</td><td>0.00</td><td>623.650000</td><td>ce34e1cf-6ebb-4c02-90be-da4afa9fdf79</td><td>2023-12-15 17:09:58.367</td></tr>",
                            "</table>"
                        ]
                    }
                },
                {
                    "output_type": "execute_result",
                    "metadata": {},
                    "execution_count": 9,
                    "data": {
                        "application/vnd.dataresource+json": {
                            "schema": {
                                "fields": [
                                    {
                                        "name": "BeszerzesID"
                                    },
                                    {
                                        "name": "Osszeg"
                                    }
                                ]
                            },
                            "data": [
                                {
                                    "BeszerzesID": "71946",
                                    "Osszeg": "1247.30"
                                }
                            ]
                        },
                        "text/html": [
                            "<table>",
                            "<tr><th>BeszerzesID</th><th>Osszeg</th></tr>",
                            "<tr><td>71946</td><td>1247.30</td></tr>",
                            "</table>"
                        ]
                    }
                }
            ],
            "execution_count": 9
        }
    ]
}