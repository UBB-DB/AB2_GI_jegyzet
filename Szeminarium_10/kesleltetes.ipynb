{
    "metadata": {
        "kernelspec": {
            "name": "SQL",
            "display_name": "SQL",
            "language": "sql"
        },
        "language_info": {
            "name": "sql",
            "version": ""
        }
    },
    "nbformat_minor": 2,
    "nbformat": 4,
    "cells": [
        {
            "cell_type": "markdown",
            "source": [
                "### Késleltetés  \n",
                "\n",
                "Egy tranzakció, lekérdezés sorozat vagy tárol eljárás végrehajtása késleltethető vagy blokkolható a WAITFOR kifejezéssel.\n",
                "Ennek segitségével a tranzakciók műveleteinek sorrendjét, időzítését tudjuk befolyásolni.\n",
                "\n",
                "3 féle lehet:\n",
                "\n",
                "- Késleltetés időtartammal – WAITFOR DELAY\n",
                "- Késleltetés egy időpontig – WAITFOR TIME\n",
                "- Blokkolás üzenet érkezésig – WAITFOR RECEIVE (Csak “message broker” esetén releváns)\n",
                "\n",
                "Nem teljesen pontos, esetleges magas terhélés esetén több idő is eltelhet. Esetünkben a tranzakciok késleltetésére használjuk\n",
                "\n",
                "```\n",
                "WAITFOR DELAY hh:mm[[:ss].mss]  \n",
                "    => maximum 24 órát késleltethetünk \n",
                "Pl. WAITFOR DELAY  '00:00:05’ – késleltetés 5 másodpercig\n",
                "\n",
                "WAITFOR TIME [yyyy-MM-dd] hh:mm[[:ss].mss]  \n",
                "Pl. WAITFOR TIME  ‘21:00’ – késleltetés este 9-ig\n",
                "\n",
                "```"
            ],
            "metadata": {
                "azdata_cell_guid": "38bd8bfe-bc38-4574-ad1a-ab9dbafc234d"
            },
            "attachments": {}
        }
    ]
}