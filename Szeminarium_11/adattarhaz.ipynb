{
    "metadata": {
        "kernelspec": {
            "name": "SQL",
            "display_name": "SQL",
            "language": "sql"
        },
        "language_info": {
            "name": "sql",
            "version": ""
        }
    },
    "nbformat_minor": 2,
    "nbformat": 4,
    "cells": [
        {
            "cell_type": "markdown",
            "source": [
                "### Feladat\n",
                "\n",
                "Adott a HR informaciokat tartalmazo \"staging\" area.\n",
                "Keszitsunk egy csillagsemat majd toltsuk fel a staging area-bol a csillag semaba a kovetkezo adatokat:\n",
                "- Alkalmazottak(DIM_Employees: EmployeeID, Name, Email) \n",
                "- Poziciok(DIM_Jobs: JobID, Title)\n",
                "- Reszlegek(DIM_Departments: DepartmentID, Name)\n",
                "- Datumok(DIM_Dates: DateID, Date, Year, Month)\n",
                "- Irodak (DIM_Offices: OfficeID, Name, Address)\n",
                "- Alkalmazottak kifizetett fizetesei (FACT_Salary: EmployeeID, DepartmentID, JobID , DateID, Salary)\n",
                "\n",
                "A staging area-ban a kovetkezo adatok vannak:    \n",
                "```\n",
                "create table proj_stg (Emp_ID varchar(8),\n",
                "                       Emp_NM varchar(50),\n",
                "\t\t\t\t\t   Email  varchar(100),\n",
                "\t\t\t\t\t   hire_dt date,\n",
                "\t\t\t\t\t   job_title varchar(100),\n",
                "\t\t\t\t\t   salary int,\n",
                "\t\t\t\t\t   department_nm varchar(50),\n",
                "\t\t\t\t\t   manager varchar(50),\n",
                "\t\t\t\t\t   start_dt date,\n",
                "\t\t\t\t\t   end_dt date,\n",
                "\t\t\t\t\t   location varchar(50),\n",
                "\t\t\t\t\t   address varchar(100),\n",
                "\t\t\t\t\t   city varchar(50),\n",
                "\t\t\t\t\t   state varchar(2),\n",
                "\t\t\t\t\t   education_lvl varchar(50));\n",
                "```\n",
                "\n",
                "Valaszoljunk a kovetkezo kerdesekre:\n",
                "- Mennyi a reszlegenkent atlagos fizetes, ebben a honapban?\n",
                "\n",
                "\n",
                "\n",
                ""
            ],
            "metadata": {
                "azdata_cell_guid": "fefbb4d8-8e46-4763-b54d-18cd27ad1a42"
            },
            "attachments": {}
        },
        {
            "cell_type": "code",
            "source": [
                ""
            ],
            "metadata": {
                "azdata_cell_guid": "fbc68277-1390-4e80-a5e0-3f6c2f9b5219",
                "language": "sql"
            },
            "outputs": [],
            "execution_count": null
        },
        {
            "cell_type": "code",
            "source": [
                "SELECT department_nm as Department, COUNT( DISTINCT Emp_ID) AS 'Number of Employees' FROM  proj_stg \r\n",
                "GROUP BY department_nm\r\n",
                ""
            ],
            "metadata": {
                "azdata_cell_guid": "a98983ae-85f0-4b14-986a-3c5b450b3473",
                "language": "sql"
            },
            "outputs": [
                {
                    "output_type": "display_data",
                    "data": {
                        "text/html": "(5 rows affected)"
                    },
                    "metadata": {}
                },
                {
                    "output_type": "display_data",
                    "data": {
                        "text/html": "Total execution time: 00:00:00.195"
                    },
                    "metadata": {}
                },
                {
                    "output_type": "execute_result",
                    "metadata": {
                        "azdata_chartOptions": {
                            "type": "bar",
                            "dataDirection": "vertical",
                            "columnsAsLabels": true,
                            "labelFirstColumn": false,
                            "legendPosition": "top"
                        }
                    },
                    "execution_count": 3,
                    "data": {
                        "application/vnd.dataresource+json": {
                            "schema": {
                                "fields": [
                                    {
                                        "name": "Department"
                                    },
                                    {
                                        "name": "Number of Employees"
                                    }
                                ]
                            },
                            "data": [
                                {
                                    "Department": "Distribution",
                                    "Number of Employees": "27"
                                },
                                {
                                    "Department": "HQ",
                                    "Number of Employees": "13"
                                },
                                {
                                    "Department": "IT",
                                    "Number of Employees": "52"
                                },
                                {
                                    "Department": "Product Development",
                                    "Number of Employees": "70"
                                },
                                {
                                    "Department": "Sales",
                                    "Number of Employees": "41"
                                }
                            ]
                        },
                        "text/html": [
                            "<table>",
                            "<tr><th>Department</th><th>Number of Employees</th></tr>",
                            "<tr><td>Distribution</td><td>27</td></tr>",
                            "<tr><td>HQ</td><td>13</td></tr>",
                            "<tr><td>IT</td><td>52</td></tr>",
                            "<tr><td>Product Development</td><td>70</td></tr>",
                            "<tr><td>Sales</td><td>41</td></tr>",
                            "</table>"
                        ]
                    }
                }
            ],
            "execution_count": 3
        }
    ]
}