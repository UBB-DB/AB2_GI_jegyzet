{
    "metadata": {
        "kernelspec": {
            "name": "SQL",
            "display_name": "SQL",
            "language": "sql"
        },
        "language_info": {
            "name": "sql",
            "version": ""
        }
    },
    "nbformat_minor": 2,
    "nbformat": 4,
    "cells": [
        {
            "cell_type": "markdown",
            "source": [
                "# Vizsga osszefoglalo\r\n",
                "\r\n",
                "\r\n",
                "A gyakorlati vizsgara a kovetkezo dolgokat kell tudni:\r\n",
                "- Tarolt eljarasok (Stored Procedures): \r\n",
                "    - letrehozas\r\n",
                "    - meghivasa\r\n",
                "    - parameterek\r\n",
                "    - eredmenyek \r\n",
                "- Tranzakciok\r\n",
                "    - letrehozas (begin transaction)\r\n",
                "    - commit \r\n",
                "    - rollback\r\n",
                "- Hibakezeles\r\n",
                "    - try-catch\r\n",
                "    - throw : \r\n",
                "    - raiserror\r\n",
                "    - @@ERROR - valtozo\r\n",
                "    - hibak lekerdezese es megjelenitese (ERROR_MESSAGE(), ERROR_NUMBER(), ERROR_SEVERITY(), ERROR_STATE(), ERROR_LINE(), ERROR_PROCEDURE())\r\n",
                "- Kurzorok\r\n",
                "    - deklaralasa \r\n",
                "    - nyitasa\r\n",
                "    - lekerdezese (bejarasa) \r\n",
                "    - zarasa\r\n",
                ""
            ],
            "metadata": {
                "azdata_cell_guid": "1ab5032c-4150-4679-87b6-221c421c3561"
            },
            "attachments": {}
        },
        {
            "cell_type": "markdown",
            "source": [
                "## Feladat\r\n",
                "\r\n",
                "Toltsuk le a [Mozi scriptet](./Szeminarium_12/Mozi.sql) a Szeminarium_12 konyvtarbol.\r\n",
                "\r\n",
                "\r\n",
                "\r\n",
                "Irjunk tarolt eljarast amely vetiteseket vezet be a Vetites tablaba. A tarolt eljaras parameterei a kovetkezok legyenek:   \r\n",
                " - Idopont: DATETIME tipusu, a vetites idopontja\r\n",
                " - VetitesekSzama: INT tipusu kimeneti parameter, a felvezetett vetitesek szama\r\n",
                "\r\n",
                "A tarolt eljaras a kovetkezo feladatokat vegzi el:\r\n",
                "- Ellenorzi, hogy a VetitesNapja parameterben megadott idopont a jelenlegi idopont utan van-e. Ha nem, akkor a VetitesekSzama parameterben adjon vissza 0-t es -1-et teritsen vissza a tarolt eljaras.\r\n",
                "- Veszi a Filmek tablabol azokat a filmeket, amelyek Aktivak es ellenorzi, hogy van-e mar vetitesuk a Vetites tablaban a VetitesNapja parameterben megadott idoponton. Ha igen akkor nem kell felvezetni a filmet, ha nem akkor fel kell vezetni a filmet a Vetites tablaba.  \r\n",
                "- A vetites terme: a film hossza alapjan a kovetkezo szabaly alapjan kerul kiszamitasra, viszont csak akkor ha a teremben meg nincs masik vetites abban az idopontban, parameterben megadott idoponton. Ha van akkor a kovetkezo terembe kerul a vetites:\r\n",
                "    - 60 perc alatt 1-es terem\r\n",
                "    - 60-120 perc kozott 2-es terem\r\n",
                "    - 120-180 perc kozott 3-as terem\r\n",
                "    - 180-240 perc kozott 4-es terem\r\n",
                "    - 240 perc felett 5-os terem\r\n",
                "- A vetites ara, a film legutobbi vetitesenek az ara ha mar volt vetitve kulonben a film csillagai alapjan a kovetkezo szabaly alapjan kerul kiszamitasra:\r\n",
                "    - 1 csillag: 10 lej\r\n",
                "    - 2 csillag: 15 lej\r\n",
                "    - 3 csillag: 20 lej\r\n",
                "    - 4 csillag: 25 lej\r\n",
                "    - 5 csillag: 50 lej\r\n",
                "\r\n",
                "- A VetitesekSzama parameterben adja vissza, hogy hany vetitest vezetett be a tarolt eljaras, sikeretelen futas eseten -1-et adjon vissza\r\n",
                "\r\n",
                "A tarolt eljaras neve: dbo.VetitesFelvezetese\r\n",
                "\r\n",
                "A teljes pontszam erdekeben hasznaljunk kurzorokat.\r\n",
                "\r\n",
                "\r\n",
                "## A feladat megoldas lepesei\r\n",
                "- [ ]  A tarolt eljaras letrehozasa megfelelo parameterekkel\r\n",
                "- [ ]  Deklaraljuk esetleges parameterek ertekeit valamint tranzakciot inditunk\r\n",
                "- [ ]  A tarolt eljaras ellenorzi, hogy a VetitesNapja parametert\r\n",
                "- [ ]  A tarolt eljaras veszi a filmeket, amelyek Aktivak es bejarja oket kurzorral\r\n",
                "- [ ]  A tarolt eljaras ellenorzi, hogy van-e mar vetitesuk a Vetites tablaban a VetitesNapja parameterben megadott idoponton\r\n",
                "- [ ]  A tarolt eljaras kiszamitja a vetites termer es arat\r\n",
                "- [ ]  A tarolt eljaras felvezeti a vetitest a Vetites tablaba \r\n",
                "- [ ]  Ellenorzi a beszuras sikeressseget az @@ERROR valtozo ertekevel - hiba eseten visszavonja a tranzakciot (Hasznalhatjuk a RAISERROR vagy TRY/CATCH-THROW parancsot is ) siker eseten noveli a VetitesekSzama parametert\r\n",
                "- [ ] Sikeres futas eseten COMMIT parancsot hasznalunk \r\n",
                "\r\n",
                "\r\n",
                "\r\n",
                "\r\n",
                "\r\n",
                "\r\n",
                ""
            ],
            "metadata": {
                "azdata_cell_guid": "8ff12261-318e-4066-ad0c-5c11e90566ed"
            },
            "attachments": {}
        },
        {
            "cell_type": "code",
            "source": [
                "CREATE OR ALTER PROCEDURE spVETITESFELVEZETESE\r\n",
                "@DATUM DATETIME,\r\n",
                "@VETITESEKSZAMA INT OUTPUT\r\n",
                "\r\n",
                "AS\r\n",
                "BEGIN\r\n",
                "    SET NOCOUNT ON;\r\n",
                "    SET TRANSACTION ISOLATION LEVEL SERIALIZABLE\r\n",
                "    BEGIN TRAN\r\n",
                "        BEGIN TRY\r\n",
                "            SELECT @VETITESEKSZAMA = 0\r\n",
                "            IF @DATUM < GETDATE()\r\n",
                "                BEGIN\r\n",
                "                    RAISERROR('A vetites nem lehet korabbi, mint a mai nap!', 16, 1)\r\n",
                "                    RETURN -1\r\n",
                "                END\r\n",
                "            \r\n",
                "                DECLARE @fIlmID INT,@AR INT,@TEREM INT\r\n",
                "                                            \r\n",
                " \r\n",
                "                SELECT @AR = 1, @TEREM = @VETITESEKSZAMA + 1 -- TODO: TEREM ID \r\n",
                "                DECLARE fIlmIDCursor CURSOR FOR\r\n",
                "                SELECT FilmID FROM Filmek WHERE AKTIV = 1\r\n",
                "                OPEN fIlmIDCursor\r\n",
                "                FETCH NEXT FROM fIlmIDCursor INTO @fIlmID\r\n",
                "                WHILE @@FETCH_STATUS = 0\r\n",
                "                    BEGIN\r\n",
                "                        -- SELECT FILMCIM FROM FILMEK WHERE FilmID = @fIlmID\r\n",
                "                        IF NOT EXISTS (SELECT * FROM Vetites WHERE FilmID = @fIlmID AND VetitesIdopontja = @DATUM)\r\n",
                "                            BEGIN  \r\n",
                "                                SELECT @AR = CASE\r\n",
                "                                                    WHEN Csillag = 5 THEN 50\r\n",
                "                                                    WHEN Csillag = 4 THEN 40\r\n",
                "                                                    WHEN Csillag = 3 THEN 30\r\n",
                "                                                    WHEN Csillag = 2 THEN 20\r\n",
                "                                                    ELSE 10\r\n",
                "                                                    END,\r\n",
                "                                                \r\n",
                "                                        @TEREM = CASE \r\n",
                "                                        WHEN hossz < 60 THEN 1\r\n",
                "                                        WHEN hossz < 90 THEN 2\r\n",
                "                                        WHEN hossz < 120 THEN 3\r\n",
                "                                        WHEN hossz < 150 THEN 4\r\n",
                "                                        WHEN hossz < 180 THEN 5\r\n",
                "                                        ELSE 6\r\n",
                "                                        END\r\n",
                "                                    FROM Filmek WHERE FilmID = @fIlmID\r\n",
                "                                    INSERT INTO Vetites(FilmID, \r\n",
                "                                VetitesIdopontja, \r\n",
                "                                Terem, \r\n",
                "                                Ar) \r\n",
                "                                VALUES (@fIlmID,\r\n",
                "                                 @DATUM,\r\n",
                "                                @TEREM,\r\n",
                "                                @AR)\r\n",
                "                                IF @@ERROR <> 0\r\n",
                "                                    BEGIN\r\n",
                "                                        RAISERROR('Hiba tortent a vetites felvetele soran!', 16, 1)\r\n",
                "                                        RETURN -1\r\n",
                "                                    END\r\n",
                "                                SET @VETITESEKSZAMA = @VETITESEKSZAMA + 1\r\n",
                "\r\n",
                "                                \r\n",
                "                            END\r\n",
                "                        FETCH NEXT FROM fIlmIDCursor INTO @fIlmID\r\n",
                "                    END\r\n",
                "                CLOSE fIlmIDCursor\r\n",
                "                DEALLOCATE fIlmIDCursor\r\n",
                "\r\n",
                "           \r\n",
                "                COMMIT \r\n",
                "        END TRY\r\n",
                "        BEGIN CATCH\r\n",
                "        SELECT ERROR_MESSAGE() AS ErrorMessage,\r\n",
                "         ERROR_NUMBER() AS ErrorNumber,\r\n",
                "         ERROR_SEVERITY() AS ErrorSeverity,\r\n",
                "         ERROR_STATE() AS ErrorState\r\n",
                "\r\n",
                "            ROLLBACK\r\n",
                "        END CATCH\r\n",
                "END"
            ],
            "metadata": {
                "azdata_cell_guid": "bdebb18a-a155-4e8e-8146-7c7719762cad",
                "language": "sql"
            },
            "outputs": [
                {
                    "output_type": "display_data",
                    "data": {
                        "text/html": "Commands completed successfully."
                    },
                    "metadata": {}
                },
                {
                    "output_type": "display_data",
                    "data": {
                        "text/html": "Total execution time: 00:00:00.003"
                    },
                    "metadata": {}
                }
            ],
            "execution_count": 24
        },
        {
            "cell_type": "code",
            "source": [
                "DECLARE @AR int = 0,@TEREM INT = 0\r\n",
                "\r\n",
                "SELECT @AR = CASE\r\n",
                "                                                    WHEN Csillag = 5 THEN 50\r\n",
                "                                                    WHEN Csillag = 4 THEN 40\r\n",
                "                                                    WHEN Csillag = 3 THEN 30\r\n",
                "                                                    WHEN Csillag = 2 THEN 20\r\n",
                "                                                    ELSE 10\r\n",
                "                                                    END,\r\n",
                "                                                    @TEREM = CASE\r\n",
                "                                                    WHEN Hossz > 60 THEN 1\r\n",
                "                                                    ELSE 2\r\n",
                "                                                    END\r\n",
                "                                    FROM Filmek WHERE FilmID = 1\r\n",
                "SELECT @AR,@TEREM"
            ],
            "metadata": {
                "azdata_cell_guid": "249cd369-2e15-42f8-b6f4-3bda067b84cb",
                "language": "sql"
            },
            "outputs": [
                {
                    "output_type": "display_data",
                    "data": {
                        "text/html": "(1 row affected)"
                    },
                    "metadata": {}
                },
                {
                    "output_type": "display_data",
                    "data": {
                        "text/html": "Total execution time: 00:00:00.008"
                    },
                    "metadata": {}
                },
                {
                    "output_type": "execute_result",
                    "metadata": {},
                    "execution_count": 19,
                    "data": {
                        "application/vnd.dataresource+json": {
                            "schema": {
                                "fields": [
                                    {
                                        "name": "(No column name)"
                                    },
                                    {
                                        "name": "(No column name)"
                                    }
                                ]
                            },
                            "data": [
                                {
                                    "(No column name)": "1"
                                }
                            ]
                        },
                        "text/html": [
                            "<table>",
                            "<tr><th>(No column name)</th><th>(No column name)</th></tr>",
                            "<tr><td>50</td><td>1</td></tr>",
                            "</table>"
                        ]
                    }
                }
            ],
            "execution_count": 19
        },
        {
            "cell_type": "code",
            "source": [
                "SELECT * FROM Filmek WHERE Aktiv = 1"
            ],
            "metadata": {
                "azdata_cell_guid": "d1119002-2291-4e51-b1ce-2a0b49915e66",
                "language": "sql"
            },
            "outputs": [
                {
                    "output_type": "display_data",
                    "data": {
                        "text/html": "(3 rows affected)"
                    },
                    "metadata": {}
                },
                {
                    "output_type": "display_data",
                    "data": {
                        "text/html": "Total execution time: 00:00:00.011"
                    },
                    "metadata": {}
                },
                {
                    "output_type": "execute_result",
                    "metadata": {},
                    "execution_count": 11,
                    "data": {
                        "application/vnd.dataresource+json": {
                            "schema": {
                                "fields": [
                                    {
                                        "name": "FilmID"
                                    },
                                    {
                                        "name": "FilmCim"
                                    },
                                    {
                                        "name": "StudioID"
                                    },
                                    {
                                        "name": "MufajID"
                                    },
                                    {
                                        "name": "Csillag"
                                    },
                                    {
                                        "name": "MegjEv"
                                    },
                                    {
                                        "name": "Hossz"
                                    },
                                    {
                                        "name": "Aktiv"
                                    }
                                ]
                            },
                            "data": [
                                {
                                    "FilmID": "1",
                                    "FilmCim": "Les Miserables",
                                    "StudioID": "1",
                                    "MufajID": "2",
                                    "Csillag": "5",
                                    "MegjEv": "2012",
                                    "Hossz": "158",
                                    "Aktiv": "1"
                                },
                                {
                                    "FilmID": "6",
                                    "FilmCim": "Ticket to paradise",
                                    "StudioID": "5",
                                    "MufajID": "4",
                                    "Csillag": "3",
                                    "MegjEv": "2022",
                                    "Hossz": "104",
                                    "Aktiv": "1"
                                },
                                {
                                    "FilmID": "7",
                                    "FilmCim": "No time to die",
                                    "StudioID": "5",
                                    "MufajID": "3",
                                    "Csillag": "5",
                                    "MegjEv": "2021",
                                    "Hossz": "163",
                                    "Aktiv": "1"
                                }
                            ]
                        },
                        "text/html": [
                            "<table>",
                            "<tr><th>FilmID</th><th>FilmCim</th><th>StudioID</th><th>MufajID</th><th>Csillag</th><th>MegjEv</th><th>Hossz</th><th>Aktiv</th></tr>",
                            "<tr><td>1</td><td>Les Miserables</td><td>1</td><td>2</td><td>5</td><td>2012</td><td>158</td><td>1</td></tr>",
                            "<tr><td>6</td><td>Ticket to paradise</td><td>5</td><td>4</td><td>3</td><td>2022</td><td>104</td><td>1</td></tr>",
                            "<tr><td>7</td><td>No time to die</td><td>5</td><td>3</td><td>5</td><td>2021</td><td>163</td><td>1</td></tr>",
                            "</table>"
                        ]
                    }
                }
            ],
            "execution_count": 11
        },
        {
            "cell_type": "code",
            "source": [
                "DECLARE @OUT INT,@RETURN INT \r\n",
                "EXEC @RETURN = spVETITESFELVEZETESE '2024-12-13 18:00:00.000', @out OUTPUT\r\n",
                "SELECT @RETURN AS ReturnValue, @OUT AS 'Out'\r\n",
                "select * from Vetites"
            ],
            "metadata": {
                "language": "sql",
                "azdata_cell_guid": "0797df90-a12a-4742-8bd9-26ba60691f87"
            },
            "outputs": [
                {
                    "output_type": "display_data",
                    "data": {
                        "text/html": "(1 row affected)"
                    },
                    "metadata": {}
                },
                {
                    "output_type": "display_data",
                    "data": {
                        "text/html": "(16 rows affected)"
                    },
                    "metadata": {}
                },
                {
                    "output_type": "display_data",
                    "data": {
                        "text/html": "Total execution time: 00:00:00.013"
                    },
                    "metadata": {}
                },
                {
                    "output_type": "execute_result",
                    "metadata": {},
                    "execution_count": 26,
                    "data": {
                        "application/vnd.dataresource+json": {
                            "schema": {
                                "fields": [
                                    {
                                        "name": "ReturnValue"
                                    },
                                    {
                                        "name": "Out"
                                    }
                                ]
                            },
                            "data": [
                                {
                                    "ReturnValue": "0",
                                    "Out": "3"
                                }
                            ]
                        },
                        "text/html": [
                            "<table>",
                            "<tr><th>ReturnValue</th><th>Out</th></tr>",
                            "<tr><td>0</td><td>3</td></tr>",
                            "</table>"
                        ]
                    }
                },
                {
                    "output_type": "execute_result",
                    "metadata": {},
                    "execution_count": 26,
                    "data": {
                        "application/vnd.dataresource+json": {
                            "schema": {
                                "fields": [
                                    {
                                        "name": "VetitesID"
                                    },
                                    {
                                        "name": "FilmID"
                                    },
                                    {
                                        "name": "VetitesIdopontja"
                                    },
                                    {
                                        "name": "Terem"
                                    },
                                    {
                                        "name": "Ar"
                                    }
                                ]
                            },
                            "data": [
                                {
                                    "VetitesID": "1",
                                    "FilmID": "1",
                                    "VetitesIdopontja": "2012-12-12 18:00:00.000",
                                    "Terem": "3",
                                    "Ar": "10.00"
                                },
                                {
                                    "VetitesID": "2",
                                    "FilmID": "1",
                                    "VetitesIdopontja": "2018-12-12 18:00:00.000",
                                    "Terem": "6",
                                    "Ar": "15.00"
                                },
                                {
                                    "VetitesID": "3",
                                    "FilmID": "1",
                                    "VetitesIdopontja": "2019-12-12 18:00:00.000",
                                    "Terem": "7",
                                    "Ar": "18.00"
                                },
                                {
                                    "VetitesID": "4",
                                    "FilmID": "1",
                                    "VetitesIdopontja": "2019-11-12 16:30:00.000",
                                    "Terem": "3",
                                    "Ar": "14.00"
                                },
                                {
                                    "VetitesID": "5",
                                    "FilmID": "2",
                                    "VetitesIdopontja": "2019-11-12 18:00:00.000",
                                    "Terem": "1",
                                    "Ar": "15.00"
                                },
                                {
                                    "VetitesID": "6",
                                    "FilmID": "4",
                                    "VetitesIdopontja": "2019-11-12 22:15:00.000",
                                    "Terem": "4",
                                    "Ar": "16.00"
                                },
                                {
                                    "VetitesID": "7",
                                    "FilmID": "6",
                                    "VetitesIdopontja": "2022-09-16 18:00:00.000",
                                    "Terem": "2",
                                    "Ar": "21.00"
                                },
                                {
                                    "VetitesID": "8",
                                    "FilmID": "6",
                                    "VetitesIdopontja": "2022-09-16 22:00:00.000",
                                    "Terem": "2",
                                    "Ar": "24.00"
                                },
                                {
                                    "VetitesID": "9",
                                    "FilmID": "6",
                                    "VetitesIdopontja": "2022-09-22 20:00:00.000",
                                    "Terem": "5",
                                    "Ar": "25.00"
                                },
                                {
                                    "VetitesID": "10",
                                    "FilmID": "6",
                                    "VetitesIdopontja": "2022-09-22 22:00:00.000",
                                    "Terem": "2",
                                    "Ar": "25.00"
                                },
                                {
                                    "VetitesID": "11",
                                    "FilmID": "1",
                                    "VetitesIdopontja": "2024-12-12 18:00:00.000",
                                    "Terem": "1",
                                    "Ar": "1.00"
                                },
                                {
                                    "VetitesID": "12",
                                    "FilmID": "6",
                                    "VetitesIdopontja": "2024-12-12 18:00:00.000",
                                    "Terem": "1",
                                    "Ar": "1.00"
                                },
                                {
                                    "VetitesID": "13",
                                    "FilmID": "7",
                                    "VetitesIdopontja": "2024-12-12 18:00:00.000",
                                    "Terem": "1",
                                    "Ar": "1.00"
                                },
                                {
                                    "VetitesID": "14",
                                    "FilmID": "1",
                                    "VetitesIdopontja": "2024-12-13 18:00:00.000",
                                    "Terem": "5",
                                    "Ar": "50.00"
                                },
                                {
                                    "VetitesID": "15",
                                    "FilmID": "6",
                                    "VetitesIdopontja": "2024-12-13 18:00:00.000",
                                    "Terem": "3",
                                    "Ar": "30.00"
                                },
                                {
                                    "VetitesID": "16",
                                    "FilmID": "7",
                                    "VetitesIdopontja": "2024-12-13 18:00:00.000",
                                    "Terem": "5",
                                    "Ar": "50.00"
                                }
                            ]
                        },
                        "text/html": [
                            "<table>",
                            "<tr><th>VetitesID</th><th>FilmID</th><th>VetitesIdopontja</th><th>Terem</th><th>Ar</th></tr>",
                            "<tr><td>1</td><td>1</td><td>2012-12-12 18:00:00.000</td><td>3</td><td>10.00</td></tr>",
                            "<tr><td>2</td><td>1</td><td>2018-12-12 18:00:00.000</td><td>6</td><td>15.00</td></tr>",
                            "<tr><td>3</td><td>1</td><td>2019-12-12 18:00:00.000</td><td>7</td><td>18.00</td></tr>",
                            "<tr><td>4</td><td>1</td><td>2019-11-12 16:30:00.000</td><td>3</td><td>14.00</td></tr>",
                            "<tr><td>5</td><td>2</td><td>2019-11-12 18:00:00.000</td><td>1</td><td>15.00</td></tr>",
                            "<tr><td>6</td><td>4</td><td>2019-11-12 22:15:00.000</td><td>4</td><td>16.00</td></tr>",
                            "<tr><td>7</td><td>6</td><td>2022-09-16 18:00:00.000</td><td>2</td><td>21.00</td></tr>",
                            "<tr><td>8</td><td>6</td><td>2022-09-16 22:00:00.000</td><td>2</td><td>24.00</td></tr>",
                            "<tr><td>9</td><td>6</td><td>2022-09-22 20:00:00.000</td><td>5</td><td>25.00</td></tr>",
                            "<tr><td>10</td><td>6</td><td>2022-09-22 22:00:00.000</td><td>2</td><td>25.00</td></tr>",
                            "<tr><td>11</td><td>1</td><td>2024-12-12 18:00:00.000</td><td>1</td><td>1.00</td></tr>",
                            "<tr><td>12</td><td>6</td><td>2024-12-12 18:00:00.000</td><td>1</td><td>1.00</td></tr>",
                            "<tr><td>13</td><td>7</td><td>2024-12-12 18:00:00.000</td><td>1</td><td>1.00</td></tr>",
                            "<tr><td>14</td><td>1</td><td>2024-12-13 18:00:00.000</td><td>5</td><td>50.00</td></tr>",
                            "<tr><td>15</td><td>6</td><td>2024-12-13 18:00:00.000</td><td>3</td><td>30.00</td></tr>",
                            "<tr><td>16</td><td>7</td><td>2024-12-13 18:00:00.000</td><td>5</td><td>50.00</td></tr>",
                            "</table>"
                        ]
                    }
                }
            ],
            "execution_count": 26
        },
        {
            "cell_type": "code",
            "source": [
                "SELECT * FROM Vetites"
            ],
            "metadata": {
                "language": "sql",
                "azdata_cell_guid": "431ab7e5-53bd-470b-8b7c-29ad629393b0"
            },
            "outputs": [
                {
                    "output_type": "display_data",
                    "data": {
                        "text/html": "(10 rows affected)"
                    },
                    "metadata": {}
                },
                {
                    "output_type": "display_data",
                    "data": {
                        "text/html": "Total execution time: 00:00:00.024"
                    },
                    "metadata": {}
                },
                {
                    "output_type": "execute_result",
                    "metadata": {},
                    "execution_count": 2,
                    "data": {
                        "application/vnd.dataresource+json": {
                            "schema": {
                                "fields": [
                                    {
                                        "name": "VetitesID"
                                    },
                                    {
                                        "name": "FilmID"
                                    },
                                    {
                                        "name": "VetitesIdopontja"
                                    },
                                    {
                                        "name": "Terem"
                                    },
                                    {
                                        "name": "Ar"
                                    }
                                ]
                            },
                            "data": [
                                {
                                    "VetitesID": "1",
                                    "FilmID": "1",
                                    "VetitesIdopontja": "2012-12-12 18:00:00.000",
                                    "Terem": "3",
                                    "Ar": "10.00"
                                },
                                {
                                    "VetitesID": "2",
                                    "FilmID": "1",
                                    "VetitesIdopontja": "2018-12-12 18:00:00.000",
                                    "Terem": "6",
                                    "Ar": "15.00"
                                },
                                {
                                    "VetitesID": "3",
                                    "FilmID": "1",
                                    "VetitesIdopontja": "2019-12-12 18:00:00.000",
                                    "Terem": "7",
                                    "Ar": "18.00"
                                },
                                {
                                    "VetitesID": "4",
                                    "FilmID": "1",
                                    "VetitesIdopontja": "2019-11-12 16:30:00.000",
                                    "Terem": "3",
                                    "Ar": "14.00"
                                },
                                {
                                    "VetitesID": "5",
                                    "FilmID": "2",
                                    "VetitesIdopontja": "2019-11-12 18:00:00.000",
                                    "Terem": "1",
                                    "Ar": "15.00"
                                },
                                {
                                    "VetitesID": "6",
                                    "FilmID": "4",
                                    "VetitesIdopontja": "2019-11-12 22:15:00.000",
                                    "Terem": "4",
                                    "Ar": "16.00"
                                },
                                {
                                    "VetitesID": "7",
                                    "FilmID": "6",
                                    "VetitesIdopontja": "2022-09-16 18:00:00.000",
                                    "Terem": "2",
                                    "Ar": "21.00"
                                },
                                {
                                    "VetitesID": "8",
                                    "FilmID": "6",
                                    "VetitesIdopontja": "2022-09-16 22:00:00.000",
                                    "Terem": "2",
                                    "Ar": "24.00"
                                },
                                {
                                    "VetitesID": "9",
                                    "FilmID": "6",
                                    "VetitesIdopontja": "2022-09-22 20:00:00.000",
                                    "Terem": "5",
                                    "Ar": "25.00"
                                },
                                {
                                    "VetitesID": "10",
                                    "FilmID": "6",
                                    "VetitesIdopontja": "2022-09-22 22:00:00.000",
                                    "Terem": "2",
                                    "Ar": "25.00"
                                }
                            ]
                        },
                        "text/html": [
                            "<table>",
                            "<tr><th>VetitesID</th><th>FilmID</th><th>VetitesIdopontja</th><th>Terem</th><th>Ar</th></tr>",
                            "<tr><td>1</td><td>1</td><td>2012-12-12 18:00:00.000</td><td>3</td><td>10.00</td></tr>",
                            "<tr><td>2</td><td>1</td><td>2018-12-12 18:00:00.000</td><td>6</td><td>15.00</td></tr>",
                            "<tr><td>3</td><td>1</td><td>2019-12-12 18:00:00.000</td><td>7</td><td>18.00</td></tr>",
                            "<tr><td>4</td><td>1</td><td>2019-11-12 16:30:00.000</td><td>3</td><td>14.00</td></tr>",
                            "<tr><td>5</td><td>2</td><td>2019-11-12 18:00:00.000</td><td>1</td><td>15.00</td></tr>",
                            "<tr><td>6</td><td>4</td><td>2019-11-12 22:15:00.000</td><td>4</td><td>16.00</td></tr>",
                            "<tr><td>7</td><td>6</td><td>2022-09-16 18:00:00.000</td><td>2</td><td>21.00</td></tr>",
                            "<tr><td>8</td><td>6</td><td>2022-09-16 22:00:00.000</td><td>2</td><td>24.00</td></tr>",
                            "<tr><td>9</td><td>6</td><td>2022-09-22 20:00:00.000</td><td>5</td><td>25.00</td></tr>",
                            "<tr><td>10</td><td>6</td><td>2022-09-22 22:00:00.000</td><td>2</td><td>25.00</td></tr>",
                            "</table>"
                        ]
                    }
                }
            ],
            "execution_count": 2
        }
    ]
}