{
    "metadata": {
        "kernelspec": {
            "name": "SQL",
            "display_name": "SQL",
            "language": "sql"
        },
        "language_info": {
            "name": "sql",
            "version": ""
        }
    },
    "nbformat_minor": 2,
    "nbformat": 4,
    "cells": [
        {
            "cell_type": "markdown",
            "source": [
                "# Vizsga osszefoglalo\r\n",
                "\r\n",
                "\r\n",
                "A gyakorlati vizsgara a kovetkezo dolgokat kell tudni:\r\n",
                "- Tarolt eljarasok (Stored Procedures): \r\n",
                "    - letrehozas\r\n",
                "    - meghivasa\r\n",
                "    - parameterek\r\n",
                "    - eredmenyek \r\n",
                "- Tranzakciok\r\n",
                "    - letrehozas (begin transaction)\r\n",
                "    - commit \r\n",
                "    - rollback\r\n",
                "- Hibakezeles\r\n",
                "    - try-catch\r\n",
                "    - throw : \r\n",
                "    - raiserror\r\n",
                "    - @@ERROR - valtozo\r\n",
                "    - hibak lekerdezese es megjelenitese (ERROR_MESSAGE(), ERROR_NUMBER(), ERROR_SEVERITY(), ERROR_STATE(), ERROR_LINE(), ERROR_PROCEDURE())\r\n",
                "- Kurzorok\r\n",
                "    - deklaralasa \r\n",
                "    - nyitasa\r\n",
                "    - lekerdezese (bejarasa) \r\n",
                "    - zarasa\r\n",
                ""
            ],
            "metadata": {
                "azdata_cell_guid": "1ab5032c-4150-4679-87b6-221c421c3561"
            },
            "attachments": {}
        },
        {
            "cell_type": "markdown",
            "source": [
                "## Feladat\r\n",
                "\r\n",
                "Toltsuk le a [Mozi scriptet](./Szeminarium_12/Mozi.sql) a Szeminarium_12 konyvtarbol.\r\n",
                "\r\n",
                "\r\n",
                "\r\n",
                "Irjunk tarolt eljarast amely vetiteseket vezet be a Vetites tablaba. A tarolt eljaras parameterei a kovetkezok legyenek:   \r\n",
                " - Idopont: DATETIME tipusu, a vetites idopontja\r\n",
                " - VetitesekSzama: INT tipusu kimeneti parameter, a felvezetett vetitesek szama\r\n",
                "\r\n",
                "A tarolt eljaras a kovetkezo feladatokat vegzi el:\r\n",
                "- Ellenorzi, hogy a VetitesNapja parameterben megadott idopont a jelenlegi idopont utan van-e. Ha nem, akkor a VetitesekSzama parameterben adjon vissza 0-t es -1-et teritsen vissza a tarolt eljaras.\r\n",
                "- Veszi a Filmek tablabol azokat a filmeket, amelyek Aktivak es ellenorzi, hogy van-e mar vetitesuk a Vetites tablaban a VetitesNapja parameterben megadott idoponton. Ha igen akkor nem kell felvezetni a filmet, ha nem akkor fel kell vezetni a filmet a Vetites tablaba.  \r\n",
                "- A vetites terme: a film hossza alapjan a kovetkezo szabaly alapjan kerul kiszamitasra, viszont csak akkor ha a teremben meg nincs masik vetites abban az idopontban, parameterben megadott idoponton. Ha van akkor a kovetkezo terembe kerul a vetites:\r\n",
                "    - 60 perc alatt 1-es terem\r\n",
                "    - 60-120 perc kozott 2-es terem\r\n",
                "    - 120-180 perc kozott 3-as terem\r\n",
                "    - 180-240 perc kozott 4-es terem\r\n",
                "    - 240 perc felett 5-os terem\r\n",
                "- A vetites ara, a film legutobbi vetitesenek az ara ha mar volt vetitve kulonben a film csillagai alapjan a kovetkezo szabaly alapjan kerul kiszamitasra:\r\n",
                "    - 1 csillag: 10 lej\r\n",
                "    - 2 csillag: 15 lej\r\n",
                "    - 3 csillag: 20 lej\r\n",
                "    - 4 csillag: 25 lej\r\n",
                "    - 5 csillag: 50 lej\r\n",
                "\r\n",
                "- A VetitesekSzama parameterben adja vissza, hogy hany vetitest vezetett be a tarolt eljaras, sikeretelen futas eseten -1-et adjon vissza\r\n",
                "\r\n",
                "A tarolt eljaras neve: dbo.VetitesFelvezetese\r\n",
                "\r\n",
                "A teljes pontszam erdekeben hasznaljunk kurzorokat.\r\n",
                "\r\n",
                "\r\n",
                "## A feladat megoldas lepesei\r\n",
                "- [ ]  A tarolt eljaras letrehozasa megfelelo parameterekkel\r\n",
                "- [ ]  Deklaraljuk esetleges parameterek ertekeit valamint tranzakciot inditunk\r\n",
                "- [ ]  A tarolt eljaras ellenorzi, hogy a VetitesNapja parametert\r\n",
                "- [ ]  A tarolt eljaras veszi a filmeket, amelyek Aktivak es bejarja oket kurzorral\r\n",
                "- [ ]  A tarolt eljaras ellenorzi, hogy van-e mar vetitesuk a Vetites tablaban a VetitesNapja parameterben megadott idoponton\r\n",
                "- [ ]  A tarolt eljaras kiszamitja a vetites termer es arat\r\n",
                "- [ ]  A tarolt eljaras felvezeti a vetitest a Vetites tablaba \r\n",
                "- [ ]  Ellenorzi a beszuras sikeressseget az @@ERROR valtozo ertekevel - hiba eseten visszavonja a tranzakciot (Hasznalhatjuk a RAISERROR vagy TRY/CATCH-THROW parancsot is ) siker eseten noveli a VetitesekSzama parametert\r\n",
                "- [ ] Sikeres futas eseten COMMIT parancsot hasznalunk \r\n",
                "\r\n",
                "\r\n",
                "\r\n",
                "\r\n",
                "\r\n",
                "\r\n",
                ""
            ],
            "metadata": {
                "azdata_cell_guid": "8ff12261-318e-4066-ad0c-5c11e90566ed"
            },
            "attachments": {}
        }
    ]
}