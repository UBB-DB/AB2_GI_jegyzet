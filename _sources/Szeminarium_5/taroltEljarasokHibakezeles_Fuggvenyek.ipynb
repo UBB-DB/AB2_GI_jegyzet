{
    "metadata": {
        "kernelspec": {
            "name": "SQL",
            "display_name": "SQL",
            "language": "sql"
        },
        "language_info": {
            "name": "sql",
            "version": ""
        },
        "extensions": {
            "azuredatastudio": {
                "version": 1,
                "views": []
            }
        }
    },
    "nbformat_minor": 2,
    "nbformat": 4,
    "cells": [
        {
            "cell_type": "markdown",
            "source": [
                "## Vátozók & Vezérlő struktúrák\n",
                "\n",
                "<span class=\"hljs-keyword\" style=\"color:rgb(1, 1, 253);font-family:SFMono-Regular, Consolas, &quot;Liberation Mono&quot;, Menlo, Courier, monospace;white-space:pre;background-color:rgb(242, 242, 242);\">DECLARE</span> <span style=\"color:rgb(23, 23, 23);font-family:SFMono-Regular, Consolas, &quot;Liberation Mono&quot;, Menlo, Courier, monospace;white-space:pre;background-color:rgb(242, 242, 242);\">@var1 </span> <span class=\"hljs-keyword\" style=\"color:rgb(1, 1, 253);font-family:SFMono-Regular, Consolas, &quot;Liberation Mono&quot;, Menlo, Courier, monospace;white-space:pre;background-color:rgb(242, 242, 242);\">AS</span> <span class=\"hljs-built_in\" style=\"color:rgb(1, 1, 253);font-family:SFMono-Regular, Consolas, &quot;Liberation Mono&quot;, Menlo, Courier, monospace;white-space:pre;background-color:rgb(242, 242, 242);\">INT</span> <span style=\"color:rgb(23, 23, 23);font-family:SFMono-Regular, Consolas, &quot;Liberation Mono&quot;, Menlo, Courier, monospace;white-space:pre;background-color:rgb(242, 242, 242);\">= </span> <span class=\"hljs-number\" style=\"color:rgb(23, 23, 23);font-family:SFMono-Regular, Consolas, &quot;Liberation Mono&quot;, Menlo, Courier, monospace;white-space:pre;background-color:rgb(242, 242, 242);\">99</span><span style=\"color:rgb(23, 23, 23);font-family:SFMono-Regular, Consolas, &quot;Liberation Mono&quot;, Menlo, Courier, monospace;white-space:pre;background-color:rgb(242, 242, 242);\">;</span> \n",
                "\n",
                "<span class=\"hljs-keyword\" style=\"color:rgb(1, 1, 253);font-family:SFMono-Regular, Consolas, &quot;Liberation Mono&quot;, Menlo, Courier, monospace;white-space:pre;background-color:rgb(242, 242, 242);\">DECLARE</span> <span style=\"color:rgb(23, 23, 23);font-family:SFMono-Regular, Consolas, &quot;Liberation Mono&quot;, Menlo, Courier, monospace;white-space:pre;background-color:rgb(242, 242, 242);\">@var2 </span> <span class=\"hljs-keyword\" style=\"color:rgb(1, 1, 253);font-family:SFMono-Regular, Consolas, &quot;Liberation Mono&quot;, Menlo, Courier, monospace;white-space:pre;background-color:rgb(242, 242, 242);\">AS</span> <span class=\"hljs-keyword\" style=\"color:rgb(1, 1, 253);font-family:SFMono-Regular, Consolas, &quot;Liberation Mono&quot;, Menlo, Courier, monospace;white-space:pre;background-color:rgb(242, 242, 242);\">NVARCHAR</span><span style=\"color:rgb(23, 23, 23);font-family:SFMono-Regular, Consolas, &quot;Liberation Mono&quot;, Menlo, Courier, monospace;white-space:pre;background-color:rgb(242, 242, 242);\">(</span><span class=\"hljs-number\" style=\"color:rgb(23, 23, 23);font-family:SFMono-Regular, Consolas, &quot;Liberation Mono&quot;, Menlo, Courier, monospace;white-space:pre;background-color:rgb(242, 242, 242);\">255</span><span style=\"color:rgb(23, 23, 23);font-family:SFMono-Regular, Consolas, &quot;Liberation Mono&quot;, Menlo, Courier, monospace;white-space:pre;background-color:rgb(242, 242, 242);\">);</span>\n",
                "\n",
                "<span class=\"hljs-keyword\" style=\"color:rgb(1, 1, 253);font-family:SFMono-Regular, Consolas, &quot;Liberation Mono&quot;, Menlo, Courier, monospace;white-space:pre;background-color:rgb(242, 242, 242);\">SET</span> <span style=\"color:rgb(23, 23, 23);font-family:SFMono-Regular, Consolas, &quot;Liberation Mono&quot;, Menlo, Courier, monospace;white-space:pre;background-color:rgb(242, 242, 242);\">@var2 = N</span><span class=\"hljs-string\" style=\"font-family:SFMono-Regular, Consolas, &quot;Liberation Mono&quot;, Menlo, Courier, monospace;white-space:pre;background-color:rgb(242, 242, 242);\">'string'</span><span style=\"color:rgb(23, 23, 23);font-family:SFMono-Regular, Consolas, &quot;Liberation Mono&quot;, Menlo, Courier, monospace;white-space:pre;background-color:rgb(242, 242, 242);\">;</span>\n",
                "\n",
                "<span class=\"hljs-keyword\" style=\"color:rgb(1, 1, 253);font-family:SFMono-Regular, Consolas, &quot;Liberation Mono&quot;, Menlo, Courier, monospace;white-space:pre;background-color:rgb(242, 242, 242);\">SET</span> <span style=\"color:rgb(23, 23, 23);font-family:SFMono-Regular, Consolas, &quot;Liberation Mono&quot;, Menlo, Courier, monospace;white-space:pre;background-color:rgb(242, 242, 242);\">@var2 = (SELECT ...)</span>\n",
                "\n",
                "<span style=\"color:rgb(23, 23, 23);font-family:SFMono-Regular, Consolas, &quot;Liberation Mono&quot;, Menlo, Courier, monospace;white-space:pre;background-color:rgb(242, 242, 242);\"><br></span>\n",
                "\n",
                "## Vezérlő struktúrák\n",
                "\n",
                "[BEGIN...END](https://learn.microsoft.com/en-us/sql/t-sql/language-elements/begin-end-transact-sql?view=sql-server-ver16)\n",
                "\n",
                "[RETURN](https://learn.microsoft.com/en-us/sql/t-sql/language-elements/return-transact-sql?view=sql-server-ver16)\n",
                "\n",
                "[**IF...ELSE**](https://learn.microsoft.com/en-us/sql/t-sql/language-elements/if-else-transact-sql?view=sql-server-ver16)\n",
                "\n",
                "[**WHILE**](https://learn.microsoft.com/en-us/sql/t-sql/language-elements/while-transact-sql?view=sql-server-ver16)\n",
                "\n",
                "[BREAK](https://learn.microsoft.com/en-us/sql/t-sql/language-elements/break-transact-sql?view=sql-server-ver16)\n",
                "\n",
                "[THROW](https://learn.microsoft.com/en-us/sql/t-sql/language-elements/throw-transact-sql?view=sql-server-ver16)\n",
                "\n",
                "[CONTINUE](https://learn.microsoft.com/en-us/sql/t-sql/language-elements/continue-transact-sql?view=sql-server-ver16)\n",
                "\n",
                "[TRY...CATCH](https://learn.microsoft.com/en-us/sql/t-sql/language-elements/try-catch-transact-sql?view=sql-server-ver16)\n",
                "\n",
                "[GOTO](https://learn.microsoft.com/en-us/sql/t-sql/language-elements/goto-transact-sql?view=sql-server-ver16) _label_\n",
                "\n",
                "[WAITFOR](https://learn.microsoft.com/en-us/sql/t-sql/language-elements/waitfor-transact-sql?view=sql-server-ver16)\n",
                "\n",
                "  \n",
                "\n",
                "<span style=\"color:rgb(23, 23, 23);font-family:SFMono-Regular, Consolas, &quot;Liberation Mono&quot;, Menlo, Courier, monospace;white-space:pre;background-color:rgb(242, 242, 242);\"><br></span>\n",
                "\n",
                "# Tárolt eljárások\n",
                "\n",
                "<span class=\"hljs-keyword\" style=\"color:rgb(1, 1, 253);font-family:SFMono-Regular, Consolas, &quot;Liberation Mono&quot;, Menlo, Courier, monospace;white-space:pre;background-color:rgb(242, 242, 242);\">CREATE</span> <span class=\"hljs-keyword\" style=\"color:rgb(1, 1, 253);font-family:SFMono-Regular, Consolas, &quot;Liberation Mono&quot;, Menlo, Courier, monospace;white-space:pre;background-color:rgb(242, 242, 242);\">PROCEDURE </span> <span style=\"color:rgb(23, 23, 23);font-family:SFMono-Regular, Consolas, &quot;Liberation Mono&quot;, Menlo, Courier, monospace;white-space:pre;background-color:rgb(242, 242, 242);\">&lt;schema_name&gt;.&lt;procedure_name&gt;</span> <span style=\"background-color:rgb(242, 242, 242);color:rgb(23, 23, 23);font-family:SFMono-Regular, Consolas, &quot;Liberation Mono&quot;, Menlo, Courier, monospace;white-space:pre;\">@&lt;parameter_name&gt; = 'VALUE' &lt;OUTPUT&gt; </span> <span style=\"background-color:rgb(242, 242, 242);color:rgb(1, 1, 253);font-family:SFMono-Regular, Consolas, &quot;Liberation Mono&quot;, Menlo, Courier, monospace;white-space:pre;\">AS ...</span> <span class=\"hljs-keyword\" style=\"color:rgb(1, 1, 253);font-family:SFMono-Regular, Consolas, &quot;Liberation Mono&quot;, Menlo, Courier, monospace;white-space:pre;background-color:rgb(242, 242, 242);\"><span class=\"hljs-keyword\" style=\"color:rgb(1, 1, 253);\">ALTER PROCEDURE </span><span style=\"color:rgb(23, 23, 23);\">&lt;schema_name&gt;.&lt;procedure_name&gt;</span><span style=\"color:rgb(23, 23, 23);\"> </span><span class=\"hljs-keyword\" style=\"color:rgb(1, 1, 253);\">AS ...</span><br></span><span class=\"hljs-keyword\" style=\"color:rgb(1, 1, 253);font-family:SFMono-Regular, Consolas, &quot;Liberation Mono&quot;, Menlo, Courier, monospace;white-space:pre;background-color:rgb(242, 242, 242);\"><span class=\"hljs-keyword\" style=\"color:rgb(1, 1, 253);\"><span style=\"color:rgb(23, 23, 23);\">EXEC &lt;schema_name&gt;.&lt;procedure_name&gt; @&lt;parameter_name&gt; = 'VALUE'</span><br></span></span>\n",
                "\n",
                "- <mark>**Visszatérési értékkel<span style=\"background-color:rgb(255, 255, 254);\"><br></span>**</mark><span class=\"hljs-keyword\" style=\"color:rgb(1, 1, 253);font-family:SFMono-Regular, Consolas, &quot;Liberation Mono&quot;, Menlo, Courier, monospace;white-space:pre;background-color:rgb(242, 242, 242);\">CREATE</span> <span class=\"hljs-keyword\" style=\"color:rgb(1, 1, 253);font-family:SFMono-Regular, Consolas, &quot;Liberation Mono&quot;, Menlo, Courier, monospace;white-space:pre;background-color:rgb(242, 242, 242);\">PROCEDURE</span> <span style=\"color:rgb(23, 23, 23);font-family:SFMono-Regular, Consolas, &quot;Liberation Mono&quot;, Menlo, Courier, monospace;white-space:pre;background-color:rgb(242, 242, 242);\">HumanResources.uspGetEmployeesTest2 </span> <span style=\"color:rgb(23, 23, 23);font-family:SFMono-Regular, Consolas, &quot;Liberation Mono&quot;, Menlo, Courier, monospace;white-space:pre;background-color:rgb(242, 242, 242);\">@LastName </span> <span class=\"hljs-keyword\" style=\"color:rgb(1, 1, 253);font-family:SFMono-Regular, Consolas, &quot;Liberation Mono&quot;, Menlo, Courier, monospace;white-space:pre;background-color:rgb(242, 242, 242);\">nvarchar</span><span style=\"color:rgb(23, 23, 23);font-family:SFMono-Regular, Consolas, &quot;Liberation Mono&quot;, Menlo, Courier, monospace;white-space:pre;background-color:rgb(242, 242, 242);\">(</span><span class=\"hljs-number\" style=\"color:rgb(23, 23, 23);font-family:SFMono-Regular, Consolas, &quot;Liberation Mono&quot;, Menlo, Courier, monospace;white-space:pre;background-color:rgb(242, 242, 242);\">50</span><span style=\"color:rgb(23, 23, 23);font-family:SFMono-Regular, Consolas, &quot;Liberation Mono&quot;, Menlo, Courier, monospace;white-space:pre;background-color:rgb(242, 242, 242);\">), </span> <span style=\"color:rgb(23, 23, 23);font-family:SFMono-Regular, Consolas, &quot;Liberation Mono&quot;, Menlo, Courier, monospace;white-space:pre;background-color:rgb(242, 242, 242);\">@FirstName </span> <span class=\"hljs-keyword\" style=\"color:rgb(1, 1, 253);font-family:SFMono-Regular, Consolas, &quot;Liberation Mono&quot;, Menlo, Courier, monospace;white-space:pre;background-color:rgb(242, 242, 242);\">nvarchar</span><span style=\"color:rgb(23, 23, 23);font-family:SFMono-Regular, Consolas, &quot;Liberation Mono&quot;, Menlo, Courier, monospace;white-space:pre;background-color:rgb(242, 242, 242);\">(</span><span class=\"hljs-number\" style=\"color:rgb(23, 23, 23);font-family:SFMono-Regular, Consolas, &quot;Liberation Mono&quot;, Menlo, Courier, monospace;white-space:pre;background-color:rgb(242, 242, 242);\">50</span><span style=\"color:rgb(23, 23, 23);font-family:SFMono-Regular, Consolas, &quot;Liberation Mono&quot;, Menlo, Courier, monospace;white-space:pre;background-color:rgb(242, 242, 242);\">)</span> <span class=\"hljs-keyword\" style=\"color:rgb(1, 1, 253);font-family:SFMono-Regular, Consolas, &quot;Liberation Mono&quot;, Menlo, Courier, monospace;white-space:pre;background-color:rgb(242, 242, 242);\">AS</span> <span style=\"color:rgb(23, 23, 23);font-family:SFMono-Regular, Consolas, &quot;Liberation Mono&quot;, Menlo, Courier, monospace;white-space:pre;background-color:rgb(242, 242, 242);\">...</span> <span class=\"hljs-keyword\" style=\"color:rgb(1, 1, 253);font-family:SFMono-Regular, Consolas, &quot;Liberation Mono&quot;, Menlo, Courier, monospace;white-space:pre;background-color:rgb(242, 242, 242);\">RETURN(kod</span><span style=\"color:rgb(23, 23, 23);font-family:SFMono-Regular, Consolas, &quot;Liberation Mono&quot;, Menlo, Courier, monospace;white-space:pre;background-color:rgb(242, 242, 242);\">) </span> <span style=\"white-space:pre;background-color:rgb(242, 242, 242);\">Hivás:</span> <span class=\"hljs-keyword\" style=\"color:rgb(1, 1, 253);font-family:SFMono-Regular, Consolas, &quot;Liberation Mono&quot;, Menlo, Courier, monospace;white-space:pre;background-color:rgb(242, 242, 242);\">DECLARE</span> <span style=\"color:rgb(23, 23, 23);font-family:SFMono-Regular, Consolas, &quot;Liberation Mono&quot;, Menlo, Courier, monospace;white-space:pre;background-color:rgb(242, 242, 242);\">@</span><span class=\"hljs-keyword\" style=\"color:rgb(1, 1, 253);font-family:SFMono-Regular, Consolas, &quot;Liberation Mono&quot;, Menlo, Courier, monospace;white-space:pre;background-color:rgb(242, 242, 242);\">result</span> <span class=\"hljs-built_in\" style=\"color:rgb(1, 1, 253);font-family:SFMono-Regular, Consolas, &quot;Liberation Mono&quot;, Menlo, Courier, monospace;white-space:pre;background-color:rgb(242, 242, 242);\">int, @out_param int</span><span style=\"color:rgb(23, 23, 23);font-family:SFMono-Regular, Consolas, &quot;Liberation Mono&quot;, Menlo, Courier, monospace;white-space:pre;background-color:rgb(242, 242, 242);\">;</span> <span class=\"hljs-keyword\" style=\"color:rgb(1, 1, 253);font-family:SFMono-Regular, Consolas, &quot;Liberation Mono&quot;, Menlo, Courier, monospace;white-space:pre;background-color:rgb(242, 242, 242);\">EXECUTE</span> <span style=\"color:rgb(23, 23, 23);font-family:SFMono-Regular, Consolas, &quot;Liberation Mono&quot;, Menlo, Courier, monospace;white-space:pre;background-color:rgb(242, 242, 242);\">@</span><span class=\"hljs-keyword\" style=\"color:rgb(1, 1, 253);font-family:SFMono-Regular, Consolas, &quot;Liberation Mono&quot;, Menlo, Courier, monospace;white-space:pre;background-color:rgb(242, 242, 242);\">result</span> <span style=\"color:rgb(23, 23, 23);font-family:SFMono-Regular, Consolas, &quot;Liberation Mono&quot;, Menlo, Courier, monospace;white-space:pre;background-color:rgb(242, 242, 242);\">= my_proc @out_param ;</span>\n",
                "- <mark>**Ki- és bemeneti paraméterekkel valamint alapértelmezett értékekkel és visszatérési értékkel**</mark> <span class=\"hljs-keyword\" style=\"color:rgb(1, 1, 253);font-family:SFMono-Regular, Consolas, &quot;Liberation Mono&quot;, Menlo, Courier, monospace;white-space:pre;background-color:rgb(242, 242, 242);\">CREATE</span> <span class=\"hljs-keyword\" style=\"color:rgb(1, 1, 253);font-family:SFMono-Regular, Consolas, &quot;Liberation Mono&quot;, Menlo, Courier, monospace;white-space:pre;background-color:rgb(242, 242, 242);\">PROCEDURE</span> <span style=\"color:rgb(23, 23, 23);font-family:SFMono-Regular, Consolas, &quot;Liberation Mono&quot;, Menlo, Courier, monospace;white-space:pre;background-color:rgb(242, 242, 242);\">Sales.usp_GetSalesYTD @SalesPerson </span> <span class=\"hljs-keyword\" style=\"color:rgb(1, 1, 253);font-family:SFMono-Regular, Consolas, &quot;Liberation Mono&quot;, Menlo, Courier, monospace;white-space:pre;background-color:rgb(242, 242, 242);\">nvarchar</span><span style=\"color:rgb(23, 23, 23);font-family:SFMono-Regular, Consolas, &quot;Liberation Mono&quot;, Menlo, Courier, monospace;white-space:pre;background-color:rgb(242, 242, 242);\">(</span><span class=\"hljs-number\" style=\"color:rgb(23, 23, 23);font-family:SFMono-Regular, Consolas, &quot;Liberation Mono&quot;, Menlo, Courier, monospace;white-space:pre;background-color:rgb(242, 242, 242);\">50</span><span style=\"color:rgb(23, 23, 23);font-family:SFMono-Regular, Consolas, &quot;Liberation Mono&quot;, Menlo, Courier, monospace;white-space:pre;background-color:rgb(242, 242, 242);\">)</span> <mark><span style=\"color:rgb(23, 23, 23);font-family:SFMono-Regular, Consolas, &quot;Liberation Mono&quot;, Menlo, Courier, monospace;white-space:pre;\">= </span> <span class=\"hljs-literal\" style=\"color:rgb(7, 112, 74);font-family:SFMono-Regular, Consolas, &quot;Liberation Mono&quot;, Menlo, Courier, monospace;white-space:pre;\">NULL</span></mark><span style=\"color:rgb(23, 23, 23);font-family:SFMono-Regular, Consolas, &quot;Liberation Mono&quot;, Menlo, Courier, monospace;white-space:pre;background-color:rgb(242, 242, 242);\">,</span> <span style=\"color:rgb(23, 23, 23);font-family:SFMono-Regular, Consolas, &quot;Liberation Mono&quot;, Menlo, Courier, monospace;white-space:pre;background-color:rgb(242, 242, 242);\">@SalesYTD money = </span> <span class=\"hljs-literal\" style=\"color:rgb(7, 112, 74);font-family:SFMono-Regular, Consolas, &quot;Liberation Mono&quot;, Menlo, Courier, monospace;white-space:pre;background-color:rgb(242, 242, 242);\">NULL</span> <span class=\"hljs-keyword\" style=\"color:rgb(1, 1, 253);font-family:SFMono-Regular, Consolas, &quot;Liberation Mono&quot;, Menlo, Courier, monospace;white-space:pre;background-color:yellow;\">OUTPUT</span> Hivás:   <span class=\"hljs-keyword\" style=\"color:rgb(1, 1, 253);font-family:SFMono-Regular, Consolas, &quot;Liberation Mono&quot;, Menlo, Courier, monospace;white-space:pre;background-color:rgb(242, 242, 242);\">DECLARE</span> <span style=\"color:rgb(23, 23, 23);font-family:SFMono-Regular, Consolas, &quot;Liberation Mono&quot;, Menlo, Courier, monospace;white-space:pre;background-color:rgb(242, 242, 242);\">@SalesYTDForSalesPerson money, @</span><span style=\"color:rgb(23, 23, 23);font-family:SFMono-Regular, Consolas, &quot;Liberation Mono&quot;, Menlo, Courier, monospace;white-space:pre;background-color:rgb(242, 242, 242);\">ret_code int</span> <span class=\"hljs-keyword\" style=\"color:rgb(1, 1, 253);font-family:SFMono-Regular, Consolas, &quot;Liberation Mono&quot;, Menlo, Courier, monospace;white-space:pre;background-color:rgb(242, 242, 242);\"><br></span><span class=\"hljs-keyword\" style=\"color:rgb(1, 1, 253);font-family:SFMono-Regular, Consolas, &quot;Liberation Mono&quot;, Menlo, Courier, monospace;white-space:pre;background-color:rgb(242, 242, 242);\">EXECUTE</span> <span style=\"color:rgb(23, 23, 23);font-family:SFMono-Regular, Consolas, &quot;Liberation Mono&quot;, Menlo, Courier, monospace;white-space:pre;background-color:rgb(242, 242, 242);\">@</span><span style=\"background-color:rgb(242, 242, 242);color:rgb(23, 23, 23);font-family:SFMono-Regular, Consolas, &quot;Liberation Mono&quot;, Menlo, Courier, monospace;white-space:pre;\">ret_code </span> <span style=\"background-color:rgb(242, 242, 242);color:rgb(23, 23, 23);font-family:SFMono-Regular, Consolas, &quot;Liberation Mono&quot;, Menlo, Courier, monospace;white-space:pre;\">= Sales.usp_GetSalesYTD </span> <span class=\"hljs-string\" style=\"font-family:SFMono-Regular, Consolas, &quot;Liberation Mono&quot;, Menlo, Courier, monospace;white-space:pre;background-color:rgb(242, 242, 242);\">'Blythe'</span><span style=\"color:rgb(23, 23, 23);font-family:SFMono-Regular, Consolas, &quot;Liberation Mono&quot;, Menlo, Courier, monospace;white-space:pre;background-color:rgb(242, 242, 242);\">, @SalesYTD = @SalesYTDForSalesPerson </span> <span class=\"hljs-keyword\" style=\"color:rgb(1, 1, 253);font-family:SFMono-Regular, Consolas, &quot;Liberation Mono&quot;, Menlo, Courier, monospace;white-space:pre;background-color:rgb(242, 242, 242);\">OUTPUT</span><span style=\"color:rgb(23, 23, 23);font-family:SFMono-Regular, Consolas, &quot;Liberation Mono&quot;, Menlo, Courier, monospace;white-space:pre;background-color:rgb(242, 242, 242);\">;</span>\n",
                "\n",
                "### **Feladatok:**\n",
                "\n",
                "**\\- Irjunk tárolt eljárást mely 1-et térit vissza ha van egy termék volt rendelve különben 0-t, bemenetként pedig megkapja a termék nevét.** \n",
                "\n",
                "**\\- Bővitsük az előzőt azzal, hogy visszatériti kimeneti paraméterként az illeto termék rendelési mennyiségét.**"
            ],
            "metadata": {
                "azdata_cell_guid": "6e5703f3-a86c-432a-b5d1-a981fe5df82d"
            },
            "attachments": {}
        },
        {
            "cell_type": "code",
            "source": [
                "CREATE OR ALTER PROCEDURE spRaktarMennyiseg \r\n",
                "    @termekNev nvarchar(50),\r\n",
                "    @mennyiseg int OUTPUT\r\n",
                "AS\r\n",
                "BEGIN\r\n",
                "    SET NOCOUNT ON;\r\n",
                "    --DECLARE @rendelesSzam int =\r\n",
                "    SET @mennyiseg = (SELECT COUNT(SalesOrderId) FROM SalesLT.SalesOrderDetail\r\n",
                "        WHERE ProductId IN (SELECT ProductId FROM SalesLT.Product WHERE Name LIKE @termekNev)) \r\n",
                "    IF @mennyiseg = 0\r\n",
                "        RETURN 0\r\n",
                "    ELSE\r\n",
                "        RETURN 1\r\n",
                "END"
            ],
            "metadata": {
                "azdata_cell_guid": "78a4b411-777e-4c81-9648-d9fc0b91e4a6",
                "language": "sql"
            },
            "outputs": [],
            "execution_count": 33
        },
        {
            "cell_type": "code",
            "source": [
                "DECLARE @termekNeve nvarchar(50) = '%Bike%'\r\n",
                "DECLARE @returnCode int, @raktarMennyiseg int\r\n",
                "EXECUTE @returnCode= spRaktarMennyiseg @termekNeve , @mennyiseg=@raktarMennyiseg OUTPUT\r\n",
                "SELECT @returnCode, @raktarMennyiseg\r\n",
                "\r\n",
                ""
            ],
            "metadata": {
                "language": "sql",
                "azdata_cell_guid": "f5a2c8f3-ffa8-4101-92b3-4d1304bd01e9",
                "tags": []
            },
            "outputs": [
                {
                    "output_type": "display_data",
                    "data": {
                        "text/html": "(1 row affected)"
                    },
                    "metadata": {}
                },
                {
                    "output_type": "display_data",
                    "data": {
                        "text/html": "Total execution time: 00:00:00.016"
                    },
                    "metadata": {}
                },
                {
                    "output_type": "execute_result",
                    "execution_count": 34,
                    "data": {
                        "application/vnd.dataresource+json": {
                            "schema": {
                                "fields": [
                                    {
                                        "name": "(No column name)"
                                    },
                                    {
                                        "name": "(No column name)"
                                    }
                                ]
                            },
                            "data": [
                                {
                                    "(No column name)": "15"
                                }
                            ]
                        },
                        "text/html": "<table><tr><th>(No column name)</th><th>(No column name)</th></tr><tr><td>1</td><td>15</td></tr></table>"
                    },
                    "metadata": {}
                }
            ],
            "execution_count": 34
        },
        {
            "cell_type": "code",
            "source": [
                "-- Create a new stored procedure called 'raktar' in schema 'Production'\r\n",
                "-- Drop the stored procedure if it already exists\r\n",
                "IF EXISTS (\r\n",
                "SELECT *\r\n",
                "    FROM INFORMATION_SCHEMA.ROUTINES\r\n",
                "WHERE SPECIFIC_SCHEMA = N'SalesLT'\r\n",
                "    AND SPECIFIC_NAME = N'raktar'\r\n",
                "    AND ROUTINE_TYPE = N'PROCEDURE'\r\n",
                ")\r\n",
                "DROP PROCEDURE Production.raktar\r\n",
                "GO\r\n",
                "-- Create the stored procedure in the specified schema\r\n",
                "CREATE OR ALTER PROCEDURE SalesLT.raktar\r\n",
                "    @param1 /*parameter name*/ int /*datatype_for_param1*/ = 0, /*default_value_for_param1*/\r\n",
                "    @param2 /*parameter name*/ int /*datatype_for_param1*/ = 0 /*default_value_for_param2*/\r\n",
                "-- add more stored procedure parameters here\r\n",
                "AS\r\n",
                "BEGIN\r\n",
                "    -- body of the stored procedure\r\n",
                "    SELECT @param1, @param2\r\n",
                "END\r\n",
                "GO\r\n",
                "-- example to execute the stored procedure we just created\r\n",
                "EXECUTE SalesLT.raktar 1 /*value_for_param1*/, 2 /*value_for_param2*/\r\n",
                "GO"
            ],
            "metadata": {
                "azdata_cell_guid": "11888a85-bdd1-4bcc-9b15-8bc4f6fb310e",
                "language": "sql"
            },
            "outputs": [
                {
                    "output_type": "display_data",
                    "data": {
                        "text/html": "Commands completed successfully."
                    },
                    "metadata": {}
                },
                {
                    "output_type": "display_data",
                    "data": {
                        "text/html": "Commands completed successfully."
                    },
                    "metadata": {}
                },
                {
                    "output_type": "display_data",
                    "data": {
                        "text/html": "(1 row affected)"
                    },
                    "metadata": {}
                },
                {
                    "output_type": "display_data",
                    "data": {
                        "text/html": "Total execution time: 00:00:00.025"
                    },
                    "metadata": {}
                },
                {
                    "output_type": "execute_result",
                    "execution_count": 17,
                    "data": {
                        "application/vnd.dataresource+json": {
                            "schema": {
                                "fields": [
                                    {
                                        "name": "(No column name)"
                                    },
                                    {
                                        "name": "(No column name)"
                                    }
                                ]
                            },
                            "data": [
                                {
                                    "(No column name)": "2"
                                }
                            ]
                        },
                        "text/html": "<table><tr><th>(No column name)</th><th>(No column name)</th></tr><tr><td>1</td><td>2</td></tr></table>"
                    },
                    "metadata": {}
                }
            ],
            "execution_count": 17
        },
        {
            "cell_type": "markdown",
            "source": [
                "## Hibakezelés tárolt eljárásokban\n",
                "\n",
                "Vannak rendszer szintű valamint személyreszabott felhasználó által definiált hibauüzenetek. A személyreszabott üzeneteket a <span style=\"background-color: rgb(242, 242, 242); color: rgb(23, 23, 23); font-family: SFMono-Regular, Consolas, &quot;Liberation Mono&quot;, Menlo, Courier, monospace; white-space: pre;\">sp_addmessage</span> tárolt eljárással tudunk hozzáadni a rendszerhez.\n",
                "\n",
                "### RAISERROR parancs\n",
                "\n",
                "Használható arra hogy hibát téritsünk vissza, amit aztán a hivó folyamat kezelhet, valamint megjelenik a rendszerszintű hibaüzenetek között.\n",
                "\n",
                "Szintaxis:\n",
                "\n",
                "```\n",
                "RAISERROR ( { msg_id | msg_str | @local_variable }  \n",
                "    { ,severity ,state }  \n",
                "    [ ,argument [ ,...n ] ] )  \n",
                "```\n",
                "\n",
                "severity - Sulyosság. 1-25ig terjedő érték. Ha 20-nál nagyobb akkor fatális(hiba visszetéritése után a kapcsolat megszakad).\n",
                "\n",
                "state - 0-255 közötti érték. Abban az esetben hasznos ha ugyanaz a hiba több helyen van téritve, igy segitségével pontosan azonositható a kódrészlet.\n",
                "\n",
                "Példa:"
            ],
            "metadata": {
                "azdata_cell_guid": "9e13c7b7-8ca9-4e88-b717-39aef239dedd"
            },
            "attachments": {}
        },
        {
            "cell_type": "code",
            "source": [
                "  RAISERROR ('Error raised', -- Message text.  \n",
                "               16, -- Severity.  \n",
                "               1 -- State.  \n",
                "               );"
            ],
            "metadata": {
                "azdata_cell_guid": "9feaae82-152a-45ed-b01f-cb52f75842f1",
                "language": "sql"
            },
            "outputs": [
                {
                    "output_type": "error",
                    "ename": "",
                    "evalue": "Msg 50000, Level 16, State 1, Line 1\r\nError raised",
                    "traceback": []
                },
                {
                    "output_type": "display_data",
                    "data": {
                        "text/html": "Total execution time: 00:00:00.002"
                    },
                    "metadata": {}
                }
            ],
            "execution_count": 37
        },
        {
            "cell_type": "markdown",
            "source": [
                "### THROW \n",
                "Egyszerűbb módja a hibák téritésének. A sulyossága minden esetben(16) ezért visszatéritése esetén a kapcsolat megmarad. **A hiba száma minden esetben 50000 nél nagyobb kell legyen**\n",
                "<span class=\"hljs-keyword\" style=\"box-sizing: inherit; outline-color: inherit; color: rgb(1, 1, 253); font-family: SFMono-Regular, Consolas, &quot;Liberation Mono&quot;, Menlo, Courier, monospace; white-space: pre; background-color: rgb(242, 242, 242);\">THROW</span> <span style=\"color: rgb(23, 23, 23); font-family: SFMono-Regular, Consolas, &quot;Liberation Mono&quot;, Menlo, Courier, monospace; white-space: pre; background-color: rgb(242, 242, 242);\">[ { </span> <span class=\"hljs-variable\" style=\"box-sizing: inherit; outline-color: inherit; color: rgb(23, 23, 23); font-family: SFMono-Regular, Consolas, &quot;Liberation Mono&quot;, Menlo, Courier, monospace; white-space: pre; background-color: rgb(242, 242, 242);\">error_number</span> <span style=\"color: rgb(23, 23, 23); font-family: SFMono-Regular, Consolas, &quot;Liberation Mono&quot;, Menlo, Courier, monospace; white-space: pre; background-color: rgb(242, 242, 242);\">| @</span><span class=\"hljs-variable\" style=\"box-sizing: inherit; outline-color: inherit; color: rgb(23, 23, 23); font-family: SFMono-Regular, Consolas, &quot;Liberation Mono&quot;, Menlo, Courier, monospace; white-space: pre; background-color: rgb(242, 242, 242);\">local_variable</span> <span style=\"color: rgb(23, 23, 23); font-family: SFMono-Regular, Consolas, &quot;Liberation Mono&quot;, Menlo, Courier, monospace; white-space: pre; background-color: rgb(242, 242, 242);\">}, { message | @</span><span class=\"hljs-variable\" style=\"box-sizing: inherit; outline-color: inherit; color: rgb(23, 23, 23); font-family: SFMono-Regular, Consolas, &quot;Liberation Mono&quot;, Menlo, Courier, monospace; white-space: pre; background-color: rgb(242, 242, 242);\">local_variable</span> <span style=\"color: rgb(23, 23, 23); font-family: SFMono-Regular, Consolas, &quot;Liberation Mono&quot;, Menlo, Courier, monospace; white-space: pre; background-color: rgb(242, 242, 242);\">}, { state | @</span><span class=\"hljs-variable\" style=\"box-sizing: inherit; outline-color: inherit; color: rgb(23, 23, 23); font-family: SFMono-Regular, Consolas, &quot;Liberation Mono&quot;, Menlo, Courier, monospace; white-space: pre; background-color: rgb(242, 242, 242);\">local_variable</span> <span style=\"color: rgb(23, 23, 23); font-family: SFMono-Regular, Consolas, &quot;Liberation Mono&quot;, Menlo, Courier, monospace; white-space: pre; background-color: rgb(242, 242, 242);\">} ]</span>\n",
                "TRY-CATCH\n",
                "Mindkét kifejezést használjhatjuk a Try-Catch blokk esetén\n",
                "<span class=\"hljs-keyword\" style=\"color: rgb(1, 1, 253); box-sizing: inherit; outline-color: inherit; font-family: SFMono-Regular, Consolas, &quot;Liberation Mono&quot;, Menlo, Courier, monospace; white-space: pre; background-color: rgb(242, 242, 242);\">BEGIN</span> <span style=\"color: rgb(23, 23, 23); font-family: SFMono-Regular, Consolas, &quot;Liberation Mono&quot;, Menlo, Courier, monospace; white-space: pre; background-color: rgb(242, 242, 242);\">TRY</span>\n",
                "<span class=\"hljs-keyword\" style=\"color: rgb(1, 1, 253); box-sizing: inherit; outline-color: inherit; font-family: SFMono-Regular, Consolas, &quot;Liberation Mono&quot;, Menlo, Courier, monospace; white-space: pre; background-color: rgb(242, 242, 242);\">........</span>\n",
                "<span class=\"hljs-keyword\" style=\"color: rgb(1, 1, 253); box-sizing: inherit; outline-color: inherit; font-family: SFMono-Regular, Consolas, &quot;Liberation Mono&quot;, Menlo, Courier, monospace; white-space: pre; background-color: rgb(242, 242, 242);\">END</span> <span style=\"color: rgb(23, 23, 23); font-family: SFMono-Regular, Consolas, &quot;Liberation Mono&quot;, Menlo, Courier, monospace; white-space: pre; background-color: rgb(242, 242, 242);\">TRY</span>\n",
                "<span class=\"hljs-keyword\" style=\"color: rgb(1, 1, 253); box-sizing: inherit; outline-color: inherit; font-family: SFMono-Regular, Consolas, &quot;Liberation Mono&quot;, Menlo, Courier, monospace; white-space: pre; background-color: rgb(242, 242, 242);\">BEGIN</span> <span style=\"color: rgb(23, 23, 23); font-family: SFMono-Regular, Consolas, &quot;Liberation Mono&quot;, Menlo, Courier, monospace; white-space: pre; background-color: rgb(242, 242, 242);\">CATCH </span>  \n",
                ">  <span class=\"hljs-keyword\" style=\"color: rgb(1, 1, 253); box-sizing: inherit; outline-color: inherit; font-family: SFMono-Regular, Consolas, &quot;Liberation Mono&quot;, Menlo, Courier, monospace; white-space: pre; background-color: rgb(242, 242, 242);\">DECLARE</span> <span style=\"color: rgb(23, 23, 23); font-family: SFMono-Regular, Consolas, &quot;Liberation Mono&quot;, Menlo, Courier, monospace; white-space: pre; background-color: rgb(242, 242, 242);\">@ErrorMessage </span>  <span class=\"hljs-keyword\" style=\"color: rgb(1, 1, 253); box-sizing: inherit; outline-color: inherit; font-family: SFMono-Regular, Consolas, &quot;Liberation Mono&quot;, Menlo, Courier, monospace; white-space: pre; background-color: rgb(242, 242, 242);\">NVARCHAR</span><span style=\"color: rgb(23, 23, 23); font-family: SFMono-Regular, Consolas, &quot;Liberation Mono&quot;, Menlo, Courier, monospace; white-space: pre; background-color: rgb(242, 242, 242);\">(</span><span class=\"hljs-number\" style=\"color: rgb(23, 23, 23); box-sizing: inherit; outline-color: inherit; font-family: SFMono-Regular, Consolas, &quot;Liberation Mono&quot;, Menlo, Courier, monospace; white-space: pre; background-color: rgb(242, 242, 242);\">4000</span><span style=\"color: rgb(23, 23, 23); font-family: SFMono-Regular, Consolas, &quot;Liberation Mono&quot;, Menlo, Courier, monospace; white-space: pre; background-color: rgb(242, 242, 242);\">); </span>   \n",
                "> <span class=\"hljs-keyword\" style=\"color: rgb(1, 1, 253); box-sizing: inherit; outline-color: inherit; font-family: SFMono-Regular, Consolas, &quot;Liberation Mono&quot;, Menlo, Courier, monospace; white-space: pre; background-color: rgb(242, 242, 242);\">DECLARE</span> <span style=\"color: rgb(23, 23, 23); font-family: SFMono-Regular, Consolas, &quot;Liberation Mono&quot;, Menlo, Courier, monospace; white-space: pre; background-color: rgb(242, 242, 242);\">@ErrorSeverity </span>  <span class=\"hljs-built_in\" style=\"color: rgb(1, 1, 253); box-sizing: inherit; outline-color: inherit; font-family: SFMono-Regular, Consolas, &quot;Liberation Mono&quot;, Menlo, Courier, monospace; white-space: pre; background-color: rgb(242, 242, 242);\">INT</span><span style=\"color: rgb(23, 23, 23); font-family: SFMono-Regular, Consolas, &quot;Liberation Mono&quot;, Menlo, Courier, monospace; white-space: pre; background-color: rgb(242, 242, 242);\">; </span>  \n",
                ">  <span class=\"hljs-keyword\" style=\"color: rgb(1, 1, 253); box-sizing: inherit; outline-color: inherit; font-family: SFMono-Regular, Consolas, &quot;Liberation Mono&quot;, Menlo, Courier, monospace; white-space: pre; background-color: rgb(242, 242, 242);\">DECLARE</span> <span style=\"color: rgb(23, 23, 23); font-family: SFMono-Regular, Consolas, &quot;Liberation Mono&quot;, Menlo, Courier, monospace; white-space: pre; background-color: rgb(242, 242, 242);\">@ErrorState </span>  <span class=\"hljs-built_in\" style=\"color: rgb(1, 1, 253); box-sizing: inherit; outline-color: inherit; font-family: SFMono-Regular, Consolas, &quot;Liberation Mono&quot;, Menlo, Courier, monospace; white-space: pre; background-color: rgb(242, 242, 242);\">INT</span><span style=\"color: rgb(23, 23, 23); font-family: SFMono-Regular, Consolas, &quot;Liberation Mono&quot;, Menlo, Courier, monospace; white-space: pre; background-color: rgb(242, 242, 242);\">; </span>  \n",
                ">  <span class=\"hljs-keyword\" style=\"color: rgb(1, 1, 253); box-sizing: inherit; outline-color: inherit; font-family: SFMono-Regular, Consolas, &quot;Liberation Mono&quot;, Menlo, Courier, monospace; white-space: pre; background-color: rgb(242, 242, 242);\">SELECT</span> <span style=\"color: rgb(23, 23, 23); font-family: SFMono-Regular, Consolas, &quot;Liberation Mono&quot;, Menlo, Courier, monospace; white-space: pre; background-color: rgb(242, 242, 242);\">@ErrorMessage = ERROR_MESSAGE(), @ErrorSeverity = ERROR_SEVERITY(), @ErrorState = ERROR_STATE();</span>\n",
                "> \n",
                "> <span style=\"color: rgb(23, 23, 23); font-family: SFMono-Regular, Consolas, &quot;Liberation Mono&quot;, Menlo, Courier, monospace; white-space: pre; background-color: rgb(242, 242, 242);\">THROW</span>\n",
                "<span class=\"hljs-keyword\" style=\"color: rgb(1, 1, 253); box-sizing: inherit; outline-color: inherit; font-family: SFMono-Regular, Consolas, &quot;Liberation Mono&quot;, Menlo, Courier, monospace; white-space: pre; background-color: rgb(242, 242, 242);\">END</span> <span style=\"color: rgb(23, 23, 23); font-family: SFMono-Regular, Consolas, &quot;Liberation Mono&quot;, Menlo, Courier, monospace; white-space: pre; background-color: rgb(242, 242, 242);\">CATCH;</span>\n",
                "<span style=\"color: rgb(23, 23, 23); font-family: SFMono-Regular, Consolas, &quot;Liberation Mono&quot;, Menlo, Courier, monospace; white-space: pre; background-color: rgb(242, 242, 242);\"><br></span>\n",
                "### <span style=\"font-size: 14px; color: rgb(23, 23, 23); font-family: SFMono-Regular, Consolas, &quot;Liberation Mono&quot;, Menlo, Courier, monospace; white-space: pre; background-color: rgb(242, 242, 242);\">@@</span><span class=\"hljs-keyword\" style=\"font-size: 14px; box-sizing: inherit; outline-color: inherit; color: rgb(1, 1, 253); font-family: SFMono-Regular, Consolas, &quot;Liberation Mono&quot;, Menlo, Courier, monospace; white-space: pre; background-color: rgb(242, 242, 242);\">ERROR</span> - rendszerváltozó\n",
                "Minden kifejezés után ujra be van állitva. Abban az esetben ha 0 ha az előző kifejezés sikeresen vegre lett hajtva különben 0-tol különböző.\n",
                "<span style=\"color: rgb(23, 23, 23); font-family: SFMono-Regular, Consolas, &quot;Liberation Mono&quot;, Menlo, Courier, monospace; white-space: pre; background-color: rgb(242, 242, 242);\">IF @@ERROR &lt;&gt; 0 </span> <span class=\"hljs-keyword\" style=\"box-sizing: inherit; outline-color: inherit; color: rgb(1, 1, 253); font-family: SFMono-Regular, Consolas, &quot;Liberation Mono&quot;, Menlo, Courier, monospace; white-space: pre; background-color: rgb(242, 242, 242);\">BEGIN</span>\n",
                ">   \n",
                "<span class=\"hljs-keyword\" style=\"box-sizing: inherit; outline-color: inherit; color: rgb(1, 1, 253); font-family: SFMono-Regular, Consolas, &quot;Liberation Mono&quot;, Menlo, Courier, monospace; white-space: pre; background-color: rgb(242, 242, 242);\">END</span>\n",
                "Feladatok: felhasználva az előző tárolt eljárást bővitsük ki a bemeneti paraméter validálásával és abban az esetben ha nem létzik alkalmazzunk hibakezelést."
            ],
            "metadata": {
                "azdata_cell_guid": "e6cdd7d8-8c95-49fb-8630-9a06d7d50617"
            },
            "attachments": {}
        },
        {
            "cell_type": "code",
            "source": [
                "THROW 51000, 'The record does not exist.', 1; \n"
            ],
            "metadata": {
                "azdata_cell_guid": "7d67f129-0809-411d-a0d9-147bc57ae676",
                "language": "sql"
            },
            "outputs": [
                {
                    "output_type": "error",
                    "ename": "",
                    "evalue": "Msg 51000, Level 16, State 1, Line 1\r\nThe record does not exist.",
                    "traceback": []
                },
                {
                    "output_type": "display_data",
                    "data": {
                        "text/html": "Total execution time: 00:00:00.002"
                    },
                    "metadata": {}
                }
            ],
            "execution_count": 36
        },
        {
            "cell_type": "markdown",
            "source": [
                "# Függvények\n",
                "\n",
                "3 féle függvény definiálható:\n",
                "\n",
                "\\- Scalar-valued: 1 értéket visszatéritő\n",
                "\n",
                "<span class=\"hljs-keyword\" style=\"color:rgb(1, 1, 253);font-family:SFMono-Regular, Consolas, &quot;Liberation Mono&quot;, Menlo, Courier, monospace;white-space:pre;background-color:rgb(242, 242, 242);\">CREATE</span> <span class=\"hljs-keyword\" style=\"color:rgb(1, 1, 253);font-family:SFMono-Regular, Consolas, &quot;Liberation Mono&quot;, Menlo, Courier, monospace;white-space:pre;background-color:rgb(242, 242, 242);\">FUNCTION</span> <span style=\"color:rgb(23, 23, 23);font-family:SFMono-Regular, Consolas, &quot;Liberation Mono&quot;, Menlo, Courier, monospace;white-space:pre;background-color:rgb(242, 242, 242);\">FunName(@ParamName </span> <span style=\"font-family:SFMono-Regular, Consolas, &quot;Liberation Mono&quot;, Menlo, Courier, monospace;white-space:pre;background-color:rgb(242, 242, 242);\"><font color=\"#0101fd\">paramType,...</font></span><span style=\"color:rgb(23, 23, 23);font-family:SFMono-Regular, Consolas, &quot;Liberation Mono&quot;, Menlo, Courier, monospace;white-space:pre;background-color:rgb(242, 242, 242);\">)</span>\n",
                "\n",
                "<span class=\"hljs-keyword\" style=\"color:rgb(1, 1, 253);font-family:SFMono-Regular, Consolas, &quot;Liberation Mono&quot;, Menlo, Courier, monospace;white-space:pre;background-color:rgb(242, 242, 242);\">RETURNS</span> <span style=\"white-space:pre;background-color:rgb(242, 242, 242);\">returnType</span>\n",
                "\n",
                " <span class=\"hljs-keyword\" style=\"color:rgb(1, 1, 253);font-family:SFMono-Regular, Consolas, &quot;Liberation Mono&quot;, Menlo, Courier, monospace;white-space:pre;background-color:rgb(242, 242, 242);\">AS</span> <span class=\"hljs-keyword\" style=\"color:rgb(1, 1, 253);font-family:SFMono-Regular, Consolas, &quot;Liberation Mono&quot;, Menlo, Courier, monospace;white-space:pre;background-color:rgb(242, 242, 242);\">BEGIN</span>\n",
                "\n",
                "<span class=\"hljs-keyword\" style=\"color:rgb(1, 1, 253);font-family:SFMono-Regular, Consolas, &quot;Liberation Mono&quot;, Menlo, Courier, monospace;white-space:pre;background-color:rgb(242, 242, 242);\">...RETURN(....)</span>\n",
                "\n",
                "<span class=\"hljs-keyword\" style=\"color:rgb(1, 1, 253);font-family:SFMono-Regular, Consolas, &quot;Liberation Mono&quot;, Menlo, Courier, monospace;white-space:pre;background-color:rgb(242, 242, 242);\">END</span>\n",
                "\n",
                "\\- Inline: 1 lekérdezésből álló\n",
                "\n",
                "> <span class=\"hljs-keyword\" style=\"color:rgb(1, 1, 253);font-family:SFMono-Regular, Consolas, &quot;Liberation Mono&quot;, Menlo, Courier, monospace;white-space:pre;background-color:rgb(242, 242, 242);\">CREATE</span> <span class=\"hljs-keyword\" style=\"color:rgb(1, 1, 253);font-family:SFMono-Regular, Consolas, &quot;Liberation Mono&quot;, Menlo, Courier, monospace;white-space:pre;background-color:rgb(242, 242, 242);\">FUNCTION</span> <span style=\"color:rgb(23, 23, 23);font-family:SFMono-Regular, Consolas, &quot;Liberation Mono&quot;, Menlo, Courier, monospace;white-space:pre;background-color:rgb(242, 242, 242);\">FunName(@ParamName </span> <span style=\"font-family:SFMono-Regular, Consolas, &quot;Liberation Mono&quot;, Menlo, Courier, monospace;white-space:pre;background-color:rgb(242, 242, 242);\"><font color=\"#0101fd\">paramType</font></span><span style=\"color:rgb(23, 23, 23);font-family:SFMono-Regular, Consolas, &quot;Liberation Mono&quot;, Menlo, Courier, monospace;white-space:pre;background-color:rgb(242, 242, 242);\">) </span>  \n",
                "\n",
                "> <span class=\"hljs-keyword\" style=\"color:rgb(1, 1, 253);font-family:SFMono-Regular, Consolas, &quot;Liberation Mono&quot;, Menlo, Courier, monospace;white-space:pre;background-color:rgb(242, 242, 242);\">RETURNS</span> <span class=\"hljs-keyword\" style=\"color:rgb(1, 1, 253);font-family:SFMono-Regular, Consolas, &quot;Liberation Mono&quot;, Menlo, Courier, monospace;white-space:pre;background-color:rgb(242, 242, 242);\">TABLE</span> \n",
                "\n",
                "> <span class=\"hljs-keyword\" style=\"color:rgb(1, 1, 253);font-family:SFMono-Regular, Consolas, &quot;Liberation Mono&quot;, Menlo, Courier, monospace;white-space:pre;background-color:rgb(242, 242, 242);\">AS</span> <span class=\"hljs-keyword\" style=\"color:rgb(1, 1, 253);font-family:SFMono-Regular, Consolas, &quot;Liberation Mono&quot;, Menlo, Courier, monospace;white-space:pre;background-color:rgb(242, 242, 242);\">RETURN</span> <span style=\"color:rgb(23, 23, 23);font-family:SFMono-Regular, Consolas, &quot;Liberation Mono&quot;, Menlo, Courier, monospace;white-space:pre;background-color:rgb(242, 242, 242);\">(SELECT.....)</span>\n",
                "\n",
                "\\- Multi-statement: \n",
                "\n",
                "<span class=\"hljs-keyword\" style=\"color:rgb(1, 1, 253);font-family:SFMono-Regular, Consolas, &quot;Liberation Mono&quot;, Menlo, Courier, monospace;white-space:pre;background-color:rgb(242, 242, 242);\">CREATE</span> <span class=\"hljs-keyword\" style=\"color:rgb(1, 1, 253);font-family:SFMono-Regular, Consolas, &quot;Liberation Mono&quot;, Menlo, Courier, monospace;white-space:pre;background-color:rgb(242, 242, 242);\">FUNCTION</span> <span style=\"color:rgb(23, 23, 23);font-family:SFMono-Regular, Consolas, &quot;Liberation Mono&quot;, Menlo, Courier, monospace;white-space:pre;background-color:rgb(242, 242, 242);\">FunName(@ParamName </span> <span style=\"font-family:SFMono-Regular, Consolas, &quot;Liberation Mono&quot;, Menlo, Courier, monospace;white-space:pre;background-color:rgb(242, 242, 242);\"><font color=\"#0101fd\">paramType</font></span><span style=\"color:rgb(23, 23, 23);font-family:SFMono-Regular, Consolas, &quot;Liberation Mono&quot;, Menlo, Courier, monospace;white-space:pre;background-color:rgb(242, 242, 242);\">)</span>\n",
                "\n",
                "> <span class=\"hljs-keyword\" style=\"color:rgb(1, 1, 253);font-family:SFMono-Regular, Consolas, &quot;Liberation Mono&quot;, Menlo, Courier, monospace;white-space:pre;background-color:rgb(242, 242, 242);\">RETURNS</span> <span style=\"color:rgb(23, 23, 23);font-family:SFMono-Regular, Consolas, &quot;Liberation Mono&quot;, Menlo, Courier, monospace;white-space:pre;background-color:rgb(242, 242, 242);\">@tableParameterName </span> <span class=\"hljs-keyword\" style=\"color:rgb(1, 1, 253);font-family:SFMono-Regular, Consolas, &quot;Liberation Mono&quot;, Menlo, Courier, monospace;white-space:pre;background-color:rgb(242, 242, 242);\">TABLE</span> <span style=\"color:rgb(23, 23, 23);font-family:SFMono-Regular, Consolas, &quot;Liberation Mono&quot;, Menlo, Courier, monospace;white-space:pre;background-color:rgb(242, 242, 242);\">( FieldName </span> <span style=\"font-family:SFMono-Regular, Consolas, &quot;Liberation Mono&quot;, Menlo, Courier, monospace;white-space:pre;background-color:rgb(242, 242, 242);\"><font color=\"#0101fd\">fieldType</font></span><span class=\"hljs-literal\" style=\"color:rgb(7, 112, 74);font-family:SFMono-Regular, Consolas, &quot;Liberation Mono&quot;, Menlo, Courier, monospace;white-space:pre;background-color:rgb(242, 242, 242);\">, </span> <span style=\"background-color:rgb(242, 242, 242);color:rgb(7, 112, 74);font-family:SFMono-Regular, Consolas, &quot;Liberation Mono&quot;, Menlo, Courier, monospace;white-space:pre;\">.... </span> <span style=\"background-color:rgb(242, 242, 242);color:rgb(23, 23, 23);font-family:SFMono-Regular, Consolas, &quot;Liberation Mono&quot;, Menlo, Courier, monospace;white-space:pre;\">)</span>\n",
                "\n",
                " <span class=\"hljs-keyword\" style=\"color:rgb(1, 1, 253);font-family:SFMono-Regular, Consolas, &quot;Liberation Mono&quot;, Menlo, Courier, monospace;white-space:pre;background-color:rgb(242, 242, 242);\">AS</span> <span class=\"hljs-keyword\" style=\"color:rgb(1, 1, 253);font-family:SFMono-Regular, Consolas, &quot;Liberation Mono&quot;, Menlo, Courier, monospace;white-space:pre;background-color:rgb(242, 242, 242);\">BEGIN</span>\n",
                "\n",
                "<span style=\"color:rgb(23, 23, 23);font-family:SFMono-Regular, Consolas, &quot;Liberation Mono&quot;, Menlo, Courier, monospace;white-space:pre;background-color:rgb(242, 242, 242);\">DML(insert update delete) on </span> <span style=\"background-color:rgb(242, 242, 242);color:rgb(23, 23, 23);font-family:SFMono-Regular, Consolas, &quot;Liberation Mono&quot;, Menlo, Courier, monospace;white-space:pre;\">@tableParameterName</span>\n",
                "\n",
                "<span style=\"color:rgb(23, 23, 23);font-family:SFMono-Regular, Consolas, &quot;Liberation Mono&quot;, Menlo, Courier, monospace;white-space:pre;background-color:rgb(242, 242, 242);\">RETURN</span>\n",
                "\n",
                "<span style=\"color:rgb(1, 1, 253);font-family:SFMono-Regular, Consolas, &quot;Liberation Mono&quot;, Menlo, Courier, monospace;white-space:pre;background-color:rgb(242, 242, 242);\">END</span>\n",
                "\n",
                "Feladatok:<span style=\"color:rgb(1, 1, 253);font-family:SFMono-Regular, Consolas, &quot;Liberation Mono&quot;, Menlo, Courier, monospace;white-space:pre;background-color:rgb(242, 242, 242);\"><br></span>\n",
                "\n",
                "\\- Irjunk függvényt amely paraméterként egy termék kategóriát kap majd visszatériti a kategóriába tartozó termékeket"
            ],
            "metadata": {
                "azdata_cell_guid": "9352dabc-4af4-4841-83db-05ba83ce4991"
            },
            "attachments": {}
        },
        {
            "cell_type": "markdown",
            "source": [],
            "metadata": {
                "azdata_cell_guid": "48a7188c-d6ae-4abc-b0fa-b97b37de65b9"
            }
        },
        {
            "cell_type": "markdown",
            "source": [
                "Extra material:\n",
                "\n",
                "[https://docs.microsoft.com/en-gb/learn/paths/write-advanced-transact-sql-queries/](https://docs.microsoft.com/en-gb/learn/paths/write-advanced-transact-sql-queries/)\n",
                "\n",
                "[https://docs.microsoft.com/en-gb/learn/paths/program-transact-sql/](https://docs.microsoft.com/en-gb/learn/paths/program-transact-sql/)"
            ],
            "metadata": {
                "azdata_cell_guid": "b218059b-62bd-4b3e-a70e-11893207c45e"
            },
            "attachments": {}
        },
        {
            "cell_type": "markdown",
            "source": [],
            "metadata": {
                "azdata_cell_guid": "c8c16b74-caf8-405a-991a-f54ab5dbcc4f"
            },
            "attachments": {}
        }
    ]
}