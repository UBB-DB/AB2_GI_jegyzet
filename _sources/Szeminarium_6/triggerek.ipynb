{
    "metadata": {
        "kernelspec": {
            "name": "SQL",
            "display_name": "SQL",
            "language": "sql"
        },
        "language_info": {
            "name": "sql",
            "version": ""
        }
    },
    "nbformat_minor": 2,
    "nbformat": 4,
    "cells": [
        {
            "cell_type": "markdown",
            "source": [
                "## Triggerek\n",
                "\n",
                "Amikor triggerekrol beszelunk legtobbszor DML triggereket értünk alatta (vannak egyéb tipusuak is pl. DDL triggerek)\n",
                "\n",
                "2 féle szempontból osztályozhatjuk a triggereket:\n",
                "\n",
                "- Milyen műveletre vagy műveletekre sül el: INSERT, UPDATE, DELETE\n",
                "- Mikor \"sül\" el: AFTER(FOR), INSTEAD OF\n",
                "\n",
                "Szintaxis:"
            ],
            "metadata": {
                "azdata_cell_guid": "e5e62e1c-2675-48f1-9825-b571fe3ccc3c"
            },
            "attachments": {}
        },
        {
            "cell_type": "markdown",
            "source": [
                "<span class=\"hljs-keyword\" style=\"box-sizing: inherit; outline-color: inherit; color: rgb(1, 1, 253); font-family: SFMono-Regular, Consolas, &quot;Liberation Mono&quot;, Menlo, Courier, monospace; white-space: pre; background-color: rgb(242, 242, 242);\">CREATE</span> <span style=\"color: rgb(23, 23, 23); font-family: SFMono-Regular, Consolas, &quot;Liberation Mono&quot;, Menlo, Courier, monospace; white-space: pre; background-color: rgb(242, 242, 242);\">[ </span> <span class=\"hljs-keyword\" style=\"box-sizing: inherit; outline-color: inherit; color: rgb(1, 1, 253); font-family: SFMono-Regular, Consolas, &quot;Liberation Mono&quot;, Menlo, Courier, monospace; white-space: pre; background-color: rgb(242, 242, 242);\">OR</span> <span class=\"hljs-keyword\" style=\"box-sizing: inherit; outline-color: inherit; color: rgb(1, 1, 253); font-family: SFMono-Regular, Consolas, &quot;Liberation Mono&quot;, Menlo, Courier, monospace; white-space: pre; background-color: rgb(242, 242, 242);\">ALTER</span> <span style=\"color: rgb(23, 23, 23); font-family: SFMono-Regular, Consolas, &quot;Liberation Mono&quot;, Menlo, Courier, monospace; white-space: pre; background-color: rgb(242, 242, 242);\">] </span> <span class=\"hljs-keyword\" style=\"box-sizing: inherit; outline-color: inherit; color: rgb(1, 1, 253); font-family: SFMono-Regular, Consolas, &quot;Liberation Mono&quot;, Menlo, Courier, monospace; white-space: pre; background-color: rgb(242, 242, 242);\">TRIGGER</span> <span style=\"color: rgb(23, 23, 23); font-family: SFMono-Regular, Consolas, &quot;Liberation Mono&quot;, Menlo, Courier, monospace; white-space: pre; background-color: rgb(242, 242, 242);\">[ </span> <span class=\"hljs-variable\" style=\"box-sizing: inherit; outline-color: inherit; color: rgb(23, 23, 23); font-family: SFMono-Regular, Consolas, &quot;Liberation Mono&quot;, Menlo, Courier, monospace; white-space: pre; background-color: rgb(242, 242, 242);\">schema_name</span> <span style=\"color: rgb(23, 23, 23); font-family: SFMono-Regular, Consolas, &quot;Liberation Mono&quot;, Menlo, Courier, monospace; white-space: pre; background-color: rgb(242, 242, 242);\">. ]</span><span class=\"hljs-variable\" style=\"box-sizing: inherit; outline-color: inherit; color: rgb(23, 23, 23); font-family: SFMono-Regular, Consolas, &quot;Liberation Mono&quot;, Menlo, Courier, monospace; white-space: pre; background-color: rgb(242, 242, 242);\">trigger_name</span> <span class=\"hljs-literal\" style=\"box-sizing: inherit; outline-color: inherit; color: rgb(7, 112, 74); font-family: SFMono-Regular, Consolas, &quot;Liberation Mono&quot;, Menlo, Courier, monospace; white-space: pre; background-color: rgb(242, 242, 242);\"><span class=\"hljs-keyword\" style=\"box-sizing: inherit; outline-color: inherit; color: rgb(1, 1, 253);\">ON</span></span> <span style=\"color: rgb(23, 23, 23); font-family: SFMono-Regular, Consolas, &quot;Liberation Mono&quot;, Menlo, Courier, monospace; white-space: pre; background-color: rgb(242, 242, 242);\">{ table | view }</span>\n",
                "\n",
                "<span style=\"color: rgb(23, 23, 23); font-family: SFMono-Regular, Consolas, &quot;Liberation Mono&quot;, Menlo, Courier, monospace; white-space: pre; background-color: rgb(242, 242, 242);\">{ </span> <span class=\"hljs-keyword\" style=\"box-sizing: inherit; outline-color: inherit; color: rgb(1, 1, 253); font-family: SFMono-Regular, Consolas, &quot;Liberation Mono&quot;, Menlo, Courier, monospace; white-space: pre; background-color: rgb(242, 242, 242);\">FOR</span> <span style=\"color: rgb(23, 23, 23); font-family: SFMono-Regular, Consolas, &quot;Liberation Mono&quot;, Menlo, Courier, monospace; white-space: pre; background-color: rgb(242, 242, 242);\">| </span> <span class=\"hljs-keyword\" style=\"box-sizing: inherit; outline-color: inherit; color: rgb(1, 1, 253); font-family: SFMono-Regular, Consolas, &quot;Liberation Mono&quot;, Menlo, Courier, monospace; white-space: pre; background-color: rgb(242, 242, 242);\">AFTER</span> <span style=\"color: rgb(23, 23, 23); font-family: SFMono-Regular, Consolas, &quot;Liberation Mono&quot;, Menlo, Courier, monospace; white-space: pre; background-color: rgb(242, 242, 242);\">| </span> <span class=\"hljs-keyword\" style=\"box-sizing: inherit; outline-color: inherit; color: rgb(1, 1, 253); font-family: SFMono-Regular, Consolas, &quot;Liberation Mono&quot;, Menlo, Courier, monospace; white-space: pre; background-color: rgb(242, 242, 242);\">INSTEAD</span> <span class=\"hljs-keyword\" style=\"box-sizing: inherit; outline-color: inherit; color: rgb(1, 1, 253); font-family: SFMono-Regular, Consolas, &quot;Liberation Mono&quot;, Menlo, Courier, monospace; white-space: pre; background-color: rgb(242, 242, 242);\">OF</span> <span style=\"color: rgb(23, 23, 23); font-family: SFMono-Regular, Consolas, &quot;Liberation Mono&quot;, Menlo, Courier, monospace; white-space: pre; background-color: rgb(242, 242, 242);\">}</span>\n",
                "\n",
                "<span style=\"color: rgb(23, 23, 23); font-family: SFMono-Regular, Consolas, &quot;Liberation Mono&quot;, Menlo, Courier, monospace; white-space: pre; background-color: rgb(242, 242, 242);\">{ [ </span> <span class=\"hljs-keyword\" style=\"box-sizing: inherit; outline-color: inherit; color: rgb(1, 1, 253); font-family: SFMono-Regular, Consolas, &quot;Liberation Mono&quot;, Menlo, Courier, monospace; white-space: pre; background-color: rgb(242, 242, 242);\">INSERT</span> <span style=\"color: rgb(23, 23, 23); font-family: SFMono-Regular, Consolas, &quot;Liberation Mono&quot;, Menlo, Courier, monospace; white-space: pre; background-color: rgb(242, 242, 242);\">] [ , ] [ </span> <span class=\"hljs-keyword\" style=\"box-sizing: inherit; outline-color: inherit; color: rgb(1, 1, 253); font-family: SFMono-Regular, Consolas, &quot;Liberation Mono&quot;, Menlo, Courier, monospace; white-space: pre; background-color: rgb(242, 242, 242);\">UPDATE</span> <span style=\"color: rgb(23, 23, 23); font-family: SFMono-Regular, Consolas, &quot;Liberation Mono&quot;, Menlo, Courier, monospace; white-space: pre; background-color: rgb(242, 242, 242);\">] [ , ] [ </span> <span class=\"hljs-keyword\" style=\"box-sizing: inherit; outline-color: inherit; color: rgb(1, 1, 253); font-family: SFMono-Regular, Consolas, &quot;Liberation Mono&quot;, Menlo, Courier, monospace; white-space: pre; background-color: rgb(242, 242, 242);\">DELETE</span> <span style=\"color: rgb(23, 23, 23); font-family: SFMono-Regular, Consolas, &quot;Liberation Mono&quot;, Menlo, Courier, monospace; white-space: pre; background-color: rgb(242, 242, 242);\">] }</span>\n",
                "\n",
                "<span class=\"hljs-keyword\" style=\"box-sizing: inherit; outline-color: inherit; color: rgb(1, 1, 253); font-family: SFMono-Regular, Consolas, &quot;Liberation Mono&quot;, Menlo, Courier, monospace; white-space: pre; background-color: rgb(242, 242, 242);\">AS</span> <span style=\"color: rgb(23, 23, 23); font-family: SFMono-Regular, Consolas, &quot;Liberation Mono&quot;, Menlo, Courier, monospace; white-space: pre; background-color: rgb(242, 242, 242);\">{ </span> <span class=\"hljs-variable\" style=\"box-sizing: inherit; outline-color: inherit; color: rgb(23, 23, 23); font-family: SFMono-Regular, Consolas, &quot;Liberation Mono&quot;, Menlo, Courier, monospace; white-space: pre; background-color: rgb(242, 242, 242);\">sql_statement</span> <span style=\"color: rgb(23, 23, 23); font-family: SFMono-Regular, Consolas, &quot;Liberation Mono&quot;, Menlo, Courier, monospace; white-space: pre; background-color: rgb(242, 242, 242);\">[ ; ] [ ,...n ]</span> <span style=\"color: rgb(23, 23, 23); font-family: SFMono-Regular, Consolas, &quot;Liberation Mono&quot;, Menlo, Courier, monospace; white-space: pre; background-color: rgb(242, 242, 242);\"> }</span>"
            ],
            "metadata": {
                "azdata_cell_guid": "bb682b2e-cca2-4fab-8675-407337682440"
            },
            "attachments": {}
        },
        {
            "cell_type": "markdown",
            "source": [
                "**Inserted ás Deleted táblák a módositó művelet tipusától fuggően lesznek beállítva.**\n",
                "\n",
                "**Fontos: Csak 1 INSTEAD OF trigger definiálható 1 táblára.**"
            ],
            "metadata": {
                "azdata_cell_guid": "6f693628-03d6-4753-a024-2ba9fcf65b4c"
            },
            "attachments": {}
        },
        {
            "cell_type": "markdown",
            "source": [
                "Feladatok:\n",
                "\\- Készítsünk egy táblát Beszerzés névvel  BeszerzesID és Osszeg mezővel melynek célja majd beszerzesek összköltségét fogja kezelni.\n",
                "\\- Irjunk INSERT triggert a Purchasing.PurchaseOrderDetail tablara mely frissiti a Beszerzes tábla Ossszeg mezőjét Ossszeg = Ossszeg + <span style=\"color: rgb(33, 33, 33); font-family: Consolas, &quot;Courier New&quot;, monospace; font-size: 12px; white-space: pre;\">SalesOrderDetail</span><span style=\"color: var(--vscode-foreground);\">.OrderQty *&nbsp;</span>  <span style=\"color: rgb(33, 33, 33); font-family: Consolas, &quot;Courier New&quot;, monospace; font-size: 12px; white-space: pre;\">SalesOrderDetail</span><span style=\"color: var(--vscode-foreground);\">.UnitPrice. Abban az esetben ha a&nbsp;</span> <span style=\"color: rgb(33, 33, 33); font-family: Consolas, &quot;Courier New&quot;, monospace; font-size: 12px; white-space: pre;\">SalesOrderID</span>  <span style=\"color: var(--vscode-foreground);\">nem jelenik meg a Beszerzések táblában szurjuk be azt</span>\n",
                "\\- Bővítsük ki DELETE-re is és frissitsük a Ossszeget a törölt elemek alapján.\n",
                "Opc:\n",
                "\\- Írjunk triggert amely PurchaseOrderHeader táblára <span style=\"color: var(--vscode-foreground);\">DELETE</span>      <span style=\"color: var(--vscode-foreground);\">&nbsp; műveletére</span>   <span style=\"color: var(--vscode-foreground);\">&nbsp;aktiválódik és&nbsp; kitörli a megfelelő hivatkozásokat&nbsp; a&nbsp;</span>   <span style=\"color: var(--vscode-foreground);\">PurchaseOrderDetail táblából</span>"
            ],
            "metadata": {
                "azdata_cell_guid": "a1acb4d7-a20c-4814-a4c5-2ba5917eebbc"
            },
            "attachments": {}
        },
        {
            "cell_type": "code",
            "source": [
                "-- Create a new table called '[TableName]' in schema '[dbo]'\r\n",
                "-- Drop the table if it already exists\r\n",
                "IF OBJECT_ID('[SalesLT].[Beszerzes]', 'U') IS NOT NULL\r\n",
                "DROP TABLE [SalesLT].[Beszerzes]\r\n",
                "GO\r\n",
                "-- Create the table in the specified schema\r\n",
                "CREATE TABLE [SalesLT].[Beszerzes]\r\n",
                "(\r\n",
                "    BeszerzesID INT NOT NULL PRIMARY KEY, -- Primary Key column\r\n",
                "    Osszeg MONEY NOT NULL,\r\n",
                ");\r\n",
                "GO\r\n",
                ""
            ],
            "metadata": {
                "azdata_cell_guid": "728a0651-58e6-4a33-bbf0-0ee127bd9c89",
                "language": "sql",
                "tags": []
            },
            "outputs": [
                {
                    "output_type": "display_data",
                    "data": {
                        "text/html": "Commands completed successfully."
                    },
                    "metadata": {}
                },
                {
                    "output_type": "display_data",
                    "data": {
                        "text/html": "Commands completed successfully."
                    },
                    "metadata": {}
                },
                {
                    "output_type": "display_data",
                    "data": {
                        "text/html": "Total execution time: 00:00:00.002"
                    },
                    "metadata": {}
                }
            ],
            "execution_count": 2
        },
        {
            "cell_type": "code",
            "source": [
                "CREATE OR ALTER   TRIGGER SalesLT.Eladas ON SalesLT.SalesOrderDetail \r\n",
                "FOR\r\n",
                "INSERT\r\n",
                "AS \r\n",
                "BEGIN\r\n",
                "    DECLARE @id INT = (SELECT SalesOrderID FROM inserted)\r\n",
                "    IF @id NOT IN (SELECT BeszerzesID FROM [SalesLT].[Beszerzes] )\r\n",
                "    BEGIN\r\n",
                "       INSERT INTO Beszerzes VALUES (@id, 0) \r\n",
                "    END\r\n",
                "    UPDATE Beszerzes SET Osszeg = \r\n",
                "    Osszeg + inserted.OrderQty * inserted.UnitPrice\r\n",
                "    FROM Beszerzes \r\n",
                "    JOIN inserted ON Beszerzes.BeszerzesID = inserted.SalesOrderID \r\n",
                "END"
            ],
            "metadata": {
                "language": "sql",
                "azdata_cell_guid": "a1eeece9-a8cb-4515-be71-686e558dc92b",
                "tags": []
            },
            "outputs": [
                {
                    "output_type": "display_data",
                    "data": {
                        "text/html": "Commands completed successfully."
                    },
                    "metadata": {}
                },
                {
                    "output_type": "display_data",
                    "data": {
                        "text/html": "Total execution time: 00:00:00.004"
                    },
                    "metadata": {}
                }
            ],
            "execution_count": 4
        },
        {
            "cell_type": "code",
            "source": [
                "-- SELECT * FROM SalesLT.SalesOrderDetail\r\n",
                "INSERT INTO SalesLT.SalesOrderDetail\r\n",
                "(SalesOrderID,OrderQty,ProductID,UnitPrice,UnitPriceDiscount)\r\n",
                "VALUES \r\n",
                "(71776,3,907,122,0.00)"
            ],
            "metadata": {
                "language": "sql",
                "azdata_cell_guid": "c1bd3d2b-2136-427b-b07b-792c36c69f9e",
                "tags": []
            },
            "outputs": [
                {
                    "output_type": "display_data",
                    "data": {
                        "text/html": "(1 row affected)"
                    },
                    "metadata": {}
                },
                {
                    "output_type": "display_data",
                    "data": {
                        "text/html": "(1 row affected)"
                    },
                    "metadata": {}
                },
                {
                    "output_type": "display_data",
                    "data": {
                        "text/html": "Total execution time: 00:00:00.022"
                    },
                    "metadata": {}
                }
            ],
            "execution_count": 8
        },
        {
            "cell_type": "code",
            "source": [
                "SELECT * FROM SalesLT.Beszerzes"
            ],
            "metadata": {
                "language": "sql",
                "azdata_cell_guid": "02de8357-0483-4bfe-ab7e-1a74d4c581b2"
            },
            "outputs": [
                {
                    "output_type": "display_data",
                    "data": {
                        "text/html": "(1 row affected)"
                    },
                    "metadata": {}
                },
                {
                    "output_type": "display_data",
                    "data": {
                        "text/html": "Total execution time: 00:00:00.007"
                    },
                    "metadata": {}
                },
                {
                    "output_type": "execute_result",
                    "execution_count": 14,
                    "data": {
                        "application/vnd.dataresource+json": {
                            "schema": {
                                "fields": [
                                    {
                                        "name": "BeszerzesID"
                                    },
                                    {
                                        "name": "Osszeg"
                                    }
                                ]
                            },
                            "data": [
                                {
                                    "BeszerzesID": "71776",
                                    "Osszeg": "366.00"
                                }
                            ]
                        },
                        "text/html": "<table><tr><th>BeszerzesID</th><th>Osszeg</th></tr><tr><td>71776</td><td>366.00</td></tr></table>"
                    },
                    "metadata": {}
                }
            ],
            "execution_count": 14
        },
        {
            "cell_type": "code",
            "source": [
                "CREATE OR ALTER   TRIGGER SalesLT.Eladas ON SalesLT.SalesOrderDetail \r\n",
                "FOR\r\n",
                "DELETE\r\n",
                "AS \r\n",
                "BEGIN\r\n",
                "    DECLARE @id INT = (SELECT SalesOrderID FROM deleted)\r\n",
                "    \r\n",
                "    UPDATE Beszerzes SET Osszeg = \r\n",
                "    Osszeg - deleted.OrderQty * deleted.UnitPrice\r\n",
                "    FROM Beszerzes \r\n",
                "    JOIN deleted ON Beszerzes.BeszerzesID = deleted.SalesOrderID \r\n",
                "    IF EXISTS(SELECT Beszerzes.Osszeg FROM Beszerzes WHERE Osszeg=0 AND \r\n",
                "    BeszerzesID=@id) \r\n",
                "    BEGIN\r\n",
                "        DELETE FROM Beszerzes\r\n",
                "        WHERE BeszerzesID=@id\r\n",
                "    END\r\n",
                "END"
            ],
            "metadata": {
                "language": "sql",
                "azdata_cell_guid": "f438d966-0a4a-44a0-98ba-ccabaa783ff2"
            },
            "outputs": [
                {
                    "output_type": "display_data",
                    "data": {
                        "text/html": "Commands completed successfully."
                    },
                    "metadata": {}
                },
                {
                    "output_type": "display_data",
                    "data": {
                        "text/html": "Total execution time: 00:00:00.005"
                    },
                    "metadata": {}
                }
            ],
            "execution_count": 10
        },
        {
            "cell_type": "code",
            "source": [
                "DELETE FROM SalesLT.SalesOrderDetail\r\n",
                "WHERE SalesOrderDetailID=113407"
            ],
            "metadata": {
                "language": "sql",
                "azdata_cell_guid": "a46eba05-de4d-418a-9e66-d527c12fdc7f"
            },
            "outputs": [
                {
                    "output_type": "display_data",
                    "data": {
                        "text/html": "(1 row affected)"
                    },
                    "metadata": {}
                },
                {
                    "output_type": "display_data",
                    "data": {
                        "text/html": "(1 row affected)"
                    },
                    "metadata": {}
                },
                {
                    "output_type": "display_data",
                    "data": {
                        "text/html": "Total execution time: 00:00:00.016"
                    },
                    "metadata": {}
                }
            ],
            "execution_count": 13
        },
        {
            "cell_type": "code",
            "source": [
                "SELECT * FROM SalesLT.SalesOrderDetail\r\n",
                "WHERE SalesOrderID=71776"
            ],
            "metadata": {
                "language": "sql",
                "azdata_cell_guid": "0dc58096-07bc-4435-b662-844e49e0de5f"
            },
            "outputs": [
                {
                    "output_type": "display_data",
                    "data": {
                        "text/html": "(3 rows affected)"
                    },
                    "metadata": {}
                },
                {
                    "output_type": "display_data",
                    "data": {
                        "text/html": "Total execution time: 00:00:00.012"
                    },
                    "metadata": {}
                },
                {
                    "output_type": "execute_result",
                    "execution_count": 12,
                    "data": {
                        "application/vnd.dataresource+json": {
                            "schema": {
                                "fields": [
                                    {
                                        "name": "SalesOrderID"
                                    },
                                    {
                                        "name": "SalesOrderDetailID"
                                    },
                                    {
                                        "name": "OrderQty"
                                    },
                                    {
                                        "name": "ProductID"
                                    },
                                    {
                                        "name": "UnitPrice"
                                    },
                                    {
                                        "name": "UnitPriceDiscount"
                                    },
                                    {
                                        "name": "LineTotal"
                                    },
                                    {
                                        "name": "rowguid"
                                    },
                                    {
                                        "name": "ModifiedDate"
                                    }
                                ]
                            },
                            "data": [
                                {
                                    "SalesOrderID": "71776",
                                    "SalesOrderDetailID": "110567",
                                    "OrderQty": "1",
                                    "ProductID": "907",
                                    "UnitPrice": "63.90",
                                    "UnitPriceDiscount": "0.00",
                                    "LineTotal": "63.900000",
                                    "rowguid": "6dbfe398-d15d-425e-aa58-88178fe360e5",
                                    "ModifiedDate": "2008-06-01 00:00:00.000"
                                },
                                {
                                    "SalesOrderID": "71776",
                                    "SalesOrderDetailID": "113407",
                                    "OrderQty": "2",
                                    "ProductID": "907",
                                    "UnitPrice": "63.90",
                                    "UnitPriceDiscount": "0.00",
                                    "LineTotal": "127.800000",
                                    "rowguid": "7f1b6cee-9c06-40f6-9cac-190bb895b264",
                                    "ModifiedDate": "2023-11-21 16:47:15.377"
                                },
                                {
                                    "SalesOrderID": "71776",
                                    "SalesOrderDetailID": "113408",
                                    "OrderQty": "3",
                                    "ProductID": "907",
                                    "UnitPrice": "122.00",
                                    "UnitPriceDiscount": "0.00",
                                    "LineTotal": "366.000000",
                                    "rowguid": "02570667-a506-4017-b920-d5351e8b0e44",
                                    "ModifiedDate": "2023-11-21 16:50:15.347"
                                }
                            ]
                        },
                        "text/html": "<table><tr><th>SalesOrderID</th><th>SalesOrderDetailID</th><th>OrderQty</th><th>ProductID</th><th>UnitPrice</th><th>UnitPriceDiscount</th><th>LineTotal</th><th>rowguid</th><th>ModifiedDate</th></tr><tr><td>71776</td><td>110567</td><td>1</td><td>907</td><td>63.90</td><td>0.00</td><td>63.900000</td><td>6dbfe398-d15d-425e-aa58-88178fe360e5</td><td>2008-06-01 00:00:00.000</td></tr><tr><td>71776</td><td>113407</td><td>2</td><td>907</td><td>63.90</td><td>0.00</td><td>127.800000</td><td>7f1b6cee-9c06-40f6-9cac-190bb895b264</td><td>2023-11-21 16:47:15.377</td></tr><tr><td>71776</td><td>113408</td><td>3</td><td>907</td><td>122.00</td><td>0.00</td><td>366.000000</td><td>02570667-a506-4017-b920-d5351e8b0e44</td><td>2023-11-21 16:50:15.347</td></tr></table>"
                    },
                    "metadata": {}
                }
            ],
            "execution_count": 12
        },
        {
            "cell_type": "markdown",
            "source": [
                ""
            ],
            "metadata": {
                "azdata_cell_guid": "cd4ca318-1083-40bd-9e38-916a864e49f3"
            }
        }
    ]
}