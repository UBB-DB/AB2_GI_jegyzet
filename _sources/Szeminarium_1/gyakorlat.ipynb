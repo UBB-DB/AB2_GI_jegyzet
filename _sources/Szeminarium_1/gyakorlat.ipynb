{
    "metadata": {
        "kernelspec": {
            "name": "python3",
            "display_name": "Python 3",
            "language": "python"
        },
        "language_info": {
            "name": "python",
            "version": "3.9.12",
            "mimetype": "text/x-python",
            "codemirror_mode": {
                "name": "ipython",
                "version": 3
            },
            "pygments_lexer": "ipython3",
            "nbconvert_exporter": "python",
            "file_extension": ".py"
        }
    },
    "nbformat_minor": 2,
    "nbformat": 4,
    "cells": [
        {
            "cell_type": "markdown",
            "source": [
                "# Szeminárium 1\r\n",
                "Ismétléshez használjuk a Microsoft \"tanösvényét\" (learning path)\r\n",
                "https://learn.microsoft.com/en-us/training/paths/get-started-querying-with-transact-sql/\r\n",
                "\r\n",
                ""
            ],
            "metadata": {
                "azdata_cell_guid": "a193885d-7345-4d83-8c95-8fbfc3376a41"
            },
            "attachments": {}
        }
    ]
}