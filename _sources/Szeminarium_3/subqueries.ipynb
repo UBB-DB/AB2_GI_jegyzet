{
    "metadata": {
        "kernelspec": {
            "name": "SQL",
            "display_name": "SQL",
            "language": "sql"
        },
        "language_info": {
            "name": "sql",
            "version": ""
        }
    },
    "nbformat_minor": 2,
    "nbformat": 4,
    "cells": [
        {
            "cell_type": "markdown",
            "source": [
                "## Alkérdések\r\n",
                "\r\n",
                "Alkérdés (beágyazott lekérdezés) = olyan lekérdezés, mely egy\r\n",
                "másik lekérdezés része.\r\n",
                "\r\n",
                "- Szintaktikus alakja: beágyazott lekérdezés zárójelben.\r\n",
                "- Használata: ahol relációnevet használunk:\r\n",
                "    -  FROM záradékban – a tényleges relációk helyett alkérdéssel\r\n",
                "létrehozott ideiglenes tábla gyanánt\r\n",
                "    - WHERE záradékban: sorokra vonatkozó feltételek esetén\r\n",
                "    - HAVING záradékban: csoportokra vonatkozó feltételek esetén\r\n",
                "\r\n",
                "- Egyszerű alkérdés – olyan alkérdés, mely csak egyszer kerül\r\n",
                "kiértékelésre.\r\n",
                "- Korrelált alkérdés – olyan alkérdés, amely többször is\r\n",
                "kiértékelődik.\r\n",
                "\r\n",
                "Pelda korrelalt alkérdezésre:\r\n",
                "A 2019-es AdventureWorksLT adatbázisban keressük meg azoknak a vásárlóknak adatait, akik olyan rendeléseket helyeztek el, amelyek teljes rendelési értéke meghaladja az átlagos rendelési értéket. Használjunk alkerdest az átlagos rendelési érték kiszámításához, majd hasonlítsuk össze az egyéni rendelési értékeket.\r\n",
                "```sql\r\n",
                "SELECT c.CustomerID, c.FirstName, c.LastName\r\n",
                "FROM SalesLT.Customer c\r\n",
                "WHERE EXISTS (\r\n",
                "    SELECT 1\r\n",
                "    FROM SalesLT.SalesOrderHeader soh\r\n",
                "    WHERE soh.CustomerID = c.CustomerID\r\n",
                "    GROUP BY soh.CustomerID\r\n",
                "    HAVING AVG(soh.TotalDue) < (\r\n",
                "        SELECT AVG(TotalDue)\r\n",
                "        FROM SalesLT.SalesOrderHeader\r\n",
                "    )\r\n",
                ");\r\n",
                "```"
            ],
            "metadata": {
                "azdata_cell_guid": "65d942b5-3287-4d3b-9f77-817da13beefa"
            },
            "attachments": {}
        },
        {
            "cell_type": "markdown",
            "source": [
                "## Feladatok\n",
                "\n",
                "1. Keressük meg a legjobban eladott terméke(ke)t a 2019-es AdventureWorksLT adatbázisban. Használjunk alkerdest azzal a céllal, hogy meghatározzuk a legtöbb eladott egységgel rendelkező terméket\n",
                "```sql\n",
                "SELECT p.Name, sum(sod.OrderQty) as TotalQuantity\n",
                "FROM SalesLT.Product p \n",
                "JOIN SalesLT.SalesOrderDetail sod \n",
                "ON p.ProductID = sod.ProductID\n",
                "GROUP BY p.Name\n",
                "HAVING sum(sod.OrderQty) = \n",
                "    (SELECT MAX(TotalQuantity)\n",
                "    FROM\n",
                "        (SELECT sum(sodD.OrderQty) as TotalQuantity\n",
                "        FROM SalesLT.SalesOrderDetail sodD\n",
                "        GROUP BY sodD.ProductID) as T)\n",
                "ORDER BY TotalQuantity DESC\n",
                "```\n",
                "2. Keressük meg azokat a termékeket, amelyeknek az árbevétele meghaladja a termékek átlagos árbevételét. Használjunk egy alkerdest az átlagos árbevétel kiszámításához, majd szűrjük a termékeket az alapján, hogy az árbevételük meghaladja ezt az átlagos értéket.\n",
                "3. Keressük meg azokat a termékeket, amelyekhez nincs rendelés az adatbázisban. Használjunk egy alpontot, hogy először meghatározzuk azokat a termékeket, amelyekhez rendelés tartozik, majd kérjük le az olyan termékeket, amelyek nem szerepelnek ebben az alpontban."
            ],
            "metadata": {
                "azdata_cell_guid": "487b459f-b423-45f7-ab31-b8f89093be95"
            },
            "attachments": {}
        },
        {
            "cell_type": "code",
            "source": [
                "\r\n",
                "\r\n",
                ""
            ],
            "metadata": {
                "azdata_cell_guid": "9adc8bdc-aedf-4dbb-8d96-0f9ad0f0db6d",
                "language": "sql"
            },
            "outputs": [
                {
                    "output_type": "display_data",
                    "data": {
                        "text/html": "(1 row affected)"
                    },
                    "metadata": {}
                },
                {
                    "output_type": "display_data",
                    "data": {
                        "text/html": "Total execution time: 00:00:00.017"
                    },
                    "metadata": {}
                },
                {
                    "output_type": "execute_result",
                    "metadata": {},
                    "execution_count": 10,
                    "data": {
                        "application/vnd.dataresource+json": {
                            "schema": {
                                "fields": [
                                    {
                                        "name": "Name"
                                    },
                                    {
                                        "name": "TotalQuantity"
                                    }
                                ]
                            },
                            "data": [
                                {
                                    "Name": "Classic Vest, S",
                                    "TotalQuantity": "87"
                                }
                            ]
                        },
                        "text/html": [
                            "<table>",
                            "<tr><th>Name</th><th>TotalQuantity</th></tr>",
                            "<tr><td>Classic Vest, S</td><td>87</td></tr>",
                            "</table>"
                        ]
                    }
                }
            ],
            "execution_count": 10
        },
        {
            "cell_type": "code",
            "source": [
                "SELECT MAX(TotalQuantity) FROM\r\n",
                "(SELECT sum(sodD.OrderQty) as TotalQuantity\r\n",
                "FROM SalesLT.SalesOrderDetail sodD\r\n",
                "GROUP BY sodD.ProductID) as T\r\n",
                ""
            ],
            "metadata": {
                "language": "sql",
                "azdata_cell_guid": "68514719-110c-488b-89d8-d894f8527bd9"
            },
            "outputs": [
                {
                    "output_type": "display_data",
                    "data": {
                        "text/html": "(1 row affected)"
                    },
                    "metadata": {}
                },
                {
                    "output_type": "display_data",
                    "data": {
                        "text/html": "Total execution time: 00:00:00.007"
                    },
                    "metadata": {}
                },
                {
                    "output_type": "execute_result",
                    "metadata": {},
                    "execution_count": 9,
                    "data": {
                        "application/vnd.dataresource+json": {
                            "schema": {
                                "fields": [
                                    {
                                        "name": "(No column name)"
                                    }
                                ]
                            },
                            "data": [
                                {
                                    "(No column name)": "87"
                                }
                            ]
                        },
                        "text/html": [
                            "<table>",
                            "<tr><th>(No column name)</th></tr>",
                            "<tr><td>87</td></tr>",
                            "</table>"
                        ]
                    }
                }
            ],
            "execution_count": 9
        },
        {
            "cell_type": "markdown",
            "source": [
                ""
            ],
            "metadata": {
                "azdata_cell_guid": "370e75e5-57f6-4625-a7aa-665144e7164c"
            }
        }
    ]
}