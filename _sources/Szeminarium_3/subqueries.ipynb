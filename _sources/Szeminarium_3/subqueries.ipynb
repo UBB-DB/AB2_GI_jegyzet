{
    "metadata": {
        "kernelspec": {
            "name": "python3",
            "display_name": "Python 3",
            "language": "python"
        },
        "language_info": {
            "name": "python",
            "version": "3.9.12",
            "mimetype": "text/x-python",
            "codemirror_mode": {
                "name": "ipython",
                "version": 3
            },
            "pygments_lexer": "ipython3",
            "nbconvert_exporter": "python",
            "file_extension": ".py"
        }
    },
    "nbformat_minor": 2,
    "nbformat": 4,
    "cells": [
        {
            "cell_type": "markdown",
            "source": [
                "## Alkérdések\r\n",
                "\r\n",
                "Alkérdés (beágyazott lekérdezés) = olyan lekérdezés, mely egy\r\n",
                "másik lekérdezés része.\r\n",
                "\r\n",
                "- Szintaktikus alakja: beágyazott lekérdezés zárójelben.\r\n",
                "- Használata: ahol relációnevet használunk:\r\n",
                "    -  FROM záradékban – a tényleges relációk helyett alkérdéssel\r\n",
                "létrehozott ideiglenes tábla gyanánt\r\n",
                "    - WHERE záradékban: sorokra vonatkozó feltételek esetén\r\n",
                "    - HAVING záradékban: csoportokra vonatkozó feltételek esetén\r\n",
                "\r\n",
                "- Egyszerű alkérdés – olyan alkérdés, mely csak egyszer kerül\r\n",
                "kiértékelésre.\r\n",
                "- Korrelált alkérdés – olyan alkérdés, amely többször is\r\n",
                "kiértékelődik.\r\n",
                "\r\n",
                "Pelda korrelalt alkérdezésre:\r\n",
                "A 2019-es AdventureWorksLT adatbázisban keressük meg azoknak a vásárlóknak adatait, akik olyan rendeléseket helyeztek el, amelyek teljes rendelési értéke meghaladja az átlagos rendelési értéket. Használjunk alkerdest az átlagos rendelési érték kiszámításához, majd hasonlítsuk össze az egyéni rendelési értékeket.\r\n",
                "```sql\r\n",
                "SELECT c.CustomerID, c.FirstName, c.LastName\r\n",
                "FROM SalesLT.Customer c\r\n",
                "WHERE EXISTS (\r\n",
                "    SELECT 1\r\n",
                "    FROM SalesLT.SalesOrderHeader soh\r\n",
                "    WHERE soh.CustomerID = c.CustomerID\r\n",
                "    GROUP BY soh.CustomerID\r\n",
                "    HAVING AVG(soh.TotalDue) < (\r\n",
                "        SELECT AVG(TotalDue)\r\n",
                "        FROM SalesLT.SalesOrderHeader\r\n",
                "    )\r\n",
                ");\r\n",
                "```"
            ],
            "metadata": {
                "azdata_cell_guid": "65d942b5-3287-4d3b-9f77-817da13beefa"
            },
            "attachments": {}
        },
        {
            "cell_type": "markdown",
            "source": [
                "## Feladatok\r\n",
                "\r\n",
                "1. Keressük meg a legjobban eladott terméke(ke)t a 2019-es AdventureWorksLT adatbázisban. Használjunk alkerdest azzal a céllal, hogy meghatározzuk a legtöbb eladott egységgel rendelkező terméket.\r\n",
                "2. Keressük meg azokat a termékeket, amelyeknek az árbevétele meghaladja a termékek átlagos árbevételét. Használjunk egy alkerdest az átlagos árbevétel kiszámításához, majd szűrjük a termékeket az alapján, hogy az árbevételük meghaladja ezt az átlagos értéket.\r\n",
                "3. Keressük meg azokat a termékeket, amelyekhez nincs rendelés az adatbázisban. Használjunk egy alpontot, hogy először meghatározzuk azokat a termékeket, amelyekhez rendelés tartozik, majd kérjük le az olyan termékeket, amelyek nem szerepelnek ebben az alpontban."
            ],
            "metadata": {
                "azdata_cell_guid": "487b459f-b423-45f7-ab31-b8f89093be95"
            },
            "attachments": {}
        },
        {
            "cell_type": "code",
            "source": [
                ""
            ],
            "metadata": {
                "azdata_cell_guid": "9adc8bdc-aedf-4dbb-8d96-0f9ad0f0db6d",
                "language": "python"
            },
            "outputs": [
                {
                    "output_type": "display_data",
                    "data": {
                        "text/html": "(153 rows affected)"
                    },
                    "metadata": {}
                },
                {
                    "output_type": "display_data",
                    "data": {
                        "text/html": "Total execution time: 00:00:00.030"
                    },
                    "metadata": {}
                },
                {
                    "output_type": "execute_result",
                    "execution_count": 24,
                    "data": {
                        "application/vnd.dataresource+json": {
                            "schema": {
                                "fields": [
                                    {
                                        "name": "ProductID"
                                    },
                                    {
                                        "name": "TermékNév"
                                    }
                                ]
                            },
                            "data": [
                                {
                                    "ProductID": "879",
                                    "TermékNév": "All-Purpose Bike Stand"
                                },
                                {
                                    "ProductID": "843",
                                    "TermékNév": "Cable Lock"
                                },
                                {
                                    "ProductID": "866",
                                    "TermékNév": "Classic Vest, L"
                                },
                                {
                                    "ProductID": "878",
                                    "TermékNév": "Fender Set - Mountain"
                                },
                                {
                                    "ProductID": "863",
                                    "TermékNév": "Full-Finger Gloves, L"
                                },
                                {
                                    "ProductID": "862",
                                    "TermékNév": "Full-Finger Gloves, M"
                                },
                                {
                                    "ProductID": "861",
                                    "TermékNév": "Full-Finger Gloves, S"
                                },
                                {
                                    "ProductID": "847",
                                    "TermékNév": "Headlights - Dual-Beam"
                                },
                                {
                                    "ProductID": "848",
                                    "TermékNév": "Headlights - Weatherproof"
                                },
                                {
                                    "ProductID": "804",
                                    "TermékNév": "HL Fork"
                                },
                                {
                                    "ProductID": "807",
                                    "TermékNév": "HL Headset"
                                },
                                {
                                    "ProductID": "744",
                                    "TermékNév": "HL Mountain Frame - Black, 44"
                                },
                                {
                                    "ProductID": "746",
                                    "TermékNév": "HL Mountain Frame - Black, 46"
                                },
                                {
                                    "ProductID": "745",
                                    "TermékNév": "HL Mountain Frame - Black, 48"
                                },
                                {
                                    "ProductID": "740",
                                    "TermékNév": "HL Mountain Frame - Silver, 44"
                                },
                                {
                                    "ProductID": "741",
                                    "TermékNév": "HL Mountain Frame - Silver, 48"
                                },
                                {
                                    "ProductID": "817",
                                    "TermékNév": "HL Mountain Front Wheel"
                                },
                                {
                                    "ProductID": "825",
                                    "TermékNév": "HL Mountain Rear Wheel"
                                },
                                {
                                    "ProductID": "930",
                                    "TermékNév": "HL Mountain Tire"
                                },
                                {
                                    "ProductID": "839",
                                    "TermékNév": "HL Road Frame - Black, 48"
                                },
                                {
                                    "ProductID": "840",
                                    "TermékNév": "HL Road Frame - Black, 52"
                                },
                                {
                                    "ProductID": "680",
                                    "TermékNév": "HL Road Frame - Black, 58"
                                },
                                {
                                    "ProductID": "837",
                                    "TermékNév": "HL Road Frame - Black, 62"
                                },
                                {
                                    "ProductID": "719",
                                    "TermékNév": "HL Road Frame - Red, 48"
                                },
                                {
                                    "ProductID": "720",
                                    "TermékNév": "HL Road Frame - Red, 52"
                                },
                                {
                                    "ProductID": "721",
                                    "TermékNév": "HL Road Frame - Red, 56"
                                },
                                {
                                    "ProductID": "706",
                                    "TermékNév": "HL Road Frame - Red, 58"
                                },
                                {
                                    "ProductID": "820",
                                    "TermékNév": "HL Road Front Wheel"
                                },
                                {
                                    "ProductID": "828",
                                    "TermékNév": "HL Road Rear Wheel"
                                },
                                {
                                    "ProductID": "933",
                                    "TermékNév": "HL Road Tire"
                                },
                                {
                                    "ProductID": "890",
                                    "TermékNév": "HL Touring Frame - Blue, 46"
                                },
                                {
                                    "ProductID": "887",
                                    "TermékNév": "HL Touring Frame - Yellow, 46"
                                },
                                {
                                    "ProductID": "888",
                                    "TermékNév": "HL Touring Frame - Yellow, 50"
                                },
                                {
                                    "ProductID": "802",
                                    "TermékNév": "LL Fork"
                                },
                                {
                                    "ProductID": "805",
                                    "TermékNév": "LL Headset"
                                },
                                {
                                    "ProductID": "943",
                                    "TermékNév": "LL Mountain Frame - Black, 40"
                                },
                                {
                                    "ProductID": "927",
                                    "TermékNév": "LL Mountain Frame - Black, 52"
                                },
                                {
                                    "ProductID": "919",
                                    "TermékNév": "LL Mountain Frame - Silver, 48"
                                },
                                {
                                    "ProductID": "815",
                                    "TermékNév": "LL Mountain Front Wheel"
                                },
                                {
                                    "ProductID": "823",
                                    "TermékNév": "LL Mountain Rear Wheel"
                                },
                                {
                                    "ProductID": "928",
                                    "TermékNév": "LL Mountain Tire"
                                },
                                {
                                    "ProductID": "736",
                                    "TermékNév": "LL Road Frame - Black, 44"
                                },
                                {
                                    "ProductID": "737",
                                    "TermékNév": "LL Road Frame - Black, 48"
                                },
                                {
                                    "ProductID": "723",
                                    "TermékNév": "LL Road Frame - Black, 60"
                                },
                                {
                                    "ProductID": "724",
                                    "TermékNév": "LL Road Frame - Black, 62"
                                },
                                {
                                    "ProductID": "725",
                                    "TermékNév": "LL Road Frame - Red, 44"
                                },
                                {
                                    "ProductID": "726",
                                    "TermékNév": "LL Road Frame - Red, 48"
                                },
                                {
                                    "ProductID": "727",
                                    "TermékNév": "LL Road Frame - Red, 52"
                                },
                                {
                                    "ProductID": "728",
                                    "TermékNév": "LL Road Frame - Red, 58"
                                },
                                {
                                    "ProductID": "729",
                                    "TermékNév": "LL Road Frame - Red, 60"
                                },
                                {
                                    "ProductID": "730",
                                    "TermékNév": "LL Road Frame - Red, 62"
                                },
                                {
                                    "ProductID": "818",
                                    "TermékNév": "LL Road Front Wheel"
                                },
                                {
                                    "ProductID": "811",
                                    "TermékNév": "LL Road Handlebars"
                                },
                                {
                                    "ProductID": "826",
                                    "TermékNév": "LL Road Rear Wheel"
                                },
                                {
                                    "ProductID": "911",
                                    "TermékNév": "LL Road Seat/Saddle"
                                },
                                {
                                    "ProductID": "931",
                                    "TermékNév": "LL Road Tire"
                                },
                                {
                                    "ProductID": "903",
                                    "TermékNév": "LL Touring Frame - Blue, 44"
                                },
                                {
                                    "ProductID": "897",
                                    "TermékNév": "LL Touring Frame - Blue, 58"
                                },
                                {
                                    "ProductID": "898",
                                    "TermékNév": "LL Touring Frame - Blue, 62"
                                },
                                {
                                    "ProductID": "901",
                                    "TermékNév": "LL Touring Frame - Yellow, 54"
                                },
                                {
                                    "ProductID": "902",
                                    "TermékNév": "LL Touring Frame - Yellow, 58"
                                },
                                {
                                    "ProductID": "946",
                                    "TermékNév": "LL Touring Handlebars"
                                },
                                {
                                    "ProductID": "914",
                                    "TermékNév": "LL Touring Seat/Saddle"
                                },
                                {
                                    "ProductID": "713",
                                    "TermékNév": "Long-Sleeve Logo Jersey, S"
                                },
                                {
                                    "ProductID": "857",
                                    "TermékNév": "Men's Bib-Shorts, L"
                                },
                                {
                                    "ProductID": "856",
                                    "TermékNév": "Men's Bib-Shorts, M"
                                },
                                {
                                    "ProductID": "855",
                                    "TermékNév": "Men's Bib-Shorts, S"
                                },
                                {
                                    "ProductID": "850",
                                    "TermékNév": "Men's Sports Shorts, L"
                                },
                                {
                                    "ProductID": "849",
                                    "TermékNév": "Men's Sports Shorts, M"
                                },
                                {
                                    "ProductID": "841",
                                    "TermékNév": "Men's Sports Shorts, S"
                                },
                                {
                                    "ProductID": "851",
                                    "TermékNév": "Men's Sports Shorts, XL"
                                },
                                {
                                    "ProductID": "844",
                                    "TermékNév": "Minipump"
                                },
                                {
                                    "ProductID": "995",
                                    "TermékNév": "ML Bottom Bracket"
                                },
                                {
                                    "ProductID": "950",
                                    "TermékNév": "ML Crankset"
                                },
                                {
                                    "ProductID": "803",
                                    "TermékNév": "ML Fork"
                                },
                                {
                                    "ProductID": "806",
                                    "TermékNév": "ML Headset"
                                },
                                {
                                    "ProductID": "814",
                                    "TermékNév": "ML Mountain Frame - Black, 38"
                                },
                                {
                                    "ProductID": "830",
                                    "TermékNév": "ML Mountain Frame - Black, 40"
                                },
                                {
                                    "ProductID": "831",
                                    "TermékNév": "ML Mountain Frame - Black, 44"
                                },
                                {
                                    "ProductID": "832",
                                    "TermékNév": "ML Mountain Frame - Black, 48"
                                },
                                {
                                    "ProductID": "942",
                                    "TermékNév": "ML Mountain Frame-W - Silver, 38"
                                },
                                {
                                    "ProductID": "906",
                                    "TermékNév": "ML Mountain Frame-W - Silver, 46"
                                },
                                {
                                    "ProductID": "816",
                                    "TermékNév": "ML Mountain Front Wheel"
                                },
                                {
                                    "ProductID": "824",
                                    "TermékNév": "ML Mountain Rear Wheel"
                                },
                                {
                                    "ProductID": "929",
                                    "TermékNév": "ML Mountain Tire"
                                },
                                {
                                    "ProductID": "731",
                                    "TermékNév": "ML Road Frame - Red, 44"
                                },
                                {
                                    "ProductID": "732",
                                    "TermékNév": "ML Road Frame - Red, 48"
                                },
                                {
                                    "ProductID": "733",
                                    "TermékNév": "ML Road Frame - Red, 52"
                                },
                                {
                                    "ProductID": "734",
                                    "TermékNév": "ML Road Frame - Red, 58"
                                },
                                {
                                    "ProductID": "735",
                                    "TermékNév": "ML Road Frame - Red, 60"
                                },
                                {
                                    "ProductID": "833",
                                    "TermékNév": "ML Road Frame-W - Yellow, 40"
                                },
                                {
                                    "ProductID": "834",
                                    "TermékNév": "ML Road Frame-W - Yellow, 42"
                                },
                                {
                                    "ProductID": "819",
                                    "TermékNév": "ML Road Front Wheel"
                                },
                                {
                                    "ProductID": "812",
                                    "TermékNév": "ML Road Handlebars"
                                },
                                {
                                    "ProductID": "827",
                                    "TermékNév": "ML Road Rear Wheel"
                                },
                                {
                                    "ProductID": "912",
                                    "TermékNév": "ML Road Seat/Saddle"
                                },
                                {
                                    "ProductID": "932",
                                    "TermékNév": "ML Road Tire"
                                },
                                {
                                    "ProductID": "915",
                                    "TermékNév": "ML Touring Seat/Saddle"
                                },
                                {
                                    "ProductID": "710",
                                    "TermékNév": "Mountain Bike Socks, L"
                                },
                                {
                                    "ProductID": "709",
                                    "TermékNév": "Mountain Bike Socks, M"
                                },
                                {
                                    "ProductID": "871",
                                    "TermékNév": "Mountain Bottle Cage"
                                },
                                {
                                    "ProductID": "845",
                                    "TermékNév": "Mountain Pump"
                                },
                                {
                                    "ProductID": "921",
                                    "TermékNév": "Mountain Tire Tube"
                                },
                                {
                                    "ProductID": "775",
                                    "TermékNév": "Mountain-100 Black, 38"
                                },
                                {
                                    "ProductID": "776",
                                    "TermékNév": "Mountain-100 Black, 42"
                                },
                                {
                                    "ProductID": "777",
                                    "TermékNév": "Mountain-100 Black, 44"
                                },
                                {
                                    "ProductID": "778",
                                    "TermékNév": "Mountain-100 Black, 48"
                                },
                                {
                                    "ProductID": "771",
                                    "TermékNév": "Mountain-100 Silver, 38"
                                },
                                {
                                    "ProductID": "772",
                                    "TermékNév": "Mountain-100 Silver, 42"
                                },
                                {
                                    "ProductID": "773",
                                    "TermékNév": "Mountain-100 Silver, 44"
                                },
                                {
                                    "ProductID": "774",
                                    "TermékNév": "Mountain-100 Silver, 48"
                                },
                                {
                                    "ProductID": "785",
                                    "TermékNév": "Mountain-300 Black, 38"
                                },
                                {
                                    "ProductID": "786",
                                    "TermékNév": "Mountain-300 Black, 40"
                                },
                                {
                                    "ProductID": "787",
                                    "TermékNév": "Mountain-300 Black, 44"
                                },
                                {
                                    "ProductID": "788",
                                    "TermékNév": "Mountain-300 Black, 48"
                                },
                                {
                                    "ProductID": "872",
                                    "TermékNév": "Road Bottle Cage"
                                },
                                {
                                    "ProductID": "922",
                                    "TermékNév": "Road Tire Tube"
                                },
                                {
                                    "ProductID": "750",
                                    "TermékNév": "Road-150 Red, 44"
                                },
                                {
                                    "ProductID": "751",
                                    "TermékNév": "Road-150 Red, 48"
                                },
                                {
                                    "ProductID": "752",
                                    "TermékNév": "Road-150 Red, 52"
                                },
                                {
                                    "ProductID": "753",
                                    "TermékNév": "Road-150 Red, 56"
                                },
                                {
                                    "ProductID": "749",
                                    "TermékNév": "Road-150 Red, 62"
                                },
                                {
                                    "ProductID": "789",
                                    "TermékNév": "Road-250 Red, 44"
                                },
                                {
                                    "ProductID": "790",
                                    "TermékNév": "Road-250 Red, 48"
                                },
                                {
                                    "ProductID": "791",
                                    "TermékNév": "Road-250 Red, 52"
                                },
                                {
                                    "ProductID": "756",
                                    "TermékNév": "Road-450 Red, 44"
                                },
                                {
                                    "ProductID": "757",
                                    "TermékNév": "Road-450 Red, 48"
                                },
                                {
                                    "ProductID": "758",
                                    "TermékNév": "Road-450 Red, 52"
                                },
                                {
                                    "ProductID": "754",
                                    "TermékNév": "Road-450 Red, 58"
                                },
                                {
                                    "ProductID": "755",
                                    "TermékNév": "Road-450 Red, 60"
                                },
                                {
                                    "ProductID": "768",
                                    "TermékNév": "Road-650 Black, 44"
                                },
                                {
                                    "ProductID": "769",
                                    "TermékNév": "Road-650 Black, 48"
                                },
                                {
                                    "ProductID": "770",
                                    "TermékNév": "Road-650 Black, 52"
                                },
                                {
                                    "ProductID": "765",
                                    "TermékNév": "Road-650 Black, 58"
                                },
                                {
                                    "ProductID": "766",
                                    "TermékNév": "Road-650 Black, 60"
                                },
                                {
                                    "ProductID": "767",
                                    "TermékNév": "Road-650 Black, 62"
                                },
                                {
                                    "ProductID": "762",
                                    "TermékNév": "Road-650 Red, 44"
                                },
                                {
                                    "ProductID": "763",
                                    "TermékNév": "Road-650 Red, 48"
                                },
                                {
                                    "ProductID": "764",
                                    "TermékNév": "Road-650 Red, 52"
                                },
                                {
                                    "ProductID": "759",
                                    "TermékNév": "Road-650 Red, 58"
                                },
                                {
                                    "ProductID": "760",
                                    "TermékNév": "Road-650 Red, 60"
                                },
                                {
                                    "ProductID": "761",
                                    "TermékNév": "Road-650 Red, 62"
                                },
                                {
                                    "ProductID": "882",
                                    "TermékNév": "Short-Sleeve Classic Jersey, M"
                                },
                                {
                                    "ProductID": "846",
                                    "TermékNév": "Taillights - Battery-Powered"
                                },
                                {
                                    "ProductID": "821",
                                    "TermékNév": "Touring Front Wheel"
                                },
                                {
                                    "ProductID": "941",
                                    "TermékNév": "Touring Pedal"
                                },
                                {
                                    "ProductID": "829",
                                    "TermékNév": "Touring Rear Wheel"
                                },
                                {
                                    "ProductID": "934",
                                    "TermékNév": "Touring Tire"
                                },
                                {
                                    "ProductID": "923",
                                    "TermékNév": "Touring Tire Tube"
                                },
                                {
                                    "ProductID": "842",
                                    "TermékNév": "Touring-Panniers, Large"
                                },
                                {
                                    "ProductID": "854",
                                    "TermékNév": "Women's Tights, L"
                                },
                                {
                                    "ProductID": "853",
                                    "TermékNév": "Women's Tights, M"
                                },
                                {
                                    "ProductID": "852",
                                    "TermékNév": "Women's Tights, S"
                                }
                            ]
                        },
                        "text/html": "<table><tr><th>ProductID</th><th>TermékNév</th></tr><tr><td>879</td><td>All-Purpose Bike Stand</td></tr><tr><td>843</td><td>Cable Lock</td></tr><tr><td>866</td><td>Classic Vest, L</td></tr><tr><td>878</td><td>Fender Set - Mountain</td></tr><tr><td>863</td><td>Full-Finger Gloves, L</td></tr><tr><td>862</td><td>Full-Finger Gloves, M</td></tr><tr><td>861</td><td>Full-Finger Gloves, S</td></tr><tr><td>847</td><td>Headlights - Dual-Beam</td></tr><tr><td>848</td><td>Headlights - Weatherproof</td></tr><tr><td>804</td><td>HL Fork</td></tr><tr><td>807</td><td>HL Headset</td></tr><tr><td>744</td><td>HL Mountain Frame - Black, 44</td></tr><tr><td>746</td><td>HL Mountain Frame - Black, 46</td></tr><tr><td>745</td><td>HL Mountain Frame - Black, 48</td></tr><tr><td>740</td><td>HL Mountain Frame - Silver, 44</td></tr><tr><td>741</td><td>HL Mountain Frame - Silver, 48</td></tr><tr><td>817</td><td>HL Mountain Front Wheel</td></tr><tr><td>825</td><td>HL Mountain Rear Wheel</td></tr><tr><td>930</td><td>HL Mountain Tire</td></tr><tr><td>839</td><td>HL Road Frame - Black, 48</td></tr><tr><td>840</td><td>HL Road Frame - Black, 52</td></tr><tr><td>680</td><td>HL Road Frame - Black, 58</td></tr><tr><td>837</td><td>HL Road Frame - Black, 62</td></tr><tr><td>719</td><td>HL Road Frame - Red, 48</td></tr><tr><td>720</td><td>HL Road Frame - Red, 52</td></tr><tr><td>721</td><td>HL Road Frame - Red, 56</td></tr><tr><td>706</td><td>HL Road Frame - Red, 58</td></tr><tr><td>820</td><td>HL Road Front Wheel</td></tr><tr><td>828</td><td>HL Road Rear Wheel</td></tr><tr><td>933</td><td>HL Road Tire</td></tr><tr><td>890</td><td>HL Touring Frame - Blue, 46</td></tr><tr><td>887</td><td>HL Touring Frame - Yellow, 46</td></tr><tr><td>888</td><td>HL Touring Frame - Yellow, 50</td></tr><tr><td>802</td><td>LL Fork</td></tr><tr><td>805</td><td>LL Headset</td></tr><tr><td>943</td><td>LL Mountain Frame - Black, 40</td></tr><tr><td>927</td><td>LL Mountain Frame - Black, 52</td></tr><tr><td>919</td><td>LL Mountain Frame - Silver, 48</td></tr><tr><td>815</td><td>LL Mountain Front Wheel</td></tr><tr><td>823</td><td>LL Mountain Rear Wheel</td></tr><tr><td>928</td><td>LL Mountain Tire</td></tr><tr><td>736</td><td>LL Road Frame - Black, 44</td></tr><tr><td>737</td><td>LL Road Frame - Black, 48</td></tr><tr><td>723</td><td>LL Road Frame - Black, 60</td></tr><tr><td>724</td><td>LL Road Frame - Black, 62</td></tr><tr><td>725</td><td>LL Road Frame - Red, 44</td></tr><tr><td>726</td><td>LL Road Frame - Red, 48</td></tr><tr><td>727</td><td>LL Road Frame - Red, 52</td></tr><tr><td>728</td><td>LL Road Frame - Red, 58</td></tr><tr><td>729</td><td>LL Road Frame - Red, 60</td></tr><tr><td>730</td><td>LL Road Frame - Red, 62</td></tr><tr><td>818</td><td>LL Road Front Wheel</td></tr><tr><td>811</td><td>LL Road Handlebars</td></tr><tr><td>826</td><td>LL Road Rear Wheel</td></tr><tr><td>911</td><td>LL Road Seat/Saddle</td></tr><tr><td>931</td><td>LL Road Tire</td></tr><tr><td>903</td><td>LL Touring Frame - Blue, 44</td></tr><tr><td>897</td><td>LL Touring Frame - Blue, 58</td></tr><tr><td>898</td><td>LL Touring Frame - Blue, 62</td></tr><tr><td>901</td><td>LL Touring Frame - Yellow, 54</td></tr><tr><td>902</td><td>LL Touring Frame - Yellow, 58</td></tr><tr><td>946</td><td>LL Touring Handlebars</td></tr><tr><td>914</td><td>LL Touring Seat/Saddle</td></tr><tr><td>713</td><td>Long-Sleeve Logo Jersey, S</td></tr><tr><td>857</td><td>Men&#39;s Bib-Shorts, L</td></tr><tr><td>856</td><td>Men&#39;s Bib-Shorts, M</td></tr><tr><td>855</td><td>Men&#39;s Bib-Shorts, S</td></tr><tr><td>850</td><td>Men&#39;s Sports Shorts, L</td></tr><tr><td>849</td><td>Men&#39;s Sports Shorts, M</td></tr><tr><td>841</td><td>Men&#39;s Sports Shorts, S</td></tr><tr><td>851</td><td>Men&#39;s Sports Shorts, XL</td></tr><tr><td>844</td><td>Minipump</td></tr><tr><td>995</td><td>ML Bottom Bracket</td></tr><tr><td>950</td><td>ML Crankset</td></tr><tr><td>803</td><td>ML Fork</td></tr><tr><td>806</td><td>ML Headset</td></tr><tr><td>814</td><td>ML Mountain Frame - Black, 38</td></tr><tr><td>830</td><td>ML Mountain Frame - Black, 40</td></tr><tr><td>831</td><td>ML Mountain Frame - Black, 44</td></tr><tr><td>832</td><td>ML Mountain Frame - Black, 48</td></tr><tr><td>942</td><td>ML Mountain Frame-W - Silver, 38</td></tr><tr><td>906</td><td>ML Mountain Frame-W - Silver, 46</td></tr><tr><td>816</td><td>ML Mountain Front Wheel</td></tr><tr><td>824</td><td>ML Mountain Rear Wheel</td></tr><tr><td>929</td><td>ML Mountain Tire</td></tr><tr><td>731</td><td>ML Road Frame - Red, 44</td></tr><tr><td>732</td><td>ML Road Frame - Red, 48</td></tr><tr><td>733</td><td>ML Road Frame - Red, 52</td></tr><tr><td>734</td><td>ML Road Frame - Red, 58</td></tr><tr><td>735</td><td>ML Road Frame - Red, 60</td></tr><tr><td>833</td><td>ML Road Frame-W - Yellow, 40</td></tr><tr><td>834</td><td>ML Road Frame-W - Yellow, 42</td></tr><tr><td>819</td><td>ML Road Front Wheel</td></tr><tr><td>812</td><td>ML Road Handlebars</td></tr><tr><td>827</td><td>ML Road Rear Wheel</td></tr><tr><td>912</td><td>ML Road Seat/Saddle</td></tr><tr><td>932</td><td>ML Road Tire</td></tr><tr><td>915</td><td>ML Touring Seat/Saddle</td></tr><tr><td>710</td><td>Mountain Bike Socks, L</td></tr><tr><td>709</td><td>Mountain Bike Socks, M</td></tr><tr><td>871</td><td>Mountain Bottle Cage</td></tr><tr><td>845</td><td>Mountain Pump</td></tr><tr><td>921</td><td>Mountain Tire Tube</td></tr><tr><td>775</td><td>Mountain-100 Black, 38</td></tr><tr><td>776</td><td>Mountain-100 Black, 42</td></tr><tr><td>777</td><td>Mountain-100 Black, 44</td></tr><tr><td>778</td><td>Mountain-100 Black, 48</td></tr><tr><td>771</td><td>Mountain-100 Silver, 38</td></tr><tr><td>772</td><td>Mountain-100 Silver, 42</td></tr><tr><td>773</td><td>Mountain-100 Silver, 44</td></tr><tr><td>774</td><td>Mountain-100 Silver, 48</td></tr><tr><td>785</td><td>Mountain-300 Black, 38</td></tr><tr><td>786</td><td>Mountain-300 Black, 40</td></tr><tr><td>787</td><td>Mountain-300 Black, 44</td></tr><tr><td>788</td><td>Mountain-300 Black, 48</td></tr><tr><td>872</td><td>Road Bottle Cage</td></tr><tr><td>922</td><td>Road Tire Tube</td></tr><tr><td>750</td><td>Road-150 Red, 44</td></tr><tr><td>751</td><td>Road-150 Red, 48</td></tr><tr><td>752</td><td>Road-150 Red, 52</td></tr><tr><td>753</td><td>Road-150 Red, 56</td></tr><tr><td>749</td><td>Road-150 Red, 62</td></tr><tr><td>789</td><td>Road-250 Red, 44</td></tr><tr><td>790</td><td>Road-250 Red, 48</td></tr><tr><td>791</td><td>Road-250 Red, 52</td></tr><tr><td>756</td><td>Road-450 Red, 44</td></tr><tr><td>757</td><td>Road-450 Red, 48</td></tr><tr><td>758</td><td>Road-450 Red, 52</td></tr><tr><td>754</td><td>Road-450 Red, 58</td></tr><tr><td>755</td><td>Road-450 Red, 60</td></tr><tr><td>768</td><td>Road-650 Black, 44</td></tr><tr><td>769</td><td>Road-650 Black, 48</td></tr><tr><td>770</td><td>Road-650 Black, 52</td></tr><tr><td>765</td><td>Road-650 Black, 58</td></tr><tr><td>766</td><td>Road-650 Black, 60</td></tr><tr><td>767</td><td>Road-650 Black, 62</td></tr><tr><td>762</td><td>Road-650 Red, 44</td></tr><tr><td>763</td><td>Road-650 Red, 48</td></tr><tr><td>764</td><td>Road-650 Red, 52</td></tr><tr><td>759</td><td>Road-650 Red, 58</td></tr><tr><td>760</td><td>Road-650 Red, 60</td></tr><tr><td>761</td><td>Road-650 Red, 62</td></tr><tr><td>882</td><td>Short-Sleeve Classic Jersey, M</td></tr><tr><td>846</td><td>Taillights - Battery-Powered</td></tr><tr><td>821</td><td>Touring Front Wheel</td></tr><tr><td>941</td><td>Touring Pedal</td></tr><tr><td>829</td><td>Touring Rear Wheel</td></tr><tr><td>934</td><td>Touring Tire</td></tr><tr><td>923</td><td>Touring Tire Tube</td></tr><tr><td>842</td><td>Touring-Panniers, Large</td></tr><tr><td>854</td><td>Women&#39;s Tights, L</td></tr><tr><td>853</td><td>Women&#39;s Tights, M</td></tr><tr><td>852</td><td>Women&#39;s Tights, S</td></tr></table>"
                    },
                    "metadata": {}
                }
            ],
            "execution_count": 24
        },
        {
            "cell_type": "markdown",
            "source": [
                ""
            ],
            "metadata": {
                "azdata_cell_guid": "370e75e5-57f6-4625-a7aa-665144e7164c"
            }
        }
    ]
}