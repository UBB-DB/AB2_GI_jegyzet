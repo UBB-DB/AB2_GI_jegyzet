{
    "metadata": {
        "kernelspec": {
            "name": "SQL",
            "display_name": "SQL",
            "language": "sql"
        },
        "language_info": {
            "name": "sql",
            "version": ""
        }
    },
    "nbformat_minor": 2,
    "nbformat": 4,
    "cells": [
        {
            "cell_type": "markdown",
            "source": [
                ""
            ],
            "metadata": {
                "azdata_cell_guid": "ad262657-4c40-4c65-885b-cf50854b5634"
            },
            "attachments": {}
        },
        {
            "cell_type": "markdown",
            "source": [
                "## Kurzorok\n",
                "\n",
                "A kurzorok felhasználhatoak arra, hogy egy eredményhalmazt bejárjunk soronként(Iterálni), valamint esetlegesen a soron keresztül UPDATE-eljünk értékeket(UPDATE cursor)."
            ],
            "metadata": {
                "azdata_cell_guid": "6c3f1a1c-2333-4e84-abad-e96e721569f6"
            },
            "attachments": {}
        },
        {
            "cell_type": "code",
            "source": [
                "DECLARE cursor_name  [ SCROLL ] CURSOR   \r\n",
                "     FOR select_statement   \r\n",
                "     [ FOR { READ ONLY | UPDATE [ OF column_name [ ,...n ] ] } ]  "
            ],
            "metadata": {
                "azdata_cell_guid": "d5bf0c65-ad4f-4c4f-9279-efba0dd10f40",
                "tags": [],
                "language": "sql"
            },
            "outputs": [],
            "execution_count": null
        },
        {
            "cell_type": "markdown",
            "source": [
                "Alapértelmezetten az eredményhalmaz csak előre járható be a FETCH NEXT parancs segitégével.\n",
                "\n",
                "Abban az esetben ha szeretnénk navigálni úgynevezett SCROLL kurzot használunk. Ez elérhetővé teszi a következő opciókat FETCH esetén:  `FIRST`<span style=\"color: rgb(23, 23, 23); font-family: &quot;Segoe UI&quot;, SegoeUI, &quot;Helvetica Neue&quot;, Helvetica, Arial, sans-serif; font-size: 16px; background-color: rgb(255, 255, 255);\">,&nbsp;</span> `LAST`<span style=\"color: rgb(23, 23, 23); font-family: &quot;Segoe UI&quot;, SegoeUI, &quot;Helvetica Neue&quot;, Helvetica, Arial, sans-serif; font-size: 16px; background-color: rgb(255, 255, 255);\">,&nbsp;</span> `PRIOR`<span style=\"color: rgb(23, 23, 23); font-family: &quot;Segoe UI&quot;, SegoeUI, &quot;Helvetica Neue&quot;, Helvetica, Arial, sans-serif; font-size: 16px; background-color: rgb(255, 255, 255);\">,&nbsp;</span> `NEXT`<span style=\"color: rgb(23, 23, 23); font-family: &quot;Segoe UI&quot;, SegoeUI, &quot;Helvetica Neue&quot;, Helvetica, Arial, sans-serif; font-size: 16px; background-color: rgb(255, 255, 255);\">,&nbsp;</span> `RELATIVE`<span style=\"color: rgb(23, 23, 23); font-family: &quot;Segoe UI&quot;, SegoeUI, &quot;Helvetica Neue&quot;, Helvetica, Arial, sans-serif; font-size: 16px; background-color: rgb(255, 255, 255);\">,&nbsp;</span> `ABSOLUTE`"
            ],
            "metadata": {
                "azdata_cell_guid": "07ede46c-1e2b-463e-8f2f-aaedbf8cbf14"
            },
            "attachments": {}
        },
        {
            "cell_type": "markdown",
            "source": [
                "A kurzor használatának általános folyamata:  \n",
                "1\\. Deklarálás(Declare) <span class=\"hljs-keyword\" style=\"color:rgb(1, 1, 253);font-family:SFMono-Regular, Consolas, &quot;Liberation Mono&quot;, Menlo, Courier, monospace;white-space:pre;background-color:rgb(242, 242, 242);\">DECLARE</span> <span style=\"color:rgb(23, 23, 23);font-family:SFMono-Regular, Consolas, &quot;Liberation Mono&quot;, Menlo, Courier, monospace;white-space:pre;background-color:rgb(242, 242, 242);\">cursor </span> <span class=\"hljs-keyword\" style=\"color:rgb(1, 1, 253);font-family:SFMono-Regular, Consolas, &quot;Liberation Mono&quot;, Menlo, Courier, monospace;white-space:pre;background-color:rgb(242, 242, 242);\">CURSOR</span> <span class=\"hljs-keyword\" style=\"color:rgb(1, 1, 253);font-family:SFMono-Regular, Consolas, &quot;Liberation Mono&quot;, Menlo, Courier, monospace;white-space:pre;background-color:rgb(242, 242, 242);\">FOR</span> <span class=\"hljs-keyword\" style=\"color:rgb(1, 1, 253);font-family:SFMono-Regular, Consolas, &quot;Liberation Mono&quot;, Menlo, Courier, monospace;white-space:pre;background-color:rgb(242, 242, 242);\">SELECT ....</span>\n",
                "\n",
                "2\\. Megnyitás(Open) <span class=\"hljs-keyword\" style=\"color:rgb(1, 1, 253);font-family:SFMono-Regular, Consolas, &quot;Liberation Mono&quot;, Menlo, Courier, monospace;white-space:pre;background-color:rgb(242, 242, 242);\">OPEN</span> <span style=\"color:rgb(23, 23, 23);font-family:SFMono-Regular, Consolas, &quot;Liberation Mono&quot;, Menlo, Courier, monospace;white-space:pre;background-color:rgb(242, 242, 242);\">cursor</span>\n",
                "\n",
                "3\\. Elhozás/Kinyerés(Fetch): <span class=\"hljs-keyword\" style=\"color:rgb(1, 1, 253);font-family:SFMono-Regular, Consolas, &quot;Liberation Mono&quot;, Menlo, Courier, monospace;white-space:pre;background-color:rgb(242, 242, 242);\">FETCH</span> <span class=\"hljs-keyword\" style=\"color:rgb(1, 1, 253);font-family:SFMono-Regular, Consolas, &quot;Liberation Mono&quot;, Menlo, Courier, monospace;white-space:pre;background-color:rgb(242, 242, 242);\">NEXT</span> <span class=\"hljs-keyword\" style=\"color:rgb(1, 1, 253);font-family:SFMono-Regular, Consolas, &quot;Liberation Mono&quot;, Menlo, Courier, monospace;white-space:pre;background-color:rgb(242, 242, 242);\">FROM</span> <span style=\"color:rgb(23, 23, 23);font-family:SFMono-Regular, Consolas, &quot;Liberation Mono&quot;, Menlo, Courier, monospace;white-space:pre;background-color:rgb(242, 242, 242);\">cursor </span> <span class=\"hljs-keyword\" style=\"color:rgb(1, 1, 253);font-family:SFMono-Regular, Consolas, &quot;Liberation Mono&quot;, Menlo, Courier, monospace;white-space:pre;background-color:rgb(242, 242, 242);\">INTO</span> <span style=\"color:rgb(23, 23, 23);font-family:SFMono-Regular, Consolas, &quot;Liberation Mono&quot;, Menlo, Courier, monospace;white-space:pre;background-color:rgb(242, 242, 242);\">@variable</span>\n",
                "\n",
                "4\\. Ismétleld amig: While  <span style=\"color:rgb(23, 23, 23);font-family:SFMono-Regular, Consolas, &quot;Liberation Mono&quot;, Menlo, Courier, monospace;white-space:pre;background-color:rgb(242, 242, 242);\">@@FETCH_STATUS = </span> <span class=\"hljs-number\" style=\"color:rgb(23, 23, 23);font-family:SFMono-Regular, Consolas, &quot;Liberation Mono&quot;, Menlo, Courier, monospace;white-space:pre;background-color:rgb(242, 242, 242);\">0</span>\n",
                "\n",
                "5\\. <span class=\"hljs-keyword\" style=\"color:rgb(1, 1, 253);font-family:SFMono-Regular, Consolas, &quot;Liberation Mono&quot;, Menlo, Courier, monospace;white-space:pre;background-color:rgb(242, 242, 242);\">FETCH</span> <span class=\"hljs-keyword\" style=\"color:rgb(1, 1, 253);font-family:SFMono-Regular, Consolas, &quot;Liberation Mono&quot;, Menlo, Courier, monospace;white-space:pre;background-color:rgb(242, 242, 242);\">NEXT</span>\n",
                "\n",
                "6\\. Bezárás: <span class=\"hljs-keyword\" style=\"color:rgb(1, 1, 253);font-family:SFMono-Regular, Consolas, &quot;Liberation Mono&quot;, Menlo, Courier, monospace;white-space:pre;background-color:rgb(242, 242, 242);\">CLOSE</span> <span style=\"color:rgb(23, 23, 23);font-family:SFMono-Regular, Consolas, &quot;Liberation Mono&quot;, Menlo, Courier, monospace;white-space:pre;background-color:rgb(242, 242, 242);\">cursor;</span>\n",
                "\n",
                "7\\. Felszabaditás <span class=\"hljs-keyword\" style=\"color:rgb(1, 1, 253);font-family:SFMono-Regular, Consolas, &quot;Liberation Mono&quot;, Menlo, Courier, monospace;white-space:pre;background-color:rgb(242, 242, 242);\">DEALLOCATE</span> <span style=\"color:rgb(23, 23, 23);font-family:SFMono-Regular, Consolas, &quot;Liberation Mono&quot;, Menlo, Courier, monospace;white-space:pre;background-color:rgb(242, 242, 242);\">cursor</span>\n",
                "\n",
                "<span style=\"color:rgb(23, 23, 23);font-family:SFMono-Regular, Consolas, &quot;Liberation Mono&quot;, Menlo, Courier, monospace;white-space:pre;background-color:rgb(242, 242, 242);\"><br></span>\n",
                "\n",
                "<span style=\"white-space: pre; background-color: rgb(242, 242, 242);\">[Példák](</span>https://learn.microsoft.com/en-us/sql/t-sql/language-elements/declare-cursor-transact-sql?view=sql-server-ver16#b-using-nested-cursors-to-produce-report-output<span style=\"background-color: rgb(242, 242, 242); white-space: pre; color: rgb(23, 23, 23); font-family: SFMono-Regular, Consolas, &quot;Liberation Mono&quot;, Menlo, Courier, monospace;\">)</span>"
            ],
            "metadata": {
                "azdata_cell_guid": "c72112d2-5566-4fb2-8e2e-4b21e5cd80bd"
            },
            "attachments": {}
        },
        {
            "cell_type": "markdown",
            "source": [
                "### Feladatok\r\n",
                "\r\n",
                "Modositsuk az elozo szeminariumban keszitett programot ugy, hogy kezeljen tobb sor beszurasara es torlesere is. Hasznaljunk kurzort a megoldashoz.\r\n",
                "\r\n",
                "Feladatok:\r\n",
                "- Irjunk INSERT triggert a Purchasing.PurchaseOrderDetail tablara mely frissiti a Beszerzes tábla Ossszeg mezőjét Ossszeg = Ossszeg + SalesOrderDetail.OrderQty *  SalesOrderDetail.UnitPrice. Abban az esetben ha a SalesOrderID  nem jelenik meg a Beszerzések táblában szurjuk be azt\r\n",
                "- Bővítsük ki DELETE-re is és frissitsük a Ossszeget a törölt elemek alapján.\r\n",
                "\r\n",
                "Opc:\r\n",
                "- Írjunk triggert amely SalesOrderHeader táblára DELETE  műveletére   aktiválódik és  kitörli a megfelelő hivatkozásokat  a   SalesOrderDetail táblából\r\n",
                ""
            ],
            "metadata": {
                "azdata_cell_guid": "1c825d0f-1367-4896-bd58-df0b5aeb6948"
            },
            "attachments": {}
        }
    ]
}