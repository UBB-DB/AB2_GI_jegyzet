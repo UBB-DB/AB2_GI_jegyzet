{
    "metadata": {
        "kernelspec": {
            "name": "SQL",
            "display_name": "SQL",
            "language": "sql"
        },
        "language_info": {
            "name": "sql",
            "version": ""
        }
    },
    "nbformat_minor": 2,
    "nbformat": 4,
    "cells": [
        {
            "cell_type": "markdown",
            "source": [
                "### Konzisztenica problémák elkerülése(masodik rész)"
            ],
            "metadata": {
                "language": "sql",
                "azdata_cell_guid": "7aaed491-4db8-454e-b1db-48396d6d1ef2"
            },
            "attachments": {}
        },
        {
            "cell_type": "code",
            "source": [
                "-- Piszkos adatok olvasasa 1\r\n",
                "\r\n",
                "BEGIN TRANSACTION\r\n",
                "UPDATE Alkalmazottak\r\n",
                "SET Email = 'abc2'\r\n",
                "WHERE AlkalmazottID = 'E10033'\r\n",
                "WAITFOR DELAY '00:00:07' --várakozás\r\n",
                "ROLLBACK \r\n",
                ""
            ],
            "metadata": {
                "azdata_cell_guid": "179e43ca-d2e6-40af-a5d2-77ecd6d9eaf8",
                "language": "sql"
            },
            "outputs": [
                {
                    "output_type": "error",
                    "ename": "",
                    "evalue": "Msg 1222, Level 16, State 51, Line 4\r\nLock request time out period exceeded.",
                    "traceback": []
                },
                {
                    "output_type": "display_data",
                    "data": {
                        "text/html": "The statement has been terminated."
                    },
                    "metadata": {}
                },
                {
                    "output_type": "display_data",
                    "data": {
                        "text/html": "Total execution time: 00:00:12.005"
                    },
                    "metadata": {}
                }
            ],
            "execution_count": 9
        },
        {
            "cell_type": "code",
            "source": [
                "-- T2\r\n",
                "BEGIN TRANSACTION;\r\n",
                "UPDATE Alkalmazottak\r\n",
                "SET Email = 'abc2'\r\n",
                "WHERE AlkalmazottID = 'E10033'\r\n",
                "COMMIT"
            ],
            "metadata": {
                "azdata_cell_guid": "19768dfa-ce19-4275-87be-98bea2a7cea3",
                "language": "sql"
            },
            "outputs": [
                {
                    "output_type": "error",
                    "ename": "",
                    "evalue": "Msg 1222, Level 16, State 51, Line 3\r\nLock request time out period exceeded.",
                    "traceback": []
                },
                {
                    "output_type": "display_data",
                    "data": {
                        "text/html": "The statement has been terminated."
                    },
                    "metadata": {}
                },
                {
                    "output_type": "display_data",
                    "data": {
                        "text/html": "Total execution time: 00:00:05.008"
                    },
                    "metadata": {}
                }
            ],
            "execution_count": 10
        },
        {
            "cell_type": "code",
            "source": [
                "-- BEGIN TRANSACTION;\r\n",
                "INSERT INTO \r\n",
                " Alkalmazottak(AlkalmazottID, Nev,  Email, AlkamazasKezdete, VegzettsegID, VarosID)\r\n",
                "VALUES ('E10204', 'Kiss János', 'janos.kiss@gmail.com', GETDATE(), 1, 1);\r\n",
                "-- ROLLBACK TRANSACTION;\r\n",
                " "
            ],
            "metadata": {
                "language": "sql",
                "azdata_cell_guid": "07ab059e-ba6e-420b-9942-7b351760266e"
            },
            "outputs": [
                {
                    "output_type": "display_data",
                    "data": {
                        "text/html": "(1 row affected)"
                    },
                    "metadata": {}
                },
                {
                    "output_type": "display_data",
                    "data": {
                        "text/html": "Total execution time: 00:00:00.004"
                    },
                    "metadata": {}
                }
            ],
            "execution_count": 16
        },
        {
            "cell_type": "code",
            "source": [
                "ALTER DATABASE HR\r\n",
                "SET ALLOW_SNAPSHOT_ISOLATION ON"
            ],
            "metadata": {
                "language": "sql",
                "azdata_cell_guid": "6cea57f7-1232-4278-b3e4-ff25315d74f0"
            },
            "outputs": [
                {
                    "output_type": "display_data",
                    "data": {
                        "text/html": "Commands completed successfully."
                    },
                    "metadata": {}
                },
                {
                    "output_type": "display_data",
                    "data": {
                        "text/html": "Total execution time: 00:00:00.014"
                    },
                    "metadata": {}
                }
            ],
            "execution_count": 15
        }
    ]
}