{
    "metadata": {
        "kernelspec": {
            "name": "SQL",
            "display_name": "SQL",
            "language": "sql"
        },
        "language_info": {
            "name": "sql",
            "version": ""
        }
    },
    "nbformat_minor": 2,
    "nbformat": 4,
    "cells": [
        {
            "cell_type": "markdown",
            "source": [
                "### Konzisztenica problémák elkerülése(első rész)"
            ],
            "metadata": {
                "azdata_cell_guid": "30447d7e-5588-469d-8294-491e04033395",
                "language": ""
            },
            "attachments": {}
        },
        {
            "cell_type": "code",
            "source": [
                "-- Piszkos adat 2\r\n",
                "-- \r\n",
                "-- SET TRANSACTION ISOLATION LEVEL READ UNCOMMITTED;\r\n",
                "\r\n",
                "SET TRANSACTION ISOLATION LEVEL READ COMMITTED;\r\n",
                "BEGIN TRAN;\r\n",
                "\r\n",
                "    SELECT TOP 10 AlkalmazottID, Nev, Email FROM Alkalmazottak ;\r\n",
                "WAITFOR DELAY '00:00:07';\r\n",
                "    SELECT TOP 10 AlkalmazottID, Nev, Email FROM Alkalmazottak ;\r\n",
                "\r\n",
                "COMMIT;"
            ],
            "metadata": {
                "azdata_cell_guid": "17065add-097b-4bf3-bc2d-5dd20d522e0e",
                "language": "sql"
            },
            "outputs": [
                {
                    "output_type": "display_data",
                    "data": {
                        "text/html": "(10 rows affected)"
                    },
                    "metadata": {}
                },
                {
                    "output_type": "display_data",
                    "data": {
                        "text/html": "Total execution time: 00:00:12.029"
                    },
                    "metadata": {}
                },
                {
                    "output_type": "execute_result",
                    "execution_count": 8,
                    "data": {
                        "application/vnd.dataresource+json": {
                            "schema": {
                                "fields": [
                                    {
                                        "name": "AlkalmazottID"
                                    },
                                    {
                                        "name": "Nev"
                                    },
                                    {
                                        "name": "Email"
                                    }
                                ]
                            },
                            "data": []
                        },
                        "text/html": "<table><tr><th>AlkalmazottID</th><th>Nev</th><th>Email</th></tr></table>"
                    },
                    "metadata": {}
                },
                {
                    "output_type": "execute_result",
                    "execution_count": 8,
                    "data": {
                        "application/vnd.dataresource+json": {
                            "schema": {
                                "fields": [
                                    {
                                        "name": "AlkalmazottID"
                                    },
                                    {
                                        "name": "Nev"
                                    },
                                    {
                                        "name": "Email"
                                    }
                                ]
                            },
                            "data": [
                                {
                                    "AlkalmazottID": "E10033",
                                    "Nev": "Jermaine Massey",
                                    "Email": "Jermaine.Massey@TechCorp.com"
                                },
                                {
                                    "AlkalmazottID": "E10407",
                                    "Nev": "Darshan Rathod",
                                    "Email": "Darshan.Rathod@TechCorp.com"
                                },
                                {
                                    "AlkalmazottID": "E11678",
                                    "Nev": "Colleen Alma",
                                    "Email": "Colleen.Alma@TechCorp.com"
                                },
                                {
                                    "AlkalmazottID": "E11920",
                                    "Nev": "Sharon Gillies",
                                    "Email": "Sharon.Gillies@TechCorp.com"
                                },
                                {
                                    "AlkalmazottID": "E12397",
                                    "Nev": "Daniel Matkovic",
                                    "Email": "Daniel.Matkovic@TechCorp.com"
                                },
                                {
                                    "AlkalmazottID": "E12562",
                                    "Nev": "Keith Ingram",
                                    "Email": "Keith.Ingram@TechCorp.com"
                                },
                                {
                                    "AlkalmazottID": "E12890",
                                    "Nev": "Robert Brown",
                                    "Email": "Robert.Brown@TechCorp.com"
                                },
                                {
                                    "AlkalmazottID": "E13085",
                                    "Nev": "Susan Cole ",
                                    "Email": "Susan.Cole @TechCorp.com"
                                },
                                {
                                    "AlkalmazottID": "E13160",
                                    "Nev": "Eric  Baxter",
                                    "Email": "Eric .Baxter@TechCorp.com"
                                },
                                {
                                    "AlkalmazottID": "E13596",
                                    "Nev": "Kenneth Dewitt",
                                    "Email": "Kenneth.Dewitt@TechCorp.com"
                                }
                            ]
                        },
                        "text/html": "<table><tr><th>AlkalmazottID</th><th>Nev</th><th>Email</th></tr><tr><td>E10033</td><td>Jermaine Massey</td><td>Jermaine.Massey@TechCorp.com</td></tr><tr><td>E10407</td><td>Darshan Rathod</td><td>Darshan.Rathod@TechCorp.com</td></tr><tr><td>E11678</td><td>Colleen Alma</td><td>Colleen.Alma@TechCorp.com</td></tr><tr><td>E11920</td><td>Sharon Gillies</td><td>Sharon.Gillies@TechCorp.com</td></tr><tr><td>E12397</td><td>Daniel Matkovic</td><td>Daniel.Matkovic@TechCorp.com</td></tr><tr><td>E12562</td><td>Keith Ingram</td><td>Keith.Ingram@TechCorp.com</td></tr><tr><td>E12890</td><td>Robert Brown</td><td>Robert.Brown@TechCorp.com</td></tr><tr><td>E13085</td><td>Susan Cole </td><td>Susan.Cole @TechCorp.com</td></tr><tr><td>E13160</td><td>Eric  Baxter</td><td>Eric .Baxter@TechCorp.com</td></tr><tr><td>E13596</td><td>Kenneth Dewitt</td><td>Kenneth.Dewitt@TechCorp.com</td></tr></table>"
                    },
                    "metadata": {}
                },
                {
                    "output_type": "error",
                    "ename": "",
                    "evalue": "Msg 1222, Level 16, State 51, Line 8\r\nLock request time out period exceeded.",
                    "traceback": []
                }
            ],
            "execution_count": 8
        },
        {
            "cell_type": "code",
            "source": [
                "-- T1.\r\n",
                "-- SET TRANSACTION ISOLATION LEVEL READ COMMITTED;\r\n",
                "\r\n",
                "SET TRANSACTION ISOLATION LEVEL REPEATABLE READ;\r\n",
                "\r\n",
                "BEGIN TRANSACTION;\r\n",
                "\r\n",
                "SELECT TOP 10 AlkalmazottID, Nev, Email FROM Alkalmazottak ;\r\n",
                "WAITFOR DELAY '00:00:07';\r\n",
                "SELECT TOP 10 AlkalmazottID, Nev, Email FROM Alkalmazottak ;\r\n",
                "\r\n",
                "ROLLBACK TRANSACTION;\r\n",
                "\r\n",
                ""
            ],
            "metadata": {
                "azdata_cell_guid": "f30d716a-47de-4af5-ba1b-b58407a83879",
                "language": "sql"
            },
            "outputs": [
                {
                    "output_type": "display_data",
                    "data": {
                        "text/html": "(10 rows affected)"
                    },
                    "metadata": {}
                },
                {
                    "output_type": "display_data",
                    "data": {
                        "text/html": "(10 rows affected)"
                    },
                    "metadata": {}
                },
                {
                    "output_type": "display_data",
                    "data": {
                        "text/html": "Total execution time: 00:00:07.014"
                    },
                    "metadata": {}
                },
                {
                    "output_type": "execute_result",
                    "execution_count": 12,
                    "data": {
                        "application/vnd.dataresource+json": {
                            "schema": {
                                "fields": [
                                    {
                                        "name": "AlkalmazottID"
                                    },
                                    {
                                        "name": "Nev"
                                    },
                                    {
                                        "name": "Email"
                                    }
                                ]
                            },
                            "data": [
                                {
                                    "AlkalmazottID": "E10033",
                                    "Nev": "Jermaine Massey",
                                    "Email": "abc"
                                },
                                {
                                    "AlkalmazottID": "E10407",
                                    "Nev": "Darshan Rathod",
                                    "Email": "Darshan.Rathod@TechCorp.com"
                                },
                                {
                                    "AlkalmazottID": "E11678",
                                    "Nev": "Colleen Alma",
                                    "Email": "Colleen.Alma@TechCorp.com"
                                },
                                {
                                    "AlkalmazottID": "E11920",
                                    "Nev": "Sharon Gillies",
                                    "Email": "Sharon.Gillies@TechCorp.com"
                                },
                                {
                                    "AlkalmazottID": "E12397",
                                    "Nev": "Daniel Matkovic",
                                    "Email": "Daniel.Matkovic@TechCorp.com"
                                },
                                {
                                    "AlkalmazottID": "E12562",
                                    "Nev": "Keith Ingram",
                                    "Email": "Keith.Ingram@TechCorp.com"
                                },
                                {
                                    "AlkalmazottID": "E12890",
                                    "Nev": "Robert Brown",
                                    "Email": "Robert.Brown@TechCorp.com"
                                },
                                {
                                    "AlkalmazottID": "E13085",
                                    "Nev": "Susan Cole ",
                                    "Email": "Susan.Cole @TechCorp.com"
                                },
                                {
                                    "AlkalmazottID": "E13160",
                                    "Nev": "Eric  Baxter",
                                    "Email": "Eric .Baxter@TechCorp.com"
                                },
                                {
                                    "AlkalmazottID": "E13596",
                                    "Nev": "Kenneth Dewitt",
                                    "Email": "Kenneth.Dewitt@TechCorp.com"
                                }
                            ]
                        },
                        "text/html": "<table><tr><th>AlkalmazottID</th><th>Nev</th><th>Email</th></tr><tr><td>E10033</td><td>Jermaine Massey</td><td>abc</td></tr><tr><td>E10407</td><td>Darshan Rathod</td><td>Darshan.Rathod@TechCorp.com</td></tr><tr><td>E11678</td><td>Colleen Alma</td><td>Colleen.Alma@TechCorp.com</td></tr><tr><td>E11920</td><td>Sharon Gillies</td><td>Sharon.Gillies@TechCorp.com</td></tr><tr><td>E12397</td><td>Daniel Matkovic</td><td>Daniel.Matkovic@TechCorp.com</td></tr><tr><td>E12562</td><td>Keith Ingram</td><td>Keith.Ingram@TechCorp.com</td></tr><tr><td>E12890</td><td>Robert Brown</td><td>Robert.Brown@TechCorp.com</td></tr><tr><td>E13085</td><td>Susan Cole </td><td>Susan.Cole @TechCorp.com</td></tr><tr><td>E13160</td><td>Eric  Baxter</td><td>Eric .Baxter@TechCorp.com</td></tr><tr><td>E13596</td><td>Kenneth Dewitt</td><td>Kenneth.Dewitt@TechCorp.com</td></tr></table>"
                    },
                    "metadata": {}
                },
                {
                    "output_type": "execute_result",
                    "execution_count": 12,
                    "data": {
                        "application/vnd.dataresource+json": {
                            "schema": {
                                "fields": [
                                    {
                                        "name": "AlkalmazottID"
                                    },
                                    {
                                        "name": "Nev"
                                    },
                                    {
                                        "name": "Email"
                                    }
                                ]
                            },
                            "data": [
                                {
                                    "AlkalmazottID": "E10033",
                                    "Nev": "Jermaine Massey",
                                    "Email": "abc"
                                },
                                {
                                    "AlkalmazottID": "E10407",
                                    "Nev": "Darshan Rathod",
                                    "Email": "Darshan.Rathod@TechCorp.com"
                                },
                                {
                                    "AlkalmazottID": "E11678",
                                    "Nev": "Colleen Alma",
                                    "Email": "Colleen.Alma@TechCorp.com"
                                },
                                {
                                    "AlkalmazottID": "E11920",
                                    "Nev": "Sharon Gillies",
                                    "Email": "Sharon.Gillies@TechCorp.com"
                                },
                                {
                                    "AlkalmazottID": "E12397",
                                    "Nev": "Daniel Matkovic",
                                    "Email": "Daniel.Matkovic@TechCorp.com"
                                },
                                {
                                    "AlkalmazottID": "E12562",
                                    "Nev": "Keith Ingram",
                                    "Email": "Keith.Ingram@TechCorp.com"
                                },
                                {
                                    "AlkalmazottID": "E12890",
                                    "Nev": "Robert Brown",
                                    "Email": "Robert.Brown@TechCorp.com"
                                },
                                {
                                    "AlkalmazottID": "E13085",
                                    "Nev": "Susan Cole ",
                                    "Email": "Susan.Cole @TechCorp.com"
                                },
                                {
                                    "AlkalmazottID": "E13160",
                                    "Nev": "Eric  Baxter",
                                    "Email": "Eric .Baxter@TechCorp.com"
                                },
                                {
                                    "AlkalmazottID": "E13596",
                                    "Nev": "Kenneth Dewitt",
                                    "Email": "Kenneth.Dewitt@TechCorp.com"
                                }
                            ]
                        },
                        "text/html": "<table><tr><th>AlkalmazottID</th><th>Nev</th><th>Email</th></tr><tr><td>E10033</td><td>Jermaine Massey</td><td>abc</td></tr><tr><td>E10407</td><td>Darshan Rathod</td><td>Darshan.Rathod@TechCorp.com</td></tr><tr><td>E11678</td><td>Colleen Alma</td><td>Colleen.Alma@TechCorp.com</td></tr><tr><td>E11920</td><td>Sharon Gillies</td><td>Sharon.Gillies@TechCorp.com</td></tr><tr><td>E12397</td><td>Daniel Matkovic</td><td>Daniel.Matkovic@TechCorp.com</td></tr><tr><td>E12562</td><td>Keith Ingram</td><td>Keith.Ingram@TechCorp.com</td></tr><tr><td>E12890</td><td>Robert Brown</td><td>Robert.Brown@TechCorp.com</td></tr><tr><td>E13085</td><td>Susan Cole </td><td>Susan.Cole @TechCorp.com</td></tr><tr><td>E13160</td><td>Eric  Baxter</td><td>Eric .Baxter@TechCorp.com</td></tr><tr><td>E13596</td><td>Kenneth Dewitt</td><td>Kenneth.Dewitt@TechCorp.com</td></tr></table>"
                    },
                    "metadata": {}
                }
            ],
            "execution_count": 12
        },
        {
            "cell_type": "code",
            "source": [
                "-- T1 \r\n",
                "-- SET TRANSACTION ISOLATION LEVEL REPEATABLE READ; \r\n",
                "--2.\r\n",
                "--  SET TRANSACTION ISOLATION LEVEL SERIALIZABLE; \r\n",
                "--3.\r\n",
                "SET TRANSACTION ISOLATION LEVEL SNAPSHOT; \r\n",
                "\r\n",
                "BEGIN TRANSACTION;\r\n",
                "SELECT TOP 10 AlkalmazottID, Nev, Email FROM Alkalmazottak\r\n",
                "WHERE AlkalmazottID LIKE 'E10%';\r\n",
                "WAITFOR DELAY '00:00:07';\r\n",
                "SELECT TOP 10 AlkalmazottID, Nev, Email FROM Alkalmazottak \r\n",
                "WHERE AlkalmazottID LIKE 'E10%';\r\n",
                "ROLLBACK TRANSACTION;\r\n",
                ""
            ],
            "metadata": {
                "language": "sql",
                "azdata_cell_guid": "b0417da4-3057-46a4-b449-904a4e653290"
            },
            "outputs": [
                {
                    "output_type": "display_data",
                    "data": {
                        "text/html": "(4 rows affected)"
                    },
                    "metadata": {}
                },
                {
                    "output_type": "display_data",
                    "data": {
                        "text/html": "(4 rows affected)"
                    },
                    "metadata": {}
                },
                {
                    "output_type": "display_data",
                    "data": {
                        "text/html": "Total execution time: 00:00:07.006"
                    },
                    "metadata": {}
                },
                {
                    "output_type": "execute_result",
                    "execution_count": 18,
                    "data": {
                        "application/vnd.dataresource+json": {
                            "schema": {
                                "fields": [
                                    {
                                        "name": "AlkalmazottID"
                                    },
                                    {
                                        "name": "Nev"
                                    },
                                    {
                                        "name": "Email"
                                    }
                                ]
                            },
                            "data": [
                                {
                                    "AlkalmazottID": "E10033",
                                    "Nev": "Jermaine Massey",
                                    "Email": "abc"
                                },
                                {
                                    "AlkalmazottID": "E10202",
                                    "Nev": "Kiss János",
                                    "Email": "janos.kiss@gmail.com"
                                },
                                {
                                    "AlkalmazottID": "E10203",
                                    "Nev": "Kiss János",
                                    "Email": "janos.kiss@gmail.com"
                                },
                                {
                                    "AlkalmazottID": "E10407",
                                    "Nev": "Darshan Rathod",
                                    "Email": "Darshan.Rathod@TechCorp.com"
                                }
                            ]
                        },
                        "text/html": "<table><tr><th>AlkalmazottID</th><th>Nev</th><th>Email</th></tr><tr><td>E10033</td><td>Jermaine Massey</td><td>abc</td></tr><tr><td>E10202</td><td>Kiss János</td><td>janos.kiss@gmail.com</td></tr><tr><td>E10203</td><td>Kiss János</td><td>janos.kiss@gmail.com</td></tr><tr><td>E10407</td><td>Darshan Rathod</td><td>Darshan.Rathod@TechCorp.com</td></tr></table>"
                    },
                    "metadata": {}
                },
                {
                    "output_type": "execute_result",
                    "execution_count": 18,
                    "data": {
                        "application/vnd.dataresource+json": {
                            "schema": {
                                "fields": [
                                    {
                                        "name": "AlkalmazottID"
                                    },
                                    {
                                        "name": "Nev"
                                    },
                                    {
                                        "name": "Email"
                                    }
                                ]
                            },
                            "data": [
                                {
                                    "AlkalmazottID": "E10033",
                                    "Nev": "Jermaine Massey",
                                    "Email": "abc"
                                },
                                {
                                    "AlkalmazottID": "E10202",
                                    "Nev": "Kiss János",
                                    "Email": "janos.kiss@gmail.com"
                                },
                                {
                                    "AlkalmazottID": "E10203",
                                    "Nev": "Kiss János",
                                    "Email": "janos.kiss@gmail.com"
                                },
                                {
                                    "AlkalmazottID": "E10407",
                                    "Nev": "Darshan Rathod",
                                    "Email": "Darshan.Rathod@TechCorp.com"
                                }
                            ]
                        },
                        "text/html": "<table><tr><th>AlkalmazottID</th><th>Nev</th><th>Email</th></tr><tr><td>E10033</td><td>Jermaine Massey</td><td>abc</td></tr><tr><td>E10202</td><td>Kiss János</td><td>janos.kiss@gmail.com</td></tr><tr><td>E10203</td><td>Kiss János</td><td>janos.kiss@gmail.com</td></tr><tr><td>E10407</td><td>Darshan Rathod</td><td>Darshan.Rathod@TechCorp.com</td></tr></table>"
                    },
                    "metadata": {}
                }
            ],
            "execution_count": 18
        },
        {
            "cell_type": "code",
            "source": [
                "SELECT TOP 10 AlkalmazottID, Nev, Email FROM Alkalmazottak\r\n",
                "WHERE AlkalmazottID LIKE 'E10%';"
            ],
            "metadata": {
                "azdata_cell_guid": "c97d1041-4945-4b5f-add6-db042770269e",
                "language": "sql"
            },
            "outputs": [
                {
                    "output_type": "display_data",
                    "data": {
                        "text/html": "(5 rows affected)"
                    },
                    "metadata": {}
                },
                {
                    "output_type": "display_data",
                    "data": {
                        "text/html": "Total execution time: 00:00:00.007"
                    },
                    "metadata": {}
                },
                {
                    "output_type": "execute_result",
                    "execution_count": 19,
                    "data": {
                        "application/vnd.dataresource+json": {
                            "schema": {
                                "fields": [
                                    {
                                        "name": "AlkalmazottID"
                                    },
                                    {
                                        "name": "Nev"
                                    },
                                    {
                                        "name": "Email"
                                    }
                                ]
                            },
                            "data": [
                                {
                                    "AlkalmazottID": "E10033",
                                    "Nev": "Jermaine Massey",
                                    "Email": "abc"
                                },
                                {
                                    "AlkalmazottID": "E10202",
                                    "Nev": "Kiss János",
                                    "Email": "janos.kiss@gmail.com"
                                },
                                {
                                    "AlkalmazottID": "E10203",
                                    "Nev": "Kiss János",
                                    "Email": "janos.kiss@gmail.com"
                                },
                                {
                                    "AlkalmazottID": "E10204",
                                    "Nev": "Kiss János",
                                    "Email": "janos.kiss@gmail.com"
                                },
                                {
                                    "AlkalmazottID": "E10407",
                                    "Nev": "Darshan Rathod",
                                    "Email": "Darshan.Rathod@TechCorp.com"
                                }
                            ]
                        },
                        "text/html": "<table><tr><th>AlkalmazottID</th><th>Nev</th><th>Email</th></tr><tr><td>E10033</td><td>Jermaine Massey</td><td>abc</td></tr><tr><td>E10202</td><td>Kiss János</td><td>janos.kiss@gmail.com</td></tr><tr><td>E10203</td><td>Kiss János</td><td>janos.kiss@gmail.com</td></tr><tr><td>E10204</td><td>Kiss János</td><td>janos.kiss@gmail.com</td></tr><tr><td>E10407</td><td>Darshan Rathod</td><td>Darshan.Rathod@TechCorp.com</td></tr></table>"
                    },
                    "metadata": {}
                }
            ],
            "execution_count": 19
        }
    ]
}