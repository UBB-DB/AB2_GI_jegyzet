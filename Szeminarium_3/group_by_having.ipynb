{
    "metadata": {
        "kernelspec": {
            "name": "SQL",
            "display_name": "SQL",
            "language": "sql"
        },
        "language_info": {
            "name": "sql",
            "version": ""
        }
    },
    "nbformat_minor": 2,
    "nbformat": 4,
    "cells": [
        {
            "cell_type": "markdown",
            "source": [
                "## Alkérdések\r\n",
                "\r\n",
                "Alkérdés (beágyazott lekérdezés) = olyan lekérdezés, mely egy\r\n",
                "másik lekérdezés része.\r\n",
                "\r\n",
                "- Szintaktikus alakja: beágyazott lekérdezés zárójelben.\r\n",
                "- Használata: ahol relációnevet használunk:\r\n",
                "    -  FROM záradékban – a tényleges relációk helyett alkérdéssel\r\n",
                "létrehozott ideiglenes tábla gyanánt\r\n",
                "    - WHERE záradékban: sorokra vonatkozó feltételek esetén\r\n",
                "    - HAVING záradékban: csoportokra vonatkozó feltételek esetén\r\n",
                "\r\n",
                "- Egyszerű alkérdés – olyan alkérdés, mely csak egyszer kerül\r\n",
                "kiértékelésre.\r\n",
                "- Korrelált alkérdés – olyan alkérdés, amely többször is\r\n",
                "kiértékelődik."
            ],
            "metadata": {
                "azdata_cell_guid": "65d942b5-3287-4d3b-9f77-817da13beefa"
            },
            "attachments": {}
        }
    ]
}